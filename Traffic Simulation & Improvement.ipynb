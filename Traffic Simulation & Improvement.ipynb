{
 "cells": [
  {
   "cell_type": "markdown",
   "metadata": {},
   "source": [
    "## Jump Straight to Our Code\n",
    "\n",
    "The sections above our code are all containing template code.\n",
    "\n",
    "[Click me](#Our-Code) to get straight to our implementation."
   ]
  },
  {
   "cell_type": "markdown",
   "metadata": {},
   "source": [
    "## Simulating traffic with Monte Carlo chains "
   ]
  },
  {
   "cell_type": "markdown",
   "metadata": {},
   "source": [
    "\n",
    "For each car we associate a vector which a number of elements that corresponds to the total number of steps we will consider at the most. At each time step we will record where the car is. We denote this by $t_M$, while each time step will be denoted as $t_m$.  \n",
    "\n",
    "If the car is not in the system yet, it will be notes as position 0. If the car is out of a circuit which as $N$ positions, then it will be set at position $N+1$. \n",
    "We also consider a maximum number of cars given by $N_C$.  \n",
    "\n",
    "So the overall dynamics can be recorded in a matrix of dimension $t_M\\times N_C$. We will call this the matrix of histories $H$. \n",
    "    "
   ]
  },
  {
   "cell_type": "markdown",
   "metadata": {},
   "source": [
    "Position 0 corresponds to car not yet in the system "
   ]
  },
  {
   "cell_type": "markdown",
   "metadata": {},
   "source": [
    "#### Dynamics   \n",
    "\n",
    "Given a position in the network, we need to know which are the possible other locations in which a car can move from there. We refer to this as the connectivity matrix $C$. \n",
    "\n",
    "Given any entrance point we will check whether a new car is entering the system \n"
   ]
  },
  {
   "cell_type": "markdown",
   "metadata": {},
   "source": [
    "#### What information do we want to get? \n",
    "\n",
    "For each car, we would like to compute the average time it takes to go from the first position to the exit, and the standard deviation. \n",
    "\n",
    "Then we would also like to compute what is average time for which it stays in one position, and the standard deviation. \n",
    "We can also try to figure which areas are most congested, i.e. cars tend to spend more time at. \n",
    "\n",
    "Given a roads network in which a car can go from entrance to exit following different paths, it could be interesting to find out which path is faster.    \n",
    "\n",
    "Another useful piece of information?    \n",
    "\n",
    "If you think about it, it is possible to gather this information from the matrix of histories $H$. "
   ]
  },
  {
   "cell_type": "markdown",
   "metadata": {},
   "source": [
    "#### We are going to first consider a simple straight road \n",
    "\n",
    "The road as $4$ locations in which a car can be, one entrance at position $1$ and one exit just after position $4$. \n",
    "From position $1$ you can only fo to position $2$, from $2$ you can only go $3$, from $3$ to $4$, and from $4$ to exit. \n",
    "We will also consider that each car move as soon as the position in which it wants to go is free. \n",
    "\n",
    "\n"
   ]
  },
  {
   "cell_type": "markdown",
   "metadata": {},
   "source": [
    "#### Some possible variations \n",
    "\n",
    "Add the possibility that a car sits where it is, for a while, for whatever reason (a measure of its velocity). Or add the possibility that the car goes at half the speed, e.g. it moves once every two time steps. \n",
    "\n",
    "For each car we associate some properties: velocity, probability of flowing, probability of getting into an accident (e.g. from moving into a location despite a car already stays there), effect of accident (e.g. freeze the cars involved in the accident for a number of time steps and then remove them from the system).     "
   ]
  },
  {
   "cell_type": "markdown",
   "metadata": {},
   "source": [
    "#### Probability of moving forward \n",
    "\n",
    "Here we still consider the simple case of a straight road in which, however, each car does not move at a constant speed, but it has a fluctuating speed. Sometimes it moves a little faster and sometimes a little slower. \n",
    "For example we associate to each car a probability of moving, or of staying where it is. \n",
    "\n",
    "We will first consider the case in which this probability is the same for everyone, later we can try to have a different probability for each car.      \n"
   ]
  },
  {
   "cell_type": "markdown",
   "metadata": {},
   "source": [
    "#### Junctions     \n",
    "\n",
    "Junctions can increase the possible positions in which a car can choose to go, and they can also lead more cars to the same position, does generating possible congestions.           \n",
    "\n",
    "To model junctions we can do this:   \n",
    "- if a car can go in more than one place, we can randomly pick where it is going \n",
    "- then we get an updated position of cars \n",
    "- but if more than 1 car is in the same position, we randomly pick which car actually moves in that position, while the others revert to the position in which they were previously \n",
    "\n",
    "Possible improvements consists in giving priorities to cars coming from different directions, or adding traffic lights. How would you model these scenarios? \n"
   ]
  },
  {
   "cell_type": "markdown",
   "metadata": {},
   "source": [
    "#### Addition of another entrance \n",
    "\n",
    "At a different location from position $0$, it is possible to add another entrance. Similar to the main entrance, a car can enter the system following a probability distribution. \n",
    "\n",
    "But whether the car is actually really entering the system or not will be sorted out as for any other junctions via the step of removal of conflicts. "
   ]
  },
  {
   "cell_type": "markdown",
   "metadata": {},
   "source": [
    "#### Considering a more complex street network \n",
    "\n",
    "Try now to design a different network, ask yourself some questions, and see what answers you get :-))   \n"
   ]
  },
  {
   "cell_type": "markdown",
   "metadata": {},
   "source": [
    "### What we use "
   ]
  },
  {
   "cell_type": "code",
   "execution_count": 2,
   "metadata": {
    "scrolled": true
   },
   "outputs": [
    {
     "data": {
      "text/html": [
       "<script>\n",
       "// Immediately-invoked-function-expression to avoid global variables.\n",
       "(function() {\n",
       "    var warning_div = document.getElementById(\"webio-warning-9216329938672017973\");\n",
       "    var hide = function () {\n",
       "        var script = document.getElementById(\"webio-setup-15920913121658946875\");\n",
       "        var parent = script && script.parentElement;\n",
       "        var grandparent = parent && parent.parentElement;\n",
       "        if (grandparent) {\n",
       "            grandparent.style.display = \"none\";\n",
       "        }\n",
       "        warning_div.style.display = \"none\";\n",
       "    };\n",
       "    if (typeof Jupyter !== \"undefined\") {\n",
       "        console.log(\"WebIO detected Jupyter notebook environment.\");\n",
       "        // Jupyter notebook.\n",
       "        var extensions = (\n",
       "            Jupyter\n",
       "            && Jupyter.notebook.config.data\n",
       "            && Jupyter.notebook.config.data.load_extensions\n",
       "        );\n",
       "        if (extensions && extensions[\"webio-jupyter-notebook\"]) {\n",
       "            // Extension already loaded.\n",
       "            console.log(\"Jupyter WebIO nbextension detected; not loading ad-hoc.\");\n",
       "            hide();\n",
       "            return;\n",
       "        }\n",
       "    } else if (window.location.pathname.includes(\"/lab\")) {\n",
       "        // Guessing JupyterLa\n",
       "        console.log(\"Jupyter Lab detected; make sure the @webio/jupyter-lab-provider labextension is installed.\");\n",
       "        hide();\n",
       "        return;\n",
       "    }\n",
       "})();\n",
       "\n",
       "</script>\n",
       "<p\n",
       "    id=\"webio-warning-9216329938672017973\"\n",
       "    class=\"output_text output_stderr\"\n",
       "    style=\"padding: 1em; font-weight: bold;\"\n",
       ">\n",
       "    Unable to load WebIO. Please make sure WebIO works for your Jupyter client.\n",
       "    For troubleshooting, please see <a href=\"https://juliagizmos.github.io/WebIO.jl/latest/providers/ijulia/\">\n",
       "    the WebIO/IJulia documentation</a>.\n",
       "    <!-- TODO: link to installation docs. -->\n",
       "</p>\n"
      ],
      "text/plain": [
       "HTML{String}(\"<script>\\n// Immediately-invoked-function-expression to avoid global variables.\\n(function() {\\n    var warning_div = document.getElementById(\\\"webio-warning-9216329938672017973\\\");\\n    var hide = function () {\\n        var script = document.getElementById(\\\"webio-setup-15920913121658946875\\\");\\n        var parent = script && script.parentElement;\\n        var grandparent = parent && parent.parentElement;\\n        if (grandparent) {\\n            grandparent.style.display = \\\"none\\\";\\n        }\\n        warning_div.style.display = \\\"none\\\";\\n    };\\n    if (typeof Jupyter !== \\\"undefined\\\") {\\n        console.log(\\\"WebIO detected Jupyter notebook environment.\\\");\\n        // Jupyter notebook.\\n        var extensions = (\\n            Jupyter\\n            && Jupyter.notebook.config.data\\n            && Jupyter.notebook.config.data.load_extensions\\n        );\\n        if (extensions && extensions[\\\"webio-jupyter-notebook\\\"]) {\\n            // Extension already loaded.\\n            console.log(\\\"Jupyter WebIO nbextension detected; not loading ad-hoc.\\\");\\n            hide();\\n            return;\\n        }\\n    } else if (window.location.pathname.includes(\\\"/lab\\\")) {\\n        // Guessing JupyterLa\\n        console.log(\\\"Jupyter Lab detected; make sure the @webio/jupyter-lab-provider labextension is installed.\\\");\\n        hide();\\n        return;\\n    }\\n})();\\n\\n</script>\\n<p\\n    id=\\\"webio-warning-9216329938672017973\\\"\\n    class=\\\"output_text output_stderr\\\"\\n    style=\\\"padding: 1em; font-weight: bold;\\\"\\n>\\n    Unable to load WebIO. Please make sure WebIO works for your Jupyter client.\\n    For troubleshooting, please see <a href=\\\"https://juliagizmos.github.io/WebIO.jl/latest/providers/ijulia/\\\">\\n    the WebIO/IJulia documentation</a>.\\n    <!-- TODO: link to installation docs. -->\\n</p>\\n\")"
      ]
     },
     "metadata": {},
     "output_type": "display_data"
    }
   ],
   "source": [
    "using Plots, Statistics, Random, StatsBase, DelimitedFiles, WebIO"
   ]
  },
  {
   "cell_type": "markdown",
   "metadata": {},
   "source": [
    "## Simple example of a straight road "
   ]
  },
  {
   "cell_type": "markdown",
   "metadata": {},
   "source": [
    "We will consider the following assumptions \n",
    "- the car will move if they can \n",
    "- there are $N$ positions, one directly connected to the next from entrance to exit \n",
    "\n",
    "\n"
   ]
  },
  {
   "cell_type": "markdown",
   "metadata": {},
   "source": [
    "#### Function that makes the connectivity matrix (tested) \n",
    "Return a connectivity matrix, $C$, that represents a straight road of length $L$. In addition to the entrance at position 1 and exit at position 15, there is another entrance at position 5"
   ]
  },
  {
   "cell_type": "code",
   "execution_count": 3,
   "metadata": {},
   "outputs": [
    {
     "data": {
      "text/plain": [
       "connect_matrix_straight (generic function with 1 method)"
      ]
     },
     "execution_count": 3,
     "metadata": {},
     "output_type": "execute_result"
    }
   ],
   "source": [
    "function connect_matrix_straight(L)\n",
    "    # we build a connectivity matrix. Although for a straight line a vector would suffice, to make it easier to generalize later, we use a matrix \n",
    "    C = zeros(Bool,L+2,L+2);\n",
    "    for i = 1:L+1\n",
    "        C[i,i+1]=1;\n",
    "    end\n",
    "    C[L+2,L+2] = 1; \n",
    "    C[1,4] = 1; #extra entrance\n",
    "    return C\n",
    "end\n"
   ]
  },
  {
   "cell_type": "markdown",
   "metadata": {},
   "source": [
    "#### Function that initializes the matrix of histories (tested)\n",
    "Entries of history marix, $H$, are initialized to 0. All cars get ready at position 0. This matrix stores the trajectory of the cars. Each row corresponds to a car in the system and each column stores the position of all the car at a snapshot in time"
   ]
  },
  {
   "cell_type": "code",
   "execution_count": 4,
   "metadata": {},
   "outputs": [
    {
     "data": {
      "text/plain": [
       "initialize_H (generic function with 1 method)"
      ]
     },
     "execution_count": 4,
     "metadata": {},
     "output_type": "execute_result"
    }
   ],
   "source": [
    "function initialize_H(tM, NC)\n",
    "    # tM maximum number of time steps\n",
    "    # NC is the number of cars\n",
    "    return H = zeros(Int16,NC, tM+2);\n",
    "end"
   ]
  },
  {
   "cell_type": "markdown",
   "metadata": {},
   "source": [
    "#### Function that finds available next positions (tested) \n",
    "Given a car's position (for example, ip), following procedure are used to determine the available positions\n",
    "1. Determine the **reachable positions** by inspecting the corresponding row of the connectivity matrix, $C$\n",
    "1. Determine the **occupied positions** by inspecting the column of history matrix, $H$, corresponds to the time step. However, 0 and L+1 are excluded. Recall that these two positions are positions which host the awaiting and terminated cars respectively. \n",
    "1. **Positions available** are the positions which are reachable but not occupied. Equivalently, set of reachable subtract set of occupied."
   ]
  },
  {
   "cell_type": "code",
   "execution_count": 5,
   "metadata": {},
   "outputs": [
    {
     "data": {
      "text/plain": [
       "find_pos_available1 (generic function with 1 method)"
      ]
     },
     "execution_count": 5,
     "metadata": {},
     "output_type": "execute_result"
    }
   ],
   "source": [
    "function find_pos_available1(ic, it, H, C, L) \n",
    "    # ic is the car number \n",
    "    # it is the time step \n",
    "    # H matrix of histories \n",
    "    # C connectivity matrix \n",
    "    # L is the number of positions \n",
    "    \n",
    "    aux = size(H);\n",
    "    NC = copy(aux[1]);\n",
    "    vec_pos0 = Int64.(zeros(0));\n",
    "    vec_pos = Int64.(zeros(0)); \n",
    "    ip = copy(H[ic,it]); #position of the car   \n",
    "    for iL = 1:L+2\n",
    "        if C[ip+1,iL] == 1\n",
    "            vec_pos0 = append!(vec_pos0, iL-1);\n",
    "        end\n",
    "    end\n",
    "    aux = size(vec_pos0)\n",
    "    for ipos = 1:aux[1]\n",
    "        s=0;\n",
    "        if vec_pos0[ipos] != L+1 #unless the car is outside, position L+1      \n",
    "            for iNC = 1:NC\n",
    "                if H[iNC,it] == copy(vec_pos0[ipos]);\n",
    "                    s+=1;\n",
    "                end\n",
    "            end\n",
    "        end    \n",
    "        if s==0\n",
    "            vec_pos = append!(vec_pos,vec_pos0[ipos]);\n",
    "        end\n",
    "    end\n",
    "    return vec_pos\n",
    "end"
   ]
  },
  {
   "cell_type": "code",
   "execution_count": 6,
   "metadata": {},
   "outputs": [
    {
     "data": {
      "text/plain": [
       "find_pos_available2 (generic function with 1 method)"
      ]
     },
     "execution_count": 6,
     "metadata": {},
     "output_type": "execute_result"
    }
   ],
   "source": [
    "function find_pos_available2(ic, it, H, C, L) \n",
    "    # ic is the car number \n",
    "    # it is the time step \n",
    "    # H matrix of histories \n",
    "    # C connectivity matrix \n",
    "    # L is the number of positions \n",
    "    ip = copy(H[ic,it]); #position of the car \n",
    "    # indices of '1' entries, subarray start from 2, no need to minus 1\n",
    "    reachable=findall(x->x==1,C[ip+1,2:end]) \n",
    "    # a list of occupied position excluding 0 and L+1\n",
    "    occupied=filter(x-> x>0 && x<L+1,H[:,it])\n",
    "    # available positions are reachable - occupied\n",
    "    return setdiff(reachable,occupied)\n",
    "end"
   ]
  },
  {
   "cell_type": "markdown",
   "metadata": {},
   "source": [
    "#### Function that moves a single car (tested) \n",
    "A car first decides whether to move according to the dictated probability. If so, it randomly picks one position from available positions and registers the intention into the corresponding column of history matrix, $H$. Note that, at this stage, the movement is not final due to possible conflicts with other cars. "
   ]
  },
  {
   "cell_type": "code",
   "execution_count": 7,
   "metadata": {},
   "outputs": [
    {
     "data": {
      "text/plain": [
       "move_car (generic function with 1 method)"
      ]
     },
     "execution_count": 7,
     "metadata": {},
     "output_type": "execute_result"
    }
   ],
   "source": [
    "function move_car(ic,it,H,C, L, p_mov)\n",
    "    # ic is the car number\n",
    "    # H matrix of histories\n",
    "    # it time step\n",
    "    # C connectivity matrix\n",
    "    # p_mov is the probability to move\n",
    "    H[ic, it+1] = copy(H[ic, it]); \n",
    "    vec_pos = find_pos_available(ic, it, H, C,L);\n",
    "    aux = size(vec_pos);\n",
    "    n_pos = copy(aux[1]);\n",
    "    if n_pos>0\n",
    "        r = rand(1);\n",
    "        if r[1]<p_mov\n",
    "            i_pos = rand(1:n_pos,1,1);\n",
    "            H[ic, it+1] = copy(vec_pos[i_pos[1]]); \n",
    "        end\n",
    "    end\n",
    "    return H\n",
    "end"
   ]
  },
  {
   "cell_type": "markdown",
   "metadata": {},
   "source": [
    "#### Check for and resolve conflicts (tested) \n",
    "\n",
    "Given a position in the traffic network, following procedure is used to resolve conflicts:\n",
    "1. Determine a list of cars going to the same position by inspecting the column of history matrix, $H$, correspond to current time step. For example, given it (time step) and iL (position in traffic network), the index of entries in H[:,it]==iL are the cars which are going into iL.\n",
    "1. More than 1 cars going into the same position constitue a conflict\n",
    "1. To resolve conflict, we randomly let one car to move on and make the rest stay put\n",
    "1. Iterate over all positions in the traffic network, rinse and repeat"
   ]
  },
  {
   "cell_type": "code",
   "execution_count": 8,
   "metadata": {},
   "outputs": [
    {
     "data": {
      "text/plain": [
       "find_resolve_conflicts1 (generic function with 1 method)"
      ]
     },
     "execution_count": 8,
     "metadata": {},
     "output_type": "execute_result"
    }
   ],
   "source": [
    "function find_resolve_conflicts1(H, L, it)\n",
    "    # it is the time step \n",
    "    # H matrix of histories \n",
    "    # L is the number of positions \n",
    "    Hn = copy(H); \n",
    "    aux = size(H); \n",
    "    NC = aux[1]; \n",
    "    for iL = 1:L\n",
    "        list_cars = Int64.(zeros(0)); \n",
    "        for ic = 1:NC \n",
    "            if H[ic,it] == iL \n",
    "                list_cars = append!(list_cars, ic);\n",
    "            end\n",
    "        end\n",
    "        aux = size(list_cars); \n",
    "        if aux[1]>1\n",
    "            i_pos = rand(1:aux[1],1,1);\n",
    "            keep_pos = copy(i_pos[1]); \n",
    "            for ipos = 1:aux[1]\n",
    "                Hn[list_cars[ipos], it] = copy(H[list_cars[ipos], it-1]);\n",
    "            end\n",
    "            Hn[list_cars[keep_pos], it] = copy(H[list_cars[keep_pos], it]);\n",
    "        end\n",
    "    end\n",
    "    return Hn \n",
    "end"
   ]
  },
  {
   "cell_type": "code",
   "execution_count": 9,
   "metadata": {},
   "outputs": [
    {
     "data": {
      "text/plain": [
       "find_resolve_conflicts2 (generic function with 1 method)"
      ]
     },
     "execution_count": 9,
     "metadata": {},
     "output_type": "execute_result"
    }
   ],
   "source": [
    "function find_resolve_conflicts2(H, L, it) \n",
    "    # it is the time step \n",
    "    # H matrix of histories \n",
    "    # L is the number of positions \n",
    "    Hn = copy(H); \n",
    "    for iL = 1:L\n",
    "        list_cars=findall(x->x==iL,H[:,it])\n",
    "        if length(list_cars)>1\n",
    "            shuffle!(list_cars)            \n",
    "            Hn[list_cars,it]=copy(H[list_cars,it-1])\n",
    "            Hn[list_cars[1], it] = copy(H[list_cars[1], it]);\n",
    "        end\n",
    "    end\n",
    "    return Hn \n",
    "end "
   ]
  },
  {
   "cell_type": "markdown",
   "metadata": {},
   "source": [
    "#### Function that moves all the cars (tested) \n",
    "All cars try to move and conflicts are resolved, the movements are final."
   ]
  },
  {
   "cell_type": "code",
   "execution_count": 10,
   "metadata": {},
   "outputs": [
    {
     "data": {
      "text/plain": [
       "next_step (generic function with 1 method)"
      ]
     },
     "execution_count": 10,
     "metadata": {},
     "output_type": "execute_result"
    }
   ],
   "source": [
    "function next_step(H, p_mov, it, C, L)\n",
    "    # H matrix of histories\n",
    "    # p_inj probability of injecting\n",
    "    # p_mov probability of moving\n",
    "    # it time step\n",
    "    # C connectivity matrix\n",
    "    aux = size(H);\n",
    "    NC = copy(aux[1]); \n",
    "    for ic = 1:NC\n",
    "         H = move_car(ic,it,H,C, L, p_mov); # this function moves a car\n",
    "    end\n",
    "    H = find_resolve_conflicts(H, L, it+1); # this function finds and resolves conflicts -> to be done\n",
    "    return H\n",
    "end"
   ]
  },
  {
   "cell_type": "markdown",
   "metadata": {},
   "source": [
    "#### Site numbering scheme"
   ]
  },
  {
   "cell_type": "code",
   "execution_count": 11,
   "metadata": {},
   "outputs": [
    {
     "data": {
      "image/png": "[encoded data removed]"
     },
     "execution_count": 11,
     "metadata": {},
     "output_type": "execute_result"
    }
   ],
   "source": [
    "nCol,nRow=6,3\n",
    "expand=(x)->((x-1) % nCol + 0.5,(x-1) ÷ nCol + 0.5, \"$(x)\" )\n",
    "annot=[expand(i) for i in 1:nCol*nRow]\n",
    "pyplot(size=(400,200))\n",
    "plot(xlim=(0,nCol), xticks=[0:nCol;],\n",
    "    ylim=(0,nRow),yticks=[0:nRow;],\n",
    "    title=\"Numbering scheme\",\n",
    "    legend=false,aspect_ratio=:equal,framestyle=:box,\n",
    "    grid=true,foreground_color_grid=:black,gridalpha=1,gridlinewidth=1,\n",
    "    annotation = annot,annotationfontsize=12)"
   ]
  },
  {
   "cell_type": "markdown",
   "metadata": {},
   "source": [
    "#### Plot traffic map on 2D grid\n",
    "The function plotMapFromConnectivity do the followings:\n",
    "1. Draw 2D grid of given number of rows and columns\n",
    "1. Label unreachable cells with black   (columns of $C$ with all zeros)\n",
    "1. Label entry cell with green and text (inferred from 1st row of $C$)\n",
    "1. Label exit cell with red and text (inferred from last colum of $C$)\n",
    "1. Label connectivity bewteen cells with arrows (inferred from rows of $C$)\n",
    "1. Draw hostpot if specified (output of function congest_plot further below)"
   ]
  },
  {
   "cell_type": "code",
   "execution_count": 12,
   "metadata": {},
   "outputs": [
    {
     "data": {
      "text/plain": [
       "plotMapFromConnectivity (generic function with 1 method)"
      ]
     },
     "execution_count": 12,
     "metadata": {},
     "output_type": "execute_result"
    }
   ],
   "source": [
    "function plotMapFromConnectivity(C,nCol,nRow;hotspot=nothing)\n",
    "    # C is the connectivity matrix\n",
    "    # nCol is the number of columns\n",
    "    # nRow is the number of rows\n",
    "    # hotspot, a keyword argument, is the congested spot which default to nothing\n",
    "    \n",
    "    # rectrangular patch\n",
    "    rect(w, h, x, y) = Shape(x .+ [0,w,w,0], y .+ [0,0,h,h])\n",
    "    # convert 1D to 2D index\n",
    "    getXY= (x) -> ((x.-1) .% nCol .+ 1,(x.-1) .÷ nCol .+ 1 ) ;\n",
    "    \n",
    "    plot(xlim=(0,nCol), xticks=[0:nCol;],ylim=(0,nRow),yticks=[0:nRow;],\n",
    "        legend=false,aspect_ratio=:equal,framestyle=:box,\n",
    "        grid=true,foreground_color_grid=:black,gridalpha=1,gridlinewidth=1)\n",
    "    \n",
    "#     unreachable cells: black\n",
    "    s=dropdims(sum(C[1:end-1,2:end-1],dims=1),dims=1)\n",
    "    for i in findall(x->x==0,s)\n",
    "        x,y=getXY(i)\n",
    "        plot!(rect(1,1,x-1,y-1),color=:black)\n",
    "    end\n",
    "    \n",
    "#     entry sites: transparent green\n",
    "    entries=findall(x->x==1,C[1,:])\n",
    "    for i in entries\n",
    "        x,y=getXY(i-1)\n",
    "        plot!(rect(1,1,x-1,y-1),color=:green,opacity=0.2,\n",
    "            annotation = [(x-0.5, y-0.2, \"entry\")],annotationfontsize=8)\n",
    "    end   \n",
    "    \n",
    "#     exit sites: transparent red\n",
    "    exits=findall(x->x==1,C[2:end-1,end])\n",
    "    for i in exits\n",
    "        x,y=getXY(i)\n",
    "        plot!(rect(1,1,x-1,y-1),color=:red,opacity=0.2,\n",
    "            annotation = [(x-0.5, y-0.8, \"exit\")],annotationfontsize=8)\n",
    "    end\n",
    "\n",
    "#  connected site: arrow   \n",
    "    s=dropdims(sum(C[2:end-1,2:end-1],dims=2),dims=2)    \n",
    "    for r in findall(x->x>0,s)\n",
    "        reachable=findall(x->x==1,C[r+1,2:end-1])\n",
    "        x0,y0=getXY(r) \n",
    "        x1,y1=getXY(reachable)\n",
    "        dx,dy=x1.-x0,y1.-y0;\n",
    "        quiver!([x0-0.5].+0.25.*dx,[y0-0.5].+0.25.*dy,\n",
    "                quiver=((dx.*0.5,dy.*0.5)),color=:black)\n",
    "    end\n",
    "    \n",
    "#  hotspot: dotted outline\n",
    "    if !isnothing(hotspot)\n",
    "        for i in hotspot\n",
    "            x,y=getXY(i)\n",
    "            plot!([x-1,x-1,x,x,x-1],[y-1,y,y,y-1,y-1],color=:red,linewidth=3,linestyle=:dot)\n",
    "        end\n",
    "    end\n",
    "    return current()\n",
    "end"
   ]
  },
  {
   "cell_type": "markdown",
   "metadata": {},
   "source": [
    "#### Show positions of all cars at one time instant\n",
    "Cars are labelled with circles annotated with ID, newly injected car is labelled with diamond"
   ]
  },
  {
   "cell_type": "code",
   "execution_count": 13,
   "metadata": {},
   "outputs": [
    {
     "data": {
      "text/plain": [
       "plotAllCarAtOneInstant1 (generic function with 1 method)"
      ]
     },
     "execution_count": 13,
     "metadata": {},
     "output_type": "execute_result"
    }
   ],
   "source": [
    "function plotAllCarAtOneInstant1(H,t,nCol,nRow;c=palette(:tab10))\n",
    "    # H is the history matrix\n",
    "    # t is time step\n",
    "    # nCol is the number of columns\n",
    "    # nRow is the number of rows\n",
    "    # c, a keyword argument, is the color palette which default to tab10\n",
    "    pos=H[:,t];\n",
    "    maxNodes=nCol*nRow;\n",
    "    getXY(x) = ((x-1) % nCol + 1,(x-1) ÷ nCol + 1 ) ;\n",
    "    l=length(c)\n",
    "    plot!(title=\"t=$(t-1)\")\n",
    "    for id= 1:length(pos)\n",
    "        p=pos[id];\n",
    "        if p==0 || p>maxNodes continue; end        \n",
    "        x,y=getXY(pos[id])\n",
    "        shape=:circle;\n",
    "        if t>0 && H[id,t-1]==0  shape=:diamond; end\n",
    "        scatter!([x-0.5],[y-0.5],color=c[(id-1)%l+1],\n",
    "            annotation = [(x-0.5, y-0.5, \"$(id)\")],annotationfontsize=9,\n",
    "            markershape=shape, markersize=16,\n",
    "            markerstrokestyle=:dot,markerstrokewidth=2)\n",
    "    end\n",
    "    return current()\n",
    "end"
   ]
  },
  {
   "cell_type": "code",
   "execution_count": 14,
   "metadata": {},
   "outputs": [
    {
     "data": {
      "text/plain": [
       "plotAllCarAtOneInstant2 (generic function with 1 method)"
      ]
     },
     "execution_count": 14,
     "metadata": {},
     "output_type": "execute_result"
    }
   ],
   "source": [
    "function plotAllCarAtOneInstant2(H,t,nCol,nRow;c=palette(:tab10))\n",
    "    # H is the history matrix\n",
    "    # t is time step\n",
    "    # nCol is the number of columns\n",
    "    # nRow is the number of rows\n",
    "    # c, a keyword argument, is the color palette which default to tab10\n",
    "    pos=H[:,t];\n",
    "    maxNodes=nCol*nRow;\n",
    "    getXY= (x) -> ((x.-1) .% nCol .+ 1,(x.-1) .÷ nCol .+ 1 ) ;    \n",
    "    \n",
    "    id=findall(x->x>0 && x<=maxNodes,pos);\n",
    "    x,y=getXY(pos[id]);\n",
    "    annot=[(xx-0.5,yy-0.5,\"$(i)\") for (i,xx,yy) in zip(id,x,y)];\n",
    "    shape=[:circle for i in id];\n",
    "    (t>1) && (shape[H[id,t-1].==0].=:diamond);\n",
    "    \n",
    "    return scatter!(x.-0.5,y.-0.5,color=c[(id.-1).%length(c).+1],\n",
    "                    title=\"t=$(t-1)\",\n",
    "                    annotation = annot, annotationfontsize=9,\n",
    "                    markershape=shape, markersize=16, markerstrokewidth=2)\n",
    "end"
   ]
  },
  {
   "cell_type": "markdown",
   "metadata": {},
   "source": [
    "#### Animate whole history\n",
    "Go through the whole time history and plot trajectories of all cars. Essentially, plotAllCarAtOneInstant is called in a loop, refer to plotAllCarAtOneInstant for details."
   ]
  },
  {
   "cell_type": "code",
   "execution_count": 15,
   "metadata": {},
   "outputs": [
    {
     "data": {
      "text/plain": [
       "plotHistory (generic function with 1 method)"
      ]
     },
     "execution_count": 15,
     "metadata": {},
     "output_type": "execute_result"
    }
   ],
   "source": [
    "function plotHistory(H,C,nCol,nRow;delay=0.5,hotspot=nothing)\n",
    "    # H is the history matrix\n",
    "    # C is the connectivity matrix\n",
    "    # nCol is the number of columns\n",
    "    # nRow is the number of rows\n",
    "    # delay, a keyword argument, is the pause between frame which default to 0.5s\n",
    "    # hotspot, a keyword argument, is the congested spot which default to nothing\n",
    "    nCar,tMax=size(H);\n",
    "    tMax=min(tMax,tMax-sum(sum(H.==nCol*nRow+1,dims=1).==nCar)+1);\n",
    "    pmap=plotMapFromConnectivity(C,nCol,nRow,hotspot=hotspot);\n",
    "    for i=1:tMax\n",
    "        IJulia.clear_output(true)\n",
    "        plot(deepcopy(pmap))\n",
    "        plotAllCarAtOneInstant(H,i,nCol,nRow);\n",
    "        display(current())\n",
    "        sleep(delay)\n",
    "    end\n",
    "    IJulia.clear_output(true)\n",
    "    return\n",
    "end"
   ]
  },
  {
   "cell_type": "markdown",
   "metadata": {},
   "source": [
    "#### Analayze the congestion \n",
    "Based on the history matrix, $H$, we count how many halts happen at each position and visualize the distribution using a histogram. The function also determine the most congested spot in the traffic network."
   ]
  },
  {
   "cell_type": "code",
   "execution_count": 16,
   "metadata": {},
   "outputs": [
    {
     "data": {
      "text/plain": [
       "congest_plot1 (generic function with 1 method)"
      ]
     },
     "execution_count": 16,
     "metadata": {},
     "output_type": "execute_result"
    }
   ],
   "source": [
    "function congest_plot1(H,a,b,L)\n",
    "    ## H is the history matrix\n",
    "    # a is the starting time chosen to check congestion\n",
    "    # b is the final time\n",
    "    # L is the number of sites\n",
    "    sv = size(H);\n",
    "    c = Int64[];\n",
    "    cp = Int64[];\n",
    "    \n",
    "    for i in 1:sv[1]\n",
    "        k=0;\n",
    "        for j in a:b-1\n",
    "           if(H[i,j] == H[i,j+1]) # here it is checked whether the car was halted at the next time step\n",
    "               append!(c,H[i,j]) # if yes we count the position in c array\n",
    "           end\n",
    "        end\n",
    "    end\n",
    "    \n",
    "    c = filter(x-> x != 0, c)  # this is used to filter the zero value meaning car is not entered the road \n",
    "    c = filter(x-> x != L+1, c) # this is used to filter the final value meaning car is exited from the road\n",
    "    display(histogram(c,nbins=L+1, title = \"Congestion plot from time t=$a to t=$b\", \n",
    "            xlabel = \"Position\", ylabel = \"Number of cars halted\",legend=false,titlefontsize=12))\n",
    "    \n",
    "    for k in 1:L\n",
    "    cp = append!(cp,count(m -> (m == k), c)) #cp stores the time steps car is stopped at a position in ascending order\n",
    "    end\n",
    "    \n",
    "    x_p = maximum(cp)\n",
    "    x_point=findall(m -> (m == x_p), cp) # position at which maximum number of car halts\n",
    "    println(\"The maximum congetsion is at position $x_point during the time t=$a to t=$b\")\n",
    "    return x_point\n",
    "end"
   ]
  },
  {
   "cell_type": "code",
   "execution_count": 17,
   "metadata": {},
   "outputs": [
    {
     "data": {
      "text/plain": [
       "congest_plot2 (generic function with 1 method)"
      ]
     },
     "execution_count": 17,
     "metadata": {},
     "output_type": "execute_result"
    }
   ],
   "source": [
    "function congest_plot2(H,a,b,L)\n",
    "    ## H is the history matrix\n",
    "    # a is the starting time chosen to check congestion\n",
    "    # b is the final time\n",
    "    # L is the number of sites\n",
    "    \n",
    "    counter=zeros(Int64,L) # the histogram \n",
    "    \n",
    "    # use run length encoding to count\n",
    "    for row in eachrow(H[:,a:b])\n",
    "        p=filter(x-> x>0 && x<=L,row)\n",
    "        for (k,l) in zip(rle(p)...) # run length\n",
    "            counter[k]+= l-1 #do not count the first occurence\n",
    "        end\n",
    "    end    \n",
    "    \n",
    "    # implementation 2: only traverse H once\n",
    "#     for row in eachrow(H[:,a:b])\n",
    "#         iter = Iterators.filter(x-> x>0 && x<=L,row)\n",
    "#         (item1, state) = iterate(iter)\n",
    "#         while (iter2=iterate(iter, state)) != nothing\n",
    "#             (item2, state) = iter2        \n",
    "#             item1==item2 && (counter[item1]+=1)\n",
    "#             item1=item2\n",
    "#         end\n",
    "#     end\n",
    "    \n",
    "    x_point=findall(x->x==maximum(counter),counter)\n",
    "    \n",
    "    display(bar(counter,bar_edges=true,bar_width=1,xticks=[1:L;],\n",
    "                title = \"Congestion plot from time t=$a to t=$b\", \n",
    "                xlabel = \"Position\", ylabel = \"Number of cars halted\",\n",
    "                legend=false,titlefontsize=12))\n",
    "        \n",
    "    println(\"The maximum congetsion is at position $x_point during the time t=$a to t=$b\")\n",
    "    return x_point\n",
    "end"
   ]
  },
  {
   "cell_type": "markdown",
   "metadata": {},
   "source": [
    "#### Analyze the time spent travelling between point a and b\n",
    "For each car, we determine the time spent to get from point a to point b. The distribution is visualized using histogram. Following that, average and standard deviation of time spent are reported in stdout"
   ]
  },
  {
   "cell_type": "code",
   "execution_count": 18,
   "metadata": {},
   "outputs": [
    {
     "data": {
      "text/plain": [
       "time_taken1 (generic function with 1 method)"
      ]
     },
     "execution_count": 18,
     "metadata": {},
     "output_type": "execute_result"
    }
   ],
   "source": [
    "function time_taken1(H, a, b)\n",
    "    # calculate the time taken by each car from positon a to position b given the history matrix\n",
    "    # H history matrix\n",
    "    # a start position\n",
    "    # b final position\n",
    "    # tt is the vector that stores the time taken to go from a to b by each car\n",
    "    sv = size(H);\n",
    "    tt = Int64[];\n",
    "    tn = Int64[]; \n",
    "    kn=0;kb=0;ka=0;\n",
    "    \n",
    "    for  i in 1:sv[1]\n",
    "    n_posa = 0;\n",
    "    n_posb = 0;\n",
    "        for j in 1:sv[2]\n",
    "            if (n_posa < 1)\n",
    "                if (H[i,j] == a) #here when the position of car is\"a\", then time is written in ka\n",
    "                    ka = j\n",
    "                    n_posa = 1;\n",
    "                 end\n",
    "             end\n",
    "            if (n_posb < 1)\n",
    "                 if (H[i,j] == b) #here when the  position of car is\"b\", then time is written in kb\n",
    "                    kb = j\n",
    "                    n_posb = 1;\n",
    "                 end\n",
    "            end\n",
    "                 \n",
    "         end\n",
    "        \n",
    "         if (n_posa ==1 && n_posb == 1) # this filters any cars that doesn't pass through both points a and b\n",
    "            kn=kn+1\n",
    "            append!(tt,kb-ka)\n",
    "            append!(tn,i)\n",
    "         end\n",
    "    end\n",
    "    #println(tt)\n",
    "    display(histogram(tt, nbins=abs(b-a), title = \"Time taken to travel from $a to $b\", \n",
    "            xlabel = \"Time taken\", ylabel = \"Number of cars\",legend=false,titlefontsize=12)) \n",
    "   \n",
    "    t_avg = mean(tt)\n",
    "    t_sd = var(tt)\n",
    "    println(\"The average time taken by cars to travel from position $a to $b is $t_avg \")\n",
    "    println(\"The standard deviation of the time taken by cars to travel from $a to $b is $t_sd \")\n",
    "    return \n",
    "end "
   ]
  },
  {
   "cell_type": "code",
   "execution_count": 19,
   "metadata": {},
   "outputs": [
    {
     "data": {
      "text/plain": [
       "time_taken2 (generic function with 1 method)"
      ]
     },
     "execution_count": 19,
     "metadata": {},
     "output_type": "execute_result"
    }
   ],
   "source": [
    "function time_taken2(H, a, b)\n",
    "    # calculate the time taken by each car from positon a to position b given the history matrix\n",
    "    # H history matrix\n",
    "    # a start position\n",
    "    # b final position\n",
    "    # tt is the vector that stores the time taken to go from a to b by each car\n",
    "   \n",
    "    tt=Int64[]\n",
    "    for row in eachrow(H)\n",
    "        (i_a=findfirst(x->x==a,row)) == nothing && continue;\n",
    "        (i_b=findnext(x->x==b,row,i_a+1)) == nothing && continue;\n",
    "        append!(tt,i_b-i_a)\n",
    "    end\n",
    "\n",
    "    display(histogram(tt, nbins=abs(b-a), \n",
    "            title = \"Time taken to travel from $a to $b\", \n",
    "            xlabel = \"Time taken\", ylabel = \"Number of cars\",\n",
    "            legend=false,titlefontsize=12)) \n",
    "   \n",
    "    println(\"The average time taken by cars to travel from position $a to $b is $(mean(tt)) \")\n",
    "    println(\"The standard deviation of the time taken by cars to travel from $a to $b is $(var(tt)) \")\n",
    "    return \n",
    "end "
   ]
  },
  {
   "cell_type": "code",
   "execution_count": 20,
   "metadata": {},
   "outputs": [
    {
     "data": {
      "text/plain": [
       "readConnectivity (generic function with 1 method)"
      ]
     },
     "execution_count": 20,
     "metadata": {},
     "output_type": "execute_result"
    }
   ],
   "source": [
    "function readConnectivity(filename)\n",
    "    return readdlm(filename, ',',Bool);\n",
    "end"
   ]
  },
  {
   "cell_type": "markdown",
   "metadata": {},
   "source": [
    "#### Allow to switch implementation"
   ]
  },
  {
   "cell_type": "code",
   "execution_count": 21,
   "metadata": {},
   "outputs": [],
   "source": [
    "find_pos_available=find_pos_available2;\n",
    "find_resolve_conflicts=find_resolve_conflicts2;\n",
    "time_taken=time_taken2;\n",
    "congest_plot=congest_plot2;\n",
    "plotAllCarAtOneInstant=plotAllCarAtOneInstant2;"
   ]
  },
  {
   "cell_type": "markdown",
   "metadata": {},
   "source": [
    "# Our Code"
   ]
  },
  {
   "cell_type": "markdown",
   "metadata": {},
   "source": [
    "Aim: Compare the congestion in:\n",
    "\n",
    "- Scenario 1: Straight Road\n",
    "- Scenario 2: Straight Road + Side Road\n",
    "- Scenario 3: Straight Road + Side Road + Traffic Lights\n"
   ]
  },
  {
   "cell_type": "markdown",
   "metadata": {},
   "source": [
    "## Side Road\n",
    "\n",
    "Introduce a side road which intersects the main road at ```junction``` and the exit point.\n",
    "\n",
    "Aim: Divide traffic flow to minimise congestion in the main road.\n",
    "\n",
    "Con: A junction is introduced where there is a higher probability of cars colliding."
   ]
  },
  {
   "cell_type": "markdown",
   "metadata": {},
   "source": [
    "## Traffic Light\n",
    "\n",
    "Introduce artificial congestions temporarily (from time i to time j) to the node that is at the position of ```junction-1```. This is done by reducing the speed of the car (```p_mov```) to ```0.0``` at those nodes.\n",
    "\n",
    "Aim: Reduce the probability of congestion as collision is minimised when cars from either side of a junction take turns to move.\n",
    "\n",
    "Con: By stopping a car before a junction, a mini congestion is created before the traffic light.\n",
    "\n",
    "Note: Traffic lights will not be placed at the junction node in order to allow for the other traffic flow to continue, and it will not be placed at ```junction+1``` in order to prevent collision."
   ]
  },
  {
   "cell_type": "code",
   "execution_count": 22,
   "metadata": {},
   "outputs": [
    {
     "data": {
      "text/plain": [
       "c_matrix_2d (generic function with 1 method)"
      ]
     },
     "execution_count": 22,
     "metadata": {},
     "output_type": "execute_result"
    }
   ],
   "source": [
    "# Create 2D Connectivity Matrix to simulate roads with side roads\n",
    "function c_matrix_2d(L)\n",
    "    # NOTE: When comparing between road with side roads vs linear roads, the main road must be of the same length\n",
    "    #=\n",
    "    L = total number of nodes\n",
    "    e.g. L = 8\n",
    "      []\n",
    "    [][][][][][] main road\n",
    "      []\n",
    "    =#\n",
    "    C = zeros(Int64, L+2, L+2)\n",
    "    \n",
    "    C[1, 8] = 1\n",
    "    C[8, 9] = 1\n",
    "    C[9, 10] = 1\n",
    "    C[10, 11] = 1\n",
    "    C[11, 12] = 1\n",
    "    C[12, 13] = 1\n",
    "    C[13, 20] = 1\n",
    "    C[20, 20] = 1\n",
    "    C[1, 4] = 1\n",
    "    C[4, 10] = 1\n",
    "    C[10, 16] = 1\n",
    "    C[16, 17] = 1\n",
    "    C[17, 18] = 1\n",
    "    C[18, 12] = 1\n",
    "    \n",
    "    return C\n",
    "end"
   ]
  },
  {
   "cell_type": "code",
   "execution_count": 23,
   "metadata": {},
   "outputs": [
    {
     "data": {
      "text/plain": [
       "traffic_light (generic function with 1 method)"
      ]
     },
     "execution_count": 23,
     "metadata": {},
     "output_type": "execute_result"
    }
   ],
   "source": [
    "function traffic_light(C, H, junction, car_speeds, time, route)    \n",
    "    # route == 0 -> main road\n",
    "    # route == 1 -> side road\n",
    "    new_speeds = copy(car_speeds)\n",
    "    car_count, time_stamp_count = size(H) # time_stamp_count is not used\n",
    "    for car = 1:car_count\n",
    "        node = H[car, time]\n",
    "        if route == 0\n",
    "            if node == 9 || node == 11 # placed on main road before each junction\n",
    "                new_speeds[car, 1] = 0\n",
    "            end\n",
    "        else\n",
    "            if node == 4 || node == 18 # placed on side road before each junction\n",
    "                new_speeds[car, 1] = 0\n",
    "            end\n",
    "        end\n",
    "    end\n",
    "    return new_speeds\n",
    "end"
   ]
  },
  {
   "cell_type": "code",
   "execution_count": 24,
   "metadata": {},
   "outputs": [
    {
     "data": {
      "text/plain": [
       "10×57 Matrix{Int16}:\n",
       " 0  0  0  0  0  0  0  0  0  0  0  0  0  …  0  0  0  0  0  0  0  0  0  0  0  0\n",
       " 0  0  0  0  0  0  0  0  0  0  0  0  0     0  0  0  0  0  0  0  0  0  0  0  0\n",
       " 0  0  0  0  0  0  0  0  0  0  0  0  0     0  0  0  0  0  0  0  0  0  0  0  0\n",
       " 0  0  0  0  0  0  0  0  0  0  0  0  0     0  0  0  0  0  0  0  0  0  0  0  0\n",
       " 0  0  0  0  0  0  0  0  0  0  0  0  0     0  0  0  0  0  0  0  0  0  0  0  0\n",
       " 0  0  0  0  0  0  0  0  0  0  0  0  0  …  0  0  0  0  0  0  0  0  0  0  0  0\n",
       " 0  0  0  0  0  0  0  0  0  0  0  0  0     0  0  0  0  0  0  0  0  0  0  0  0\n",
       " 0  0  0  0  0  0  0  0  0  0  0  0  0     0  0  0  0  0  0  0  0  0  0  0  0\n",
       " 0  0  0  0  0  0  0  0  0  0  0  0  0     0  0  0  0  0  0  0  0  0  0  0  0\n",
       " 0  0  0  0  0  0  0  0  0  0  0  0  0     0  0  0  0  0  0  0  0  0  0  0  0"
      ]
     },
     "execution_count": 24,
     "metadata": {},
     "output_type": "execute_result"
    }
   ],
   "source": [
    "# Initialisation\n",
    "\n",
    "NC = 10 # number of cars\n",
    "tM = 55 # total time steps\n",
    "p_mov = 0.5 # probability of moving\n",
    "\n",
    "H = initialize_H(tM, NC)"
   ]
  },
  {
   "cell_type": "markdown",
   "metadata": {},
   "source": [
    "## Scenario 1: Straight Road"
   ]
  },
  {
   "cell_type": "code",
   "execution_count": 25,
   "metadata": {},
   "outputs": [],
   "source": [
    "L_main = 6 # number of nodes\n",
    "\n",
    "C = connect_matrix_straight(L_main)\n",
    "\n",
    "H1 = copy(H)\n",
    "\n",
    "for it = 1:tM+1\n",
    "    H1 = next_step(H1, p_mov, it, C, L_main)\n",
    "end"
   ]
  },
  {
   "cell_type": "code",
   "execution_count": 26,
   "metadata": {},
   "outputs": [
    {
     "data": {
      "image/svg+xml": [
       "<?xml version=\"1.0\" encoding=\"utf-8\"?>\n",
       "<svg xmlns=\"http://www.w3.org/2000/svg\" xmlns:xlink=\"http://www.w3.org/1999/xlink\" width=\"400\" height=\"200\" viewBox=\"0 0 1600 800\">\n",
       "<defs>\n",
       "  <clipPath id=\"clip260\">\n",
       "    <rect x=\"0\" y=\"0\" width=\"1600\" height=\"800\"/>\n",
       "  </clipPath>\n",
       "</defs>\n",
       "<path clip-path=\"url(#clip260)\" d=\"\n",
       "M0 800 L1600 800 L1600 0 L0 0  Z\n",
       "  \" fill=\"#ffffff\" fill-rule=\"evenodd\" fill-opacity=\"1\"/>\n",
       "<defs>\n",
       "  <clipPath id=\"clip261\">\n",
       "    <rect x=\"320\" y=\"0\" width=\"1121\" height=\"800\"/>\n",
       "  </clipPath>\n",
       "</defs>\n",
       "<path clip-path=\"url(#clip260)\" d=\"\n",
       "M229.662 651.7 L1552.76 651.7 L1552.76 101.872 L229.662 101.872  Z\n",
       "  \" fill=\"#ffffff\" fill-rule=\"evenodd\" fill-opacity=\"1\"/>\n",
       "<defs>\n",
       "  <clipPath id=\"clip262\">\n",
       "    <rect x=\"229\" y=\"101\" width=\"1324\" height=\"551\"/>\n",
       "  </clipPath>\n",
       "</defs>\n",
       "<polyline clip-path=\"url(#clip262)\" style=\"stroke:#000000; stroke-linecap:butt; stroke-linejoin:round; stroke-width:2; stroke-opacity:0.1; fill:none\" points=\"\n",
       "  302.435,651.7 302.435,101.872 \n",
       "  \"/>\n",
       "<polyline clip-path=\"url(#clip262)\" style=\"stroke:#000000; stroke-linecap:butt; stroke-linejoin:round; stroke-width:2; stroke-opacity:0.1; fill:none\" points=\"\n",
       "  537.944,651.7 537.944,101.872 \n",
       "  \"/>\n",
       "<polyline clip-path=\"url(#clip262)\" style=\"stroke:#000000; stroke-linecap:butt; stroke-linejoin:round; stroke-width:2; stroke-opacity:0.1; fill:none\" points=\"\n",
       "  773.454,651.7 773.454,101.872 \n",
       "  \"/>\n",
       "<polyline clip-path=\"url(#clip262)\" style=\"stroke:#000000; stroke-linecap:butt; stroke-linejoin:round; stroke-width:2; stroke-opacity:0.1; fill:none\" points=\"\n",
       "  1008.96,651.7 1008.96,101.872 \n",
       "  \"/>\n",
       "<polyline clip-path=\"url(#clip262)\" style=\"stroke:#000000; stroke-linecap:butt; stroke-linejoin:round; stroke-width:2; stroke-opacity:0.1; fill:none\" points=\"\n",
       "  1244.47,651.7 1244.47,101.872 \n",
       "  \"/>\n",
       "<polyline clip-path=\"url(#clip262)\" style=\"stroke:#000000; stroke-linecap:butt; stroke-linejoin:round; stroke-width:2; stroke-opacity:0.1; fill:none\" points=\"\n",
       "  1479.98,651.7 1479.98,101.872 \n",
       "  \"/>\n",
       "<polyline clip-path=\"url(#clip260)\" style=\"stroke:#000000; stroke-linecap:butt; stroke-linejoin:round; stroke-width:4; stroke-opacity:1; fill:none\" points=\"\n",
       "  229.662,651.7 1552.76,651.7 \n",
       "  \"/>\n",
       "<polyline clip-path=\"url(#clip260)\" style=\"stroke:#000000; stroke-linecap:butt; stroke-linejoin:round; stroke-width:4; stroke-opacity:1; fill:none\" points=\"\n",
       "  302.435,651.7 302.435,645.102 \n",
       "  \"/>\n",
       "<polyline clip-path=\"url(#clip260)\" style=\"stroke:#000000; stroke-linecap:butt; stroke-linejoin:round; stroke-width:4; stroke-opacity:1; fill:none\" points=\"\n",
       "  537.944,651.7 537.944,645.102 \n",
       "  \"/>\n",
       "<polyline clip-path=\"url(#clip260)\" style=\"stroke:#000000; stroke-linecap:butt; stroke-linejoin:round; stroke-width:4; stroke-opacity:1; fill:none\" points=\"\n",
       "  773.454,651.7 773.454,645.102 \n",
       "  \"/>\n",
       "<polyline clip-path=\"url(#clip260)\" style=\"stroke:#000000; stroke-linecap:butt; stroke-linejoin:round; stroke-width:4; stroke-opacity:1; fill:none\" points=\"\n",
       "  1008.96,651.7 1008.96,645.102 \n",
       "  \"/>\n",
       "<polyline clip-path=\"url(#clip260)\" style=\"stroke:#000000; stroke-linecap:butt; stroke-linejoin:round; stroke-width:4; stroke-opacity:1; fill:none\" points=\"\n",
       "  1244.47,651.7 1244.47,645.102 \n",
       "  \"/>\n",
       "<polyline clip-path=\"url(#clip260)\" style=\"stroke:#000000; stroke-linecap:butt; stroke-linejoin:round; stroke-width:4; stroke-opacity:1; fill:none\" points=\"\n",
       "  1479.98,651.7 1479.98,645.102 \n",
       "  \"/>\n",
       "<path clip-path=\"url(#clip260)\" d=\"M281.208 702.037 L297.527 702.037 L297.527 705.972 L275.583 705.972 L275.583 702.037 Q278.245 699.282 282.828 694.652 Q287.435 690 288.615 688.657 Q290.861 686.134 291.74 684.398 Q292.643 682.639 292.643 680.949 Q292.643 678.194 290.699 676.458 Q288.777 674.722 285.675 674.722 Q283.476 674.722 281.023 675.486 Q278.592 676.25 275.814 677.801 L275.814 673.079 Q278.638 671.944 281.092 671.366 Q283.546 670.787 285.583 670.787 Q290.953 670.787 294.148 673.472 Q297.342 676.157 297.342 680.648 Q297.342 682.778 296.532 684.699 Q295.745 686.597 293.638 689.19 Q293.06 689.861 289.958 693.078 Q286.856 696.273 281.208 702.037 Z\" fill=\"#000000\" fill-rule=\"evenodd\" fill-opacity=\"1\" /><path clip-path=\"url(#clip260)\" d=\"M317.342 674.491 Q313.731 674.491 311.902 678.055 Q310.097 681.597 310.097 688.727 Q310.097 695.833 311.902 699.398 Q313.731 702.939 317.342 702.939 Q320.976 702.939 322.782 699.398 Q324.61 695.833 324.61 688.727 Q324.61 681.597 322.782 678.055 Q320.976 674.491 317.342 674.491 M317.342 670.787 Q323.152 670.787 326.208 675.393 Q329.286 679.977 329.286 688.727 Q329.286 697.453 326.208 702.06 Q323.152 706.643 317.342 706.643 Q311.532 706.643 308.453 702.06 Q305.397 697.453 305.397 688.727 Q305.397 679.977 308.453 675.393 Q311.532 670.787 317.342 670.787 Z\" fill=\"#000000\" fill-rule=\"evenodd\" fill-opacity=\"1\" /><path clip-path=\"url(#clip260)\" d=\"M517.215 702.037 L533.535 702.037 L533.535 705.972 L511.59 705.972 L511.59 702.037 Q514.252 699.282 518.836 694.652 Q523.442 690 524.623 688.657 Q526.868 686.134 527.748 684.398 Q528.65 682.639 528.65 680.949 Q528.65 678.194 526.706 676.458 Q524.785 674.722 521.683 674.722 Q519.484 674.722 517.03 675.486 Q514.6 676.25 511.822 677.801 L511.822 673.079 Q514.646 671.944 517.1 671.366 Q519.553 670.787 521.59 670.787 Q526.961 670.787 530.155 673.472 Q533.349 676.157 533.349 680.648 Q533.349 682.778 532.539 684.699 Q531.752 686.597 529.646 689.19 Q529.067 689.861 525.965 693.078 Q522.863 696.273 517.215 702.037 Z\" fill=\"#000000\" fill-rule=\"evenodd\" fill-opacity=\"1\" /><path clip-path=\"url(#clip260)\" d=\"M543.396 671.412 L561.752 671.412 L561.752 675.347 L547.678 675.347 L547.678 683.819 Q548.697 683.472 549.715 683.31 Q550.734 683.125 551.752 683.125 Q557.539 683.125 560.919 686.296 Q564.298 689.467 564.298 694.884 Q564.298 700.463 560.826 703.564 Q557.354 706.643 551.035 706.643 Q548.859 706.643 546.59 706.273 Q544.345 705.902 541.937 705.162 L541.937 700.463 Q544.021 701.597 546.243 702.152 Q548.465 702.708 550.942 702.708 Q554.947 702.708 557.284 700.602 Q559.622 698.495 559.622 694.884 Q559.622 691.273 557.284 689.166 Q554.947 687.06 550.942 687.06 Q549.067 687.06 547.192 687.477 Q545.34 687.893 543.396 688.773 L543.396 671.412 Z\" fill=\"#000000\" fill-rule=\"evenodd\" fill-opacity=\"1\" /><path clip-path=\"url(#clip260)\" d=\"M762.297 687.338 Q765.653 688.055 767.528 690.324 Q769.426 692.592 769.426 695.926 Q769.426 701.041 765.908 703.842 Q762.389 706.643 755.908 706.643 Q753.732 706.643 751.417 706.203 Q749.126 705.787 746.672 704.93 L746.672 700.416 Q748.616 701.551 750.931 702.129 Q753.246 702.708 755.769 702.708 Q760.167 702.708 762.459 700.972 Q764.774 699.236 764.774 695.926 Q764.774 692.87 762.621 691.157 Q760.491 689.421 756.672 689.421 L752.644 689.421 L752.644 685.578 L756.857 685.578 Q760.306 685.578 762.135 684.213 Q763.963 682.824 763.963 680.231 Q763.963 677.569 762.065 676.157 Q760.19 674.722 756.672 674.722 Q754.75 674.722 752.551 675.139 Q750.352 675.555 747.713 676.435 L747.713 672.268 Q750.376 671.528 752.69 671.157 Q755.028 670.787 757.088 670.787 Q762.412 670.787 765.514 673.217 Q768.616 675.625 768.616 679.745 Q768.616 682.615 766.973 684.606 Q765.329 686.574 762.297 687.338 Z\" fill=\"#000000\" fill-rule=\"evenodd\" fill-opacity=\"1\" /><path clip-path=\"url(#clip260)\" d=\"M788.292 674.491 Q784.681 674.491 782.852 678.055 Q781.047 681.597 781.047 688.727 Q781.047 695.833 782.852 699.398 Q784.681 702.939 788.292 702.939 Q791.926 702.939 793.732 699.398 Q795.56 695.833 795.56 688.727 Q795.56 681.597 793.732 678.055 Q791.926 674.491 788.292 674.491 M788.292 670.787 Q794.102 670.787 797.158 675.393 Q800.236 679.977 800.236 688.727 Q800.236 697.453 797.158 702.06 Q794.102 706.643 788.292 706.643 Q782.482 706.643 779.403 702.06 Q776.348 697.453 776.348 688.727 Q776.348 679.977 779.403 675.393 Q782.482 670.787 788.292 670.787 Z\" fill=\"#000000\" fill-rule=\"evenodd\" fill-opacity=\"1\" /><path clip-path=\"url(#clip260)\" d=\"M998.304 687.338 Q1001.66 688.055 1003.54 690.324 Q1005.43 692.592 1005.43 695.926 Q1005.43 701.041 1001.92 703.842 Q998.397 706.643 991.915 706.643 Q989.739 706.643 987.425 706.203 Q985.133 705.787 982.679 704.93 L982.679 700.416 Q984.624 701.551 986.939 702.129 Q989.253 702.708 991.776 702.708 Q996.175 702.708 998.466 700.972 Q1000.78 699.236 1000.78 695.926 Q1000.78 692.87 998.628 691.157 Q996.499 689.421 992.679 689.421 L988.651 689.421 L988.651 685.578 L992.864 685.578 Q996.313 685.578 998.142 684.213 Q999.971 682.824 999.971 680.231 Q999.971 677.569 998.073 676.157 Q996.198 674.722 992.679 674.722 Q990.758 674.722 988.559 675.139 Q986.36 675.555 983.721 676.435 L983.721 672.268 Q986.383 671.528 988.698 671.157 Q991.036 670.787 993.096 670.787 Q998.42 670.787 1001.52 673.217 Q1004.62 675.625 1004.62 679.745 Q1004.62 682.615 1002.98 684.606 Q1001.34 686.574 998.304 687.338 Z\" fill=\"#000000\" fill-rule=\"evenodd\" fill-opacity=\"1\" /><path clip-path=\"url(#clip260)\" d=\"M1014.35 671.412 L1032.7 671.412 L1032.7 675.347 L1018.63 675.347 L1018.63 683.819 Q1019.65 683.472 1020.67 683.31 Q1021.68 683.125 1022.7 683.125 Q1028.49 683.125 1031.87 686.296 Q1035.25 689.467 1035.25 694.884 Q1035.25 700.463 1031.78 703.564 Q1028.3 706.643 1021.98 706.643 Q1019.81 706.643 1017.54 706.273 Q1015.29 705.902 1012.89 705.162 L1012.89 700.463 Q1014.97 701.597 1017.19 702.152 Q1019.42 702.708 1021.89 702.708 Q1025.9 702.708 1028.23 700.602 Q1030.57 698.495 1030.57 694.884 Q1030.57 691.273 1028.23 689.166 Q1025.9 687.06 1021.89 687.06 Q1020.02 687.06 1018.14 687.477 Q1016.29 687.893 1014.35 688.773 L1014.35 671.412 Z\" fill=\"#000000\" fill-rule=\"evenodd\" fill-opacity=\"1\" /><path clip-path=\"url(#clip260)\" d=\"M1232.64 675.486 L1220.84 693.935 L1232.64 693.935 L1232.64 675.486 M1231.42 671.412 L1237.3 671.412 L1237.3 693.935 L1242.23 693.935 L1242.23 697.824 L1237.3 697.824 L1237.3 705.972 L1232.64 705.972 L1232.64 697.824 L1217.04 697.824 L1217.04 693.31 L1231.42 671.412 Z\" fill=\"#000000\" fill-rule=\"evenodd\" fill-opacity=\"1\" /><path clip-path=\"url(#clip260)\" d=\"M1259.96 674.491 Q1256.35 674.491 1254.52 678.055 Q1252.71 681.597 1252.71 688.727 Q1252.71 695.833 1254.52 699.398 Q1256.35 702.939 1259.96 702.939 Q1263.59 702.939 1265.4 699.398 Q1267.23 695.833 1267.23 688.727 Q1267.23 681.597 1265.4 678.055 Q1263.59 674.491 1259.96 674.491 M1259.96 670.787 Q1265.77 670.787 1268.83 675.393 Q1271.9 679.977 1271.9 688.727 Q1271.9 697.453 1268.83 702.06 Q1265.77 706.643 1259.96 706.643 Q1254.15 706.643 1251.07 702.06 Q1248.02 697.453 1248.02 688.727 Q1248.02 679.977 1251.07 675.393 Q1254.15 670.787 1259.96 670.787 Z\" fill=\"#000000\" fill-rule=\"evenodd\" fill-opacity=\"1\" /><path clip-path=\"url(#clip260)\" d=\"M1468.65 675.486 L1456.85 693.935 L1468.65 693.935 L1468.65 675.486 M1467.43 671.412 L1473.31 671.412 L1473.31 693.935 L1478.24 693.935 L1478.24 697.824 L1473.31 697.824 L1473.31 705.972 L1468.65 705.972 L1468.65 697.824 L1453.05 697.824 L1453.05 693.31 L1467.43 671.412 Z\" fill=\"#000000\" fill-rule=\"evenodd\" fill-opacity=\"1\" /><path clip-path=\"url(#clip260)\" d=\"M1486.01 671.412 L1504.37 671.412 L1504.37 675.347 L1490.3 675.347 L1490.3 683.819 Q1491.31 683.472 1492.33 683.31 Q1493.35 683.125 1494.37 683.125 Q1500.16 683.125 1503.54 686.296 Q1506.92 689.467 1506.92 694.884 Q1506.92 700.463 1503.44 703.564 Q1499.97 706.643 1493.65 706.643 Q1491.48 706.643 1489.21 706.273 Q1486.96 705.902 1484.56 705.162 L1484.56 700.463 Q1486.64 701.597 1488.86 702.152 Q1491.08 702.708 1493.56 702.708 Q1497.56 702.708 1499.9 700.602 Q1502.24 698.495 1502.24 694.884 Q1502.24 691.273 1499.9 689.166 Q1497.56 687.06 1493.56 687.06 Q1491.68 687.06 1489.81 687.477 Q1487.96 687.893 1486.01 688.773 L1486.01 671.412 Z\" fill=\"#000000\" fill-rule=\"evenodd\" fill-opacity=\"1\" /><path clip-path=\"url(#clip260)\" d=\"M712.587 737.044 L752.787 737.044 L752.787 742.455 L735.918 742.455 L735.918 784.564 L729.456 784.564 L729.456 742.455 L712.587 742.455 L712.587 737.044 Z\" fill=\"#000000\" fill-rule=\"evenodd\" fill-opacity=\"1\" /><path clip-path=\"url(#clip260)\" d=\"M756.733 748.916 L762.59 748.916 L762.59 784.564 L756.733 784.564 L756.733 748.916 M756.733 735.039 L762.59 735.039 L762.59 742.455 L756.733 742.455 L756.733 735.039 Z\" fill=\"#000000\" fill-rule=\"evenodd\" fill-opacity=\"1\" /><path clip-path=\"url(#clip260)\" d=\"M802.598 755.759 Q804.795 751.812 807.85 749.934 Q810.906 748.057 815.043 748.057 Q820.613 748.057 823.637 751.971 Q826.661 755.855 826.661 763.048 L826.661 784.564 L820.772 784.564 L820.772 763.239 Q820.772 758.114 818.958 755.632 Q817.144 753.149 813.42 753.149 Q808.869 753.149 806.227 756.173 Q803.585 759.197 803.585 764.416 L803.585 784.564 L797.697 784.564 L797.697 763.239 Q797.697 758.083 795.883 755.632 Q794.068 753.149 790.281 753.149 Q785.793 753.149 783.151 756.205 Q780.509 759.228 780.509 764.416 L780.509 784.564 L774.621 784.564 L774.621 748.916 L780.509 748.916 L780.509 754.454 Q782.515 751.176 785.315 749.616 Q788.116 748.057 791.968 748.057 Q795.851 748.057 798.556 750.03 Q801.293 752.003 802.598 755.759 Z\" fill=\"#000000\" fill-rule=\"evenodd\" fill-opacity=\"1\" /><path clip-path=\"url(#clip260)\" d=\"M868.834 765.276 L868.834 768.14 L841.907 768.14 Q842.289 774.188 845.535 777.371 Q848.813 780.522 854.638 780.522 Q858.012 780.522 861.163 779.694 Q864.346 778.867 867.465 777.211 L867.465 782.75 Q864.314 784.086 861.004 784.787 Q857.694 785.487 854.288 785.487 Q845.758 785.487 840.761 780.522 Q835.795 775.556 835.795 767.09 Q835.795 758.337 840.506 753.213 Q845.249 748.057 853.269 748.057 Q860.463 748.057 864.632 752.703 Q868.834 757.319 868.834 765.276 M862.977 763.557 Q862.913 758.751 860.272 755.886 Q857.662 753.022 853.333 753.022 Q848.431 753.022 845.471 755.791 Q842.543 758.56 842.098 763.589 L862.977 763.557 Z\" fill=\"#000000\" fill-rule=\"evenodd\" fill-opacity=\"1\" /><path clip-path=\"url(#clip260)\" d=\"M904.959 738.794 L904.959 748.916 L917.022 748.916 L917.022 753.467 L904.959 753.467 L904.959 772.819 Q904.959 777.18 906.137 778.421 Q907.346 779.662 911.006 779.662 L917.022 779.662 L917.022 784.564 L911.006 784.564 Q904.227 784.564 901.649 782.049 Q899.071 779.503 899.071 772.819 L899.071 753.467 L894.774 753.467 L894.774 748.916 L899.071 748.916 L899.071 738.794 L904.959 738.794 Z\" fill=\"#000000\" fill-rule=\"evenodd\" fill-opacity=\"1\" /><path clip-path=\"url(#clip260)\" d=\"M940.925 766.644 Q933.827 766.644 931.09 768.268 Q928.353 769.891 928.353 773.806 Q928.353 776.925 930.39 778.771 Q932.459 780.585 935.992 780.585 Q940.861 780.585 943.79 777.148 Q946.75 773.678 946.75 767.949 L946.75 766.644 L940.925 766.644 M952.606 764.225 L952.606 784.564 L946.75 784.564 L946.75 779.153 Q944.745 782.4 941.753 783.959 Q938.761 785.487 934.432 785.487 Q928.958 785.487 925.711 782.431 Q922.496 779.344 922.496 774.188 Q922.496 768.172 926.507 765.117 Q930.549 762.061 938.538 762.061 L946.75 762.061 L946.75 761.488 Q946.75 757.446 944.076 755.25 Q941.434 753.022 936.628 753.022 Q933.573 753.022 930.676 753.754 Q927.78 754.486 925.106 755.95 L925.106 750.539 Q928.321 749.298 931.345 748.693 Q934.368 748.057 937.233 748.057 Q944.967 748.057 948.787 752.067 Q952.606 756.077 952.606 764.225 Z\" fill=\"#000000\" fill-rule=\"evenodd\" fill-opacity=\"1\" /><path clip-path=\"url(#clip260)\" d=\"M964.446 735.039 L970.335 735.039 L970.335 764.289 L987.809 748.916 L995.288 748.916 L976.382 765.594 L996.084 784.564 L988.445 784.564 L970.335 767.154 L970.335 784.564 L964.446 784.564 L964.446 735.039 Z\" fill=\"#000000\" fill-rule=\"evenodd\" fill-opacity=\"1\" /><path clip-path=\"url(#clip260)\" d=\"M1030.59 765.276 L1030.59 768.14 L1003.66 768.14 Q1004.04 774.188 1007.29 777.371 Q1010.57 780.522 1016.39 780.522 Q1019.76 780.522 1022.92 779.694 Q1026.1 778.867 1029.22 777.211 L1029.22 782.75 Q1026.07 784.086 1022.76 784.787 Q1019.45 785.487 1016.04 785.487 Q1007.51 785.487 1002.51 780.522 Q997.548 775.556 997.548 767.09 Q997.548 758.337 1002.26 753.213 Q1007 748.057 1015.02 748.057 Q1022.22 748.057 1026.38 752.703 Q1030.59 757.319 1030.59 765.276 M1024.73 763.557 Q1024.67 758.751 1022.02 755.886 Q1019.41 753.022 1015.09 753.022 Q1010.18 753.022 1007.22 755.791 Q1004.3 758.56 1003.85 763.589 L1024.73 763.557 Z\" fill=\"#000000\" fill-rule=\"evenodd\" fill-opacity=\"1\" /><path clip-path=\"url(#clip260)\" d=\"M1069.83 763.048 L1069.83 784.564 L1063.97 784.564 L1063.97 763.239 Q1063.97 758.178 1062 755.664 Q1060.03 753.149 1056.08 753.149 Q1051.34 753.149 1048.6 756.173 Q1045.86 759.197 1045.86 764.416 L1045.86 784.564 L1039.98 784.564 L1039.98 748.916 L1045.86 748.916 L1045.86 754.454 Q1047.96 751.239 1050.8 749.648 Q1053.66 748.057 1057.39 748.057 Q1063.53 748.057 1066.68 751.876 Q1069.83 755.664 1069.83 763.048 Z\" fill=\"#000000\" fill-rule=\"evenodd\" fill-opacity=\"1\" /><polyline clip-path=\"url(#clip262)\" style=\"stroke:#000000; stroke-linecap:butt; stroke-linejoin:round; stroke-width:2; stroke-opacity:0.1; fill:none\" points=\"\n",
       "  229.662,636.139 1552.76,636.139 \n",
       "  \"/>\n",
       "<polyline clip-path=\"url(#clip262)\" style=\"stroke:#000000; stroke-linecap:butt; stroke-linejoin:round; stroke-width:2; stroke-opacity:0.1; fill:none\" points=\"\n",
       "  229.662,506.462 1552.76,506.462 \n",
       "  \"/>\n",
       "<polyline clip-path=\"url(#clip262)\" style=\"stroke:#000000; stroke-linecap:butt; stroke-linejoin:round; stroke-width:2; stroke-opacity:0.1; fill:none\" points=\"\n",
       "  229.662,376.786 1552.76,376.786 \n",
       "  \"/>\n",
       "<polyline clip-path=\"url(#clip262)\" style=\"stroke:#000000; stroke-linecap:butt; stroke-linejoin:round; stroke-width:2; stroke-opacity:0.1; fill:none\" points=\"\n",
       "  229.662,247.11 1552.76,247.11 \n",
       "  \"/>\n",
       "<polyline clip-path=\"url(#clip262)\" style=\"stroke:#000000; stroke-linecap:butt; stroke-linejoin:round; stroke-width:2; stroke-opacity:0.1; fill:none\" points=\"\n",
       "  229.662,117.433 1552.76,117.433 \n",
       "  \"/>\n",
       "<polyline clip-path=\"url(#clip260)\" style=\"stroke:#000000; stroke-linecap:butt; stroke-linejoin:round; stroke-width:4; stroke-opacity:1; fill:none\" points=\"\n",
       "  229.662,651.7 229.662,101.872 \n",
       "  \"/>\n",
       "<polyline clip-path=\"url(#clip260)\" style=\"stroke:#000000; stroke-linecap:butt; stroke-linejoin:round; stroke-width:4; stroke-opacity:1; fill:none\" points=\"\n",
       "  229.662,636.139 245.539,636.139 \n",
       "  \"/>\n",
       "<polyline clip-path=\"url(#clip260)\" style=\"stroke:#000000; stroke-linecap:butt; stroke-linejoin:round; stroke-width:4; stroke-opacity:1; fill:none\" points=\"\n",
       "  229.662,506.462 245.539,506.462 \n",
       "  \"/>\n",
       "<polyline clip-path=\"url(#clip260)\" style=\"stroke:#000000; stroke-linecap:butt; stroke-linejoin:round; stroke-width:4; stroke-opacity:1; fill:none\" points=\"\n",
       "  229.662,376.786 245.539,376.786 \n",
       "  \"/>\n",
       "<polyline clip-path=\"url(#clip260)\" style=\"stroke:#000000; stroke-linecap:butt; stroke-linejoin:round; stroke-width:4; stroke-opacity:1; fill:none\" points=\"\n",
       "  229.662,247.11 245.539,247.11 \n",
       "  \"/>\n",
       "<polyline clip-path=\"url(#clip260)\" style=\"stroke:#000000; stroke-linecap:butt; stroke-linejoin:round; stroke-width:4; stroke-opacity:1; fill:none\" points=\"\n",
       "  229.662,117.433 245.539,117.433 \n",
       "  \"/>\n",
       "<path clip-path=\"url(#clip260)\" d=\"M118.325 621.937 Q114.713 621.937 112.885 625.502 Q111.079 629.044 111.079 636.173 Q111.079 643.28 112.885 646.845 Q114.713 650.386 118.325 650.386 Q121.959 650.386 123.764 646.845 Q125.593 643.28 125.593 636.173 Q125.593 629.044 123.764 625.502 Q121.959 621.937 118.325 621.937 M118.325 618.234 Q124.135 618.234 127.19 622.84 Q130.269 627.423 130.269 636.173 Q130.269 644.9 127.19 649.507 Q124.135 654.09 118.325 654.09 Q112.514 654.09 109.436 649.507 Q106.38 644.9 106.38 636.173 Q106.38 627.423 109.436 622.84 Q112.514 618.234 118.325 618.234 Z\" fill=\"#000000\" fill-rule=\"evenodd\" fill-opacity=\"1\" /><path clip-path=\"url(#clip260)\" d=\"M138.486 647.539 L143.371 647.539 L143.371 653.419 L138.486 653.419 L138.486 647.539 Z\" fill=\"#000000\" fill-rule=\"evenodd\" fill-opacity=\"1\" /><path clip-path=\"url(#clip260)\" d=\"M163.556 621.937 Q159.945 621.937 158.116 625.502 Q156.31 629.044 156.31 636.173 Q156.31 643.28 158.116 646.845 Q159.945 650.386 163.556 650.386 Q167.19 650.386 168.996 646.845 Q170.824 643.28 170.824 636.173 Q170.824 629.044 168.996 625.502 Q167.19 621.937 163.556 621.937 M163.556 618.234 Q169.366 618.234 172.421 622.84 Q175.5 627.423 175.5 636.173 Q175.5 644.9 172.421 649.507 Q169.366 654.09 163.556 654.09 Q157.746 654.09 154.667 649.507 Q151.611 644.9 151.611 636.173 Q151.611 627.423 154.667 622.84 Q157.746 618.234 163.556 618.234 Z\" fill=\"#000000\" fill-rule=\"evenodd\" fill-opacity=\"1\" /><path clip-path=\"url(#clip260)\" d=\"M193.718 621.937 Q190.107 621.937 188.278 625.502 Q186.472 629.044 186.472 636.173 Q186.472 643.28 188.278 646.845 Q190.107 650.386 193.718 650.386 Q197.352 650.386 199.157 646.845 Q200.986 643.28 200.986 636.173 Q200.986 629.044 199.157 625.502 Q197.352 621.937 193.718 621.937 M193.718 618.234 Q199.528 618.234 202.583 622.84 Q205.662 627.423 205.662 636.173 Q205.662 644.9 202.583 649.507 Q199.528 654.09 193.718 654.09 Q187.907 654.09 184.829 649.507 Q181.773 644.9 181.773 636.173 Q181.773 627.423 184.829 622.84 Q187.907 618.234 193.718 618.234 Z\" fill=\"#000000\" fill-rule=\"evenodd\" fill-opacity=\"1\" /><path clip-path=\"url(#clip260)\" d=\"M119.32 492.261 Q115.709 492.261 113.88 495.826 Q112.075 499.367 112.075 506.497 Q112.075 513.603 113.88 517.168 Q115.709 520.71 119.32 520.71 Q122.954 520.71 124.76 517.168 Q126.588 513.603 126.588 506.497 Q126.588 499.367 124.76 495.826 Q122.954 492.261 119.32 492.261 M119.32 488.557 Q125.13 488.557 128.186 493.164 Q131.264 497.747 131.264 506.497 Q131.264 515.224 128.186 519.83 Q125.13 524.414 119.32 524.414 Q113.51 524.414 110.431 519.83 Q107.376 515.224 107.376 506.497 Q107.376 497.747 110.431 493.164 Q113.51 488.557 119.32 488.557 Z\" fill=\"#000000\" fill-rule=\"evenodd\" fill-opacity=\"1\" /><path clip-path=\"url(#clip260)\" d=\"M139.482 517.863 L144.366 517.863 L144.366 523.742 L139.482 523.742 L139.482 517.863 Z\" fill=\"#000000\" fill-rule=\"evenodd\" fill-opacity=\"1\" /><path clip-path=\"url(#clip260)\" d=\"M158.579 519.807 L174.898 519.807 L174.898 523.742 L152.954 523.742 L152.954 519.807 Q155.616 517.053 160.199 512.423 Q164.806 507.77 165.986 506.428 Q168.232 503.904 169.111 502.168 Q170.014 500.409 170.014 498.719 Q170.014 495.965 168.07 494.229 Q166.148 492.492 163.047 492.492 Q160.847 492.492 158.394 493.256 Q155.963 494.02 153.185 495.571 L153.185 490.849 Q156.01 489.715 158.463 489.136 Q160.917 488.557 162.954 488.557 Q168.324 488.557 171.519 491.243 Q174.713 493.928 174.713 498.418 Q174.713 500.548 173.903 502.469 Q173.116 504.367 171.009 506.96 Q170.431 507.631 167.329 510.849 Q164.227 514.043 158.579 519.807 Z\" fill=\"#000000\" fill-rule=\"evenodd\" fill-opacity=\"1\" /><path clip-path=\"url(#clip260)\" d=\"M184.759 489.182 L203.116 489.182 L203.116 493.117 L189.042 493.117 L189.042 501.59 Q190.06 501.242 191.079 501.08 Q192.097 500.895 193.116 500.895 Q198.903 500.895 202.282 504.067 Q205.662 507.238 205.662 512.654 Q205.662 518.233 202.19 521.335 Q198.718 524.414 192.398 524.414 Q190.222 524.414 187.954 524.043 Q185.708 523.673 183.301 522.932 L183.301 518.233 Q185.384 519.367 187.607 519.923 Q189.829 520.478 192.306 520.478 Q196.31 520.478 198.648 518.372 Q200.986 516.266 200.986 512.654 Q200.986 509.043 198.648 506.937 Q196.31 504.83 192.306 504.83 Q190.431 504.83 188.556 505.247 Q186.704 505.664 184.759 506.543 L184.759 489.182 Z\" fill=\"#000000\" fill-rule=\"evenodd\" fill-opacity=\"1\" /><path clip-path=\"url(#clip260)\" d=\"M118.325 362.585 Q114.713 362.585 112.885 366.149 Q111.079 369.691 111.079 376.821 Q111.079 383.927 112.885 387.492 Q114.713 391.034 118.325 391.034 Q121.959 391.034 123.764 387.492 Q125.593 383.927 125.593 376.821 Q125.593 369.691 123.764 366.149 Q121.959 362.585 118.325 362.585 M118.325 358.881 Q124.135 358.881 127.19 363.487 Q130.269 368.071 130.269 376.821 Q130.269 385.548 127.19 390.154 Q124.135 394.737 118.325 394.737 Q112.514 394.737 109.436 390.154 Q106.38 385.548 106.38 376.821 Q106.38 368.071 109.436 363.487 Q112.514 358.881 118.325 358.881 Z\" fill=\"#000000\" fill-rule=\"evenodd\" fill-opacity=\"1\" /><path clip-path=\"url(#clip260)\" d=\"M138.486 388.186 L143.371 388.186 L143.371 394.066 L138.486 394.066 L138.486 388.186 Z\" fill=\"#000000\" fill-rule=\"evenodd\" fill-opacity=\"1\" /><path clip-path=\"url(#clip260)\" d=\"M153.602 359.506 L171.959 359.506 L171.959 363.441 L157.885 363.441 L157.885 371.913 Q158.903 371.566 159.922 371.404 Q160.94 371.219 161.959 371.219 Q167.746 371.219 171.125 374.39 Q174.505 377.561 174.505 382.978 Q174.505 388.557 171.033 391.659 Q167.56 394.737 161.241 394.737 Q159.065 394.737 156.797 394.367 Q154.551 393.997 152.144 393.256 L152.144 388.557 Q154.227 389.691 156.449 390.247 Q158.672 390.802 161.148 390.802 Q165.153 390.802 167.491 388.696 Q169.829 386.589 169.829 382.978 Q169.829 379.367 167.491 377.261 Q165.153 375.154 161.148 375.154 Q159.273 375.154 157.398 375.571 Q155.547 375.987 153.602 376.867 L153.602 359.506 Z\" fill=\"#000000\" fill-rule=\"evenodd\" fill-opacity=\"1\" /><path clip-path=\"url(#clip260)\" d=\"M193.718 362.585 Q190.107 362.585 188.278 366.149 Q186.472 369.691 186.472 376.821 Q186.472 383.927 188.278 387.492 Q190.107 391.034 193.718 391.034 Q197.352 391.034 199.157 387.492 Q200.986 383.927 200.986 376.821 Q200.986 369.691 199.157 366.149 Q197.352 362.585 193.718 362.585 M193.718 358.881 Q199.528 358.881 202.583 363.487 Q205.662 368.071 205.662 376.821 Q205.662 385.548 202.583 390.154 Q199.528 394.737 193.718 394.737 Q187.907 394.737 184.829 390.154 Q181.773 385.548 181.773 376.821 Q181.773 368.071 184.829 363.487 Q187.907 358.881 193.718 358.881 Z\" fill=\"#000000\" fill-rule=\"evenodd\" fill-opacity=\"1\" /><path clip-path=\"url(#clip260)\" d=\"M119.32 232.908 Q115.709 232.908 113.88 236.473 Q112.075 240.015 112.075 247.144 Q112.075 254.251 113.88 257.816 Q115.709 261.357 119.32 261.357 Q122.954 261.357 124.76 257.816 Q126.588 254.251 126.588 247.144 Q126.588 240.015 124.76 236.473 Q122.954 232.908 119.32 232.908 M119.32 229.205 Q125.13 229.205 128.186 233.811 Q131.264 238.394 131.264 247.144 Q131.264 255.871 128.186 260.478 Q125.13 265.061 119.32 265.061 Q113.51 265.061 110.431 260.478 Q107.376 255.871 107.376 247.144 Q107.376 238.394 110.431 233.811 Q113.51 229.205 119.32 229.205 Z\" fill=\"#000000\" fill-rule=\"evenodd\" fill-opacity=\"1\" /><path clip-path=\"url(#clip260)\" d=\"M139.482 258.51 L144.366 258.51 L144.366 264.39 L139.482 264.39 L139.482 258.51 Z\" fill=\"#000000\" fill-rule=\"evenodd\" fill-opacity=\"1\" /><path clip-path=\"url(#clip260)\" d=\"M153.371 229.83 L175.593 229.83 L175.593 231.82 L163.047 264.39 L158.162 264.39 L169.968 233.765 L153.371 233.765 L153.371 229.83 Z\" fill=\"#000000\" fill-rule=\"evenodd\" fill-opacity=\"1\" /><path clip-path=\"url(#clip260)\" d=\"M184.759 229.83 L203.116 229.83 L203.116 233.765 L189.042 233.765 L189.042 242.237 Q190.06 241.89 191.079 241.728 Q192.097 241.543 193.116 241.543 Q198.903 241.543 202.282 244.714 Q205.662 247.885 205.662 253.302 Q205.662 258.88 202.19 261.982 Q198.718 265.061 192.398 265.061 Q190.222 265.061 187.954 264.691 Q185.708 264.32 183.301 263.579 L183.301 258.88 Q185.384 260.015 187.607 260.57 Q189.829 261.126 192.306 261.126 Q196.31 261.126 198.648 259.019 Q200.986 256.913 200.986 253.302 Q200.986 249.691 198.648 247.584 Q196.31 245.478 192.306 245.478 Q190.431 245.478 188.556 245.894 Q186.704 246.311 184.759 247.191 L184.759 229.83 Z\" fill=\"#000000\" fill-rule=\"evenodd\" fill-opacity=\"1\" /><path clip-path=\"url(#clip260)\" d=\"M109.135 130.778 L116.774 130.778 L116.774 104.413 L108.463 106.079 L108.463 101.82 L116.727 100.153 L121.403 100.153 L121.403 130.778 L129.042 130.778 L129.042 134.713 L109.135 134.713 L109.135 130.778 Z\" fill=\"#000000\" fill-rule=\"evenodd\" fill-opacity=\"1\" /><path clip-path=\"url(#clip260)\" d=\"M138.486 128.834 L143.371 128.834 L143.371 134.713 L138.486 134.713 L138.486 128.834 Z\" fill=\"#000000\" fill-rule=\"evenodd\" fill-opacity=\"1\" /><path clip-path=\"url(#clip260)\" d=\"M163.556 103.232 Q159.945 103.232 158.116 106.797 Q156.31 110.338 156.31 117.468 Q156.31 124.574 158.116 128.139 Q159.945 131.681 163.556 131.681 Q167.19 131.681 168.996 128.139 Q170.824 124.574 170.824 117.468 Q170.824 110.338 168.996 106.797 Q167.19 103.232 163.556 103.232 M163.556 99.5283 Q169.366 99.5283 172.421 104.135 Q175.5 108.718 175.5 117.468 Q175.5 126.195 172.421 130.801 Q169.366 135.385 163.556 135.385 Q157.746 135.385 154.667 130.801 Q151.611 126.195 151.611 117.468 Q151.611 108.718 154.667 104.135 Q157.746 99.5283 163.556 99.5283 Z\" fill=\"#000000\" fill-rule=\"evenodd\" fill-opacity=\"1\" /><path clip-path=\"url(#clip260)\" d=\"M193.718 103.232 Q190.107 103.232 188.278 106.797 Q186.472 110.338 186.472 117.468 Q186.472 124.574 188.278 128.139 Q190.107 131.681 193.718 131.681 Q197.352 131.681 199.157 128.139 Q200.986 124.574 200.986 117.468 Q200.986 110.338 199.157 106.797 Q197.352 103.232 193.718 103.232 M193.718 99.5283 Q199.528 99.5283 202.583 104.135 Q205.662 108.718 205.662 117.468 Q205.662 126.195 202.583 130.801 Q199.528 135.385 193.718 135.385 Q187.907 135.385 184.829 130.801 Q181.773 126.195 181.773 117.468 Q181.773 108.718 184.829 104.135 Q187.907 99.5283 193.718 99.5283 Z\" fill=\"#000000\" fill-rule=\"evenodd\" fill-opacity=\"1\" /><path clip-path=\"url(#clip260)\" d=\"M20.6042 623.33 L20.6042 614.672 L60.358 593.602 L20.6042 593.602 L20.6042 587.364 L68.1242 587.364 L68.1242 596.021 L28.3703 617.091 L68.1242 617.091 L68.1242 623.33 L20.6042 623.33 Z\" fill=\"#000000\" fill-rule=\"evenodd\" fill-opacity=\"1\" /><path clip-path=\"url(#clip260)\" d=\"M54.0559 575.428 L32.4762 575.428 L32.4762 569.571 L53.8331 569.571 Q58.8939 569.571 61.4402 567.598 Q63.9546 565.625 63.9546 561.678 Q63.9546 556.935 60.9309 554.198 Q57.9072 551.429 52.6873 551.429 L32.4762 551.429 L32.4762 545.573 L68.1242 545.573 L68.1242 551.429 L62.6496 551.429 Q65.8962 553.562 67.4876 556.394 Q69.0472 559.195 69.0472 562.919 Q69.0472 569.062 65.2278 572.245 Q61.4083 575.428 54.0559 575.428 M31.6168 560.691 L31.6168 560.691 Z\" fill=\"#000000\" fill-rule=\"evenodd\" fill-opacity=\"1\" /><path clip-path=\"url(#clip260)\" d=\"M39.3193 505.755 Q35.3726 503.559 33.4947 500.503 Q31.6168 497.448 31.6168 493.31 Q31.6168 487.74 35.5317 484.717 Q39.4148 481.693 46.6081 481.693 L68.1242 481.693 L68.1242 487.581 L46.799 487.581 Q41.6746 487.581 39.192 489.395 Q36.7094 491.21 36.7094 494.933 Q36.7094 499.485 39.7331 502.127 Q42.7568 504.769 47.9767 504.769 L68.1242 504.769 L68.1242 510.657 L46.799 510.657 Q41.6428 510.657 39.192 512.471 Q36.7094 514.285 36.7094 518.073 Q36.7094 522.561 39.7649 525.202 Q42.7886 527.844 47.9767 527.844 L68.1242 527.844 L68.1242 533.732 L32.4762 533.732 L32.4762 527.844 L38.0144 527.844 Q34.736 525.839 33.1764 523.038 Q31.6168 520.237 31.6168 516.386 Q31.6168 512.503 33.5902 509.797 Q35.5636 507.06 39.3193 505.755 Z\" fill=\"#000000\" fill-rule=\"evenodd\" fill-opacity=\"1\" /><path clip-path=\"url(#clip260)\" d=\"M50.332 444.422 Q43.8708 444.422 40.2105 447.095 Q36.5184 449.737 36.5184 454.384 Q36.5184 459.031 40.2105 461.705 Q43.8708 464.346 50.332 464.346 Q56.7932 464.346 60.4853 461.705 Q64.1456 459.031 64.1456 454.384 Q64.1456 449.737 60.4853 447.095 Q56.7932 444.422 50.332 444.422 M37.8871 464.346 Q34.7042 462.5 33.1764 459.699 Q31.6168 456.867 31.6168 452.952 Q31.6168 446.459 36.7731 442.416 Q41.9293 438.342 50.332 438.342 Q58.7347 438.342 63.891 442.416 Q69.0472 446.459 69.0472 452.952 Q69.0472 456.867 67.5194 459.699 Q65.9598 462.5 62.777 464.346 L68.1242 464.346 L68.1242 470.235 L18.599 470.235 L18.599 464.346 L37.8871 464.346 Z\" fill=\"#000000\" fill-rule=\"evenodd\" fill-opacity=\"1\" /><path clip-path=\"url(#clip260)\" d=\"M48.8361 398.143 L51.7006 398.143 L51.7006 425.07 Q57.7481 424.688 60.9309 421.441 Q64.0819 418.163 64.0819 412.338 Q64.0819 408.965 63.2544 405.814 Q62.4269 402.631 60.7718 399.512 L66.3099 399.512 Q67.6467 402.663 68.347 405.973 Q69.0472 409.283 69.0472 412.689 Q69.0472 421.219 64.0819 426.216 Q59.1167 431.181 50.6503 431.181 Q41.8974 431.181 36.7731 426.47 Q31.6168 421.728 31.6168 413.707 Q31.6168 406.514 36.2638 402.344 Q40.8789 398.143 48.8361 398.143 M47.1173 403.999 Q42.3112 404.063 39.4466 406.705 Q36.5821 409.315 36.5821 413.643 Q36.5821 418.545 39.3512 421.505 Q42.1202 424.433 47.1492 424.879 L47.1173 403.999 Z\" fill=\"#000000\" fill-rule=\"evenodd\" fill-opacity=\"1\" /><path clip-path=\"url(#clip260)\" d=\"M37.9507 367.874 Q37.3778 368.861 37.1232 370.038 Q36.8367 371.184 36.8367 372.585 Q36.8367 377.55 40.0832 380.223 Q43.2979 382.865 49.3453 382.865 L68.1242 382.865 L68.1242 388.754 L32.4762 388.754 L32.4762 382.865 L38.0144 382.865 Q34.7679 381.019 33.2083 378.059 Q31.6168 375.099 31.6168 370.866 Q31.6168 370.261 31.7123 369.529 Q31.776 368.797 31.9351 367.906 L37.9507 367.874 Z\" fill=\"#000000\" fill-rule=\"evenodd\" fill-opacity=\"1\" /><path clip-path=\"url(#clip260)\" d=\"M36.5821 327.197 Q36.5821 331.908 40.2742 334.645 Q43.9345 337.382 50.332 337.382 Q56.7295 337.382 60.4217 334.677 Q64.0819 331.94 64.0819 327.197 Q64.0819 322.518 60.3898 319.781 Q56.6977 317.044 50.332 317.044 Q43.9981 317.044 40.306 319.781 Q36.5821 322.518 36.5821 327.197 M31.6168 327.197 Q31.6168 319.558 36.5821 315.198 Q41.5473 310.837 50.332 310.837 Q59.0849 310.837 64.0819 315.198 Q69.0472 319.558 69.0472 327.197 Q69.0472 334.868 64.0819 339.228 Q59.0849 343.557 50.332 343.557 Q41.5473 343.557 36.5821 339.228 Q31.6168 334.868 31.6168 327.197 Z\" fill=\"#000000\" fill-rule=\"evenodd\" fill-opacity=\"1\" /><path clip-path=\"url(#clip260)\" d=\"M18.599 283.083 L23.4687 283.083 L23.4687 288.685 Q23.4687 291.836 24.7419 293.077 Q26.015 294.286 29.3252 294.286 L32.4762 294.286 L32.4762 284.642 L37.0277 284.642 L37.0277 294.286 L68.1242 294.286 L68.1242 300.175 L37.0277 300.175 L37.0277 305.777 L32.4762 305.777 L32.4762 300.175 L29.9936 300.175 Q24.0416 300.175 21.3362 297.406 Q18.599 294.637 18.599 288.621 L18.599 283.083 Z\" fill=\"#000000\" fill-rule=\"evenodd\" fill-opacity=\"1\" /><path clip-path=\"url(#clip260)\" d=\"M33.8448 231.807 L39.3193 231.807 Q37.9507 234.29 37.2823 236.804 Q36.5821 239.287 36.5821 241.833 Q36.5821 247.53 40.2105 250.681 Q43.8072 253.832 50.332 253.832 Q56.8569 253.832 60.4853 250.681 Q64.0819 247.53 64.0819 241.833 Q64.0819 239.287 63.4135 236.804 Q62.7133 234.29 61.3447 231.807 L66.7555 231.807 Q67.9014 234.258 68.4743 236.9 Q69.0472 239.51 69.0472 242.47 Q69.0472 250.522 63.9864 255.265 Q58.9257 260.007 50.332 260.007 Q41.611 260.007 36.6139 255.233 Q31.6168 250.427 31.6168 242.088 Q31.6168 239.382 32.1897 236.804 Q32.7308 234.226 33.8448 231.807 Z\" fill=\"#000000\" fill-rule=\"evenodd\" fill-opacity=\"1\" /><path clip-path=\"url(#clip260)\" d=\"M50.2047 205.421 Q50.2047 212.519 51.8279 215.256 Q53.4512 217.993 57.3661 217.993 Q60.4853 217.993 62.3314 215.956 Q64.1456 213.888 64.1456 210.355 Q64.1456 205.485 60.7081 202.557 Q57.2388 199.597 51.5097 199.597 L50.2047 199.597 L50.2047 205.421 M47.7857 193.74 L68.1242 193.74 L68.1242 199.597 L62.7133 199.597 Q65.9598 201.602 67.5194 204.594 Q69.0472 207.586 69.0472 211.914 Q69.0472 217.389 65.9916 220.635 Q62.9043 223.85 57.7481 223.85 Q51.7325 223.85 48.6769 219.839 Q45.6214 215.797 45.6214 207.808 L45.6214 199.597 L45.0485 199.597 Q41.0062 199.597 38.8101 202.27 Q36.5821 204.912 36.5821 209.718 Q36.5821 212.774 37.3141 215.67 Q38.0462 218.566 39.5103 221.24 L34.0995 221.24 Q32.8581 218.025 32.2534 215.002 Q31.6168 211.978 31.6168 209.113 Q31.6168 201.379 35.6272 197.56 Q39.6376 193.74 47.7857 193.74 Z\" fill=\"#000000\" fill-rule=\"evenodd\" fill-opacity=\"1\" /><path clip-path=\"url(#clip260)\" d=\"M37.9507 161.02 Q37.3778 162.007 37.1232 163.185 Q36.8367 164.331 36.8367 165.731 Q36.8367 170.696 40.0832 173.37 Q43.2979 176.012 49.3453 176.012 L68.1242 176.012 L68.1242 181.9 L32.4762 181.9 L32.4762 176.012 L38.0144 176.012 Q34.7679 174.166 33.2083 171.205 Q31.6168 168.245 31.6168 164.012 Q31.6168 163.407 31.7123 162.675 Q31.776 161.943 31.9351 161.052 L37.9507 161.02 Z\" fill=\"#000000\" fill-rule=\"evenodd\" fill-opacity=\"1\" /><path clip-path=\"url(#clip260)\" d=\"M33.5265 132.152 L39.0647 132.152 Q37.7916 134.635 37.155 137.308 Q36.5184 139.982 36.5184 142.846 Q36.5184 147.207 37.8552 149.403 Q39.192 151.567 41.8656 151.567 Q43.9026 151.567 45.0803 150.008 Q46.2261 148.448 47.2765 143.737 L47.7221 141.732 Q49.0589 135.494 51.5097 132.884 Q53.9286 130.242 58.2891 130.242 Q63.2544 130.242 66.1508 134.189 Q69.0472 138.104 69.0472 144.979 Q69.0472 147.843 68.4743 150.963 Q67.9332 154.05 66.8192 157.487 L60.7718 157.487 Q62.4587 154.241 63.318 151.09 Q64.1456 147.939 64.1456 144.851 Q64.1456 140.714 62.7451 138.486 Q61.3129 136.258 58.7347 136.258 Q56.3476 136.258 55.0745 137.881 Q53.8013 139.472 52.6237 144.915 L52.1462 146.952 Q51.0004 152.395 48.6451 154.814 Q46.258 157.233 42.1202 157.233 Q37.0913 157.233 34.3541 153.668 Q31.6168 150.103 31.6168 143.546 Q31.6168 140.3 32.0943 137.435 Q32.5717 134.571 33.5265 132.152 Z\" fill=\"#000000\" fill-rule=\"evenodd\" fill-opacity=\"1\" /><path clip-path=\"url(#clip260)\" d=\"M325.24 10.368 L369.094 10.368 L369.094 16.2707 L350.691 16.2707 L350.691 62.208 L343.642 62.208 L343.642 16.2707 L325.24 16.2707 L325.24 10.368 Z\" fill=\"#000000\" fill-rule=\"evenodd\" fill-opacity=\"1\" /><path clip-path=\"url(#clip260)\" d=\"M373.399 23.3193 L379.788 23.3193 L379.788 62.208 L373.399 62.208 L373.399 23.3193 M373.399 8.18051 L379.788 8.18051 L379.788 16.2707 L373.399 16.2707 L373.399 8.18051 Z\" fill=\"#000000\" fill-rule=\"evenodd\" fill-opacity=\"1\" /><path clip-path=\"url(#clip260)\" d=\"M423.434 30.7846 Q425.83 26.479 429.163 24.4304 Q432.496 22.3818 437.01 22.3818 Q443.086 22.3818 446.385 26.6526 Q449.684 30.8887 449.684 38.7359 L449.684 62.208 L443.26 62.208 L443.26 38.9442 Q443.26 33.354 441.281 30.6457 Q439.302 27.9374 435.239 27.9374 Q430.274 27.9374 427.392 31.2359 Q424.51 34.5345 424.51 40.229 L424.51 62.208 L418.087 62.208 L418.087 38.9442 Q418.087 33.3193 416.107 30.6457 Q414.128 27.9374 409.996 27.9374 Q405.1 27.9374 402.219 31.2707 Q399.337 34.5693 399.337 40.229 L399.337 62.208 L392.913 62.208 L392.913 23.3193 L399.337 23.3193 L399.337 29.361 Q401.524 25.7846 404.58 24.0832 Q407.635 22.3818 411.837 22.3818 Q416.073 22.3818 419.024 24.5346 Q422.01 26.6874 423.434 30.7846 Z\" fill=\"#000000\" fill-rule=\"evenodd\" fill-opacity=\"1\" /><path clip-path=\"url(#clip260)\" d=\"M495.69 41.1664 L495.69 44.2914 L466.315 44.2914 Q466.732 50.8886 470.274 54.3608 Q473.85 57.7983 480.204 57.7983 Q483.885 57.7983 487.322 56.8955 Q490.794 55.9928 494.197 54.1872 L494.197 60.2288 Q490.76 61.6872 487.149 62.4511 Q483.538 63.2149 479.822 63.2149 Q470.517 63.2149 465.065 57.7983 Q459.649 52.3817 459.649 43.1456 Q459.649 33.597 464.788 28.0068 Q469.961 22.3818 478.711 22.3818 Q486.558 22.3818 491.107 27.4512 Q495.69 32.4859 495.69 41.1664 M489.301 39.2915 Q489.232 34.0484 486.35 30.9234 Q483.503 27.7985 478.781 27.7985 Q473.433 27.7985 470.204 30.8193 Q467.01 33.8401 466.524 39.3262 L489.301 39.2915 Z\" fill=\"#000000\" fill-rule=\"evenodd\" fill-opacity=\"1\" /><path clip-path=\"url(#clip260)\" d=\"M535.1 12.2777 L535.1 23.3193 L548.259 23.3193 L548.259 28.2846 L535.1 28.2846 L535.1 49.3956 Q535.1 54.1525 536.384 55.5066 Q537.704 56.8608 541.697 56.8608 L548.259 56.8608 L548.259 62.208 L541.697 62.208 Q534.301 62.208 531.489 59.465 Q528.676 56.6872 528.676 49.3956 L528.676 28.2846 L523.989 28.2846 L523.989 23.3193 L528.676 23.3193 L528.676 12.2777 L535.1 12.2777 Z\" fill=\"#000000\" fill-rule=\"evenodd\" fill-opacity=\"1\" /><path clip-path=\"url(#clip260)\" d=\"M574.336 42.6595 Q566.593 42.6595 563.607 44.4303 Q560.62 46.2011 560.62 50.472 Q560.62 53.8747 562.843 55.8886 Q565.1 57.8677 568.954 57.8677 Q574.266 57.8677 577.461 54.1178 Q580.69 50.3331 580.69 44.0831 L580.69 42.6595 L574.336 42.6595 M587.079 40.0206 L587.079 62.208 L580.69 62.208 L580.69 56.3053 Q578.502 59.8469 575.238 61.5483 Q571.975 63.2149 567.252 63.2149 Q561.28 63.2149 557.739 59.8816 Q554.232 56.5136 554.232 50.8886 Q554.232 44.3262 558.607 40.9928 Q563.016 37.6595 571.732 37.6595 L580.69 37.6595 L580.69 37.0345 Q580.69 32.6248 577.773 30.229 Q574.891 27.7985 569.648 27.7985 Q566.315 27.7985 563.155 28.5971 Q559.995 29.3957 557.079 30.9929 L557.079 25.0901 Q560.586 23.736 563.884 23.0763 Q567.183 22.3818 570.308 22.3818 Q578.745 22.3818 582.912 26.7568 Q587.079 31.1318 587.079 40.0206 Z\" fill=\"#000000\" fill-rule=\"evenodd\" fill-opacity=\"1\" /><path clip-path=\"url(#clip260)\" d=\"M599.995 8.18051 L606.419 8.18051 L606.419 40.0901 L625.481 23.3193 L633.641 23.3193 L613.016 41.5137 L634.509 62.208 L626.176 62.208 L606.419 43.215 L606.419 62.208 L599.995 62.208 L599.995 8.18051 Z\" fill=\"#000000\" fill-rule=\"evenodd\" fill-opacity=\"1\" /><path clip-path=\"url(#clip260)\" d=\"M672.148 41.1664 L672.148 44.2914 L642.773 44.2914 Q643.189 50.8886 646.731 54.3608 Q650.307 57.7983 656.662 57.7983 Q660.342 57.7983 663.78 56.8955 Q667.252 55.9928 670.655 54.1872 L670.655 60.2288 Q667.217 61.6872 663.606 62.4511 Q659.995 63.2149 656.28 63.2149 Q646.974 63.2149 641.523 57.7983 Q636.106 52.3817 636.106 43.1456 Q636.106 33.597 641.245 28.0068 Q646.419 22.3818 655.169 22.3818 Q663.016 22.3818 667.564 27.4512 Q672.148 32.4859 672.148 41.1664 M665.759 39.2915 Q665.689 34.0484 662.807 30.9234 Q659.96 27.7985 655.238 27.7985 Q649.891 27.7985 646.662 30.8193 Q643.467 33.8401 642.981 39.3262 L665.759 39.2915 Z\" fill=\"#000000\" fill-rule=\"evenodd\" fill-opacity=\"1\" /><path clip-path=\"url(#clip260)\" d=\"M714.96 38.7359 L714.96 62.208 L708.571 62.208 L708.571 38.9442 Q708.571 33.4234 706.418 30.6804 Q704.266 27.9374 699.96 27.9374 Q694.786 27.9374 691.8 31.2359 Q688.814 34.5345 688.814 40.229 L688.814 62.208 L682.391 62.208 L682.391 23.3193 L688.814 23.3193 L688.814 29.361 Q691.106 25.854 694.196 24.1179 Q697.321 22.3818 701.384 22.3818 Q708.085 22.3818 711.522 26.5485 Q714.96 30.6804 714.96 38.7359 Z\" fill=\"#000000\" fill-rule=\"evenodd\" fill-opacity=\"1\" /><path clip-path=\"url(#clip260)\" d=\"M756.626 12.2777 L756.626 23.3193 L769.786 23.3193 L769.786 28.2846 L756.626 28.2846 L756.626 49.3956 Q756.626 54.1525 757.911 55.5066 Q759.231 56.8608 763.224 56.8608 L769.786 56.8608 L769.786 62.208 L763.224 62.208 Q755.828 62.208 753.015 59.465 Q750.203 56.6872 750.203 49.3956 L750.203 28.2846 L745.515 28.2846 L745.515 23.3193 L750.203 23.3193 L750.203 12.2777 L756.626 12.2777 Z\" fill=\"#000000\" fill-rule=\"evenodd\" fill-opacity=\"1\" /><path clip-path=\"url(#clip260)\" d=\"M793.258 27.7985 Q788.119 27.7985 785.133 31.8262 Q782.147 35.8193 782.147 42.7984 Q782.147 49.7775 785.098 53.8053 Q788.085 57.7983 793.258 57.7983 Q798.362 57.7983 801.348 53.7705 Q804.334 49.7428 804.334 42.7984 Q804.334 35.8887 801.348 31.8609 Q798.362 27.7985 793.258 27.7985 M793.258 22.3818 Q801.591 22.3818 806.348 27.7985 Q811.105 33.2151 811.105 42.7984 Q811.105 52.3469 806.348 57.7983 Q801.591 63.2149 793.258 63.2149 Q784.89 63.2149 780.133 57.7983 Q775.411 52.3469 775.411 42.7984 Q775.411 33.2151 780.133 27.7985 Q784.89 22.3818 793.258 22.3818 Z\" fill=\"#000000\" fill-rule=\"evenodd\" fill-opacity=\"1\" /><path clip-path=\"url(#clip260)\" d=\"M850.619 12.2777 L850.619 23.3193 L863.779 23.3193 L863.779 28.2846 L850.619 28.2846 L850.619 49.3956 Q850.619 54.1525 851.904 55.5066 Q853.223 56.8608 857.216 56.8608 L863.779 56.8608 L863.779 62.208 L857.216 62.208 Q849.82 62.208 847.008 59.465 Q844.195 56.6872 844.195 49.3956 L844.195 28.2846 L839.508 28.2846 L839.508 23.3193 L844.195 23.3193 L844.195 12.2777 L850.619 12.2777 Z\" fill=\"#000000\" fill-rule=\"evenodd\" fill-opacity=\"1\" /><path clip-path=\"url(#clip260)\" d=\"M894.716 29.2915 Q893.64 28.6665 892.355 28.3887 Q891.105 28.0762 889.577 28.0762 Q884.16 28.0762 881.244 31.6179 Q878.362 35.1248 878.362 41.722 L878.362 62.208 L871.938 62.208 L871.938 23.3193 L878.362 23.3193 L878.362 29.361 Q880.376 25.8193 883.605 24.1179 Q886.834 22.3818 891.452 22.3818 Q892.112 22.3818 892.91 22.486 Q893.709 22.5554 894.681 22.729 L894.716 29.2915 Z\" fill=\"#000000\" fill-rule=\"evenodd\" fill-opacity=\"1\" /><path clip-path=\"url(#clip260)\" d=\"M919.091 42.6595 Q911.348 42.6595 908.362 44.4303 Q905.376 46.2011 905.376 50.472 Q905.376 53.8747 907.598 55.8886 Q909.855 57.8677 913.709 57.8677 Q919.021 57.8677 922.216 54.1178 Q925.445 50.3331 925.445 44.0831 L925.445 42.6595 L919.091 42.6595 M931.834 40.0206 L931.834 62.208 L925.445 62.208 L925.445 56.3053 Q923.257 59.8469 919.994 61.5483 Q916.73 63.2149 912.007 63.2149 Q906.035 63.2149 902.494 59.8816 Q898.987 56.5136 898.987 50.8886 Q898.987 44.3262 903.362 40.9928 Q907.771 37.6595 916.487 37.6595 L925.445 37.6595 L925.445 37.0345 Q925.445 32.6248 922.528 30.229 Q919.646 27.7985 914.403 27.7985 Q911.07 27.7985 907.91 28.5971 Q904.751 29.3957 901.834 30.9929 L901.834 25.0901 Q905.341 23.736 908.639 23.0763 Q911.938 22.3818 915.063 22.3818 Q923.5 22.3818 927.667 26.7568 Q931.834 31.1318 931.834 40.0206 Z\" fill=\"#000000\" fill-rule=\"evenodd\" fill-opacity=\"1\" /><path clip-path=\"url(#clip260)\" d=\"M940.41 23.3193 L947.181 23.3193 L959.334 55.958 L971.486 23.3193 L978.257 23.3193 L963.674 62.208 L954.993 62.208 L940.41 23.3193 Z\" fill=\"#000000\" fill-rule=\"evenodd\" fill-opacity=\"1\" /><path clip-path=\"url(#clip260)\" d=\"M1020.34 41.1664 L1020.34 44.2914 L990.965 44.2914 Q991.382 50.8886 994.924 54.3608 Q998.5 57.7983 1004.85 57.7983 Q1008.53 57.7983 1011.97 56.8955 Q1015.44 55.9928 1018.85 54.1872 L1018.85 60.2288 Q1015.41 61.6872 1011.8 62.4511 Q1008.19 63.2149 1004.47 63.2149 Q995.167 63.2149 989.715 57.7983 Q984.299 52.3817 984.299 43.1456 Q984.299 33.597 989.438 28.0068 Q994.611 22.3818 1003.36 22.3818 Q1011.21 22.3818 1015.76 27.4512 Q1020.34 32.4859 1020.34 41.1664 M1013.95 39.2915 Q1013.88 34.0484 1011 30.9234 Q1008.15 27.7985 1003.43 27.7985 Q998.083 27.7985 994.854 30.8193 Q991.66 33.8401 991.174 39.3262 L1013.95 39.2915 Z\" fill=\"#000000\" fill-rule=\"evenodd\" fill-opacity=\"1\" /><path clip-path=\"url(#clip260)\" d=\"M1030.83 8.18051 L1037.22 8.18051 L1037.22 62.208 L1030.83 62.208 L1030.83 8.18051 Z\" fill=\"#000000\" fill-rule=\"evenodd\" fill-opacity=\"1\" /><path clip-path=\"url(#clip260)\" d=\"M1092.87 8.18051 L1092.87 13.493 L1086.76 13.493 Q1083.33 13.493 1081.97 14.8819 Q1080.65 16.2707 1080.65 19.8818 L1080.65 23.3193 L1091.17 23.3193 L1091.17 28.2846 L1080.65 28.2846 L1080.65 62.208 L1074.23 62.208 L1074.23 28.2846 L1068.12 28.2846 L1068.12 23.3193 L1074.23 23.3193 L1074.23 20.611 Q1074.23 14.118 1077.25 11.1666 Q1080.27 8.18051 1086.83 8.18051 L1092.87 8.18051 Z\" fill=\"#000000\" fill-rule=\"evenodd\" fill-opacity=\"1\" /><path clip-path=\"url(#clip260)\" d=\"M1120.76 29.2915 Q1119.68 28.6665 1118.4 28.3887 Q1117.15 28.0762 1115.62 28.0762 Q1110.2 28.0762 1107.28 31.6179 Q1104.4 35.1248 1104.4 41.722 L1104.4 62.208 L1097.98 62.208 L1097.98 23.3193 L1104.4 23.3193 L1104.4 29.361 Q1106.42 25.8193 1109.65 24.1179 Q1112.87 22.3818 1117.49 22.3818 Q1118.15 22.3818 1118.95 22.486 Q1119.75 22.5554 1120.72 22.729 L1120.76 29.2915 Z\" fill=\"#000000\" fill-rule=\"evenodd\" fill-opacity=\"1\" /><path clip-path=\"url(#clip260)\" d=\"M1140.96 27.7985 Q1135.83 27.7985 1132.84 31.8262 Q1129.85 35.8193 1129.85 42.7984 Q1129.85 49.7775 1132.8 53.8053 Q1135.79 57.7983 1140.96 57.7983 Q1146.07 57.7983 1149.05 53.7705 Q1152.04 49.7428 1152.04 42.7984 Q1152.04 35.8887 1149.05 31.8609 Q1146.07 27.7985 1140.96 27.7985 M1140.96 22.3818 Q1149.3 22.3818 1154.05 27.7985 Q1158.81 33.2151 1158.81 42.7984 Q1158.81 52.3469 1154.05 57.7983 Q1149.3 63.2149 1140.96 63.2149 Q1132.6 63.2149 1127.84 57.7983 Q1123.12 52.3469 1123.12 42.7984 Q1123.12 33.2151 1127.84 27.7985 Q1132.6 22.3818 1140.96 22.3818 Z\" fill=\"#000000\" fill-rule=\"evenodd\" fill-opacity=\"1\" /><path clip-path=\"url(#clip260)\" d=\"M1199.68 30.7846 Q1202.08 26.479 1205.41 24.4304 Q1208.74 22.3818 1213.26 22.3818 Q1219.33 22.3818 1222.63 26.6526 Q1225.93 30.8887 1225.93 38.7359 L1225.93 62.208 L1219.51 62.208 L1219.51 38.9442 Q1219.51 33.354 1217.53 30.6457 Q1215.55 27.9374 1211.49 27.9374 Q1206.52 27.9374 1203.64 31.2359 Q1200.76 34.5345 1200.76 40.229 L1200.76 62.208 L1194.33 62.208 L1194.33 38.9442 Q1194.33 33.3193 1192.35 30.6457 Q1190.37 27.9374 1186.24 27.9374 Q1181.35 27.9374 1178.46 31.2707 Q1175.58 34.5693 1175.58 40.229 L1175.58 62.208 L1169.16 62.208 L1169.16 23.3193 L1175.58 23.3193 L1175.58 29.361 Q1177.77 25.7846 1180.83 24.0832 Q1183.88 22.3818 1188.08 22.3818 Q1192.32 22.3818 1195.27 24.5346 Q1198.26 26.6874 1199.68 30.7846 Z\" fill=\"#000000\" fill-rule=\"evenodd\" fill-opacity=\"1\" /><path clip-path=\"url(#clip260)\" d=\"M1263.39 56.3053 L1274.85 56.3053 L1274.85 16.7569 L1262.39 19.2568 L1262.39 12.868 L1274.78 10.368 L1281.8 10.368 L1281.8 56.3053 L1293.26 56.3053 L1293.26 62.208 L1263.39 62.208 L1263.39 56.3053 Z\" fill=\"#000000\" fill-rule=\"evenodd\" fill-opacity=\"1\" /><path clip-path=\"url(#clip260)\" d=\"M1335.44 12.2777 L1335.44 23.3193 L1348.6 23.3193 L1348.6 28.2846 L1335.44 28.2846 L1335.44 49.3956 Q1335.44 54.1525 1336.73 55.5066 Q1338.05 56.8608 1342.04 56.8608 L1348.6 56.8608 L1348.6 62.208 L1342.04 62.208 Q1334.64 62.208 1331.83 59.465 Q1329.02 56.6872 1329.02 49.3956 L1329.02 28.2846 L1324.33 28.2846 L1324.33 23.3193 L1329.02 23.3193 L1329.02 12.2777 L1335.44 12.2777 Z\" fill=\"#000000\" fill-rule=\"evenodd\" fill-opacity=\"1\" /><path clip-path=\"url(#clip260)\" d=\"M1372.07 27.7985 Q1366.94 27.7985 1363.95 31.8262 Q1360.96 35.8193 1360.96 42.7984 Q1360.96 49.7775 1363.91 53.8053 Q1366.9 57.7983 1372.07 57.7983 Q1377.18 57.7983 1380.16 53.7705 Q1383.15 49.7428 1383.15 42.7984 Q1383.15 35.8887 1380.16 31.8609 Q1377.18 27.7985 1372.07 27.7985 M1372.07 22.3818 Q1380.41 22.3818 1385.16 27.7985 Q1389.92 33.2151 1389.92 42.7984 Q1389.92 52.3469 1385.16 57.7983 Q1380.41 63.2149 1372.07 63.2149 Q1363.71 63.2149 1358.95 57.7983 Q1354.23 52.3469 1354.23 42.7984 Q1354.23 33.2151 1358.95 27.7985 Q1363.71 22.3818 1372.07 22.3818 Z\" fill=\"#000000\" fill-rule=\"evenodd\" fill-opacity=\"1\" /><path clip-path=\"url(#clip260)\" d=\"M1439.89 33.4929 Q1435.16 33.4929 1432.39 36.722 Q1429.64 39.9512 1429.64 45.5761 Q1429.64 51.1664 1432.39 54.4303 Q1435.16 57.6594 1439.89 57.6594 Q1444.61 57.6594 1447.35 54.4303 Q1450.13 51.1664 1450.13 45.5761 Q1450.13 39.9512 1447.35 36.722 Q1444.61 33.4929 1439.89 33.4929 M1453.81 11.5138 L1453.81 17.9027 Q1451.17 16.6527 1448.46 15.993 Q1445.79 15.3333 1443.15 15.3333 Q1436.21 15.3333 1432.53 20.0207 Q1428.88 24.7082 1428.36 34.1873 Q1430.41 31.1665 1433.5 29.5693 Q1436.59 27.9374 1440.3 27.9374 Q1448.12 27.9374 1452.63 32.6943 Q1457.18 37.4165 1457.18 45.5761 Q1457.18 53.5622 1452.46 58.3886 Q1447.73 63.2149 1439.89 63.2149 Q1430.89 63.2149 1426.14 56.34 Q1421.38 49.4303 1421.38 36.3401 Q1421.38 24.0485 1427.21 16.7569 Q1433.05 9.43051 1442.87 9.43051 Q1445.51 9.43051 1448.19 9.95134 Q1450.89 10.4722 1453.81 11.5138 Z\" fill=\"#000000\" fill-rule=\"evenodd\" fill-opacity=\"1\" /><path clip-path=\"url(#clip262)\" d=\"\n",
       "M302.435 117.433 L302.435 636.139 L537.944 636.139 L537.944 117.433 L302.435 117.433 L302.435 117.433  Z\n",
       "  \" fill=\"#009af9\" fill-rule=\"evenodd\" fill-opacity=\"1\"/>\n",
       "<polyline clip-path=\"url(#clip262)\" style=\"stroke:#000000; stroke-linecap:butt; stroke-linejoin:round; stroke-width:4; stroke-opacity:1; fill:none\" points=\"\n",
       "  302.435,117.433 302.435,636.139 537.944,636.139 537.944,117.433 302.435,117.433 \n",
       "  \"/>\n",
       "<path clip-path=\"url(#clip262)\" d=\"\n",
       "M537.944 636.139 L537.944 636.139 L773.454 636.139 L773.454 636.139 L537.944 636.139 L537.944 636.139  Z\n",
       "  \" fill=\"#009af9\" fill-rule=\"evenodd\" fill-opacity=\"1\"/>\n",
       "<polyline clip-path=\"url(#clip262)\" style=\"stroke:#000000; stroke-linecap:butt; stroke-linejoin:round; stroke-width:4; stroke-opacity:1; fill:none\" points=\"\n",
       "  537.944,636.139 537.944,636.139 773.454,636.139 537.944,636.139 \n",
       "  \"/>\n",
       "<path clip-path=\"url(#clip262)\" d=\"\n",
       "M773.454 117.433 L773.454 636.139 L1008.96 636.139 L1008.96 117.433 L773.454 117.433 L773.454 117.433  Z\n",
       "  \" fill=\"#009af9\" fill-rule=\"evenodd\" fill-opacity=\"1\"/>\n",
       "<polyline clip-path=\"url(#clip262)\" style=\"stroke:#000000; stroke-linecap:butt; stroke-linejoin:round; stroke-width:4; stroke-opacity:1; fill:none\" points=\"\n",
       "  773.454,117.433 773.454,636.139 1008.96,636.139 1008.96,117.433 773.454,117.433 \n",
       "  \"/>\n",
       "<path clip-path=\"url(#clip262)\" d=\"\n",
       "M1008.96 636.139 L1008.96 636.139 L1244.47 636.139 L1244.47 636.139 L1008.96 636.139 L1008.96 636.139  Z\n",
       "  \" fill=\"#009af9\" fill-rule=\"evenodd\" fill-opacity=\"1\"/>\n",
       "<polyline clip-path=\"url(#clip262)\" style=\"stroke:#000000; stroke-linecap:butt; stroke-linejoin:round; stroke-width:4; stroke-opacity:1; fill:none\" points=\"\n",
       "  1008.96,636.139 1008.96,636.139 1244.47,636.139 1008.96,636.139 \n",
       "  \"/>\n",
       "<path clip-path=\"url(#clip262)\" d=\"\n",
       "M1244.47 117.433 L1244.47 636.139 L1479.98 636.139 L1479.98 117.433 L1244.47 117.433 L1244.47 117.433  Z\n",
       "  \" fill=\"#009af9\" fill-rule=\"evenodd\" fill-opacity=\"1\"/>\n",
       "<polyline clip-path=\"url(#clip262)\" style=\"stroke:#000000; stroke-linecap:butt; stroke-linejoin:round; stroke-width:4; stroke-opacity:1; fill:none\" points=\"\n",
       "  1244.47,117.433 1244.47,636.139 1479.98,636.139 1479.98,117.433 1244.47,117.433 \n",
       "  \"/>\n",
       "</svg>\n"
      ]
     },
     "metadata": {},
     "output_type": "display_data"
    },
    {
     "data": {
      "image/svg+xml": [
       "<?xml version=\"1.0\" encoding=\"utf-8\"?>\n",
       "<svg xmlns=\"http://www.w3.org/2000/svg\" xmlns:xlink=\"http://www.w3.org/1999/xlink\" width=\"400\" height=\"200\" viewBox=\"0 0 1600 800\">\n",
       "<defs>\n",
       "  <clipPath id=\"clip300\">\n",
       "    <rect x=\"0\" y=\"0\" width=\"1600\" height=\"800\"/>\n",
       "  </clipPath>\n",
       "</defs>\n",
       "<path clip-path=\"url(#clip300)\" d=\"\n",
       "M0 800 L1600 800 L1600 0 L0 0  Z\n",
       "  \" fill=\"#ffffff\" fill-rule=\"evenodd\" fill-opacity=\"1\"/>\n",
       "<defs>\n",
       "  <clipPath id=\"clip301\">\n",
       "    <rect x=\"320\" y=\"0\" width=\"1121\" height=\"800\"/>\n",
       "  </clipPath>\n",
       "</defs>\n",
       "<path clip-path=\"url(#clip300)\" d=\"\n",
       "M184.084 651.7 L1552.76 651.7 L1552.76 101.872 L184.084 101.872  Z\n",
       "  \" fill=\"#ffffff\" fill-rule=\"evenodd\" fill-opacity=\"1\"/>\n",
       "<defs>\n",
       "  <clipPath id=\"clip302\">\n",
       "    <rect x=\"184\" y=\"101\" width=\"1370\" height=\"551\"/>\n",
       "  </clipPath>\n",
       "</defs>\n",
       "<polyline clip-path=\"url(#clip302)\" style=\"stroke:#000000; stroke-linecap:butt; stroke-linejoin:round; stroke-width:2; stroke-opacity:0.1; fill:none\" points=\"\n",
       "  360.872,651.7 360.872,101.872 \n",
       "  \"/>\n",
       "<polyline clip-path=\"url(#clip302)\" style=\"stroke:#000000; stroke-linecap:butt; stroke-linejoin:round; stroke-width:2; stroke-opacity:0.1; fill:none\" points=\"\n",
       "  563.891,651.7 563.891,101.872 \n",
       "  \"/>\n",
       "<polyline clip-path=\"url(#clip302)\" style=\"stroke:#000000; stroke-linecap:butt; stroke-linejoin:round; stroke-width:2; stroke-opacity:0.1; fill:none\" points=\"\n",
       "  766.91,651.7 766.91,101.872 \n",
       "  \"/>\n",
       "<polyline clip-path=\"url(#clip302)\" style=\"stroke:#000000; stroke-linecap:butt; stroke-linejoin:round; stroke-width:2; stroke-opacity:0.1; fill:none\" points=\"\n",
       "  969.929,651.7 969.929,101.872 \n",
       "  \"/>\n",
       "<polyline clip-path=\"url(#clip302)\" style=\"stroke:#000000; stroke-linecap:butt; stroke-linejoin:round; stroke-width:2; stroke-opacity:0.1; fill:none\" points=\"\n",
       "  1172.95,651.7 1172.95,101.872 \n",
       "  \"/>\n",
       "<polyline clip-path=\"url(#clip302)\" style=\"stroke:#000000; stroke-linecap:butt; stroke-linejoin:round; stroke-width:2; stroke-opacity:0.1; fill:none\" points=\"\n",
       "  1375.97,651.7 1375.97,101.872 \n",
       "  \"/>\n",
       "<polyline clip-path=\"url(#clip300)\" style=\"stroke:#000000; stroke-linecap:butt; stroke-linejoin:round; stroke-width:4; stroke-opacity:1; fill:none\" points=\"\n",
       "  184.084,651.7 1552.76,651.7 \n",
       "  \"/>\n",
       "<polyline clip-path=\"url(#clip300)\" style=\"stroke:#000000; stroke-linecap:butt; stroke-linejoin:round; stroke-width:4; stroke-opacity:1; fill:none\" points=\"\n",
       "  360.872,651.7 360.872,645.102 \n",
       "  \"/>\n",
       "<polyline clip-path=\"url(#clip300)\" style=\"stroke:#000000; stroke-linecap:butt; stroke-linejoin:round; stroke-width:4; stroke-opacity:1; fill:none\" points=\"\n",
       "  563.891,651.7 563.891,645.102 \n",
       "  \"/>\n",
       "<polyline clip-path=\"url(#clip300)\" style=\"stroke:#000000; stroke-linecap:butt; stroke-linejoin:round; stroke-width:4; stroke-opacity:1; fill:none\" points=\"\n",
       "  766.91,651.7 766.91,645.102 \n",
       "  \"/>\n",
       "<polyline clip-path=\"url(#clip300)\" style=\"stroke:#000000; stroke-linecap:butt; stroke-linejoin:round; stroke-width:4; stroke-opacity:1; fill:none\" points=\"\n",
       "  969.929,651.7 969.929,645.102 \n",
       "  \"/>\n",
       "<polyline clip-path=\"url(#clip300)\" style=\"stroke:#000000; stroke-linecap:butt; stroke-linejoin:round; stroke-width:4; stroke-opacity:1; fill:none\" points=\"\n",
       "  1172.95,651.7 1172.95,645.102 \n",
       "  \"/>\n",
       "<polyline clip-path=\"url(#clip300)\" style=\"stroke:#000000; stroke-linecap:butt; stroke-linejoin:round; stroke-width:4; stroke-opacity:1; fill:none\" points=\"\n",
       "  1375.97,651.7 1375.97,645.102 \n",
       "  \"/>\n",
       "<path clip-path=\"url(#clip300)\" d=\"M351.254 702.037 L358.893 702.037 L358.893 675.671 L350.583 677.338 L350.583 673.079 L358.847 671.412 L363.523 671.412 L363.523 702.037 L371.162 702.037 L371.162 705.972 L351.254 705.972 L351.254 702.037 Z\" fill=\"#000000\" fill-rule=\"evenodd\" fill-opacity=\"1\" /><path clip-path=\"url(#clip300)\" d=\"M558.544 702.037 L574.864 702.037 L574.864 705.972 L552.919 705.972 L552.919 702.037 Q555.581 699.282 560.165 694.652 Q564.771 690 565.952 688.657 Q568.197 686.134 569.077 684.398 Q569.979 682.639 569.979 680.949 Q569.979 678.194 568.035 676.458 Q566.114 674.722 563.012 674.722 Q560.813 674.722 558.359 675.486 Q555.928 676.25 553.151 677.801 L553.151 673.079 Q555.975 671.944 558.428 671.366 Q560.882 670.787 562.919 670.787 Q568.289 670.787 571.484 673.472 Q574.678 676.157 574.678 680.648 Q574.678 682.778 573.868 684.699 Q573.081 686.597 570.975 689.19 Q570.396 689.861 567.294 693.078 Q564.192 696.273 558.544 702.037 Z\" fill=\"#000000\" fill-rule=\"evenodd\" fill-opacity=\"1\" /><path clip-path=\"url(#clip300)\" d=\"M771.158 687.338 Q774.514 688.055 776.389 690.324 Q778.288 692.592 778.288 695.926 Q778.288 701.041 774.769 703.842 Q771.251 706.643 764.769 706.643 Q762.593 706.643 760.278 706.203 Q757.987 705.787 755.533 704.93 L755.533 700.416 Q757.477 701.551 759.792 702.129 Q762.107 702.708 764.63 702.708 Q769.028 702.708 771.32 700.972 Q773.635 699.236 773.635 695.926 Q773.635 692.87 771.482 691.157 Q769.352 689.421 765.533 689.421 L761.505 689.421 L761.505 685.578 L765.718 685.578 Q769.167 685.578 770.996 684.213 Q772.825 682.824 772.825 680.231 Q772.825 677.569 770.926 676.157 Q769.051 674.722 765.533 674.722 Q763.612 674.722 761.413 675.139 Q759.214 675.555 756.575 676.435 L756.575 672.268 Q759.237 671.528 761.552 671.157 Q763.889 670.787 765.95 670.787 Q771.274 670.787 774.376 673.217 Q777.477 675.625 777.477 679.745 Q777.477 682.615 775.834 684.606 Q774.19 686.574 771.158 687.338 Z\" fill=\"#000000\" fill-rule=\"evenodd\" fill-opacity=\"1\" /><path clip-path=\"url(#clip300)\" d=\"M972.938 675.486 L961.133 693.935 L972.938 693.935 L972.938 675.486 M971.712 671.412 L977.591 671.412 L977.591 693.935 L982.522 693.935 L982.522 697.824 L977.591 697.824 L977.591 705.972 L972.938 705.972 L972.938 697.824 L957.337 697.824 L957.337 693.31 L971.712 671.412 Z\" fill=\"#000000\" fill-rule=\"evenodd\" fill-opacity=\"1\" /><path clip-path=\"url(#clip300)\" d=\"M1163.23 671.412 L1181.58 671.412 L1181.58 675.347 L1167.51 675.347 L1167.51 683.819 Q1168.53 683.472 1169.55 683.31 Q1170.56 683.125 1171.58 683.125 Q1177.37 683.125 1180.75 686.296 Q1184.13 689.467 1184.13 694.884 Q1184.13 700.463 1180.66 703.564 Q1177.18 706.643 1170.86 706.643 Q1168.69 706.643 1166.42 706.273 Q1164.18 705.902 1161.77 705.162 L1161.77 700.463 Q1163.85 701.597 1166.07 702.152 Q1168.3 702.708 1170.77 702.708 Q1174.78 702.708 1177.11 700.602 Q1179.45 698.495 1179.45 694.884 Q1179.45 691.273 1177.11 689.166 Q1174.78 687.06 1170.77 687.06 Q1168.9 687.06 1167.02 687.477 Q1165.17 687.893 1163.23 688.773 L1163.23 671.412 Z\" fill=\"#000000\" fill-rule=\"evenodd\" fill-opacity=\"1\" /><path clip-path=\"url(#clip300)\" d=\"M1376.37 686.828 Q1373.22 686.828 1371.37 688.981 Q1369.54 691.134 1369.54 694.884 Q1369.54 698.611 1371.37 700.787 Q1373.22 702.939 1376.37 702.939 Q1379.52 702.939 1381.35 700.787 Q1383.2 698.611 1383.2 694.884 Q1383.2 691.134 1381.35 688.981 Q1379.52 686.828 1376.37 686.828 M1385.65 672.176 L1385.65 676.435 Q1383.9 675.602 1382.09 675.162 Q1380.31 674.722 1378.55 674.722 Q1373.92 674.722 1371.46 677.847 Q1369.03 680.972 1368.69 687.291 Q1370.05 685.278 1372.11 684.213 Q1374.17 683.125 1376.65 683.125 Q1381.86 683.125 1384.87 686.296 Q1387.9 689.444 1387.9 694.884 Q1387.9 700.208 1384.75 703.426 Q1381.6 706.643 1376.37 706.643 Q1370.38 706.643 1367.21 702.06 Q1364.03 697.453 1364.03 688.727 Q1364.03 680.532 1367.92 675.671 Q1371.81 670.787 1378.36 670.787 Q1380.12 670.787 1381.9 671.134 Q1383.71 671.481 1385.65 672.176 Z\" fill=\"#000000\" fill-rule=\"evenodd\" fill-opacity=\"1\" /><path clip-path=\"url(#clip300)\" d=\"M753.917 742.327 L753.917 760.183 L762.001 760.183 Q766.489 760.183 768.94 757.86 Q771.39 755.536 771.39 751.239 Q771.39 746.974 768.94 744.651 Q766.489 742.327 762.001 742.327 L753.917 742.327 M747.487 737.044 L762.001 737.044 Q769.99 737.044 774.064 740.672 Q778.17 744.269 778.17 751.239 Q778.17 758.273 774.064 761.87 Q769.99 765.467 762.001 765.467 L753.917 765.467 L753.917 784.564 L747.487 784.564 L747.487 737.044 Z\" fill=\"#000000\" fill-rule=\"evenodd\" fill-opacity=\"1\" /><path clip-path=\"url(#clip300)\" d=\"M798.031 753.022 Q793.32 753.022 790.583 756.714 Q787.846 760.374 787.846 766.772 Q787.846 773.169 790.551 776.861 Q793.288 780.522 798.031 780.522 Q802.71 780.522 805.447 776.83 Q808.184 773.137 808.184 766.772 Q808.184 760.438 805.447 756.746 Q802.71 753.022 798.031 753.022 M798.031 748.057 Q805.67 748.057 810.03 753.022 Q814.391 757.987 814.391 766.772 Q814.391 775.525 810.03 780.522 Q805.67 785.487 798.031 785.487 Q790.36 785.487 786 780.522 Q781.671 775.525 781.671 766.772 Q781.671 757.987 786 753.022 Q790.36 748.057 798.031 748.057 Z\" fill=\"#000000\" fill-rule=\"evenodd\" fill-opacity=\"1\" /><path clip-path=\"url(#clip300)\" d=\"M846.824 749.966 L846.824 755.504 Q844.341 754.231 841.668 753.595 Q838.994 752.958 836.13 752.958 Q831.769 752.958 829.573 754.295 Q827.409 755.632 827.409 758.305 Q827.409 760.342 828.968 761.52 Q830.528 762.666 835.238 763.716 L837.244 764.162 Q843.482 765.499 846.092 767.949 Q848.734 770.368 848.734 774.729 Q848.734 779.694 844.787 782.59 Q840.872 785.487 833.997 785.487 Q831.133 785.487 828.013 784.914 Q824.926 784.373 821.489 783.259 L821.489 777.211 Q824.735 778.898 827.886 779.758 Q831.037 780.585 834.124 780.585 Q838.262 780.585 840.49 779.185 Q842.718 777.753 842.718 775.174 Q842.718 772.787 841.095 771.514 Q839.504 770.241 834.061 769.063 L832.024 768.586 Q826.581 767.44 824.162 765.085 Q821.743 762.698 821.743 758.56 Q821.743 753.531 825.308 750.794 Q828.873 748.057 835.429 748.057 Q838.676 748.057 841.541 748.534 Q844.405 749.011 846.824 749.966 Z\" fill=\"#000000\" fill-rule=\"evenodd\" fill-opacity=\"1\" /><path clip-path=\"url(#clip300)\" d=\"M858.06 748.916 L863.916 748.916 L863.916 784.564 L858.06 784.564 L858.06 748.916 M858.06 735.039 L863.916 735.039 L863.916 742.455 L858.06 742.455 L858.06 735.039 Z\" fill=\"#000000\" fill-rule=\"evenodd\" fill-opacity=\"1\" /><path clip-path=\"url(#clip300)\" d=\"M881.963 738.794 L881.963 748.916 L894.026 748.916 L894.026 753.467 L881.963 753.467 L881.963 772.819 Q881.963 777.18 883.14 778.421 Q884.35 779.662 888.01 779.662 L894.026 779.662 L894.026 784.564 L888.01 784.564 Q881.231 784.564 878.653 782.049 Q876.075 779.503 876.075 772.819 L876.075 753.467 L871.778 753.467 L871.778 748.916 L876.075 748.916 L876.075 738.794 L881.963 738.794 Z\" fill=\"#000000\" fill-rule=\"evenodd\" fill-opacity=\"1\" /><path clip-path=\"url(#clip300)\" d=\"M901.728 748.916 L907.585 748.916 L907.585 784.564 L901.728 784.564 L901.728 748.916 M901.728 735.039 L907.585 735.039 L907.585 742.455 L901.728 742.455 L901.728 735.039 Z\" fill=\"#000000\" fill-rule=\"evenodd\" fill-opacity=\"1\" /><path clip-path=\"url(#clip300)\" d=\"M933.652 753.022 Q928.942 753.022 926.204 756.714 Q923.467 760.374 923.467 766.772 Q923.467 773.169 926.173 776.861 Q928.91 780.522 933.652 780.522 Q938.331 780.522 941.068 776.83 Q943.806 773.137 943.806 766.772 Q943.806 760.438 941.068 756.746 Q938.331 753.022 933.652 753.022 M933.652 748.057 Q941.291 748.057 945.652 753.022 Q950.012 757.987 950.012 766.772 Q950.012 775.525 945.652 780.522 Q941.291 785.487 933.652 785.487 Q925.982 785.487 921.621 780.522 Q917.292 775.525 917.292 766.772 Q917.292 757.987 921.621 753.022 Q925.982 748.057 933.652 748.057 Z\" fill=\"#000000\" fill-rule=\"evenodd\" fill-opacity=\"1\" /><path clip-path=\"url(#clip300)\" d=\"M989.352 763.048 L989.352 784.564 L983.496 784.564 L983.496 763.239 Q983.496 758.178 981.522 755.664 Q979.549 753.149 975.602 753.149 Q970.86 753.149 968.123 756.173 Q965.385 759.197 965.385 764.416 L965.385 784.564 L959.497 784.564 L959.497 748.916 L965.385 748.916 L965.385 754.454 Q967.486 751.239 970.319 749.648 Q973.183 748.057 976.907 748.057 Q983.05 748.057 986.201 751.876 Q989.352 755.664 989.352 763.048 Z\" fill=\"#000000\" fill-rule=\"evenodd\" fill-opacity=\"1\" /><polyline clip-path=\"url(#clip302)\" style=\"stroke:#000000; stroke-linecap:butt; stroke-linejoin:round; stroke-width:2; stroke-opacity:0.1; fill:none\" points=\"\n",
       "  184.084,636.139 1552.76,636.139 \n",
       "  \"/>\n",
       "<polyline clip-path=\"url(#clip302)\" style=\"stroke:#000000; stroke-linecap:butt; stroke-linejoin:round; stroke-width:2; stroke-opacity:0.1; fill:none\" points=\"\n",
       "  184.084,487.937 1552.76,487.937 \n",
       "  \"/>\n",
       "<polyline clip-path=\"url(#clip302)\" style=\"stroke:#000000; stroke-linecap:butt; stroke-linejoin:round; stroke-width:2; stroke-opacity:0.1; fill:none\" points=\"\n",
       "  184.084,339.736 1552.76,339.736 \n",
       "  \"/>\n",
       "<polyline clip-path=\"url(#clip302)\" style=\"stroke:#000000; stroke-linecap:butt; stroke-linejoin:round; stroke-width:2; stroke-opacity:0.1; fill:none\" points=\"\n",
       "  184.084,191.534 1552.76,191.534 \n",
       "  \"/>\n",
       "<polyline clip-path=\"url(#clip300)\" style=\"stroke:#000000; stroke-linecap:butt; stroke-linejoin:round; stroke-width:4; stroke-opacity:1; fill:none\" points=\"\n",
       "  184.084,651.7 184.084,101.872 \n",
       "  \"/>\n",
       "<polyline clip-path=\"url(#clip300)\" style=\"stroke:#000000; stroke-linecap:butt; stroke-linejoin:round; stroke-width:4; stroke-opacity:1; fill:none\" points=\"\n",
       "  184.084,636.139 200.508,636.139 \n",
       "  \"/>\n",
       "<polyline clip-path=\"url(#clip300)\" style=\"stroke:#000000; stroke-linecap:butt; stroke-linejoin:round; stroke-width:4; stroke-opacity:1; fill:none\" points=\"\n",
       "  184.084,487.937 200.508,487.937 \n",
       "  \"/>\n",
       "<polyline clip-path=\"url(#clip300)\" style=\"stroke:#000000; stroke-linecap:butt; stroke-linejoin:round; stroke-width:4; stroke-opacity:1; fill:none\" points=\"\n",
       "  184.084,339.736 200.508,339.736 \n",
       "  \"/>\n",
       "<polyline clip-path=\"url(#clip300)\" style=\"stroke:#000000; stroke-linecap:butt; stroke-linejoin:round; stroke-width:4; stroke-opacity:1; fill:none\" points=\"\n",
       "  184.084,191.534 200.508,191.534 \n",
       "  \"/>\n",
       "<path clip-path=\"url(#clip300)\" d=\"M148.139 621.937 Q144.528 621.937 142.699 625.502 Q140.894 629.044 140.894 636.173 Q140.894 643.28 142.699 646.845 Q144.528 650.386 148.139 650.386 Q151.773 650.386 153.579 646.845 Q155.408 643.28 155.408 636.173 Q155.408 629.044 153.579 625.502 Q151.773 621.937 148.139 621.937 M148.139 618.234 Q153.949 618.234 157.005 622.84 Q160.084 627.423 160.084 636.173 Q160.084 644.9 157.005 649.507 Q153.949 654.09 148.139 654.09 Q142.329 654.09 139.25 649.507 Q136.195 644.9 136.195 636.173 Q136.195 627.423 139.25 622.84 Q142.329 618.234 148.139 618.234 Z\" fill=\"#000000\" fill-rule=\"evenodd\" fill-opacity=\"1\" /><path clip-path=\"url(#clip300)\" d=\"M108.788 501.282 L116.426 501.282 L116.426 474.916 L108.116 476.583 L108.116 472.324 L116.38 470.657 L121.056 470.657 L121.056 501.282 L128.695 501.282 L128.695 505.217 L108.788 505.217 L108.788 501.282 Z\" fill=\"#000000\" fill-rule=\"evenodd\" fill-opacity=\"1\" /><path clip-path=\"url(#clip300)\" d=\"M148.139 473.736 Q144.528 473.736 142.699 477.301 Q140.894 480.842 140.894 487.972 Q140.894 495.078 142.699 498.643 Q144.528 502.185 148.139 502.185 Q151.773 502.185 153.579 498.643 Q155.408 495.078 155.408 487.972 Q155.408 480.842 153.579 477.301 Q151.773 473.736 148.139 473.736 M148.139 470.032 Q153.949 470.032 157.005 474.639 Q160.084 479.222 160.084 487.972 Q160.084 496.699 157.005 501.305 Q153.949 505.888 148.139 505.888 Q142.329 505.888 139.25 501.305 Q136.195 496.699 136.195 487.972 Q136.195 479.222 139.25 474.639 Q142.329 470.032 148.139 470.032 Z\" fill=\"#000000\" fill-rule=\"evenodd\" fill-opacity=\"1\" /><path clip-path=\"url(#clip300)\" d=\"M112.005 353.08 L128.324 353.08 L128.324 357.016 L106.38 357.016 L106.38 353.08 Q109.042 350.326 113.625 345.696 Q118.232 341.043 119.412 339.701 Q121.658 337.178 122.537 335.442 Q123.44 333.682 123.44 331.993 Q123.44 329.238 121.496 327.502 Q119.575 325.766 116.473 325.766 Q114.274 325.766 111.82 326.53 Q109.389 327.294 106.612 328.844 L106.612 324.122 Q109.436 322.988 111.889 322.409 Q114.343 321.831 116.38 321.831 Q121.75 321.831 124.945 324.516 Q128.139 327.201 128.139 331.692 Q128.139 333.821 127.329 335.743 Q126.542 337.641 124.436 340.233 Q123.857 340.905 120.755 344.122 Q117.653 347.317 112.005 353.08 Z\" fill=\"#000000\" fill-rule=\"evenodd\" fill-opacity=\"1\" /><path clip-path=\"url(#clip300)\" d=\"M148.139 325.534 Q144.528 325.534 142.699 329.099 Q140.894 332.641 140.894 339.77 Q140.894 346.877 142.699 350.442 Q144.528 353.983 148.139 353.983 Q151.773 353.983 153.579 350.442 Q155.408 346.877 155.408 339.77 Q155.408 332.641 153.579 329.099 Q151.773 325.534 148.139 325.534 M148.139 321.831 Q153.949 321.831 157.005 326.437 Q160.084 331.02 160.084 339.77 Q160.084 348.497 157.005 353.104 Q153.949 357.687 148.139 357.687 Q142.329 357.687 139.25 353.104 Q136.195 348.497 136.195 339.77 Q136.195 331.02 139.25 326.437 Q142.329 321.831 148.139 321.831 Z\" fill=\"#000000\" fill-rule=\"evenodd\" fill-opacity=\"1\" /><path clip-path=\"url(#clip300)\" d=\"M122.144 190.18 Q125.5 190.897 127.375 193.166 Q129.274 195.435 129.274 198.768 Q129.274 203.884 125.755 206.684 Q122.237 209.485 115.755 209.485 Q113.579 209.485 111.264 209.046 Q108.973 208.629 106.519 207.772 L106.519 203.259 Q108.463 204.393 110.778 204.971 Q113.093 205.55 115.616 205.55 Q120.014 205.55 122.306 203.814 Q124.621 202.078 124.621 198.768 Q124.621 195.712 122.468 193.999 Q120.338 192.263 116.519 192.263 L112.491 192.263 L112.491 188.421 L116.704 188.421 Q120.153 188.421 121.982 187.055 Q123.811 185.666 123.811 183.073 Q123.811 180.411 121.912 178.999 Q120.037 177.564 116.519 177.564 Q114.598 177.564 112.399 177.981 Q110.2 178.398 107.561 179.277 L107.561 175.111 Q110.223 174.37 112.538 173.999 Q114.875 173.629 116.936 173.629 Q122.26 173.629 125.362 176.06 Q128.463 178.467 128.463 182.587 Q128.463 185.458 126.82 187.448 Q125.176 189.416 122.144 190.18 Z\" fill=\"#000000\" fill-rule=\"evenodd\" fill-opacity=\"1\" /><path clip-path=\"url(#clip300)\" d=\"M148.139 177.333 Q144.528 177.333 142.699 180.898 Q140.894 184.439 140.894 191.569 Q140.894 198.675 142.699 202.24 Q144.528 205.782 148.139 205.782 Q151.773 205.782 153.579 202.24 Q155.408 198.675 155.408 191.569 Q155.408 184.439 153.579 180.898 Q151.773 177.333 148.139 177.333 M148.139 173.629 Q153.949 173.629 157.005 178.236 Q160.084 182.819 160.084 191.569 Q160.084 200.296 157.005 204.902 Q153.949 209.485 148.139 209.485 Q142.329 209.485 139.25 204.902 Q136.195 200.296 136.195 191.569 Q136.195 182.819 139.25 178.236 Q142.329 173.629 148.139 173.629 Z\" fill=\"#000000\" fill-rule=\"evenodd\" fill-opacity=\"1\" /><path clip-path=\"url(#clip300)\" d=\"M20.6042 735.525 L20.6042 726.868 L60.358 705.798 L20.6042 705.798 L20.6042 699.559 L68.1242 699.559 L68.1242 708.216 L28.3703 729.287 L68.1242 729.287 L68.1242 735.525 L20.6042 735.525 Z\" fill=\"#000000\" fill-rule=\"evenodd\" fill-opacity=\"1\" /><path clip-path=\"url(#clip300)\" d=\"M54.0559 687.623 L32.4762 687.623 L32.4762 681.767 L53.8331 681.767 Q58.8939 681.767 61.4402 679.794 Q63.9546 677.82 63.9546 673.874 Q63.9546 669.131 60.9309 666.394 Q57.9072 663.625 52.6873 663.625 L32.4762 663.625 L32.4762 657.768 L68.1242 657.768 L68.1242 663.625 L62.6496 663.625 Q65.8962 665.757 67.4876 668.59 Q69.0472 671.391 69.0472 675.115 Q69.0472 681.258 65.2278 684.441 Q61.4083 687.623 54.0559 687.623 M31.6168 672.887 L31.6168 672.887 Z\" fill=\"#000000\" fill-rule=\"evenodd\" fill-opacity=\"1\" /><path clip-path=\"url(#clip300)\" d=\"M39.3193 617.951 Q35.3726 615.755 33.4947 612.699 Q31.6168 609.644 31.6168 605.506 Q31.6168 599.936 35.5317 596.912 Q39.4148 593.888 46.6081 593.888 L68.1242 593.888 L68.1242 599.777 L46.799 599.777 Q41.6746 599.777 39.192 601.591 Q36.7094 603.405 36.7094 607.129 Q36.7094 611.681 39.7331 614.322 Q42.7568 616.964 47.9767 616.964 L68.1242 616.964 L68.1242 622.852 L46.799 622.852 Q41.6428 622.852 39.192 624.667 Q36.7094 626.481 36.7094 630.268 Q36.7094 634.756 39.7649 637.398 Q42.7886 640.04 47.9767 640.04 L68.1242 640.04 L68.1242 645.928 L32.4762 645.928 L32.4762 640.04 L38.0144 640.04 Q34.736 638.035 33.1764 635.234 Q31.6168 632.433 31.6168 628.582 Q31.6168 624.698 33.5902 621.993 Q35.5636 619.256 39.3193 617.951 Z\" fill=\"#000000\" fill-rule=\"evenodd\" fill-opacity=\"1\" /><path clip-path=\"url(#clip300)\" d=\"M50.332 556.617 Q43.8708 556.617 40.2105 559.291 Q36.5184 561.933 36.5184 566.58 Q36.5184 571.226 40.2105 573.9 Q43.8708 576.542 50.332 576.542 Q56.7932 576.542 60.4853 573.9 Q64.1456 571.226 64.1456 566.58 Q64.1456 561.933 60.4853 559.291 Q56.7932 556.617 50.332 556.617 M37.8871 576.542 Q34.7042 574.696 33.1764 571.895 Q31.6168 569.062 31.6168 565.147 Q31.6168 558.654 36.7731 554.612 Q41.9293 550.538 50.332 550.538 Q58.7347 550.538 63.891 554.612 Q69.0472 558.654 69.0472 565.147 Q69.0472 569.062 67.5194 571.895 Q65.9598 574.696 62.777 576.542 L68.1242 576.542 L68.1242 582.43 L18.599 582.43 L18.599 576.542 L37.8871 576.542 Z\" fill=\"#000000\" fill-rule=\"evenodd\" fill-opacity=\"1\" /><path clip-path=\"url(#clip300)\" d=\"M48.8361 510.339 L51.7006 510.339 L51.7006 537.265 Q57.7481 536.884 60.9309 533.637 Q64.0819 530.359 64.0819 524.534 Q64.0819 521.16 63.2544 518.009 Q62.4269 514.826 60.7718 511.707 L66.3099 511.707 Q67.6467 514.858 68.347 518.168 Q69.0472 521.478 69.0472 524.884 Q69.0472 533.414 64.0819 538.411 Q59.1167 543.377 50.6503 543.377 Q41.8974 543.377 36.7731 538.666 Q31.6168 533.923 31.6168 525.903 Q31.6168 518.709 36.2638 514.54 Q40.8789 510.339 48.8361 510.339 M47.1173 516.195 Q42.3112 516.259 39.4466 518.9 Q36.5821 521.51 36.5821 525.839 Q36.5821 530.741 39.3512 533.701 Q42.1202 536.629 47.1492 537.074 L47.1173 516.195 Z\" fill=\"#000000\" fill-rule=\"evenodd\" fill-opacity=\"1\" /><path clip-path=\"url(#clip300)\" d=\"M37.9507 480.07 Q37.3778 481.056 37.1232 482.234 Q36.8367 483.38 36.8367 484.78 Q36.8367 489.745 40.0832 492.419 Q43.2979 495.061 49.3453 495.061 L68.1242 495.061 L68.1242 500.949 L32.4762 500.949 L32.4762 495.061 L38.0144 495.061 Q34.7679 493.215 33.2083 490.255 Q31.6168 487.295 31.6168 483.061 Q31.6168 482.457 31.7123 481.725 Q31.776 480.993 31.9351 480.101 L37.9507 480.07 Z\" fill=\"#000000\" fill-rule=\"evenodd\" fill-opacity=\"1\" /><path clip-path=\"url(#clip300)\" d=\"M36.5821 439.393 Q36.5821 444.103 40.2742 446.841 Q43.9345 449.578 50.332 449.578 Q56.7295 449.578 60.4217 446.872 Q64.0819 444.135 64.0819 439.393 Q64.0819 434.714 60.3898 431.977 Q56.6977 429.239 50.332 429.239 Q43.9981 429.239 40.306 431.977 Q36.5821 434.714 36.5821 439.393 M31.6168 439.393 Q31.6168 431.754 36.5821 427.393 Q41.5473 423.033 50.332 423.033 Q59.0849 423.033 64.0819 427.393 Q69.0472 431.754 69.0472 439.393 Q69.0472 447.063 64.0819 451.424 Q59.0849 455.753 50.332 455.753 Q41.5473 455.753 36.5821 451.424 Q31.6168 447.063 31.6168 439.393 Z\" fill=\"#000000\" fill-rule=\"evenodd\" fill-opacity=\"1\" /><path clip-path=\"url(#clip300)\" d=\"M18.599 395.278 L23.4687 395.278 L23.4687 400.88 Q23.4687 404.031 24.7419 405.273 Q26.015 406.482 29.3252 406.482 L32.4762 406.482 L32.4762 396.838 L37.0277 396.838 L37.0277 406.482 L68.1242 406.482 L68.1242 412.37 L37.0277 412.37 L37.0277 417.972 L32.4762 417.972 L32.4762 412.37 L29.9936 412.37 Q24.0416 412.37 21.3362 409.601 Q18.599 406.832 18.599 400.817 L18.599 395.278 Z\" fill=\"#000000\" fill-rule=\"evenodd\" fill-opacity=\"1\" /><path clip-path=\"url(#clip300)\" d=\"M33.8448 344.003 L39.3193 344.003 Q37.9507 346.485 37.2823 349 Q36.5821 351.482 36.5821 354.029 Q36.5821 359.726 40.2105 362.877 Q43.8072 366.028 50.332 366.028 Q56.8569 366.028 60.4853 362.877 Q64.0819 359.726 64.0819 354.029 Q64.0819 351.482 63.4135 349 Q62.7133 346.485 61.3447 344.003 L66.7555 344.003 Q67.9014 346.453 68.4743 349.095 Q69.0472 351.705 69.0472 354.665 Q69.0472 362.718 63.9864 367.46 Q58.9257 372.203 50.332 372.203 Q41.611 372.203 36.6139 367.428 Q31.6168 362.622 31.6168 354.283 Q31.6168 351.578 32.1897 349 Q32.7308 346.422 33.8448 344.003 Z\" fill=\"#000000\" fill-rule=\"evenodd\" fill-opacity=\"1\" /><path clip-path=\"url(#clip300)\" d=\"M50.2047 317.617 Q50.2047 324.715 51.8279 327.452 Q53.4512 330.189 57.3661 330.189 Q60.4853 330.189 62.3314 328.152 Q64.1456 326.083 64.1456 322.55 Q64.1456 317.68 60.7081 314.752 Q57.2388 311.792 51.5097 311.792 L50.2047 311.792 L50.2047 317.617 M47.7857 305.936 L68.1242 305.936 L68.1242 311.792 L62.7133 311.792 Q65.9598 313.797 67.5194 316.789 Q69.0472 319.781 69.0472 324.11 Q69.0472 329.584 65.9916 332.831 Q62.9043 336.045 57.7481 336.045 Q51.7325 336.045 48.6769 332.035 Q45.6214 327.993 45.6214 320.004 L45.6214 311.792 L45.0485 311.792 Q41.0062 311.792 38.8101 314.466 Q36.5821 317.107 36.5821 321.914 Q36.5821 324.969 37.3141 327.866 Q38.0462 330.762 39.5103 333.436 L34.0995 333.436 Q32.8581 330.221 32.2534 327.197 Q31.6168 324.173 31.6168 321.309 Q31.6168 313.575 35.6272 309.755 Q39.6376 305.936 47.7857 305.936 Z\" fill=\"#000000\" fill-rule=\"evenodd\" fill-opacity=\"1\" /><path clip-path=\"url(#clip300)\" d=\"M37.9507 273.216 Q37.3778 274.203 37.1232 275.38 Q36.8367 276.526 36.8367 277.927 Q36.8367 282.892 40.0832 285.565 Q43.2979 288.207 49.3453 288.207 L68.1242 288.207 L68.1242 294.095 L32.4762 294.095 L32.4762 288.207 L38.0144 288.207 Q34.7679 286.361 33.2083 283.401 Q31.6168 280.441 31.6168 276.208 Q31.6168 275.603 31.7123 274.871 Q31.776 274.139 31.9351 273.248 L37.9507 273.216 Z\" fill=\"#000000\" fill-rule=\"evenodd\" fill-opacity=\"1\" /><path clip-path=\"url(#clip300)\" d=\"M33.5265 244.347 L39.0647 244.347 Q37.7916 246.83 37.155 249.504 Q36.5184 252.177 36.5184 255.042 Q36.5184 259.402 37.8552 261.599 Q39.192 263.763 41.8656 263.763 Q43.9026 263.763 45.0803 262.203 Q46.2261 260.644 47.2765 255.933 L47.7221 253.928 Q49.0589 247.689 51.5097 245.08 Q53.9286 242.438 58.2891 242.438 Q63.2544 242.438 66.1508 246.384 Q69.0472 250.299 69.0472 257.174 Q69.0472 260.039 68.4743 263.158 Q67.9332 266.245 66.8192 269.683 L60.7718 269.683 Q62.4587 266.436 63.318 263.285 Q64.1456 260.134 64.1456 257.047 Q64.1456 252.909 62.7451 250.681 Q61.3129 248.453 58.7347 248.453 Q56.3476 248.453 55.0745 250.077 Q53.8013 251.668 52.6237 257.111 L52.1462 259.148 Q51.0004 264.59 48.6451 267.009 Q46.258 269.428 42.1202 269.428 Q37.0913 269.428 34.3541 265.864 Q31.6168 262.299 31.6168 255.742 Q31.6168 252.496 32.0943 249.631 Q32.5717 246.766 33.5265 244.347 Z\" fill=\"#000000\" fill-rule=\"evenodd\" fill-opacity=\"1\" /><path clip-path=\"url(#clip300)\" d=\"M46.6081 182.759 L68.1242 182.759 L68.1242 188.616 L46.799 188.616 Q41.7383 188.616 39.2238 190.589 Q36.7094 192.562 36.7094 196.509 Q36.7094 201.252 39.7331 203.989 Q42.7568 206.726 47.9767 206.726 L68.1242 206.726 L68.1242 212.614 L18.599 212.614 L18.599 206.726 L38.0144 206.726 Q34.7997 204.625 33.2083 201.793 Q31.6168 198.928 31.6168 195.204 Q31.6168 189.061 35.4363 185.91 Q39.2238 182.759 46.6081 182.759 Z\" fill=\"#000000\" fill-rule=\"evenodd\" fill-opacity=\"1\" /><path clip-path=\"url(#clip300)\" d=\"M50.2047 154.877 Q50.2047 161.975 51.8279 164.712 Q53.4512 167.45 57.3661 167.45 Q60.4853 167.45 62.3314 165.413 Q64.1456 163.344 64.1456 159.811 Q64.1456 154.941 60.7081 152.013 Q57.2388 149.053 51.5097 149.053 L50.2047 149.053 L50.2047 154.877 M47.7857 143.196 L68.1242 143.196 L68.1242 149.053 L62.7133 149.053 Q65.9598 151.058 67.5194 154.05 Q69.0472 157.042 69.0472 161.37 Q69.0472 166.845 65.9916 170.091 Q62.9043 173.306 57.7481 173.306 Q51.7325 173.306 48.6769 169.296 Q45.6214 165.254 45.6214 157.265 L45.6214 149.053 L45.0485 149.053 Q41.0062 149.053 38.8101 151.726 Q36.5821 154.368 36.5821 159.174 Q36.5821 162.23 37.3141 165.126 Q38.0462 168.023 39.5103 170.696 L34.0995 170.696 Q32.8581 167.482 32.2534 164.458 Q31.6168 161.434 31.6168 158.57 Q31.6168 150.835 35.6272 147.016 Q39.6376 143.196 47.7857 143.196 Z\" fill=\"#000000\" fill-rule=\"evenodd\" fill-opacity=\"1\" /><path clip-path=\"url(#clip300)\" d=\"M18.599 131.133 L18.599 125.277 L68.1242 125.277 L68.1242 131.133 L18.599 131.133 Z\" fill=\"#000000\" fill-rule=\"evenodd\" fill-opacity=\"1\" /><path clip-path=\"url(#clip300)\" d=\"M22.3547 107.23 L32.4762 107.23 L32.4762 95.1671 L37.0277 95.1671 L37.0277 107.23 L56.3794 107.23 Q60.7399 107.23 61.9813 106.052 Q63.2226 104.843 63.2226 101.183 L63.2226 95.1671 L68.1242 95.1671 L68.1242 101.183 Q68.1242 107.962 65.6097 110.54 Q63.0634 113.118 56.3794 113.118 L37.0277 113.118 L37.0277 117.415 L32.4762 117.415 L32.4762 113.118 L22.3547 113.118 L22.3547 107.23 Z\" fill=\"#000000\" fill-rule=\"evenodd\" fill-opacity=\"1\" /><path clip-path=\"url(#clip300)\" d=\"M48.8361 56.9729 L51.7006 56.9729 L51.7006 83.8998 Q57.7481 83.5179 60.9309 80.2714 Q64.0819 76.993 64.0819 71.1684 Q64.0819 67.7946 63.2544 64.6436 Q62.4269 61.4607 60.7718 58.3415 L66.3099 58.3415 Q67.6467 61.4925 68.347 64.8027 Q69.0472 68.1129 69.0472 71.5185 Q69.0472 80.0486 64.0819 85.0456 Q59.1167 90.0109 50.6503 90.0109 Q41.8974 90.0109 36.7731 85.3003 Q31.6168 80.5578 31.6168 72.537 Q31.6168 65.3438 36.2638 61.1742 Q40.8789 56.9729 48.8361 56.9729 M47.1173 62.8293 Q42.3112 62.893 39.4466 65.5348 Q36.5821 68.1447 36.5821 72.4734 Q36.5821 77.375 39.3512 80.335 Q42.1202 83.2633 47.1492 83.7089 L47.1173 62.8293 Z\" fill=\"#000000\" fill-rule=\"evenodd\" fill-opacity=\"1\" /><path clip-path=\"url(#clip300)\" d=\"M37.8871 23.903 L18.599 23.903 L18.599 18.0466 L68.1242 18.0466 L68.1242 23.903 L62.777 23.903 Q65.9598 25.7491 67.5194 28.5818 Q69.0472 31.3827 69.0472 35.3295 Q69.0472 41.7907 63.891 45.8647 Q58.7347 49.9069 50.332 49.9069 Q41.9293 49.9069 36.7731 45.8647 Q31.6168 41.7907 31.6168 35.3295 Q31.6168 31.3827 33.1764 28.5818 Q34.7042 25.7491 37.8871 23.903 M50.332 43.8595 Q56.7932 43.8595 60.4853 41.2178 Q64.1456 38.5442 64.1456 33.8972 Q64.1456 29.2502 60.4853 26.5766 Q56.7932 23.903 50.332 23.903 Q43.8708 23.903 40.2105 26.5766 Q36.5184 29.2502 36.5184 33.8972 Q36.5184 38.5442 40.2105 41.2178 Q43.8708 43.8595 50.332 43.8595 Z\" fill=\"#000000\" fill-rule=\"evenodd\" fill-opacity=\"1\" /><path clip-path=\"url(#clip300)\" d=\"M223.979 14.361 L223.979 21.7568 Q220.437 18.4582 216.409 16.8263 Q212.416 15.1944 207.902 15.1944 Q199.014 15.1944 194.291 20.6457 Q189.569 26.0624 189.569 36.3401 Q189.569 46.5831 194.291 52.0344 Q199.014 57.4511 207.902 57.4511 Q212.416 57.4511 216.409 55.8191 Q220.437 54.1872 223.979 50.8886 L223.979 58.215 Q220.298 60.715 216.166 61.9649 Q212.069 63.2149 207.486 63.2149 Q195.715 63.2149 188.944 56.0275 Q182.173 48.8053 182.173 36.3401 Q182.173 23.8402 188.944 16.6527 Q195.715 9.43051 207.486 9.43051 Q212.139 9.43051 216.236 10.6805 Q220.368 11.8958 223.979 14.361 Z\" fill=\"#000000\" fill-rule=\"evenodd\" fill-opacity=\"1\" /><path clip-path=\"url(#clip300)\" d=\"M249.604 27.7985 Q244.465 27.7985 241.479 31.8262 Q238.493 35.8193 238.493 42.7984 Q238.493 49.7775 241.444 53.8053 Q244.43 57.7983 249.604 57.7983 Q254.708 57.7983 257.694 53.7705 Q260.68 49.7428 260.68 42.7984 Q260.68 35.8887 257.694 31.8609 Q254.708 27.7985 249.604 27.7985 M249.604 22.3818 Q257.937 22.3818 262.694 27.7985 Q267.451 33.2151 267.451 42.7984 Q267.451 52.3469 262.694 57.7983 Q257.937 63.2149 249.604 63.2149 Q241.236 63.2149 236.479 57.7983 Q231.756 52.3469 231.756 42.7984 Q231.756 33.2151 236.479 27.7985 Q241.236 22.3818 249.604 22.3818 Z\" fill=\"#000000\" fill-rule=\"evenodd\" fill-opacity=\"1\" /><path clip-path=\"url(#clip300)\" d=\"M310.367 38.7359 L310.367 62.208 L303.978 62.208 L303.978 38.9442 Q303.978 33.4234 301.826 30.6804 Q299.673 27.9374 295.367 27.9374 Q290.194 27.9374 287.208 31.2359 Q284.221 34.5345 284.221 40.229 L284.221 62.208 L277.798 62.208 L277.798 23.3193 L284.221 23.3193 L284.221 29.361 Q286.513 25.854 289.603 24.1179 Q292.728 22.3818 296.791 22.3818 Q303.492 22.3818 306.93 26.5485 Q310.367 30.6804 310.367 38.7359 Z\" fill=\"#000000\" fill-rule=\"evenodd\" fill-opacity=\"1\" /><path clip-path=\"url(#clip300)\" d=\"M348.7 42.3123 Q348.7 35.3679 345.818 31.5484 Q342.971 27.729 337.798 27.729 Q332.659 27.729 329.777 31.5484 Q326.93 35.3679 326.93 42.3123 Q326.93 49.222 329.777 53.0414 Q332.659 56.8608 337.798 56.8608 Q342.971 56.8608 345.818 53.0414 Q348.7 49.222 348.7 42.3123 M355.089 57.3816 Q355.089 67.3121 350.679 72.1385 Q346.27 76.9996 337.173 76.9996 Q333.805 76.9996 330.818 76.4788 Q327.832 75.9926 325.02 74.951 L325.02 68.7357 Q327.832 70.2635 330.575 70.9927 Q333.318 71.7218 336.166 71.7218 Q342.45 71.7218 345.575 68.4232 Q348.7 65.1594 348.7 58.5275 L348.7 55.3678 Q346.721 58.8052 343.631 60.5066 Q340.541 62.208 336.235 62.208 Q329.082 62.208 324.707 56.7566 Q320.332 51.3053 320.332 42.3123 Q320.332 33.2845 324.707 27.8332 Q329.082 22.3818 336.235 22.3818 Q340.541 22.3818 343.631 24.0832 Q346.721 25.7846 348.7 29.2221 L348.7 23.3193 L355.089 23.3193 L355.089 57.3816 Z\" fill=\"#000000\" fill-rule=\"evenodd\" fill-opacity=\"1\" /><path clip-path=\"url(#clip300)\" d=\"M401.513 41.1664 L401.513 44.2914 L372.138 44.2914 Q372.554 50.8886 376.096 54.3608 Q379.672 57.7983 386.026 57.7983 Q389.707 57.7983 393.145 56.8955 Q396.617 55.9928 400.019 54.1872 L400.019 60.2288 Q396.582 61.6872 392.971 62.4511 Q389.36 63.2149 385.645 63.2149 Q376.339 63.2149 370.888 57.7983 Q365.471 52.3817 365.471 43.1456 Q365.471 33.597 370.61 28.0068 Q375.783 22.3818 384.533 22.3818 Q392.381 22.3818 396.929 27.4512 Q401.513 32.4859 401.513 41.1664 M395.124 39.2915 Q395.054 34.0484 392.172 30.9234 Q389.325 27.7985 384.603 27.7985 Q379.256 27.7985 376.027 30.8193 Q372.832 33.8401 372.346 39.3262 L395.124 39.2915 Z\" fill=\"#000000\" fill-rule=\"evenodd\" fill-opacity=\"1\" /><path clip-path=\"url(#clip300)\" d=\"M436.79 24.4651 L436.79 30.5068 Q434.082 29.1179 431.165 28.4235 Q428.248 27.729 425.124 27.729 Q420.367 27.729 417.971 29.1873 Q415.61 30.6457 415.61 33.5623 Q415.61 35.7845 417.311 37.0692 Q419.012 38.3192 424.151 39.4651 L426.339 39.9512 Q433.144 41.4095 435.992 44.0831 Q438.873 46.722 438.873 51.4789 Q438.873 56.8955 434.568 60.0552 Q430.297 63.2149 422.797 63.2149 Q419.672 63.2149 416.269 62.5899 Q412.901 61.9997 409.151 60.7844 L409.151 54.1872 Q412.693 56.0275 416.13 56.965 Q419.568 57.8677 422.936 57.8677 Q427.45 57.8677 429.88 56.34 Q432.311 54.7775 432.311 51.965 Q432.311 49.3608 430.54 47.972 Q428.804 46.5831 422.867 45.2984 L420.644 44.7775 Q414.707 43.5275 412.068 40.9581 Q409.429 38.354 409.429 33.8401 Q409.429 28.354 413.318 25.3679 Q417.207 22.3818 424.36 22.3818 Q427.901 22.3818 431.026 22.9027 Q434.151 23.4235 436.79 24.4651 Z\" fill=\"#000000\" fill-rule=\"evenodd\" fill-opacity=\"1\" /><path clip-path=\"url(#clip300)\" d=\"M455.366 12.2777 L455.366 23.3193 L468.526 23.3193 L468.526 28.2846 L455.366 28.2846 L455.366 49.3956 Q455.366 54.1525 456.651 55.5066 Q457.971 56.8608 461.964 56.8608 L468.526 56.8608 L468.526 62.208 L461.964 62.208 Q454.568 62.208 451.755 59.465 Q448.943 56.6872 448.943 49.3956 L448.943 28.2846 L444.255 28.2846 L444.255 23.3193 L448.943 23.3193 L448.943 12.2777 L455.366 12.2777 Z\" fill=\"#000000\" fill-rule=\"evenodd\" fill-opacity=\"1\" /><path clip-path=\"url(#clip300)\" d=\"M476.929 23.3193 L483.318 23.3193 L483.318 62.208 L476.929 62.208 L476.929 23.3193 M476.929 8.18051 L483.318 8.18051 L483.318 16.2707 L476.929 16.2707 L476.929 8.18051 Z\" fill=\"#000000\" fill-rule=\"evenodd\" fill-opacity=\"1\" /><path clip-path=\"url(#clip300)\" d=\"M511.755 27.7985 Q506.616 27.7985 503.63 31.8262 Q500.644 35.8193 500.644 42.7984 Q500.644 49.7775 503.595 53.8053 Q506.581 57.7983 511.755 57.7983 Q516.859 57.7983 519.845 53.7705 Q522.831 49.7428 522.831 42.7984 Q522.831 35.8887 519.845 31.8609 Q516.859 27.7985 511.755 27.7985 M511.755 22.3818 Q520.088 22.3818 524.845 27.7985 Q529.602 33.2151 529.602 42.7984 Q529.602 52.3469 524.845 57.7983 Q520.088 63.2149 511.755 63.2149 Q503.387 63.2149 498.63 57.7983 Q493.908 52.3469 493.908 42.7984 Q493.908 33.2151 498.63 27.7985 Q503.387 22.3818 511.755 22.3818 Z\" fill=\"#000000\" fill-rule=\"evenodd\" fill-opacity=\"1\" /><path clip-path=\"url(#clip300)\" d=\"M572.519 38.7359 L572.519 62.208 L566.13 62.208 L566.13 38.9442 Q566.13 33.4234 563.977 30.6804 Q561.824 27.9374 557.519 27.9374 Q552.345 27.9374 549.359 31.2359 Q546.373 34.5345 546.373 40.229 L546.373 62.208 L539.949 62.208 L539.949 23.3193 L546.373 23.3193 L546.373 29.361 Q548.665 25.854 551.755 24.1179 Q554.88 22.3818 558.942 22.3818 Q565.644 22.3818 569.081 26.5485 Q572.519 30.6804 572.519 38.7359 Z\" fill=\"#000000\" fill-rule=\"evenodd\" fill-opacity=\"1\" /><path clip-path=\"url(#clip300)\" d=\"M614.046 56.3747 L614.046 76.9996 L607.623 76.9996 L607.623 23.3193 L614.046 23.3193 L614.046 29.2221 Q616.06 25.7499 619.116 24.0832 Q622.206 22.3818 626.477 22.3818 Q633.56 22.3818 637.97 28.0068 Q642.414 33.6318 642.414 42.7984 Q642.414 51.965 637.97 57.59 Q633.56 63.2149 626.477 63.2149 Q622.206 63.2149 619.116 61.5483 Q616.06 59.8469 614.046 56.3747 M635.782 42.7984 Q635.782 35.7498 632.865 31.7568 Q629.984 27.729 624.914 27.729 Q619.845 27.729 616.928 31.7568 Q614.046 35.7498 614.046 42.7984 Q614.046 49.847 616.928 53.8747 Q619.845 57.8677 624.914 57.8677 Q629.984 57.8677 632.865 53.8747 Q635.782 49.847 635.782 42.7984 Z\" fill=\"#000000\" fill-rule=\"evenodd\" fill-opacity=\"1\" /><path clip-path=\"url(#clip300)\" d=\"M653.004 8.18051 L659.393 8.18051 L659.393 62.208 L653.004 62.208 L653.004 8.18051 Z\" fill=\"#000000\" fill-rule=\"evenodd\" fill-opacity=\"1\" /><path clip-path=\"url(#clip300)\" d=\"M687.83 27.7985 Q682.692 27.7985 679.705 31.8262 Q676.719 35.8193 676.719 42.7984 Q676.719 49.7775 679.671 53.8053 Q682.657 57.7983 687.83 57.7983 Q692.935 57.7983 695.921 53.7705 Q698.907 49.7428 698.907 42.7984 Q698.907 35.8887 695.921 31.8609 Q692.935 27.7985 687.83 27.7985 M687.83 22.3818 Q696.164 22.3818 700.921 27.7985 Q705.678 33.2151 705.678 42.7984 Q705.678 52.3469 700.921 57.7983 Q696.164 63.2149 687.83 63.2149 Q679.462 63.2149 674.705 57.7983 Q669.983 52.3469 669.983 42.7984 Q669.983 33.2151 674.705 27.7985 Q679.462 22.3818 687.83 22.3818 Z\" fill=\"#000000\" fill-rule=\"evenodd\" fill-opacity=\"1\" /><path clip-path=\"url(#clip300)\" d=\"M722.587 12.2777 L722.587 23.3193 L735.747 23.3193 L735.747 28.2846 L722.587 28.2846 L722.587 49.3956 Q722.587 54.1525 723.872 55.5066 Q725.191 56.8608 729.184 56.8608 L735.747 56.8608 L735.747 62.208 L729.184 62.208 Q721.789 62.208 718.976 59.465 Q716.164 56.6872 716.164 49.3956 L716.164 28.2846 L711.476 28.2846 L711.476 23.3193 L716.164 23.3193 L716.164 12.2777 L722.587 12.2777 Z\" fill=\"#000000\" fill-rule=\"evenodd\" fill-opacity=\"1\" /><path clip-path=\"url(#clip300)\" d=\"M786.441 8.18051 L786.441 13.493 L780.33 13.493 Q776.892 13.493 775.538 14.8819 Q774.219 16.2707 774.219 19.8818 L774.219 23.3193 L784.74 23.3193 L784.74 28.2846 L774.219 28.2846 L774.219 62.208 L767.795 62.208 L767.795 28.2846 L761.684 28.2846 L761.684 23.3193 L767.795 23.3193 L767.795 20.611 Q767.795 14.118 770.816 11.1666 Q773.837 8.18051 780.399 8.18051 L786.441 8.18051 Z\" fill=\"#000000\" fill-rule=\"evenodd\" fill-opacity=\"1\" /><path clip-path=\"url(#clip300)\" d=\"M814.323 29.2915 Q813.246 28.6665 811.962 28.3887 Q810.712 28.0762 809.184 28.0762 Q803.767 28.0762 800.851 31.6179 Q797.969 35.1248 797.969 41.722 L797.969 62.208 L791.545 62.208 L791.545 23.3193 L797.969 23.3193 L797.969 29.361 Q799.983 25.8193 803.212 24.1179 Q806.441 22.3818 811.059 22.3818 Q811.719 22.3818 812.517 22.486 Q813.316 22.5554 814.288 22.729 L814.323 29.2915 Z\" fill=\"#000000\" fill-rule=\"evenodd\" fill-opacity=\"1\" /><path clip-path=\"url(#clip300)\" d=\"M834.531 27.7985 Q829.392 27.7985 826.406 31.8262 Q823.42 35.8193 823.42 42.7984 Q823.42 49.7775 826.371 53.8053 Q829.357 57.7983 834.531 57.7983 Q839.635 57.7983 842.621 53.7705 Q845.607 49.7428 845.607 42.7984 Q845.607 35.8887 842.621 31.8609 Q839.635 27.7985 834.531 27.7985 M834.531 22.3818 Q842.864 22.3818 847.621 27.7985 Q852.378 33.2151 852.378 42.7984 Q852.378 52.3469 847.621 57.7983 Q842.864 63.2149 834.531 63.2149 Q826.163 63.2149 821.406 57.7983 Q816.684 52.3469 816.684 42.7984 Q816.684 33.2151 821.406 27.7985 Q826.163 22.3818 834.531 22.3818 Z\" fill=\"#000000\" fill-rule=\"evenodd\" fill-opacity=\"1\" /><path clip-path=\"url(#clip300)\" d=\"M893.246 30.7846 Q895.642 26.479 898.975 24.4304 Q902.308 22.3818 906.822 22.3818 Q912.899 22.3818 916.197 26.6526 Q919.496 30.8887 919.496 38.7359 L919.496 62.208 L913.072 62.208 L913.072 38.9442 Q913.072 33.354 911.093 30.6457 Q909.114 27.9374 905.051 27.9374 Q900.086 27.9374 897.204 31.2359 Q894.322 34.5345 894.322 40.229 L894.322 62.208 L887.899 62.208 L887.899 38.9442 Q887.899 33.3193 885.92 30.6457 Q883.94 27.9374 879.809 27.9374 Q874.913 27.9374 872.031 31.2707 Q869.149 34.5693 869.149 40.229 L869.149 62.208 L862.725 62.208 L862.725 23.3193 L869.149 23.3193 L869.149 29.361 Q871.336 25.7846 874.392 24.0832 Q877.447 22.3818 881.649 22.3818 Q885.885 22.3818 888.836 24.5346 Q891.822 26.6874 893.246 30.7846 Z\" fill=\"#000000\" fill-rule=\"evenodd\" fill-opacity=\"1\" /><path clip-path=\"url(#clip300)\" d=\"M961.162 12.2777 L961.162 23.3193 L974.322 23.3193 L974.322 28.2846 L961.162 28.2846 L961.162 49.3956 Q961.162 54.1525 962.447 55.5066 Q963.766 56.8608 967.759 56.8608 L974.322 56.8608 L974.322 62.208 L967.759 62.208 Q960.364 62.208 957.551 59.465 Q954.739 56.6872 954.739 49.3956 L954.739 28.2846 L950.051 28.2846 L950.051 23.3193 L954.739 23.3193 L954.739 12.2777 L961.162 12.2777 Z\" fill=\"#000000\" fill-rule=\"evenodd\" fill-opacity=\"1\" /><path clip-path=\"url(#clip300)\" d=\"M982.725 23.3193 L989.114 23.3193 L989.114 62.208 L982.725 62.208 L982.725 23.3193 M982.725 8.18051 L989.114 8.18051 L989.114 16.2707 L982.725 16.2707 L982.725 8.18051 Z\" fill=\"#000000\" fill-rule=\"evenodd\" fill-opacity=\"1\" /><path clip-path=\"url(#clip300)\" d=\"M1032.76 30.7846 Q1035.15 26.479 1038.49 24.4304 Q1041.82 22.3818 1046.34 22.3818 Q1052.41 22.3818 1055.71 26.6526 Q1059.01 30.8887 1059.01 38.7359 L1059.01 62.208 L1052.59 62.208 L1052.59 38.9442 Q1052.59 33.354 1050.61 30.6457 Q1048.63 27.9374 1044.56 27.9374 Q1039.6 27.9374 1036.72 31.2359 Q1033.84 34.5345 1033.84 40.229 L1033.84 62.208 L1027.41 62.208 L1027.41 38.9442 Q1027.41 33.3193 1025.43 30.6457 Q1023.45 27.9374 1019.32 27.9374 Q1014.43 27.9374 1011.54 31.2707 Q1008.66 34.5693 1008.66 40.229 L1008.66 62.208 L1002.24 62.208 L1002.24 23.3193 L1008.66 23.3193 L1008.66 29.361 Q1010.85 25.7846 1013.91 24.0832 Q1016.96 22.3818 1021.16 22.3818 Q1025.4 22.3818 1028.35 24.5346 Q1031.34 26.6874 1032.76 30.7846 Z\" fill=\"#000000\" fill-rule=\"evenodd\" fill-opacity=\"1\" /><path clip-path=\"url(#clip300)\" d=\"M1105.02 41.1664 L1105.02 44.2914 L1075.64 44.2914 Q1076.06 50.8886 1079.6 54.3608 Q1083.18 57.7983 1089.53 57.7983 Q1093.21 57.7983 1096.65 56.8955 Q1100.12 55.9928 1103.52 54.1872 L1103.52 60.2288 Q1100.09 61.6872 1096.47 62.4511 Q1092.86 63.2149 1089.15 63.2149 Q1079.84 63.2149 1074.39 57.7983 Q1068.97 52.3817 1068.97 43.1456 Q1068.97 33.597 1074.11 28.0068 Q1079.29 22.3818 1088.04 22.3818 Q1095.88 22.3818 1100.43 27.4512 Q1105.02 32.4859 1105.02 41.1664 M1098.63 39.2915 Q1098.56 34.0484 1095.68 30.9234 Q1092.83 27.7985 1088.11 27.7985 Q1082.76 27.7985 1079.53 30.8193 Q1076.34 33.8401 1075.85 39.3262 L1098.63 39.2915 Z\" fill=\"#000000\" fill-rule=\"evenodd\" fill-opacity=\"1\" /><path clip-path=\"url(#clip300)\" d=\"M1144.43 12.2777 L1144.43 23.3193 L1157.58 23.3193 L1157.58 28.2846 L1144.43 28.2846 L1144.43 49.3956 Q1144.43 54.1525 1145.71 55.5066 Q1147.03 56.8608 1151.02 56.8608 L1157.58 56.8608 L1157.58 62.208 L1151.02 62.208 Q1143.63 62.208 1140.81 59.465 Q1138 56.6872 1138 49.3956 L1138 28.2846 L1133.31 28.2846 L1133.31 23.3193 L1138 23.3193 L1138 12.2777 L1144.43 12.2777 Z\" fill=\"#000000\" fill-rule=\"evenodd\" fill-opacity=\"1\" /><path clip-path=\"url(#clip300)\" d=\"M1166.82 29.9165 L1211.33 29.9165 L1211.33 35.7498 L1166.82 35.7498 L1166.82 29.9165 M1166.82 44.0831 L1211.33 44.0831 L1211.33 49.9858 L1166.82 49.9858 L1166.82 44.0831 Z\" fill=\"#000000\" fill-rule=\"evenodd\" fill-opacity=\"1\" /><path clip-path=\"url(#clip300)\" d=\"M1232.52 56.3053 L1256.99 56.3053 L1256.99 62.208 L1224.08 62.208 L1224.08 56.3053 Q1228.07 52.1733 1234.95 45.2289 Q1241.86 38.2498 1243.63 36.2359 Q1246.99 32.4512 1248.31 29.8471 Q1249.67 27.2082 1249.67 24.6735 Q1249.67 20.5416 1246.75 17.9374 Q1243.87 15.3333 1239.22 15.3333 Q1235.92 15.3333 1232.24 16.4791 Q1228.59 17.6249 1224.42 19.9513 L1224.42 12.868 Q1228.66 11.1666 1232.34 10.2986 Q1236.02 9.43051 1239.08 9.43051 Q1247.13 9.43051 1251.92 13.4583 Q1256.72 17.486 1256.72 24.2221 Q1256.72 27.4165 1255.5 30.2984 Q1254.32 33.1457 1251.16 37.0345 Q1250.29 38.0415 1245.64 42.8678 Q1240.99 47.6595 1232.52 56.3053 Z\" fill=\"#000000\" fill-rule=\"evenodd\" fill-opacity=\"1\" /><path clip-path=\"url(#clip300)\" d=\"M1299.74 12.2777 L1299.74 23.3193 L1312.9 23.3193 L1312.9 28.2846 L1299.74 28.2846 L1299.74 49.3956 Q1299.74 54.1525 1301.02 55.5066 Q1302.34 56.8608 1306.33 56.8608 L1312.9 56.8608 L1312.9 62.208 L1306.33 62.208 Q1298.94 62.208 1296.13 59.465 Q1293.31 56.6872 1293.31 49.3956 L1293.31 28.2846 L1288.63 28.2846 L1288.63 23.3193 L1293.31 23.3193 L1293.31 12.2777 L1299.74 12.2777 Z\" fill=\"#000000\" fill-rule=\"evenodd\" fill-opacity=\"1\" /><path clip-path=\"url(#clip300)\" d=\"M1336.37 27.7985 Q1331.23 27.7985 1328.24 31.8262 Q1325.26 35.8193 1325.26 42.7984 Q1325.26 49.7775 1328.21 53.8053 Q1331.2 57.7983 1336.37 57.7983 Q1341.47 57.7983 1344.46 53.7705 Q1347.44 49.7428 1347.44 42.7984 Q1347.44 35.8887 1344.46 31.8609 Q1341.47 27.7985 1336.37 27.7985 M1336.37 22.3818 Q1344.7 22.3818 1349.46 27.7985 Q1354.22 33.2151 1354.22 42.7984 Q1354.22 52.3469 1349.46 57.7983 Q1344.7 63.2149 1336.37 63.2149 Q1328 63.2149 1323.24 57.7983 Q1318.52 52.3469 1318.52 42.7984 Q1318.52 33.2151 1323.24 27.7985 Q1328 22.3818 1336.37 22.3818 Z\" fill=\"#000000\" fill-rule=\"evenodd\" fill-opacity=\"1\" /><path clip-path=\"url(#clip300)\" d=\"M1393.73 12.2777 L1393.73 23.3193 L1406.89 23.3193 L1406.89 28.2846 L1393.73 28.2846 L1393.73 49.3956 Q1393.73 54.1525 1395.01 55.5066 Q1396.33 56.8608 1400.33 56.8608 L1406.89 56.8608 L1406.89 62.208 L1400.33 62.208 Q1392.93 62.208 1390.12 59.465 Q1387.31 56.6872 1387.31 49.3956 L1387.31 28.2846 L1382.62 28.2846 L1382.62 23.3193 L1387.31 23.3193 L1387.31 12.2777 L1393.73 12.2777 Z\" fill=\"#000000\" fill-rule=\"evenodd\" fill-opacity=\"1\" /><path clip-path=\"url(#clip300)\" d=\"M1416.13 29.9165 L1460.64 29.9165 L1460.64 35.7498 L1416.13 35.7498 L1416.13 29.9165 M1416.13 44.0831 L1460.64 44.0831 L1460.64 49.9858 L1416.13 49.9858 L1416.13 44.0831 Z\" fill=\"#000000\" fill-rule=\"evenodd\" fill-opacity=\"1\" /><path clip-path=\"url(#clip300)\" d=\"M1495.05 16.4791 L1477.34 44.1525 L1495.05 44.1525 L1495.05 16.4791 M1493.21 10.368 L1502.03 10.368 L1502.03 44.1525 L1509.42 44.1525 L1509.42 49.9858 L1502.03 49.9858 L1502.03 62.208 L1495.05 62.208 L1495.05 49.9858 L1471.65 49.9858 L1471.65 43.215 L1493.21 10.368 Z\" fill=\"#000000\" fill-rule=\"evenodd\" fill-opacity=\"1\" /><path clip-path=\"url(#clip300)\" d=\"M1540.29 16.4791 L1522.58 44.1525 L1540.29 44.1525 L1540.29 16.4791 M1538.45 10.368 L1547.27 10.368 L1547.27 44.1525 L1554.67 44.1525 L1554.67 49.9858 L1547.27 49.9858 L1547.27 62.208 L1540.29 62.208 L1540.29 49.9858 L1516.89 49.9858 L1516.89 43.215 L1538.45 10.368 Z\" fill=\"#000000\" fill-rule=\"evenodd\" fill-opacity=\"1\" /><path clip-path=\"url(#clip302)\" d=\"\n",
       "M259.363 117.433 L259.363 636.139 L462.382 636.139 L462.382 117.433 L259.363 117.433 L259.363 117.433  Z\n",
       "  \" fill=\"#009af9\" fill-rule=\"evenodd\" fill-opacity=\"1\"/>\n",
       "<polyline clip-path=\"url(#clip302)\" style=\"stroke:#000000; stroke-linecap:butt; stroke-linejoin:round; stroke-width:4; stroke-opacity:1; fill:none\" points=\"\n",
       "  259.363,117.433 259.363,636.139 462.382,636.139 462.382,117.433 259.363,117.433 \n",
       "  \"/>\n",
       "<path clip-path=\"url(#clip302)\" d=\"\n",
       "M462.382 176.714 L462.382 636.139 L665.401 636.139 L665.401 176.714 L462.382 176.714 L462.382 176.714  Z\n",
       "  \" fill=\"#009af9\" fill-rule=\"evenodd\" fill-opacity=\"1\"/>\n",
       "<polyline clip-path=\"url(#clip302)\" style=\"stroke:#000000; stroke-linecap:butt; stroke-linejoin:round; stroke-width:4; stroke-opacity:1; fill:none\" points=\"\n",
       "  462.382,176.714 462.382,636.139 665.401,636.139 665.401,176.714 462.382,176.714 \n",
       "  \"/>\n",
       "<path clip-path=\"url(#clip302)\" d=\"\n",
       "M665.401 324.915 L665.401 636.139 L868.42 636.139 L868.42 324.915 L665.401 324.915 L665.401 324.915  Z\n",
       "  \" fill=\"#009af9\" fill-rule=\"evenodd\" fill-opacity=\"1\"/>\n",
       "<polyline clip-path=\"url(#clip302)\" style=\"stroke:#000000; stroke-linecap:butt; stroke-linejoin:round; stroke-width:4; stroke-opacity:1; fill:none\" points=\"\n",
       "  665.401,324.915 665.401,636.139 868.42,636.139 868.42,324.915 665.401,324.915 \n",
       "  \"/>\n",
       "<path clip-path=\"url(#clip302)\" d=\"\n",
       "M868.42 473.117 L868.42 636.139 L1071.44 636.139 L1071.44 473.117 L868.42 473.117 L868.42 473.117  Z\n",
       "  \" fill=\"#009af9\" fill-rule=\"evenodd\" fill-opacity=\"1\"/>\n",
       "<polyline clip-path=\"url(#clip302)\" style=\"stroke:#000000; stroke-linecap:butt; stroke-linejoin:round; stroke-width:4; stroke-opacity:1; fill:none\" points=\"\n",
       "  868.42,473.117 868.42,636.139 1071.44,636.139 1071.44,473.117 868.42,473.117 \n",
       "  \"/>\n",
       "<path clip-path=\"url(#clip302)\" d=\"\n",
       "M1071.44 502.757 L1071.44 636.139 L1274.46 636.139 L1274.46 502.757 L1071.44 502.757 L1071.44 502.757  Z\n",
       "  \" fill=\"#009af9\" fill-rule=\"evenodd\" fill-opacity=\"1\"/>\n",
       "<polyline clip-path=\"url(#clip302)\" style=\"stroke:#000000; stroke-linecap:butt; stroke-linejoin:round; stroke-width:4; stroke-opacity:1; fill:none\" points=\"\n",
       "  1071.44,502.757 1071.44,636.139 1274.46,636.139 1274.46,502.757 1071.44,502.757 \n",
       "  \"/>\n",
       "<path clip-path=\"url(#clip302)\" d=\"\n",
       "M1274.46 576.858 L1274.46 636.139 L1477.48 636.139 L1477.48 576.858 L1274.46 576.858 L1274.46 576.858  Z\n",
       "  \" fill=\"#009af9\" fill-rule=\"evenodd\" fill-opacity=\"1\"/>\n",
       "<polyline clip-path=\"url(#clip302)\" style=\"stroke:#000000; stroke-linecap:butt; stroke-linejoin:round; stroke-width:4; stroke-opacity:1; fill:none\" points=\"\n",
       "  1274.46,576.858 1274.46,636.139 1477.48,636.139 1477.48,576.858 1274.46,576.858 \n",
       "  \"/>\n",
       "</svg>\n"
      ]
     },
     "metadata": {},
     "output_type": "display_data"
    },
    {
     "name": "stdout",
     "output_type": "stream",
     "text": [
      "The average time taken by cars to travel from position 1 to 6 is 31.666666666666668 \n",
      "The standard deviation of the time taken by cars to travel from 1 to 6 is 114.33333333333333 \n",
      "The maximum congetsion is at position [1] during the time t=2 to t=44\n"
     ]
    },
    {
     "data": {
      "text/plain": [
       "1-element Vector{Int64}:\n",
       " 1"
      ]
     },
     "execution_count": 26,
     "metadata": {},
     "output_type": "execute_result"
    }
   ],
   "source": [
    "a = 1\n",
    "b = 6\n",
    "t1 = 2\n",
    "t2 = 44\n",
    "gr(size=(400,200))\n",
    "ttime = time_taken(H1, a, b)\n",
    "ct = congest_plot(H1,t1,t2,L_main)"
   ]
  },
  {
   "cell_type": "code",
   "execution_count": 27,
   "metadata": {
    "scrolled": false
   },
   "outputs": [
    {
     "data": {
      "image/png": "[encoded data removed]",
      "text/plain": [
       "PyPlot.Figure(PyObject <Figure size 750x100 with 1 Axes>)"
      ]
     },
     "metadata": {},
     "output_type": "display_data"
    }
   ],
   "source": [
    "pyplot(size=(750,100))\n",
    "nCol,nRow=L_main,1\n",
    "plotHistory(H1,C,nCol,nRow;delay=0.1,hotspot=ct)"
   ]
  },
  {
   "cell_type": "markdown",
   "metadata": {},
   "source": [
    "## Scenario 2: Straight Road + Side Road"
   ]
  },
  {
   "cell_type": "code",
   "execution_count": 28,
   "metadata": {},
   "outputs": [],
   "source": [
    "L = 18\n",
    "C = c_matrix_2d(L)\n",
    "\n",
    "H2 = copy(H)\n",
    "\n",
    "for it = 1:tM+1\n",
    "    H2 = next_step(H2, p_mov, it, C, L);\n",
    "end\n",
    "\n",
    "car_speeds = zeros(Float64, NC, 1)\n",
    "for row = 1:NC\n",
    "    car_speeds[row, 1] = p_mov # Assuming that cars move at the same speed\n",
    "end"
   ]
  },
  {
   "cell_type": "code",
   "execution_count": 29,
   "metadata": {},
   "outputs": [
    {
     "data": {
      "image/png": "[encoded data removed]",
      "text/plain": [
       "PyPlot.Figure(PyObject <Figure size 1000x1000 with 1 Axes>)"
      ]
     },
     "metadata": {},
     "output_type": "display_data"
    }
   ],
   "source": [
    "pyplot(size=(1000,1000))\n",
    "nCol,nRow=6,3\n",
    "plotHistory(H2,C,nCol,nRow;delay=0.1)"
   ]
  },
  {
   "cell_type": "code",
   "execution_count": 30,
   "metadata": {},
   "outputs": [
    {
     "data": {
      "image/svg+xml": [
       "<?xml version=\"1.0\" encoding=\"utf-8\"?>\n",
       "<svg xmlns=\"http://www.w3.org/2000/svg\" xmlns:xlink=\"http://www.w3.org/1999/xlink\" width=\"400\" height=\"200\" viewBox=\"0 0 1600 800\">\n",
       "<defs>\n",
       "  <clipPath id=\"clip340\">\n",
       "    <rect x=\"0\" y=\"0\" width=\"1600\" height=\"800\"/>\n",
       "  </clipPath>\n",
       "</defs>\n",
       "<path clip-path=\"url(#clip340)\" d=\"\n",
       "M0 800 L1600 800 L1600 0 L0 0  Z\n",
       "  \" fill=\"#ffffff\" fill-rule=\"evenodd\" fill-opacity=\"1\"/>\n",
       "<defs>\n",
       "  <clipPath id=\"clip341\">\n",
       "    <rect x=\"320\" y=\"0\" width=\"1121\" height=\"800\"/>\n",
       "  </clipPath>\n",
       "</defs>\n",
       "<path clip-path=\"url(#clip340)\" d=\"\n",
       "M199.5 651.7 L1552.76 651.7 L1552.76 101.872 L199.5 101.872  Z\n",
       "  \" fill=\"#ffffff\" fill-rule=\"evenodd\" fill-opacity=\"1\"/>\n",
       "<defs>\n",
       "  <clipPath id=\"clip342\">\n",
       "    <rect x=\"199\" y=\"101\" width=\"1354\" height=\"551\"/>\n",
       "  </clipPath>\n",
       "</defs>\n",
       "<polyline clip-path=\"url(#clip342)\" style=\"stroke:#000000; stroke-linecap:butt; stroke-linejoin:round; stroke-width:2; stroke-opacity:0.1; fill:none\" points=\"\n",
       "  273.932,651.7 273.932,101.872 \n",
       "  \"/>\n",
       "<polyline clip-path=\"url(#clip342)\" style=\"stroke:#000000; stroke-linecap:butt; stroke-linejoin:round; stroke-width:2; stroke-opacity:0.1; fill:none\" points=\"\n",
       "  514.81,651.7 514.81,101.872 \n",
       "  \"/>\n",
       "<polyline clip-path=\"url(#clip342)\" style=\"stroke:#000000; stroke-linecap:butt; stroke-linejoin:round; stroke-width:2; stroke-opacity:0.1; fill:none\" points=\"\n",
       "  755.689,651.7 755.689,101.872 \n",
       "  \"/>\n",
       "<polyline clip-path=\"url(#clip342)\" style=\"stroke:#000000; stroke-linecap:butt; stroke-linejoin:round; stroke-width:2; stroke-opacity:0.1; fill:none\" points=\"\n",
       "  996.567,651.7 996.567,101.872 \n",
       "  \"/>\n",
       "<polyline clip-path=\"url(#clip342)\" style=\"stroke:#000000; stroke-linecap:butt; stroke-linejoin:round; stroke-width:2; stroke-opacity:0.1; fill:none\" points=\"\n",
       "  1237.45,651.7 1237.45,101.872 \n",
       "  \"/>\n",
       "<polyline clip-path=\"url(#clip342)\" style=\"stroke:#000000; stroke-linecap:butt; stroke-linejoin:round; stroke-width:2; stroke-opacity:0.1; fill:none\" points=\"\n",
       "  1478.32,651.7 1478.32,101.872 \n",
       "  \"/>\n",
       "<polyline clip-path=\"url(#clip340)\" style=\"stroke:#000000; stroke-linecap:butt; stroke-linejoin:round; stroke-width:4; stroke-opacity:1; fill:none\" points=\"\n",
       "  199.5,651.7 1552.76,651.7 \n",
       "  \"/>\n",
       "<polyline clip-path=\"url(#clip340)\" style=\"stroke:#000000; stroke-linecap:butt; stroke-linejoin:round; stroke-width:4; stroke-opacity:1; fill:none\" points=\"\n",
       "  273.932,651.7 273.932,645.102 \n",
       "  \"/>\n",
       "<polyline clip-path=\"url(#clip340)\" style=\"stroke:#000000; stroke-linecap:butt; stroke-linejoin:round; stroke-width:4; stroke-opacity:1; fill:none\" points=\"\n",
       "  514.81,651.7 514.81,645.102 \n",
       "  \"/>\n",
       "<polyline clip-path=\"url(#clip340)\" style=\"stroke:#000000; stroke-linecap:butt; stroke-linejoin:round; stroke-width:4; stroke-opacity:1; fill:none\" points=\"\n",
       "  755.689,651.7 755.689,645.102 \n",
       "  \"/>\n",
       "<polyline clip-path=\"url(#clip340)\" style=\"stroke:#000000; stroke-linecap:butt; stroke-linejoin:round; stroke-width:4; stroke-opacity:1; fill:none\" points=\"\n",
       "  996.567,651.7 996.567,645.102 \n",
       "  \"/>\n",
       "<polyline clip-path=\"url(#clip340)\" style=\"stroke:#000000; stroke-linecap:butt; stroke-linejoin:round; stroke-width:4; stroke-opacity:1; fill:none\" points=\"\n",
       "  1237.45,651.7 1237.45,645.102 \n",
       "  \"/>\n",
       "<polyline clip-path=\"url(#clip340)\" style=\"stroke:#000000; stroke-linecap:butt; stroke-linejoin:round; stroke-width:4; stroke-opacity:1; fill:none\" points=\"\n",
       "  1478.32,651.7 1478.32,645.102 \n",
       "  \"/>\n",
       "<path clip-path=\"url(#clip340)\" d=\"M249.117 702.037 L256.756 702.037 L256.756 675.671 L248.446 677.338 L248.446 673.079 L256.71 671.412 L261.385 671.412 L261.385 702.037 L269.024 702.037 L269.024 705.972 L249.117 705.972 L249.117 702.037 Z\" fill=\"#000000\" fill-rule=\"evenodd\" fill-opacity=\"1\" /><path clip-path=\"url(#clip340)\" d=\"M278.515 671.412 L296.871 671.412 L296.871 675.347 L282.797 675.347 L282.797 683.819 Q283.816 683.472 284.834 683.31 Q285.853 683.125 286.871 683.125 Q292.658 683.125 296.038 686.296 Q299.418 689.467 299.418 694.884 Q299.418 700.463 295.945 703.564 Q292.473 706.643 286.154 706.643 Q283.978 706.643 281.709 706.273 Q279.464 705.902 277.057 705.162 L277.057 700.463 Q279.14 701.597 281.362 702.152 Q283.584 702.708 286.061 702.708 Q290.066 702.708 292.404 700.602 Q294.742 698.495 294.742 694.884 Q294.742 691.273 292.404 689.166 Q290.066 687.06 286.061 687.06 Q284.186 687.06 282.311 687.477 Q280.459 687.893 278.515 688.773 L278.515 671.412 Z\" fill=\"#000000\" fill-rule=\"evenodd\" fill-opacity=\"1\" /><path clip-path=\"url(#clip340)\" d=\"M493.583 702.037 L509.903 702.037 L509.903 705.972 L487.958 705.972 L487.958 702.037 Q490.621 699.282 495.204 694.652 Q499.81 690 500.991 688.657 Q503.236 686.134 504.116 684.398 Q505.019 682.639 505.019 680.949 Q505.019 678.194 503.074 676.458 Q501.153 674.722 498.051 674.722 Q495.852 674.722 493.398 675.486 Q490.968 676.25 488.19 677.801 L488.19 673.079 Q491.014 671.944 493.468 671.366 Q495.921 670.787 497.958 670.787 Q503.329 670.787 506.523 673.472 Q509.718 676.157 509.718 680.648 Q509.718 682.778 508.907 684.699 Q508.12 686.597 506.014 689.19 Q505.435 689.861 502.333 693.078 Q499.232 696.273 493.583 702.037 Z\" fill=\"#000000\" fill-rule=\"evenodd\" fill-opacity=\"1\" /><path clip-path=\"url(#clip340)\" d=\"M529.718 674.491 Q526.106 674.491 524.278 678.055 Q522.472 681.597 522.472 688.727 Q522.472 695.833 524.278 699.398 Q526.106 702.939 529.718 702.939 Q533.352 702.939 535.157 699.398 Q536.986 695.833 536.986 688.727 Q536.986 681.597 535.157 678.055 Q533.352 674.491 529.718 674.491 M529.718 670.787 Q535.528 670.787 538.583 675.393 Q541.662 679.977 541.662 688.727 Q541.662 697.453 538.583 702.06 Q535.528 706.643 529.718 706.643 Q523.907 706.643 520.829 702.06 Q517.773 697.453 517.773 688.727 Q517.773 679.977 520.829 675.393 Q523.907 670.787 529.718 670.787 Z\" fill=\"#000000\" fill-rule=\"evenodd\" fill-opacity=\"1\" /><path clip-path=\"url(#clip340)\" d=\"M734.96 702.037 L751.279 702.037 L751.279 705.972 L729.335 705.972 L729.335 702.037 Q731.997 699.282 736.58 694.652 Q741.187 690 742.367 688.657 Q744.612 686.134 745.492 684.398 Q746.395 682.639 746.395 680.949 Q746.395 678.194 744.45 676.458 Q742.529 674.722 739.427 674.722 Q737.228 674.722 734.775 675.486 Q732.344 676.25 729.566 677.801 L729.566 673.079 Q732.39 671.944 734.844 671.366 Q737.298 670.787 739.335 670.787 Q744.705 670.787 747.899 673.472 Q751.094 676.157 751.094 680.648 Q751.094 682.778 750.284 684.699 Q749.497 686.597 747.39 689.19 Q746.811 689.861 743.71 693.078 Q740.608 696.273 734.96 702.037 Z\" fill=\"#000000\" fill-rule=\"evenodd\" fill-opacity=\"1\" /><path clip-path=\"url(#clip340)\" d=\"M761.14 671.412 L779.496 671.412 L779.496 675.347 L765.422 675.347 L765.422 683.819 Q766.441 683.472 767.46 683.31 Q768.478 683.125 769.497 683.125 Q775.284 683.125 778.663 686.296 Q782.043 689.467 782.043 694.884 Q782.043 700.463 778.571 703.564 Q775.098 706.643 768.779 706.643 Q766.603 706.643 764.335 706.273 Q762.089 705.902 759.682 705.162 L759.682 700.463 Q761.765 701.597 763.987 702.152 Q766.21 702.708 768.686 702.708 Q772.691 702.708 775.029 700.602 Q777.367 698.495 777.367 694.884 Q777.367 691.273 775.029 689.166 Q772.691 687.06 768.686 687.06 Q766.811 687.06 764.936 687.477 Q763.085 687.893 761.14 688.773 L761.14 671.412 Z\" fill=\"#000000\" fill-rule=\"evenodd\" fill-opacity=\"1\" /><path clip-path=\"url(#clip340)\" d=\"M985.41 687.338 Q988.766 688.055 990.641 690.324 Q992.54 692.592 992.54 695.926 Q992.54 701.041 989.021 703.842 Q985.503 706.643 979.021 706.643 Q976.845 706.643 974.53 706.203 Q972.239 705.787 969.785 704.93 L969.785 700.416 Q971.729 701.551 974.044 702.129 Q976.359 702.708 978.882 702.708 Q983.28 702.708 985.572 700.972 Q987.887 699.236 987.887 695.926 Q987.887 692.87 985.734 691.157 Q983.604 689.421 979.785 689.421 L975.757 689.421 L975.757 685.578 L979.97 685.578 Q983.419 685.578 985.248 684.213 Q987.077 682.824 987.077 680.231 Q987.077 677.569 985.178 676.157 Q983.303 674.722 979.785 674.722 Q977.864 674.722 975.665 675.139 Q973.466 675.555 970.827 676.435 L970.827 672.268 Q973.489 671.528 975.804 671.157 Q978.141 670.787 980.202 670.787 Q985.526 670.787 988.628 673.217 Q991.729 675.625 991.729 679.745 Q991.729 682.615 990.086 684.606 Q988.442 686.574 985.41 687.338 Z\" fill=\"#000000\" fill-rule=\"evenodd\" fill-opacity=\"1\" /><path clip-path=\"url(#clip340)\" d=\"M1011.41 674.491 Q1007.79 674.491 1005.97 678.055 Q1004.16 681.597 1004.16 688.727 Q1004.16 695.833 1005.97 699.398 Q1007.79 702.939 1011.41 702.939 Q1015.04 702.939 1016.84 699.398 Q1018.67 695.833 1018.67 688.727 Q1018.67 681.597 1016.84 678.055 Q1015.04 674.491 1011.41 674.491 M1011.41 670.787 Q1017.22 670.787 1020.27 675.393 Q1023.35 679.977 1023.35 688.727 Q1023.35 697.453 1020.27 702.06 Q1017.22 706.643 1011.41 706.643 Q1005.6 706.643 1002.52 702.06 Q999.461 697.453 999.461 688.727 Q999.461 679.977 1002.52 675.393 Q1005.6 670.787 1011.41 670.787 Z\" fill=\"#000000\" fill-rule=\"evenodd\" fill-opacity=\"1\" /><path clip-path=\"url(#clip340)\" d=\"M1226.79 687.338 Q1230.14 688.055 1232.02 690.324 Q1233.92 692.592 1233.92 695.926 Q1233.92 701.041 1230.4 703.842 Q1226.88 706.643 1220.4 706.643 Q1218.22 706.643 1215.91 706.203 Q1213.61 705.787 1211.16 704.93 L1211.16 700.416 Q1213.11 701.551 1215.42 702.129 Q1217.74 702.708 1220.26 702.708 Q1224.66 702.708 1226.95 700.972 Q1229.26 699.236 1229.26 695.926 Q1229.26 692.87 1227.11 691.157 Q1224.98 689.421 1221.16 689.421 L1217.13 689.421 L1217.13 685.578 L1221.35 685.578 Q1224.8 685.578 1226.62 684.213 Q1228.45 682.824 1228.45 680.231 Q1228.45 677.569 1226.55 676.157 Q1224.68 674.722 1221.16 674.722 Q1219.24 674.722 1217.04 675.139 Q1214.84 675.555 1212.2 676.435 L1212.2 672.268 Q1214.86 671.528 1217.18 671.157 Q1219.52 670.787 1221.58 670.787 Q1226.9 670.787 1230 673.217 Q1233.11 675.625 1233.11 679.745 Q1233.11 682.615 1231.46 684.606 Q1229.82 686.574 1226.79 687.338 Z\" fill=\"#000000\" fill-rule=\"evenodd\" fill-opacity=\"1\" /><path clip-path=\"url(#clip340)\" d=\"M1242.83 671.412 L1261.18 671.412 L1261.18 675.347 L1247.11 675.347 L1247.11 683.819 Q1248.13 683.472 1249.15 683.31 Q1250.17 683.125 1251.18 683.125 Q1256.97 683.125 1260.35 686.296 Q1263.73 689.467 1263.73 694.884 Q1263.73 700.463 1260.26 703.564 Q1256.79 706.643 1250.47 706.643 Q1248.29 706.643 1246.02 706.273 Q1243.78 705.902 1241.37 705.162 L1241.37 700.463 Q1243.45 701.597 1245.67 702.152 Q1247.9 702.708 1250.37 702.708 Q1254.38 702.708 1256.72 700.602 Q1259.05 698.495 1259.05 694.884 Q1259.05 691.273 1256.72 689.166 Q1254.38 687.06 1250.37 687.06 Q1248.5 687.06 1246.62 687.477 Q1244.77 687.893 1242.83 688.773 L1242.83 671.412 Z\" fill=\"#000000\" fill-rule=\"evenodd\" fill-opacity=\"1\" /><path clip-path=\"url(#clip340)\" d=\"M1466.5 675.486 L1454.69 693.935 L1466.5 693.935 L1466.5 675.486 M1465.27 671.412 L1471.15 671.412 L1471.15 693.935 L1476.08 693.935 L1476.08 697.824 L1471.15 697.824 L1471.15 705.972 L1466.5 705.972 L1466.5 697.824 L1450.89 697.824 L1450.89 693.31 L1465.27 671.412 Z\" fill=\"#000000\" fill-rule=\"evenodd\" fill-opacity=\"1\" /><path clip-path=\"url(#clip340)\" d=\"M1493.81 674.491 Q1490.2 674.491 1488.37 678.055 Q1486.57 681.597 1486.57 688.727 Q1486.57 695.833 1488.37 699.398 Q1490.2 702.939 1493.81 702.939 Q1497.44 702.939 1499.25 699.398 Q1501.08 695.833 1501.08 688.727 Q1501.08 681.597 1499.25 678.055 Q1497.44 674.491 1493.81 674.491 M1493.81 670.787 Q1499.62 670.787 1502.68 675.393 Q1505.75 679.977 1505.75 688.727 Q1505.75 697.453 1502.68 702.06 Q1499.62 706.643 1493.81 706.643 Q1488 706.643 1484.92 702.06 Q1481.87 697.453 1481.87 688.727 Q1481.87 679.977 1484.92 675.393 Q1488 670.787 1493.81 670.787 Z\" fill=\"#000000\" fill-rule=\"evenodd\" fill-opacity=\"1\" /><path clip-path=\"url(#clip340)\" d=\"M697.506 737.044 L737.706 737.044 L737.706 742.455 L720.837 742.455 L720.837 784.564 L714.375 784.564 L714.375 742.455 L697.506 742.455 L697.506 737.044 Z\" fill=\"#000000\" fill-rule=\"evenodd\" fill-opacity=\"1\" /><path clip-path=\"url(#clip340)\" d=\"M741.652 748.916 L747.509 748.916 L747.509 784.564 L741.652 784.564 L741.652 748.916 M741.652 735.039 L747.509 735.039 L747.509 742.455 L741.652 742.455 L741.652 735.039 Z\" fill=\"#000000\" fill-rule=\"evenodd\" fill-opacity=\"1\" /><path clip-path=\"url(#clip340)\" d=\"M787.517 755.759 Q789.714 751.812 792.769 749.934 Q795.825 748.057 799.962 748.057 Q805.532 748.057 808.556 751.971 Q811.58 755.855 811.58 763.048 L811.58 784.564 L805.691 784.564 L805.691 763.239 Q805.691 758.114 803.877 755.632 Q802.063 753.149 798.339 753.149 Q793.788 753.149 791.146 756.173 Q788.504 759.197 788.504 764.416 L788.504 784.564 L782.616 784.564 L782.616 763.239 Q782.616 758.083 780.802 755.632 Q778.987 753.149 775.2 753.149 Q770.712 753.149 768.07 756.205 Q765.428 759.228 765.428 764.416 L765.428 784.564 L759.54 784.564 L759.54 748.916 L765.428 748.916 L765.428 754.454 Q767.434 751.176 770.235 749.616 Q773.035 748.057 776.887 748.057 Q780.77 748.057 783.475 750.03 Q786.212 752.003 787.517 755.759 Z\" fill=\"#000000\" fill-rule=\"evenodd\" fill-opacity=\"1\" /><path clip-path=\"url(#clip340)\" d=\"M853.753 765.276 L853.753 768.14 L826.826 768.14 Q827.208 774.188 830.454 777.371 Q833.732 780.522 839.557 780.522 Q842.931 780.522 846.082 779.694 Q849.265 778.867 852.384 777.211 L852.384 782.75 Q849.233 784.086 845.923 784.787 Q842.613 785.487 839.207 785.487 Q830.677 785.487 825.68 780.522 Q820.715 775.556 820.715 767.09 Q820.715 758.337 825.425 753.213 Q830.168 748.057 838.188 748.057 Q845.382 748.057 849.551 752.703 Q853.753 757.319 853.753 765.276 M847.896 763.557 Q847.832 758.751 845.191 755.886 Q842.581 753.022 838.252 753.022 Q833.35 753.022 830.39 755.791 Q827.462 758.56 827.017 763.589 L847.896 763.557 Z\" fill=\"#000000\" fill-rule=\"evenodd\" fill-opacity=\"1\" /><path clip-path=\"url(#clip340)\" d=\"M889.878 738.794 L889.878 748.916 L901.941 748.916 L901.941 753.467 L889.878 753.467 L889.878 772.819 Q889.878 777.18 891.056 778.421 Q892.265 779.662 895.925 779.662 L901.941 779.662 L901.941 784.564 L895.925 784.564 Q889.146 784.564 886.568 782.049 Q883.99 779.503 883.99 772.819 L883.99 753.467 L879.693 753.467 L879.693 748.916 L883.99 748.916 L883.99 738.794 L889.878 738.794 Z\" fill=\"#000000\" fill-rule=\"evenodd\" fill-opacity=\"1\" /><path clip-path=\"url(#clip340)\" d=\"M925.844 766.644 Q918.746 766.644 916.009 768.268 Q913.272 769.891 913.272 773.806 Q913.272 776.925 915.309 778.771 Q917.378 780.585 920.911 780.585 Q925.781 780.585 928.709 777.148 Q931.669 773.678 931.669 767.949 L931.669 766.644 L925.844 766.644 M937.525 764.225 L937.525 784.564 L931.669 784.564 L931.669 779.153 Q929.664 782.4 926.672 783.959 Q923.68 785.487 919.351 785.487 Q913.877 785.487 910.63 782.431 Q907.415 779.344 907.415 774.188 Q907.415 768.172 911.426 765.117 Q915.468 762.061 923.457 762.061 L931.669 762.061 L931.669 761.488 Q931.669 757.446 928.995 755.25 Q926.353 753.022 921.547 753.022 Q918.492 753.022 915.595 753.754 Q912.699 754.486 910.025 755.95 L910.025 750.539 Q913.24 749.298 916.264 748.693 Q919.288 748.057 922.152 748.057 Q929.886 748.057 933.706 752.067 Q937.525 756.077 937.525 764.225 Z\" fill=\"#000000\" fill-rule=\"evenodd\" fill-opacity=\"1\" /><path clip-path=\"url(#clip340)\" d=\"M949.365 735.039 L955.254 735.039 L955.254 764.289 L972.728 748.916 L980.207 748.916 L961.301 765.594 L981.003 784.564 L973.364 784.564 L955.254 767.154 L955.254 784.564 L949.365 784.564 L949.365 735.039 Z\" fill=\"#000000\" fill-rule=\"evenodd\" fill-opacity=\"1\" /><path clip-path=\"url(#clip340)\" d=\"M1015.51 765.276 L1015.51 768.14 L988.578 768.14 Q988.96 774.188 992.207 777.371 Q995.485 780.522 1001.31 780.522 Q1004.68 780.522 1007.83 779.694 Q1011.02 778.867 1014.14 777.211 L1014.14 782.75 Q1010.99 784.086 1007.68 784.787 Q1004.37 785.487 1000.96 785.487 Q992.429 785.487 987.432 780.522 Q982.467 775.556 982.467 767.09 Q982.467 758.337 987.178 753.213 Q991.92 748.057 999.941 748.057 Q1007.13 748.057 1011.3 752.703 Q1015.51 757.319 1015.51 765.276 M1009.65 763.557 Q1009.59 758.751 1006.94 755.886 Q1004.33 753.022 1000 753.022 Q995.103 753.022 992.143 755.791 Q989.215 758.56 988.769 763.589 L1009.65 763.557 Z\" fill=\"#000000\" fill-rule=\"evenodd\" fill-opacity=\"1\" /><path clip-path=\"url(#clip340)\" d=\"M1054.75 763.048 L1054.75 784.564 L1048.89 784.564 L1048.89 763.239 Q1048.89 758.178 1046.92 755.664 Q1044.95 753.149 1041 753.149 Q1036.26 753.149 1033.52 756.173 Q1030.78 759.197 1030.78 764.416 L1030.78 784.564 L1024.89 784.564 L1024.89 748.916 L1030.78 748.916 L1030.78 754.454 Q1032.88 751.239 1035.72 749.648 Q1038.58 748.057 1042.3 748.057 Q1048.45 748.057 1051.6 751.876 Q1054.75 755.664 1054.75 763.048 Z\" fill=\"#000000\" fill-rule=\"evenodd\" fill-opacity=\"1\" /><polyline clip-path=\"url(#clip342)\" style=\"stroke:#000000; stroke-linecap:butt; stroke-linejoin:round; stroke-width:2; stroke-opacity:0.1; fill:none\" points=\"\n",
       "  199.5,636.139 1552.76,636.139 \n",
       "  \"/>\n",
       "<polyline clip-path=\"url(#clip342)\" style=\"stroke:#000000; stroke-linecap:butt; stroke-linejoin:round; stroke-width:2; stroke-opacity:0.1; fill:none\" points=\"\n",
       "  199.5,506.462 1552.76,506.462 \n",
       "  \"/>\n",
       "<polyline clip-path=\"url(#clip342)\" style=\"stroke:#000000; stroke-linecap:butt; stroke-linejoin:round; stroke-width:2; stroke-opacity:0.1; fill:none\" points=\"\n",
       "  199.5,376.786 1552.76,376.786 \n",
       "  \"/>\n",
       "<polyline clip-path=\"url(#clip342)\" style=\"stroke:#000000; stroke-linecap:butt; stroke-linejoin:round; stroke-width:2; stroke-opacity:0.1; fill:none\" points=\"\n",
       "  199.5,247.11 1552.76,247.11 \n",
       "  \"/>\n",
       "<polyline clip-path=\"url(#clip342)\" style=\"stroke:#000000; stroke-linecap:butt; stroke-linejoin:round; stroke-width:2; stroke-opacity:0.1; fill:none\" points=\"\n",
       "  199.5,117.433 1552.76,117.433 \n",
       "  \"/>\n",
       "<polyline clip-path=\"url(#clip340)\" style=\"stroke:#000000; stroke-linecap:butt; stroke-linejoin:round; stroke-width:4; stroke-opacity:1; fill:none\" points=\"\n",
       "  199.5,651.7 199.5,101.872 \n",
       "  \"/>\n",
       "<polyline clip-path=\"url(#clip340)\" style=\"stroke:#000000; stroke-linecap:butt; stroke-linejoin:round; stroke-width:4; stroke-opacity:1; fill:none\" points=\"\n",
       "  199.5,636.139 215.739,636.139 \n",
       "  \"/>\n",
       "<polyline clip-path=\"url(#clip340)\" style=\"stroke:#000000; stroke-linecap:butt; stroke-linejoin:round; stroke-width:4; stroke-opacity:1; fill:none\" points=\"\n",
       "  199.5,506.462 215.739,506.462 \n",
       "  \"/>\n",
       "<polyline clip-path=\"url(#clip340)\" style=\"stroke:#000000; stroke-linecap:butt; stroke-linejoin:round; stroke-width:4; stroke-opacity:1; fill:none\" points=\"\n",
       "  199.5,376.786 215.739,376.786 \n",
       "  \"/>\n",
       "<polyline clip-path=\"url(#clip340)\" style=\"stroke:#000000; stroke-linecap:butt; stroke-linejoin:round; stroke-width:4; stroke-opacity:1; fill:none\" points=\"\n",
       "  199.5,247.11 215.739,247.11 \n",
       "  \"/>\n",
       "<polyline clip-path=\"url(#clip340)\" style=\"stroke:#000000; stroke-linecap:butt; stroke-linejoin:round; stroke-width:4; stroke-opacity:1; fill:none\" points=\"\n",
       "  199.5,117.433 215.739,117.433 \n",
       "  \"/>\n",
       "<path clip-path=\"url(#clip340)\" d=\"M118.325 621.937 Q114.713 621.937 112.885 625.502 Q111.079 629.044 111.079 636.173 Q111.079 643.28 112.885 646.845 Q114.713 650.386 118.325 650.386 Q121.959 650.386 123.764 646.845 Q125.593 643.28 125.593 636.173 Q125.593 629.044 123.764 625.502 Q121.959 621.937 118.325 621.937 M118.325 618.234 Q124.135 618.234 127.19 622.84 Q130.269 627.423 130.269 636.173 Q130.269 644.9 127.19 649.507 Q124.135 654.09 118.325 654.09 Q112.514 654.09 109.436 649.507 Q106.38 644.9 106.38 636.173 Q106.38 627.423 109.436 622.84 Q112.514 618.234 118.325 618.234 Z\" fill=\"#000000\" fill-rule=\"evenodd\" fill-opacity=\"1\" /><path clip-path=\"url(#clip340)\" d=\"M138.486 647.539 L143.371 647.539 L143.371 653.419 L138.486 653.419 L138.486 647.539 Z\" fill=\"#000000\" fill-rule=\"evenodd\" fill-opacity=\"1\" /><path clip-path=\"url(#clip340)\" d=\"M163.556 621.937 Q159.945 621.937 158.116 625.502 Q156.31 629.044 156.31 636.173 Q156.31 643.28 158.116 646.845 Q159.945 650.386 163.556 650.386 Q167.19 650.386 168.996 646.845 Q170.824 643.28 170.824 636.173 Q170.824 629.044 168.996 625.502 Q167.19 621.937 163.556 621.937 M163.556 618.234 Q169.366 618.234 172.421 622.84 Q175.5 627.423 175.5 636.173 Q175.5 644.9 172.421 649.507 Q169.366 654.09 163.556 654.09 Q157.746 654.09 154.667 649.507 Q151.611 644.9 151.611 636.173 Q151.611 627.423 154.667 622.84 Q157.746 618.234 163.556 618.234 Z\" fill=\"#000000\" fill-rule=\"evenodd\" fill-opacity=\"1\" /><path clip-path=\"url(#clip340)\" d=\"M119.32 492.261 Q115.709 492.261 113.88 495.826 Q112.075 499.367 112.075 506.497 Q112.075 513.603 113.88 517.168 Q115.709 520.71 119.32 520.71 Q122.954 520.71 124.76 517.168 Q126.588 513.603 126.588 506.497 Q126.588 499.367 124.76 495.826 Q122.954 492.261 119.32 492.261 M119.32 488.557 Q125.13 488.557 128.186 493.164 Q131.264 497.747 131.264 506.497 Q131.264 515.224 128.186 519.83 Q125.13 524.414 119.32 524.414 Q113.51 524.414 110.431 519.83 Q107.376 515.224 107.376 506.497 Q107.376 497.747 110.431 493.164 Q113.51 488.557 119.32 488.557 Z\" fill=\"#000000\" fill-rule=\"evenodd\" fill-opacity=\"1\" /><path clip-path=\"url(#clip340)\" d=\"M139.482 517.863 L144.366 517.863 L144.366 523.742 L139.482 523.742 L139.482 517.863 Z\" fill=\"#000000\" fill-rule=\"evenodd\" fill-opacity=\"1\" /><path clip-path=\"url(#clip340)\" d=\"M154.597 489.182 L172.954 489.182 L172.954 493.117 L158.88 493.117 L158.88 501.59 Q159.898 501.242 160.917 501.08 Q161.935 500.895 162.954 500.895 Q168.741 500.895 172.121 504.067 Q175.5 507.238 175.5 512.654 Q175.5 518.233 172.028 521.335 Q168.556 524.414 162.236 524.414 Q160.06 524.414 157.792 524.043 Q155.547 523.673 153.139 522.932 L153.139 518.233 Q155.222 519.367 157.445 519.923 Q159.667 520.478 162.144 520.478 Q166.148 520.478 168.486 518.372 Q170.824 516.266 170.824 512.654 Q170.824 509.043 168.486 506.937 Q166.148 504.83 162.144 504.83 Q160.269 504.83 158.394 505.247 Q156.542 505.664 154.597 506.543 L154.597 489.182 Z\" fill=\"#000000\" fill-rule=\"evenodd\" fill-opacity=\"1\" /><path clip-path=\"url(#clip340)\" d=\"M109.135 390.131 L116.774 390.131 L116.774 363.765 L108.463 365.432 L108.463 361.173 L116.727 359.506 L121.403 359.506 L121.403 390.131 L129.042 390.131 L129.042 394.066 L109.135 394.066 L109.135 390.131 Z\" fill=\"#000000\" fill-rule=\"evenodd\" fill-opacity=\"1\" /><path clip-path=\"url(#clip340)\" d=\"M138.486 388.186 L143.371 388.186 L143.371 394.066 L138.486 394.066 L138.486 388.186 Z\" fill=\"#000000\" fill-rule=\"evenodd\" fill-opacity=\"1\" /><path clip-path=\"url(#clip340)\" d=\"M163.556 362.585 Q159.945 362.585 158.116 366.149 Q156.31 369.691 156.31 376.821 Q156.31 383.927 158.116 387.492 Q159.945 391.034 163.556 391.034 Q167.19 391.034 168.996 387.492 Q170.824 383.927 170.824 376.821 Q170.824 369.691 168.996 366.149 Q167.19 362.585 163.556 362.585 M163.556 358.881 Q169.366 358.881 172.421 363.487 Q175.5 368.071 175.5 376.821 Q175.5 385.548 172.421 390.154 Q169.366 394.737 163.556 394.737 Q157.746 394.737 154.667 390.154 Q151.611 385.548 151.611 376.821 Q151.611 368.071 154.667 363.487 Q157.746 358.881 163.556 358.881 Z\" fill=\"#000000\" fill-rule=\"evenodd\" fill-opacity=\"1\" /><path clip-path=\"url(#clip340)\" d=\"M110.13 260.454 L117.769 260.454 L117.769 234.089 L109.459 235.756 L109.459 231.496 L117.723 229.83 L122.399 229.83 L122.399 260.454 L130.037 260.454 L130.037 264.39 L110.13 264.39 L110.13 260.454 Z\" fill=\"#000000\" fill-rule=\"evenodd\" fill-opacity=\"1\" /><path clip-path=\"url(#clip340)\" d=\"M139.482 258.51 L144.366 258.51 L144.366 264.39 L139.482 264.39 L139.482 258.51 Z\" fill=\"#000000\" fill-rule=\"evenodd\" fill-opacity=\"1\" /><path clip-path=\"url(#clip340)\" d=\"M154.597 229.83 L172.954 229.83 L172.954 233.765 L158.88 233.765 L158.88 242.237 Q159.898 241.89 160.917 241.728 Q161.935 241.543 162.954 241.543 Q168.741 241.543 172.121 244.714 Q175.5 247.885 175.5 253.302 Q175.5 258.88 172.028 261.982 Q168.556 265.061 162.236 265.061 Q160.06 265.061 157.792 264.691 Q155.547 264.32 153.139 263.579 L153.139 258.88 Q155.222 260.015 157.445 260.57 Q159.667 261.126 162.144 261.126 Q166.148 261.126 168.486 259.019 Q170.824 256.913 170.824 253.302 Q170.824 249.691 168.486 247.584 Q166.148 245.478 162.144 245.478 Q160.269 245.478 158.394 245.894 Q156.542 246.311 154.597 247.191 L154.597 229.83 Z\" fill=\"#000000\" fill-rule=\"evenodd\" fill-opacity=\"1\" /><path clip-path=\"url(#clip340)\" d=\"M112.352 130.778 L128.672 130.778 L128.672 134.713 L106.727 134.713 L106.727 130.778 Q109.389 128.024 113.973 123.394 Q118.579 118.741 119.76 117.399 Q122.005 114.875 122.885 113.139 Q123.787 111.38 123.787 109.69 Q123.787 106.936 121.843 105.2 Q119.922 103.463 116.82 103.463 Q114.621 103.463 112.167 104.227 Q109.737 104.991 106.959 106.542 L106.959 101.82 Q109.783 100.686 112.237 100.107 Q114.69 99.5283 116.727 99.5283 Q122.098 99.5283 125.292 102.213 Q128.487 104.899 128.487 109.389 Q128.487 111.519 127.676 113.44 Q126.889 115.338 124.783 117.931 Q124.204 118.602 121.102 121.82 Q118 125.014 112.352 130.778 Z\" fill=\"#000000\" fill-rule=\"evenodd\" fill-opacity=\"1\" /><path clip-path=\"url(#clip340)\" d=\"M138.486 128.834 L143.371 128.834 L143.371 134.713 L138.486 134.713 L138.486 128.834 Z\" fill=\"#000000\" fill-rule=\"evenodd\" fill-opacity=\"1\" /><path clip-path=\"url(#clip340)\" d=\"M163.556 103.232 Q159.945 103.232 158.116 106.797 Q156.31 110.338 156.31 117.468 Q156.31 124.574 158.116 128.139 Q159.945 131.681 163.556 131.681 Q167.19 131.681 168.996 128.139 Q170.824 124.574 170.824 117.468 Q170.824 110.338 168.996 106.797 Q167.19 103.232 163.556 103.232 M163.556 99.5283 Q169.366 99.5283 172.421 104.135 Q175.5 108.718 175.5 117.468 Q175.5 126.195 172.421 130.801 Q169.366 135.385 163.556 135.385 Q157.746 135.385 154.667 130.801 Q151.611 126.195 151.611 117.468 Q151.611 108.718 154.667 104.135 Q157.746 99.5283 163.556 99.5283 Z\" fill=\"#000000\" fill-rule=\"evenodd\" fill-opacity=\"1\" /><path clip-path=\"url(#clip340)\" d=\"M20.6042 623.33 L20.6042 614.672 L60.358 593.602 L20.6042 593.602 L20.6042 587.364 L68.1242 587.364 L68.1242 596.021 L28.3703 617.091 L68.1242 617.091 L68.1242 623.33 L20.6042 623.33 Z\" fill=\"#000000\" fill-rule=\"evenodd\" fill-opacity=\"1\" /><path clip-path=\"url(#clip340)\" d=\"M54.0559 575.428 L32.4762 575.428 L32.4762 569.571 L53.8331 569.571 Q58.8939 569.571 61.4402 567.598 Q63.9546 565.625 63.9546 561.678 Q63.9546 556.935 60.9309 554.198 Q57.9072 551.429 52.6873 551.429 L32.4762 551.429 L32.4762 545.573 L68.1242 545.573 L68.1242 551.429 L62.6496 551.429 Q65.8962 553.562 67.4876 556.394 Q69.0472 559.195 69.0472 562.919 Q69.0472 569.062 65.2278 572.245 Q61.4083 575.428 54.0559 575.428 M31.6168 560.691 L31.6168 560.691 Z\" fill=\"#000000\" fill-rule=\"evenodd\" fill-opacity=\"1\" /><path clip-path=\"url(#clip340)\" d=\"M39.3193 505.755 Q35.3726 503.559 33.4947 500.503 Q31.6168 497.448 31.6168 493.31 Q31.6168 487.74 35.5317 484.717 Q39.4148 481.693 46.6081 481.693 L68.1242 481.693 L68.1242 487.581 L46.799 487.581 Q41.6746 487.581 39.192 489.395 Q36.7094 491.21 36.7094 494.933 Q36.7094 499.485 39.7331 502.127 Q42.7568 504.769 47.9767 504.769 L68.1242 504.769 L68.1242 510.657 L46.799 510.657 Q41.6428 510.657 39.192 512.471 Q36.7094 514.285 36.7094 518.073 Q36.7094 522.561 39.7649 525.202 Q42.7886 527.844 47.9767 527.844 L68.1242 527.844 L68.1242 533.732 L32.4762 533.732 L32.4762 527.844 L38.0144 527.844 Q34.736 525.839 33.1764 523.038 Q31.6168 520.237 31.6168 516.386 Q31.6168 512.503 33.5902 509.797 Q35.5636 507.06 39.3193 505.755 Z\" fill=\"#000000\" fill-rule=\"evenodd\" fill-opacity=\"1\" /><path clip-path=\"url(#clip340)\" d=\"M50.332 444.422 Q43.8708 444.422 40.2105 447.095 Q36.5184 449.737 36.5184 454.384 Q36.5184 459.031 40.2105 461.705 Q43.8708 464.346 50.332 464.346 Q56.7932 464.346 60.4853 461.705 Q64.1456 459.031 64.1456 454.384 Q64.1456 449.737 60.4853 447.095 Q56.7932 444.422 50.332 444.422 M37.8871 464.346 Q34.7042 462.5 33.1764 459.699 Q31.6168 456.867 31.6168 452.952 Q31.6168 446.459 36.7731 442.416 Q41.9293 438.342 50.332 438.342 Q58.7347 438.342 63.891 442.416 Q69.0472 446.459 69.0472 452.952 Q69.0472 456.867 67.5194 459.699 Q65.9598 462.5 62.777 464.346 L68.1242 464.346 L68.1242 470.235 L18.599 470.235 L18.599 464.346 L37.8871 464.346 Z\" fill=\"#000000\" fill-rule=\"evenodd\" fill-opacity=\"1\" /><path clip-path=\"url(#clip340)\" d=\"M48.8361 398.143 L51.7006 398.143 L51.7006 425.07 Q57.7481 424.688 60.9309 421.441 Q64.0819 418.163 64.0819 412.338 Q64.0819 408.965 63.2544 405.814 Q62.4269 402.631 60.7718 399.512 L66.3099 399.512 Q67.6467 402.663 68.347 405.973 Q69.0472 409.283 69.0472 412.689 Q69.0472 421.219 64.0819 426.216 Q59.1167 431.181 50.6503 431.181 Q41.8974 431.181 36.7731 426.47 Q31.6168 421.728 31.6168 413.707 Q31.6168 406.514 36.2638 402.344 Q40.8789 398.143 48.8361 398.143 M47.1173 403.999 Q42.3112 404.063 39.4466 406.705 Q36.5821 409.315 36.5821 413.643 Q36.5821 418.545 39.3512 421.505 Q42.1202 424.433 47.1492 424.879 L47.1173 403.999 Z\" fill=\"#000000\" fill-rule=\"evenodd\" fill-opacity=\"1\" /><path clip-path=\"url(#clip340)\" d=\"M37.9507 367.874 Q37.3778 368.861 37.1232 370.038 Q36.8367 371.184 36.8367 372.585 Q36.8367 377.55 40.0832 380.223 Q43.2979 382.865 49.3453 382.865 L68.1242 382.865 L68.1242 388.754 L32.4762 388.754 L32.4762 382.865 L38.0144 382.865 Q34.7679 381.019 33.2083 378.059 Q31.6168 375.099 31.6168 370.866 Q31.6168 370.261 31.7123 369.529 Q31.776 368.797 31.9351 367.906 L37.9507 367.874 Z\" fill=\"#000000\" fill-rule=\"evenodd\" fill-opacity=\"1\" /><path clip-path=\"url(#clip340)\" d=\"M36.5821 327.197 Q36.5821 331.908 40.2742 334.645 Q43.9345 337.382 50.332 337.382 Q56.7295 337.382 60.4217 334.677 Q64.0819 331.94 64.0819 327.197 Q64.0819 322.518 60.3898 319.781 Q56.6977 317.044 50.332 317.044 Q43.9981 317.044 40.306 319.781 Q36.5821 322.518 36.5821 327.197 M31.6168 327.197 Q31.6168 319.558 36.5821 315.198 Q41.5473 310.837 50.332 310.837 Q59.0849 310.837 64.0819 315.198 Q69.0472 319.558 69.0472 327.197 Q69.0472 334.868 64.0819 339.228 Q59.0849 343.557 50.332 343.557 Q41.5473 343.557 36.5821 339.228 Q31.6168 334.868 31.6168 327.197 Z\" fill=\"#000000\" fill-rule=\"evenodd\" fill-opacity=\"1\" /><path clip-path=\"url(#clip340)\" d=\"M18.599 283.083 L23.4687 283.083 L23.4687 288.685 Q23.4687 291.836 24.7419 293.077 Q26.015 294.286 29.3252 294.286 L32.4762 294.286 L32.4762 284.642 L37.0277 284.642 L37.0277 294.286 L68.1242 294.286 L68.1242 300.175 L37.0277 300.175 L37.0277 305.777 L32.4762 305.777 L32.4762 300.175 L29.9936 300.175 Q24.0416 300.175 21.3362 297.406 Q18.599 294.637 18.599 288.621 L18.599 283.083 Z\" fill=\"#000000\" fill-rule=\"evenodd\" fill-opacity=\"1\" /><path clip-path=\"url(#clip340)\" d=\"M33.8448 231.807 L39.3193 231.807 Q37.9507 234.29 37.2823 236.804 Q36.5821 239.287 36.5821 241.833 Q36.5821 247.53 40.2105 250.681 Q43.8072 253.832 50.332 253.832 Q56.8569 253.832 60.4853 250.681 Q64.0819 247.53 64.0819 241.833 Q64.0819 239.287 63.4135 236.804 Q62.7133 234.29 61.3447 231.807 L66.7555 231.807 Q67.9014 234.258 68.4743 236.9 Q69.0472 239.51 69.0472 242.47 Q69.0472 250.522 63.9864 255.265 Q58.9257 260.007 50.332 260.007 Q41.611 260.007 36.6139 255.233 Q31.6168 250.427 31.6168 242.088 Q31.6168 239.382 32.1897 236.804 Q32.7308 234.226 33.8448 231.807 Z\" fill=\"#000000\" fill-rule=\"evenodd\" fill-opacity=\"1\" /><path clip-path=\"url(#clip340)\" d=\"M50.2047 205.421 Q50.2047 212.519 51.8279 215.256 Q53.4512 217.993 57.3661 217.993 Q60.4853 217.993 62.3314 215.956 Q64.1456 213.888 64.1456 210.355 Q64.1456 205.485 60.7081 202.557 Q57.2388 199.597 51.5097 199.597 L50.2047 199.597 L50.2047 205.421 M47.7857 193.74 L68.1242 193.74 L68.1242 199.597 L62.7133 199.597 Q65.9598 201.602 67.5194 204.594 Q69.0472 207.586 69.0472 211.914 Q69.0472 217.389 65.9916 220.635 Q62.9043 223.85 57.7481 223.85 Q51.7325 223.85 48.6769 219.839 Q45.6214 215.797 45.6214 207.808 L45.6214 199.597 L45.0485 199.597 Q41.0062 199.597 38.8101 202.27 Q36.5821 204.912 36.5821 209.718 Q36.5821 212.774 37.3141 215.67 Q38.0462 218.566 39.5103 221.24 L34.0995 221.24 Q32.8581 218.025 32.2534 215.002 Q31.6168 211.978 31.6168 209.113 Q31.6168 201.379 35.6272 197.56 Q39.6376 193.74 47.7857 193.74 Z\" fill=\"#000000\" fill-rule=\"evenodd\" fill-opacity=\"1\" /><path clip-path=\"url(#clip340)\" d=\"M37.9507 161.02 Q37.3778 162.007 37.1232 163.185 Q36.8367 164.331 36.8367 165.731 Q36.8367 170.696 40.0832 173.37 Q43.2979 176.012 49.3453 176.012 L68.1242 176.012 L68.1242 181.9 L32.4762 181.9 L32.4762 176.012 L38.0144 176.012 Q34.7679 174.166 33.2083 171.205 Q31.6168 168.245 31.6168 164.012 Q31.6168 163.407 31.7123 162.675 Q31.776 161.943 31.9351 161.052 L37.9507 161.02 Z\" fill=\"#000000\" fill-rule=\"evenodd\" fill-opacity=\"1\" /><path clip-path=\"url(#clip340)\" d=\"M33.5265 132.152 L39.0647 132.152 Q37.7916 134.635 37.155 137.308 Q36.5184 139.982 36.5184 142.846 Q36.5184 147.207 37.8552 149.403 Q39.192 151.567 41.8656 151.567 Q43.9026 151.567 45.0803 150.008 Q46.2261 148.448 47.2765 143.737 L47.7221 141.732 Q49.0589 135.494 51.5097 132.884 Q53.9286 130.242 58.2891 130.242 Q63.2544 130.242 66.1508 134.189 Q69.0472 138.104 69.0472 144.979 Q69.0472 147.843 68.4743 150.963 Q67.9332 154.05 66.8192 157.487 L60.7718 157.487 Q62.4587 154.241 63.318 151.09 Q64.1456 147.939 64.1456 144.851 Q64.1456 140.714 62.7451 138.486 Q61.3129 136.258 58.7347 136.258 Q56.3476 136.258 55.0745 137.881 Q53.8013 139.472 52.6237 144.915 L52.1462 146.952 Q51.0004 152.395 48.6451 154.814 Q46.258 157.233 42.1202 157.233 Q37.0913 157.233 34.3541 153.668 Q31.6168 150.103 31.6168 143.546 Q31.6168 140.3 32.0943 137.435 Q32.5717 134.571 33.5265 132.152 Z\" fill=\"#000000\" fill-rule=\"evenodd\" fill-opacity=\"1\" /><path clip-path=\"url(#clip340)\" d=\"M288.857 10.368 L332.711 10.368 L332.711 16.2707 L314.308 16.2707 L314.308 62.208 L307.26 62.208 L307.26 16.2707 L288.857 16.2707 L288.857 10.368 Z\" fill=\"#000000\" fill-rule=\"evenodd\" fill-opacity=\"1\" /><path clip-path=\"url(#clip340)\" d=\"M337.016 23.3193 L343.405 23.3193 L343.405 62.208 L337.016 62.208 L337.016 23.3193 M337.016 8.18051 L343.405 8.18051 L343.405 16.2707 L337.016 16.2707 L337.016 8.18051 Z\" fill=\"#000000\" fill-rule=\"evenodd\" fill-opacity=\"1\" /><path clip-path=\"url(#clip340)\" d=\"M387.051 30.7846 Q389.447 26.479 392.78 24.4304 Q396.113 22.3818 400.627 22.3818 Q406.703 22.3818 410.002 26.6526 Q413.301 30.8887 413.301 38.7359 L413.301 62.208 L406.877 62.208 L406.877 38.9442 Q406.877 33.354 404.898 30.6457 Q402.919 27.9374 398.856 27.9374 Q393.891 27.9374 391.009 31.2359 Q388.127 34.5345 388.127 40.229 L388.127 62.208 L381.704 62.208 L381.704 38.9442 Q381.704 33.3193 379.724 30.6457 Q377.745 27.9374 373.613 27.9374 Q368.718 27.9374 365.836 31.2707 Q362.954 34.5693 362.954 40.229 L362.954 62.208 L356.53 62.208 L356.53 23.3193 L362.954 23.3193 L362.954 29.361 Q365.141 25.7846 368.197 24.0832 Q371.252 22.3818 375.454 22.3818 Q379.69 22.3818 382.641 24.5346 Q385.627 26.6874 387.051 30.7846 Z\" fill=\"#000000\" fill-rule=\"evenodd\" fill-opacity=\"1\" /><path clip-path=\"url(#clip340)\" d=\"M459.307 41.1664 L459.307 44.2914 L429.933 44.2914 Q430.349 50.8886 433.891 54.3608 Q437.467 57.7983 443.821 57.7983 Q447.502 57.7983 450.939 56.8955 Q454.412 55.9928 457.814 54.1872 L457.814 60.2288 Q454.377 61.6872 450.766 62.4511 Q447.155 63.2149 443.439 63.2149 Q434.134 63.2149 428.683 57.7983 Q423.266 52.3817 423.266 43.1456 Q423.266 33.597 428.405 28.0068 Q433.578 22.3818 442.328 22.3818 Q450.175 22.3818 454.724 27.4512 Q459.307 32.4859 459.307 41.1664 M452.918 39.2915 Q452.849 34.0484 449.967 30.9234 Q447.12 27.7985 442.398 27.7985 Q437.051 27.7985 433.821 30.8193 Q430.627 33.8401 430.141 39.3262 L452.918 39.2915 Z\" fill=\"#000000\" fill-rule=\"evenodd\" fill-opacity=\"1\" /><path clip-path=\"url(#clip340)\" d=\"M498.717 12.2777 L498.717 23.3193 L511.877 23.3193 L511.877 28.2846 L498.717 28.2846 L498.717 49.3956 Q498.717 54.1525 500.002 55.5066 Q501.321 56.8608 505.314 56.8608 L511.877 56.8608 L511.877 62.208 L505.314 62.208 Q497.918 62.208 495.106 59.465 Q492.293 56.6872 492.293 49.3956 L492.293 28.2846 L487.606 28.2846 L487.606 23.3193 L492.293 23.3193 L492.293 12.2777 L498.717 12.2777 Z\" fill=\"#000000\" fill-rule=\"evenodd\" fill-opacity=\"1\" /><path clip-path=\"url(#clip340)\" d=\"M537.953 42.6595 Q530.21 42.6595 527.224 44.4303 Q524.238 46.2011 524.238 50.472 Q524.238 53.8747 526.46 55.8886 Q528.717 57.8677 532.571 57.8677 Q537.883 57.8677 541.078 54.1178 Q544.307 50.3331 544.307 44.0831 L544.307 42.6595 L537.953 42.6595 M550.696 40.0206 L550.696 62.208 L544.307 62.208 L544.307 56.3053 Q542.119 59.8469 538.856 61.5483 Q535.592 63.2149 530.869 63.2149 Q524.897 63.2149 521.356 59.8816 Q517.849 56.5136 517.849 50.8886 Q517.849 44.3262 522.224 40.9928 Q526.633 37.6595 535.349 37.6595 L544.307 37.6595 L544.307 37.0345 Q544.307 32.6248 541.39 30.229 Q538.508 27.7985 533.265 27.7985 Q529.932 27.7985 526.772 28.5971 Q523.613 29.3957 520.696 30.9929 L520.696 25.0901 Q524.203 23.736 527.501 23.0763 Q530.8 22.3818 533.925 22.3818 Q542.362 22.3818 546.529 26.7568 Q550.696 31.1318 550.696 40.0206 Z\" fill=\"#000000\" fill-rule=\"evenodd\" fill-opacity=\"1\" /><path clip-path=\"url(#clip340)\" d=\"M563.612 8.18051 L570.036 8.18051 L570.036 40.0901 L589.098 23.3193 L597.258 23.3193 L576.633 41.5137 L598.126 62.208 L589.793 62.208 L570.036 43.215 L570.036 62.208 L563.612 62.208 L563.612 8.18051 Z\" fill=\"#000000\" fill-rule=\"evenodd\" fill-opacity=\"1\" /><path clip-path=\"url(#clip340)\" d=\"M635.765 41.1664 L635.765 44.2914 L606.39 44.2914 Q606.807 50.8886 610.348 54.3608 Q613.925 57.7983 620.279 57.7983 Q623.959 57.7983 627.397 56.8955 Q630.869 55.9928 634.272 54.1872 L634.272 60.2288 Q630.834 61.6872 627.223 62.4511 Q623.612 63.2149 619.897 63.2149 Q610.591 63.2149 605.14 57.7983 Q599.723 52.3817 599.723 43.1456 Q599.723 33.597 604.862 28.0068 Q610.036 22.3818 618.786 22.3818 Q626.633 22.3818 631.181 27.4512 Q635.765 32.4859 635.765 41.1664 M629.376 39.2915 Q629.306 34.0484 626.425 30.9234 Q623.577 27.7985 618.855 27.7985 Q613.508 27.7985 610.279 30.8193 Q607.084 33.8401 606.598 39.3262 L629.376 39.2915 Z\" fill=\"#000000\" fill-rule=\"evenodd\" fill-opacity=\"1\" /><path clip-path=\"url(#clip340)\" d=\"M678.577 38.7359 L678.577 62.208 L672.188 62.208 L672.188 38.9442 Q672.188 33.4234 670.035 30.6804 Q667.883 27.9374 663.577 27.9374 Q658.404 27.9374 655.417 31.2359 Q652.431 34.5345 652.431 40.229 L652.431 62.208 L646.008 62.208 L646.008 23.3193 L652.431 23.3193 L652.431 29.361 Q654.723 25.854 657.813 24.1179 Q660.938 22.3818 665.001 22.3818 Q671.702 22.3818 675.14 26.5485 Q678.577 30.6804 678.577 38.7359 Z\" fill=\"#000000\" fill-rule=\"evenodd\" fill-opacity=\"1\" /><path clip-path=\"url(#clip340)\" d=\"M720.243 12.2777 L720.243 23.3193 L733.403 23.3193 L733.403 28.2846 L720.243 28.2846 L720.243 49.3956 Q720.243 54.1525 721.528 55.5066 Q722.848 56.8608 726.841 56.8608 L733.403 56.8608 L733.403 62.208 L726.841 62.208 Q719.445 62.208 716.632 59.465 Q713.82 56.6872 713.82 49.3956 L713.82 28.2846 L709.132 28.2846 L709.132 23.3193 L713.82 23.3193 L713.82 12.2777 L720.243 12.2777 Z\" fill=\"#000000\" fill-rule=\"evenodd\" fill-opacity=\"1\" /><path clip-path=\"url(#clip340)\" d=\"M756.875 27.7985 Q751.736 27.7985 748.75 31.8262 Q745.764 35.8193 745.764 42.7984 Q745.764 49.7775 748.716 53.8053 Q751.702 57.7983 756.875 57.7983 Q761.979 57.7983 764.965 53.7705 Q767.952 49.7428 767.952 42.7984 Q767.952 35.8887 764.965 31.8609 Q761.979 27.7985 756.875 27.7985 M756.875 22.3818 Q765.208 22.3818 769.965 27.7985 Q774.722 33.2151 774.722 42.7984 Q774.722 52.3469 769.965 57.7983 Q765.208 63.2149 756.875 63.2149 Q748.507 63.2149 743.75 57.7983 Q739.028 52.3469 739.028 42.7984 Q739.028 33.2151 743.75 27.7985 Q748.507 22.3818 756.875 22.3818 Z\" fill=\"#000000\" fill-rule=\"evenodd\" fill-opacity=\"1\" /><path clip-path=\"url(#clip340)\" d=\"M814.236 12.2777 L814.236 23.3193 L827.396 23.3193 L827.396 28.2846 L814.236 28.2846 L814.236 49.3956 Q814.236 54.1525 815.521 55.5066 Q816.84 56.8608 820.833 56.8608 L827.396 56.8608 L827.396 62.208 L820.833 62.208 Q813.437 62.208 810.625 59.465 Q807.812 56.6872 807.812 49.3956 L807.812 28.2846 L803.125 28.2846 L803.125 23.3193 L807.812 23.3193 L807.812 12.2777 L814.236 12.2777 Z\" fill=\"#000000\" fill-rule=\"evenodd\" fill-opacity=\"1\" /><path clip-path=\"url(#clip340)\" d=\"M858.333 29.2915 Q857.257 28.6665 855.972 28.3887 Q854.722 28.0762 853.194 28.0762 Q847.777 28.0762 844.861 31.6179 Q841.979 35.1248 841.979 41.722 L841.979 62.208 L835.555 62.208 L835.555 23.3193 L841.979 23.3193 L841.979 29.361 Q843.993 25.8193 847.222 24.1179 Q850.451 22.3818 855.069 22.3818 Q855.729 22.3818 856.527 22.486 Q857.326 22.5554 858.298 22.729 L858.333 29.2915 Z\" fill=\"#000000\" fill-rule=\"evenodd\" fill-opacity=\"1\" /><path clip-path=\"url(#clip340)\" d=\"M882.708 42.6595 Q874.965 42.6595 871.979 44.4303 Q868.993 46.2011 868.993 50.472 Q868.993 53.8747 871.215 55.8886 Q873.472 57.8677 877.326 57.8677 Q882.638 57.8677 885.833 54.1178 Q889.062 50.3331 889.062 44.0831 L889.062 42.6595 L882.708 42.6595 M895.451 40.0206 L895.451 62.208 L889.062 62.208 L889.062 56.3053 Q886.875 59.8469 883.611 61.5483 Q880.347 63.2149 875.625 63.2149 Q869.652 63.2149 866.111 59.8816 Q862.604 56.5136 862.604 50.8886 Q862.604 44.3262 866.979 40.9928 Q871.388 37.6595 880.104 37.6595 L889.062 37.6595 L889.062 37.0345 Q889.062 32.6248 886.145 30.229 Q883.263 27.7985 878.02 27.7985 Q874.687 27.7985 871.527 28.5971 Q868.368 29.3957 865.451 30.9929 L865.451 25.0901 Q868.958 23.736 872.257 23.0763 Q875.555 22.3818 878.68 22.3818 Q887.118 22.3818 891.284 26.7568 Q895.451 31.1318 895.451 40.0206 Z\" fill=\"#000000\" fill-rule=\"evenodd\" fill-opacity=\"1\" /><path clip-path=\"url(#clip340)\" d=\"M904.027 23.3193 L910.798 23.3193 L922.951 55.958 L935.103 23.3193 L941.874 23.3193 L927.291 62.208 L918.61 62.208 L904.027 23.3193 Z\" fill=\"#000000\" fill-rule=\"evenodd\" fill-opacity=\"1\" /><path clip-path=\"url(#clip340)\" d=\"M983.957 41.1664 L983.957 44.2914 L954.582 44.2914 Q954.999 50.8886 958.541 54.3608 Q962.117 57.7983 968.471 57.7983 Q972.152 57.7983 975.589 56.8955 Q979.062 55.9928 982.464 54.1872 L982.464 60.2288 Q979.027 61.6872 975.416 62.4511 Q971.805 63.2149 968.089 63.2149 Q958.784 63.2149 953.332 57.7983 Q947.916 52.3817 947.916 43.1456 Q947.916 33.597 953.055 28.0068 Q958.228 22.3818 966.978 22.3818 Q974.825 22.3818 979.374 27.4512 Q983.957 32.4859 983.957 41.1664 M977.568 39.2915 Q977.499 34.0484 974.617 30.9234 Q971.77 27.7985 967.048 27.7985 Q961.7 27.7985 958.471 30.8193 Q955.277 33.8401 954.791 39.3262 L977.568 39.2915 Z\" fill=\"#000000\" fill-rule=\"evenodd\" fill-opacity=\"1\" /><path clip-path=\"url(#clip340)\" d=\"M994.443 8.18051 L1000.83 8.18051 L1000.83 62.208 L994.443 62.208 L994.443 8.18051 Z\" fill=\"#000000\" fill-rule=\"evenodd\" fill-opacity=\"1\" /><path clip-path=\"url(#clip340)\" d=\"M1056.49 8.18051 L1056.49 13.493 L1050.38 13.493 Q1046.94 13.493 1045.59 14.8819 Q1044.27 16.2707 1044.27 19.8818 L1044.27 23.3193 L1054.79 23.3193 L1054.79 28.2846 L1044.27 28.2846 L1044.27 62.208 L1037.85 62.208 L1037.85 28.2846 L1031.73 28.2846 L1031.73 23.3193 L1037.85 23.3193 L1037.85 20.611 Q1037.85 14.118 1040.87 11.1666 Q1043.89 8.18051 1050.45 8.18051 L1056.49 8.18051 Z\" fill=\"#000000\" fill-rule=\"evenodd\" fill-opacity=\"1\" /><path clip-path=\"url(#clip340)\" d=\"M1084.37 29.2915 Q1083.3 28.6665 1082.01 28.3887 Q1080.76 28.0762 1079.23 28.0762 Q1073.82 28.0762 1070.9 31.6179 Q1068.02 35.1248 1068.02 41.722 L1068.02 62.208 L1061.6 62.208 L1061.6 23.3193 L1068.02 23.3193 L1068.02 29.361 Q1070.03 25.8193 1073.26 24.1179 Q1076.49 22.3818 1081.11 22.3818 Q1081.77 22.3818 1082.57 22.486 Q1083.37 22.5554 1084.34 22.729 L1084.37 29.2915 Z\" fill=\"#000000\" fill-rule=\"evenodd\" fill-opacity=\"1\" /><path clip-path=\"url(#clip340)\" d=\"M1104.58 27.7985 Q1099.44 27.7985 1096.46 31.8262 Q1093.47 35.8193 1093.47 42.7984 Q1093.47 49.7775 1096.42 53.8053 Q1099.41 57.7983 1104.58 57.7983 Q1109.69 57.7983 1112.67 53.7705 Q1115.66 49.7428 1115.66 42.7984 Q1115.66 35.8887 1112.67 31.8609 Q1109.69 27.7985 1104.58 27.7985 M1104.58 22.3818 Q1112.91 22.3818 1117.67 27.7985 Q1122.43 33.2151 1122.43 42.7984 Q1122.43 52.3469 1117.67 57.7983 Q1112.91 63.2149 1104.58 63.2149 Q1096.21 63.2149 1091.46 57.7983 Q1086.73 52.3469 1086.73 42.7984 Q1086.73 33.2151 1091.46 27.7985 Q1096.21 22.3818 1104.58 22.3818 Z\" fill=\"#000000\" fill-rule=\"evenodd\" fill-opacity=\"1\" /><path clip-path=\"url(#clip340)\" d=\"M1163.3 30.7846 Q1165.69 26.479 1169.03 24.4304 Q1172.36 22.3818 1176.87 22.3818 Q1182.95 22.3818 1186.25 26.6526 Q1189.55 30.8887 1189.55 38.7359 L1189.55 62.208 L1183.12 62.208 L1183.12 38.9442 Q1183.12 33.354 1181.14 30.6457 Q1179.16 27.9374 1175.1 27.9374 Q1170.14 27.9374 1167.25 31.2359 Q1164.37 34.5345 1164.37 40.229 L1164.37 62.208 L1157.95 62.208 L1157.95 38.9442 Q1157.95 33.3193 1155.97 30.6457 Q1153.99 27.9374 1149.86 27.9374 Q1144.96 27.9374 1142.08 31.2707 Q1139.2 34.5693 1139.2 40.229 L1139.2 62.208 L1132.78 62.208 L1132.78 23.3193 L1139.2 23.3193 L1139.2 29.361 Q1141.39 25.7846 1144.44 24.0832 Q1147.5 22.3818 1151.7 22.3818 Q1155.94 22.3818 1158.89 24.5346 Q1161.87 26.6874 1163.3 30.7846 Z\" fill=\"#000000\" fill-rule=\"evenodd\" fill-opacity=\"1\" /><path clip-path=\"url(#clip340)\" d=\"M1224.03 10.368 L1257.36 10.368 L1257.36 13.3541 L1238.54 62.208 L1231.21 62.208 L1248.92 16.2707 L1224.03 16.2707 L1224.03 10.368 Z\" fill=\"#000000\" fill-rule=\"evenodd\" fill-opacity=\"1\" /><path clip-path=\"url(#clip340)\" d=\"M1299.06 12.2777 L1299.06 23.3193 L1312.22 23.3193 L1312.22 28.2846 L1299.06 28.2846 L1299.06 49.3956 Q1299.06 54.1525 1300.34 55.5066 Q1301.66 56.8608 1305.66 56.8608 L1312.22 56.8608 L1312.22 62.208 L1305.66 62.208 Q1298.26 62.208 1295.45 59.465 Q1292.64 56.6872 1292.64 49.3956 L1292.64 28.2846 L1287.95 28.2846 L1287.95 23.3193 L1292.64 23.3193 L1292.64 12.2777 L1299.06 12.2777 Z\" fill=\"#000000\" fill-rule=\"evenodd\" fill-opacity=\"1\" /><path clip-path=\"url(#clip340)\" d=\"M1335.69 27.7985 Q1330.55 27.7985 1327.57 31.8262 Q1324.58 35.8193 1324.58 42.7984 Q1324.58 49.7775 1327.53 53.8053 Q1330.52 57.7983 1335.69 57.7983 Q1340.8 57.7983 1343.78 53.7705 Q1346.77 49.7428 1346.77 42.7984 Q1346.77 35.8887 1343.78 31.8609 Q1340.8 27.7985 1335.69 27.7985 M1335.69 22.3818 Q1344.02 22.3818 1348.78 27.7985 Q1353.54 33.2151 1353.54 42.7984 Q1353.54 52.3469 1348.78 57.7983 Q1344.02 63.2149 1335.69 63.2149 Q1327.32 63.2149 1322.57 57.7983 Q1317.84 52.3469 1317.84 42.7984 Q1317.84 33.2151 1322.57 27.7985 Q1327.32 22.3818 1335.69 22.3818 Z\" fill=\"#000000\" fill-rule=\"evenodd\" fill-opacity=\"1\" /><path clip-path=\"url(#clip340)\" d=\"M1388.85 56.3053 L1400.31 56.3053 L1400.31 16.7569 L1387.84 19.2568 L1387.84 12.868 L1400.24 10.368 L1407.25 10.368 L1407.25 56.3053 L1418.71 56.3053 L1418.71 62.208 L1388.85 62.208 L1388.85 56.3053 Z\" fill=\"#000000\" fill-rule=\"evenodd\" fill-opacity=\"1\" /><path clip-path=\"url(#clip340)\" d=\"M1438.92 56.3053 L1463.4 56.3053 L1463.4 62.208 L1430.48 62.208 L1430.48 56.3053 Q1434.48 52.1733 1441.35 45.2289 Q1448.26 38.2498 1450.03 36.2359 Q1453.4 32.4512 1454.72 29.8471 Q1456.07 27.2082 1456.07 24.6735 Q1456.07 20.5416 1453.16 17.9374 Q1450.27 15.3333 1445.62 15.3333 Q1442.32 15.3333 1438.64 16.4791 Q1435 17.6249 1430.83 19.9513 L1430.83 12.868 Q1435.07 11.1666 1438.75 10.2986 Q1442.43 9.43051 1445.48 9.43051 Q1453.54 9.43051 1458.33 13.4583 Q1463.12 17.486 1463.12 24.2221 Q1463.12 27.4165 1461.91 30.2984 Q1460.73 33.1457 1457.57 37.0345 Q1456.7 38.0415 1452.05 42.8678 Q1447.39 47.6595 1438.92 56.3053 Z\" fill=\"#000000\" fill-rule=\"evenodd\" fill-opacity=\"1\" /><path clip-path=\"url(#clip342)\" d=\"\n",
       "M273.932 117.433 L273.932 636.139 L514.81 636.139 L514.81 117.433 L273.932 117.433 L273.932 117.433  Z\n",
       "  \" fill=\"#009af9\" fill-rule=\"evenodd\" fill-opacity=\"1\"/>\n",
       "<polyline clip-path=\"url(#clip342)\" style=\"stroke:#000000; stroke-linecap:butt; stroke-linejoin:round; stroke-width:4; stroke-opacity:1; fill:none\" points=\"\n",
       "  273.932,117.433 273.932,636.139 514.81,636.139 514.81,117.433 273.932,117.433 \n",
       "  \"/>\n",
       "<path clip-path=\"url(#clip342)\" d=\"\n",
       "M514.81 636.139 L514.81 636.139 L755.689 636.139 L755.689 636.139 L514.81 636.139 L514.81 636.139  Z\n",
       "  \" fill=\"#009af9\" fill-rule=\"evenodd\" fill-opacity=\"1\"/>\n",
       "<polyline clip-path=\"url(#clip342)\" style=\"stroke:#000000; stroke-linecap:butt; stroke-linejoin:round; stroke-width:4; stroke-opacity:1; fill:none\" points=\"\n",
       "  514.81,636.139 514.81,636.139 755.689,636.139 514.81,636.139 \n",
       "  \"/>\n",
       "<path clip-path=\"url(#clip342)\" d=\"\n",
       "M755.689 376.786 L755.689 636.139 L996.567 636.139 L996.567 376.786 L755.689 376.786 L755.689 376.786  Z\n",
       "  \" fill=\"#009af9\" fill-rule=\"evenodd\" fill-opacity=\"1\"/>\n",
       "<polyline clip-path=\"url(#clip342)\" style=\"stroke:#000000; stroke-linecap:butt; stroke-linejoin:round; stroke-width:4; stroke-opacity:1; fill:none\" points=\"\n",
       "  755.689,376.786 755.689,636.139 996.567,636.139 996.567,376.786 755.689,376.786 \n",
       "  \"/>\n",
       "<path clip-path=\"url(#clip342)\" d=\"\n",
       "M996.567 636.139 L996.567 636.139 L1237.45 636.139 L1237.45 636.139 L996.567 636.139 L996.567 636.139  Z\n",
       "  \" fill=\"#009af9\" fill-rule=\"evenodd\" fill-opacity=\"1\"/>\n",
       "<polyline clip-path=\"url(#clip342)\" style=\"stroke:#000000; stroke-linecap:butt; stroke-linejoin:round; stroke-width:4; stroke-opacity:1; fill:none\" points=\"\n",
       "  996.567,636.139 996.567,636.139 1237.45,636.139 996.567,636.139 \n",
       "  \"/>\n",
       "<path clip-path=\"url(#clip342)\" d=\"\n",
       "M1237.45 376.786 L1237.45 636.139 L1478.32 636.139 L1478.32 376.786 L1237.45 376.786 L1237.45 376.786  Z\n",
       "  \" fill=\"#009af9\" fill-rule=\"evenodd\" fill-opacity=\"1\"/>\n",
       "<polyline clip-path=\"url(#clip342)\" style=\"stroke:#000000; stroke-linecap:butt; stroke-linejoin:round; stroke-width:4; stroke-opacity:1; fill:none\" points=\"\n",
       "  1237.45,376.786 1237.45,636.139 1478.32,636.139 1478.32,376.786 1237.45,376.786 \n",
       "  \"/>\n",
       "</svg>\n"
      ]
     },
     "metadata": {},
     "output_type": "display_data"
    },
    {
     "data": {
      "image/svg+xml": [
       "<?xml version=\"1.0\" encoding=\"utf-8\"?>\n",
       "<svg xmlns=\"http://www.w3.org/2000/svg\" xmlns:xlink=\"http://www.w3.org/1999/xlink\" width=\"400\" height=\"200\" viewBox=\"0 0 1600 800\">\n",
       "<defs>\n",
       "  <clipPath id=\"clip380\">\n",
       "    <rect x=\"0\" y=\"0\" width=\"1600\" height=\"800\"/>\n",
       "  </clipPath>\n",
       "</defs>\n",
       "<path clip-path=\"url(#clip380)\" d=\"\n",
       "M0 800 L1600 800 L1600 0 L0 0  Z\n",
       "  \" fill=\"#ffffff\" fill-rule=\"evenodd\" fill-opacity=\"1\"/>\n",
       "<defs>\n",
       "  <clipPath id=\"clip381\">\n",
       "    <rect x=\"320\" y=\"0\" width=\"1121\" height=\"800\"/>\n",
       "  </clipPath>\n",
       "</defs>\n",
       "<path clip-path=\"url(#clip380)\" d=\"\n",
       "M184.084 651.7 L1552.76 651.7 L1552.76 101.872 L184.084 101.872  Z\n",
       "  \" fill=\"#ffffff\" fill-rule=\"evenodd\" fill-opacity=\"1\"/>\n",
       "<defs>\n",
       "  <clipPath id=\"clip382\">\n",
       "    <rect x=\"184\" y=\"101\" width=\"1370\" height=\"551\"/>\n",
       "  </clipPath>\n",
       "</defs>\n",
       "<polyline clip-path=\"url(#clip382)\" style=\"stroke:#000000; stroke-linecap:butt; stroke-linejoin:round; stroke-width:2; stroke-opacity:0.1; fill:none\" points=\"\n",
       "  293.199,651.7 293.199,101.872 \n",
       "  \"/>\n",
       "<polyline clip-path=\"url(#clip382)\" style=\"stroke:#000000; stroke-linecap:butt; stroke-linejoin:round; stroke-width:2; stroke-opacity:0.1; fill:none\" points=\"\n",
       "  360.872,651.7 360.872,101.872 \n",
       "  \"/>\n",
       "<polyline clip-path=\"url(#clip382)\" style=\"stroke:#000000; stroke-linecap:butt; stroke-linejoin:round; stroke-width:2; stroke-opacity:0.1; fill:none\" points=\"\n",
       "  428.545,651.7 428.545,101.872 \n",
       "  \"/>\n",
       "<polyline clip-path=\"url(#clip382)\" style=\"stroke:#000000; stroke-linecap:butt; stroke-linejoin:round; stroke-width:2; stroke-opacity:0.1; fill:none\" points=\"\n",
       "  496.218,651.7 496.218,101.872 \n",
       "  \"/>\n",
       "<polyline clip-path=\"url(#clip382)\" style=\"stroke:#000000; stroke-linecap:butt; stroke-linejoin:round; stroke-width:2; stroke-opacity:0.1; fill:none\" points=\"\n",
       "  563.891,651.7 563.891,101.872 \n",
       "  \"/>\n",
       "<polyline clip-path=\"url(#clip382)\" style=\"stroke:#000000; stroke-linecap:butt; stroke-linejoin:round; stroke-width:2; stroke-opacity:0.1; fill:none\" points=\"\n",
       "  631.564,651.7 631.564,101.872 \n",
       "  \"/>\n",
       "<polyline clip-path=\"url(#clip382)\" style=\"stroke:#000000; stroke-linecap:butt; stroke-linejoin:round; stroke-width:2; stroke-opacity:0.1; fill:none\" points=\"\n",
       "  699.237,651.7 699.237,101.872 \n",
       "  \"/>\n",
       "<polyline clip-path=\"url(#clip382)\" style=\"stroke:#000000; stroke-linecap:butt; stroke-linejoin:round; stroke-width:2; stroke-opacity:0.1; fill:none\" points=\"\n",
       "  766.91,651.7 766.91,101.872 \n",
       "  \"/>\n",
       "<polyline clip-path=\"url(#clip382)\" style=\"stroke:#000000; stroke-linecap:butt; stroke-linejoin:round; stroke-width:2; stroke-opacity:0.1; fill:none\" points=\"\n",
       "  834.583,651.7 834.583,101.872 \n",
       "  \"/>\n",
       "<polyline clip-path=\"url(#clip382)\" style=\"stroke:#000000; stroke-linecap:butt; stroke-linejoin:round; stroke-width:2; stroke-opacity:0.1; fill:none\" points=\"\n",
       "  902.256,651.7 902.256,101.872 \n",
       "  \"/>\n",
       "<polyline clip-path=\"url(#clip382)\" style=\"stroke:#000000; stroke-linecap:butt; stroke-linejoin:round; stroke-width:2; stroke-opacity:0.1; fill:none\" points=\"\n",
       "  969.929,651.7 969.929,101.872 \n",
       "  \"/>\n",
       "<polyline clip-path=\"url(#clip382)\" style=\"stroke:#000000; stroke-linecap:butt; stroke-linejoin:round; stroke-width:2; stroke-opacity:0.1; fill:none\" points=\"\n",
       "  1037.6,651.7 1037.6,101.872 \n",
       "  \"/>\n",
       "<polyline clip-path=\"url(#clip382)\" style=\"stroke:#000000; stroke-linecap:butt; stroke-linejoin:round; stroke-width:2; stroke-opacity:0.1; fill:none\" points=\"\n",
       "  1105.28,651.7 1105.28,101.872 \n",
       "  \"/>\n",
       "<polyline clip-path=\"url(#clip382)\" style=\"stroke:#000000; stroke-linecap:butt; stroke-linejoin:round; stroke-width:2; stroke-opacity:0.1; fill:none\" points=\"\n",
       "  1172.95,651.7 1172.95,101.872 \n",
       "  \"/>\n",
       "<polyline clip-path=\"url(#clip382)\" style=\"stroke:#000000; stroke-linecap:butt; stroke-linejoin:round; stroke-width:2; stroke-opacity:0.1; fill:none\" points=\"\n",
       "  1240.62,651.7 1240.62,101.872 \n",
       "  \"/>\n",
       "<polyline clip-path=\"url(#clip382)\" style=\"stroke:#000000; stroke-linecap:butt; stroke-linejoin:round; stroke-width:2; stroke-opacity:0.1; fill:none\" points=\"\n",
       "  1308.29,651.7 1308.29,101.872 \n",
       "  \"/>\n",
       "<polyline clip-path=\"url(#clip382)\" style=\"stroke:#000000; stroke-linecap:butt; stroke-linejoin:round; stroke-width:2; stroke-opacity:0.1; fill:none\" points=\"\n",
       "  1375.97,651.7 1375.97,101.872 \n",
       "  \"/>\n",
       "<polyline clip-path=\"url(#clip382)\" style=\"stroke:#000000; stroke-linecap:butt; stroke-linejoin:round; stroke-width:2; stroke-opacity:0.1; fill:none\" points=\"\n",
       "  1443.64,651.7 1443.64,101.872 \n",
       "  \"/>\n",
       "<polyline clip-path=\"url(#clip380)\" style=\"stroke:#000000; stroke-linecap:butt; stroke-linejoin:round; stroke-width:4; stroke-opacity:1; fill:none\" points=\"\n",
       "  184.084,651.7 1552.76,651.7 \n",
       "  \"/>\n",
       "<polyline clip-path=\"url(#clip380)\" style=\"stroke:#000000; stroke-linecap:butt; stroke-linejoin:round; stroke-width:4; stroke-opacity:1; fill:none\" points=\"\n",
       "  293.199,651.7 293.199,645.102 \n",
       "  \"/>\n",
       "<polyline clip-path=\"url(#clip380)\" style=\"stroke:#000000; stroke-linecap:butt; stroke-linejoin:round; stroke-width:4; stroke-opacity:1; fill:none\" points=\"\n",
       "  360.872,651.7 360.872,645.102 \n",
       "  \"/>\n",
       "<polyline clip-path=\"url(#clip380)\" style=\"stroke:#000000; stroke-linecap:butt; stroke-linejoin:round; stroke-width:4; stroke-opacity:1; fill:none\" points=\"\n",
       "  428.545,651.7 428.545,645.102 \n",
       "  \"/>\n",
       "<polyline clip-path=\"url(#clip380)\" style=\"stroke:#000000; stroke-linecap:butt; stroke-linejoin:round; stroke-width:4; stroke-opacity:1; fill:none\" points=\"\n",
       "  496.218,651.7 496.218,645.102 \n",
       "  \"/>\n",
       "<polyline clip-path=\"url(#clip380)\" style=\"stroke:#000000; stroke-linecap:butt; stroke-linejoin:round; stroke-width:4; stroke-opacity:1; fill:none\" points=\"\n",
       "  563.891,651.7 563.891,645.102 \n",
       "  \"/>\n",
       "<polyline clip-path=\"url(#clip380)\" style=\"stroke:#000000; stroke-linecap:butt; stroke-linejoin:round; stroke-width:4; stroke-opacity:1; fill:none\" points=\"\n",
       "  631.564,651.7 631.564,645.102 \n",
       "  \"/>\n",
       "<polyline clip-path=\"url(#clip380)\" style=\"stroke:#000000; stroke-linecap:butt; stroke-linejoin:round; stroke-width:4; stroke-opacity:1; fill:none\" points=\"\n",
       "  699.237,651.7 699.237,645.102 \n",
       "  \"/>\n",
       "<polyline clip-path=\"url(#clip380)\" style=\"stroke:#000000; stroke-linecap:butt; stroke-linejoin:round; stroke-width:4; stroke-opacity:1; fill:none\" points=\"\n",
       "  766.91,651.7 766.91,645.102 \n",
       "  \"/>\n",
       "<polyline clip-path=\"url(#clip380)\" style=\"stroke:#000000; stroke-linecap:butt; stroke-linejoin:round; stroke-width:4; stroke-opacity:1; fill:none\" points=\"\n",
       "  834.583,651.7 834.583,645.102 \n",
       "  \"/>\n",
       "<polyline clip-path=\"url(#clip380)\" style=\"stroke:#000000; stroke-linecap:butt; stroke-linejoin:round; stroke-width:4; stroke-opacity:1; fill:none\" points=\"\n",
       "  902.256,651.7 902.256,645.102 \n",
       "  \"/>\n",
       "<polyline clip-path=\"url(#clip380)\" style=\"stroke:#000000; stroke-linecap:butt; stroke-linejoin:round; stroke-width:4; stroke-opacity:1; fill:none\" points=\"\n",
       "  969.929,651.7 969.929,645.102 \n",
       "  \"/>\n",
       "<polyline clip-path=\"url(#clip380)\" style=\"stroke:#000000; stroke-linecap:butt; stroke-linejoin:round; stroke-width:4; stroke-opacity:1; fill:none\" points=\"\n",
       "  1037.6,651.7 1037.6,645.102 \n",
       "  \"/>\n",
       "<polyline clip-path=\"url(#clip380)\" style=\"stroke:#000000; stroke-linecap:butt; stroke-linejoin:round; stroke-width:4; stroke-opacity:1; fill:none\" points=\"\n",
       "  1105.28,651.7 1105.28,645.102 \n",
       "  \"/>\n",
       "<polyline clip-path=\"url(#clip380)\" style=\"stroke:#000000; stroke-linecap:butt; stroke-linejoin:round; stroke-width:4; stroke-opacity:1; fill:none\" points=\"\n",
       "  1172.95,651.7 1172.95,645.102 \n",
       "  \"/>\n",
       "<polyline clip-path=\"url(#clip380)\" style=\"stroke:#000000; stroke-linecap:butt; stroke-linejoin:round; stroke-width:4; stroke-opacity:1; fill:none\" points=\"\n",
       "  1240.62,651.7 1240.62,645.102 \n",
       "  \"/>\n",
       "<polyline clip-path=\"url(#clip380)\" style=\"stroke:#000000; stroke-linecap:butt; stroke-linejoin:round; stroke-width:4; stroke-opacity:1; fill:none\" points=\"\n",
       "  1308.29,651.7 1308.29,645.102 \n",
       "  \"/>\n",
       "<polyline clip-path=\"url(#clip380)\" style=\"stroke:#000000; stroke-linecap:butt; stroke-linejoin:round; stroke-width:4; stroke-opacity:1; fill:none\" points=\"\n",
       "  1375.97,651.7 1375.97,645.102 \n",
       "  \"/>\n",
       "<polyline clip-path=\"url(#clip380)\" style=\"stroke:#000000; stroke-linecap:butt; stroke-linejoin:round; stroke-width:4; stroke-opacity:1; fill:none\" points=\"\n",
       "  1443.64,651.7 1443.64,645.102 \n",
       "  \"/>\n",
       "<path clip-path=\"url(#clip380)\" d=\"M283.581 702.037 L291.22 702.037 L291.22 675.671 L282.91 677.338 L282.91 673.079 L291.174 671.412 L295.85 671.412 L295.85 702.037 L303.489 702.037 L303.489 705.972 L283.581 705.972 L283.581 702.037 Z\" fill=\"#000000\" fill-rule=\"evenodd\" fill-opacity=\"1\" /><path clip-path=\"url(#clip380)\" d=\"M355.525 702.037 L371.845 702.037 L371.845 705.972 L349.9 705.972 L349.9 702.037 Q352.562 699.282 357.146 694.652 Q361.752 690 362.933 688.657 Q365.178 686.134 366.058 684.398 Q366.96 682.639 366.96 680.949 Q366.96 678.194 365.016 676.458 Q363.095 674.722 359.993 674.722 Q357.794 674.722 355.34 675.486 Q352.91 676.25 350.132 677.801 L350.132 673.079 Q352.956 671.944 355.41 671.366 Q357.863 670.787 359.9 670.787 Q365.271 670.787 368.465 673.472 Q371.659 676.157 371.659 680.648 Q371.659 682.778 370.849 684.699 Q370.062 686.597 367.956 689.19 Q367.377 689.861 364.275 693.078 Q361.173 696.273 355.525 702.037 Z\" fill=\"#000000\" fill-rule=\"evenodd\" fill-opacity=\"1\" /><path clip-path=\"url(#clip380)\" d=\"M432.793 687.338 Q436.15 688.055 438.025 690.324 Q439.923 692.592 439.923 695.926 Q439.923 701.041 436.404 703.842 Q432.886 706.643 426.404 706.643 Q424.228 706.643 421.914 706.203 Q419.622 705.787 417.168 704.93 L417.168 700.416 Q419.113 701.551 421.427 702.129 Q423.742 702.708 426.265 702.708 Q430.663 702.708 432.955 700.972 Q435.27 699.236 435.27 695.926 Q435.27 692.87 433.117 691.157 Q430.988 689.421 427.168 689.421 L423.14 689.421 L423.14 685.578 L427.353 685.578 Q430.802 685.578 432.631 684.213 Q434.46 682.824 434.46 680.231 Q434.46 677.569 432.562 676.157 Q430.687 674.722 427.168 674.722 Q425.247 674.722 423.048 675.139 Q420.849 675.555 418.21 676.435 L418.21 672.268 Q420.872 671.528 423.187 671.157 Q425.525 670.787 427.585 670.787 Q432.909 670.787 436.011 673.217 Q439.112 675.625 439.112 679.745 Q439.112 682.615 437.469 684.606 Q435.825 686.574 432.793 687.338 Z\" fill=\"#000000\" fill-rule=\"evenodd\" fill-opacity=\"1\" /><path clip-path=\"url(#clip380)\" d=\"M499.228 675.486 L487.422 693.935 L499.228 693.935 L499.228 675.486 M498.001 671.412 L503.88 671.412 L503.88 693.935 L508.811 693.935 L508.811 697.824 L503.88 697.824 L503.88 705.972 L499.228 705.972 L499.228 697.824 L483.626 697.824 L483.626 693.31 L498.001 671.412 Z\" fill=\"#000000\" fill-rule=\"evenodd\" fill-opacity=\"1\" /><path clip-path=\"url(#clip380)\" d=\"M554.169 671.412 L572.526 671.412 L572.526 675.347 L558.452 675.347 L558.452 683.819 Q559.47 683.472 560.489 683.31 Q561.507 683.125 562.526 683.125 Q568.313 683.125 571.692 686.296 Q575.072 689.467 575.072 694.884 Q575.072 700.463 571.6 703.564 Q568.127 706.643 561.808 706.643 Q559.632 706.643 557.364 706.273 Q555.118 705.902 552.711 705.162 L552.711 700.463 Q554.794 701.597 557.016 702.152 Q559.239 702.708 561.715 702.708 Q565.72 702.708 568.058 700.602 Q570.396 698.495 570.396 694.884 Q570.396 691.273 568.058 689.166 Q565.72 687.06 561.715 687.06 Q559.84 687.06 557.965 687.477 Q556.114 687.893 554.169 688.773 L554.169 671.412 Z\" fill=\"#000000\" fill-rule=\"evenodd\" fill-opacity=\"1\" /><path clip-path=\"url(#clip380)\" d=\"M631.969 686.828 Q628.821 686.828 626.969 688.981 Q625.141 691.134 625.141 694.884 Q625.141 698.611 626.969 700.787 Q628.821 702.939 631.969 702.939 Q635.118 702.939 636.946 700.787 Q638.798 698.611 638.798 694.884 Q638.798 691.134 636.946 688.981 Q635.118 686.828 631.969 686.828 M641.252 672.176 L641.252 676.435 Q639.493 675.602 637.687 675.162 Q635.905 674.722 634.145 674.722 Q629.516 674.722 627.062 677.847 Q624.632 680.972 624.284 687.291 Q625.65 685.278 627.71 684.213 Q629.77 683.125 632.247 683.125 Q637.456 683.125 640.465 686.296 Q643.497 689.444 643.497 694.884 Q643.497 700.208 640.349 703.426 Q637.201 706.643 631.969 706.643 Q625.974 706.643 622.803 702.06 Q619.632 697.453 619.632 688.727 Q619.632 680.532 623.52 675.671 Q627.409 670.787 633.96 670.787 Q635.719 670.787 637.502 671.134 Q639.307 671.481 641.252 672.176 Z\" fill=\"#000000\" fill-rule=\"evenodd\" fill-opacity=\"1\" /><path clip-path=\"url(#clip380)\" d=\"M688.126 671.412 L710.348 671.412 L710.348 673.403 L697.802 705.972 L692.918 705.972 L704.723 675.347 L688.126 675.347 L688.126 671.412 Z\" fill=\"#000000\" fill-rule=\"evenodd\" fill-opacity=\"1\" /><path clip-path=\"url(#clip380)\" d=\"M766.91 689.56 Q763.577 689.56 761.656 691.342 Q759.758 693.125 759.758 696.25 Q759.758 699.375 761.656 701.157 Q763.577 702.939 766.91 702.939 Q770.244 702.939 772.165 701.157 Q774.086 699.352 774.086 696.25 Q774.086 693.125 772.165 691.342 Q770.267 689.56 766.91 689.56 M762.234 687.569 Q759.225 686.828 757.535 684.768 Q755.869 682.708 755.869 679.745 Q755.869 675.602 758.808 673.194 Q761.771 670.787 766.91 670.787 Q772.072 670.787 775.012 673.194 Q777.952 675.602 777.952 679.745 Q777.952 682.708 776.262 684.768 Q774.595 686.828 771.609 687.569 Q774.989 688.356 776.864 690.648 Q778.762 692.94 778.762 696.25 Q778.762 701.273 775.683 703.958 Q772.628 706.643 766.91 706.643 Q761.193 706.643 758.114 703.958 Q755.058 701.273 755.058 696.25 Q755.058 692.94 756.957 690.648 Q758.855 688.356 762.234 687.569 M760.521 680.185 Q760.521 682.87 762.188 684.375 Q763.878 685.879 766.91 685.879 Q769.92 685.879 771.609 684.375 Q773.322 682.87 773.322 680.185 Q773.322 677.5 771.609 675.995 Q769.92 674.491 766.91 674.491 Q763.878 674.491 762.188 675.995 Q760.521 677.5 760.521 680.185 Z\" fill=\"#000000\" fill-rule=\"evenodd\" fill-opacity=\"1\" /><path clip-path=\"url(#clip380)\" d=\"M824.884 705.254 L824.884 700.995 Q826.643 701.828 828.449 702.268 Q830.255 702.708 831.991 702.708 Q836.62 702.708 839.051 699.606 Q841.505 696.481 841.852 690.139 Q840.509 692.129 838.449 693.194 Q836.389 694.259 833.889 694.259 Q828.704 694.259 825.671 691.134 Q822.662 687.986 822.662 682.546 Q822.662 677.222 825.81 674.004 Q828.958 670.787 834.19 670.787 Q840.185 670.787 843.333 675.393 Q846.504 679.977 846.504 688.727 Q846.504 696.898 842.616 701.782 Q838.75 706.643 832.199 706.643 Q830.44 706.643 828.634 706.296 Q826.829 705.949 824.884 705.254 M834.19 690.602 Q837.338 690.602 839.167 688.449 Q841.018 686.296 841.018 682.546 Q841.018 678.819 839.167 676.666 Q837.338 674.491 834.19 674.491 Q831.042 674.491 829.19 676.666 Q827.361 678.819 827.361 682.546 Q827.361 686.296 829.19 688.449 Q831.042 690.602 834.19 690.602 Z\" fill=\"#000000\" fill-rule=\"evenodd\" fill-opacity=\"1\" /><path clip-path=\"url(#clip380)\" d=\"M876.944 702.037 L884.583 702.037 L884.583 675.671 L876.273 677.338 L876.273 673.079 L884.536 671.412 L889.212 671.412 L889.212 702.037 L896.851 702.037 L896.851 705.972 L876.944 705.972 L876.944 702.037 Z\" fill=\"#000000\" fill-rule=\"evenodd\" fill-opacity=\"1\" /><path clip-path=\"url(#clip380)\" d=\"M916.296 674.491 Q912.684 674.491 910.856 678.055 Q909.05 681.597 909.05 688.727 Q909.05 695.833 910.856 699.398 Q912.684 702.939 916.296 702.939 Q919.93 702.939 921.735 699.398 Q923.564 695.833 923.564 688.727 Q923.564 681.597 921.735 678.055 Q919.93 674.491 916.296 674.491 M916.296 670.787 Q922.106 670.787 925.161 675.393 Q928.24 679.977 928.24 688.727 Q928.24 697.453 925.161 702.06 Q922.106 706.643 916.296 706.643 Q910.485 706.643 907.407 702.06 Q904.351 697.453 904.351 688.727 Q904.351 679.977 907.407 675.393 Q910.485 670.787 916.296 670.787 Z\" fill=\"#000000\" fill-rule=\"evenodd\" fill-opacity=\"1\" /><path clip-path=\"url(#clip380)\" d=\"M945.23 702.037 L952.869 702.037 L952.869 675.671 L944.559 677.338 L944.559 673.079 L952.823 671.412 L957.499 671.412 L957.499 702.037 L965.138 702.037 L965.138 705.972 L945.23 705.972 L945.23 702.037 Z\" fill=\"#000000\" fill-rule=\"evenodd\" fill-opacity=\"1\" /><path clip-path=\"url(#clip380)\" d=\"M975.392 702.037 L983.031 702.037 L983.031 675.671 L974.721 677.338 L974.721 673.079 L982.985 671.412 L987.661 671.412 L987.661 702.037 L995.299 702.037 L995.299 705.972 L975.392 705.972 L975.392 702.037 Z\" fill=\"#000000\" fill-rule=\"evenodd\" fill-opacity=\"1\" /><path clip-path=\"url(#clip380)\" d=\"M1013.09 702.037 L1020.73 702.037 L1020.73 675.671 L1012.42 677.338 L1012.42 673.079 L1020.68 671.412 L1025.36 671.412 L1025.36 702.037 L1033 702.037 L1033 705.972 L1013.09 705.972 L1013.09 702.037 Z\" fill=\"#000000\" fill-rule=\"evenodd\" fill-opacity=\"1\" /><path clip-path=\"url(#clip380)\" d=\"M1046.47 702.037 L1062.79 702.037 L1062.79 705.972 L1040.84 705.972 L1040.84 702.037 Q1043.5 699.282 1048.09 694.652 Q1052.69 690 1053.88 688.657 Q1056.12 686.134 1057 684.398 Q1057.9 682.639 1057.9 680.949 Q1057.9 678.194 1055.96 676.458 Q1054.04 674.722 1050.94 674.722 Q1048.74 674.722 1046.28 675.486 Q1043.85 676.25 1041.07 677.801 L1041.07 673.079 Q1043.9 671.944 1046.35 671.366 Q1048.81 670.787 1050.84 670.787 Q1056.21 670.787 1059.41 673.472 Q1062.6 676.157 1062.6 680.648 Q1062.6 682.778 1061.79 684.699 Q1061 686.597 1058.9 689.19 Q1058.32 689.861 1055.22 693.078 Q1052.12 696.273 1046.47 702.037 Z\" fill=\"#000000\" fill-rule=\"evenodd\" fill-opacity=\"1\" /><path clip-path=\"url(#clip380)\" d=\"M1080.29 702.037 L1087.93 702.037 L1087.93 675.671 L1079.62 677.338 L1079.62 673.079 L1087.88 671.412 L1092.56 671.412 L1092.56 702.037 L1100.19 702.037 L1100.19 705.972 L1080.29 705.972 L1080.29 702.037 Z\" fill=\"#000000\" fill-rule=\"evenodd\" fill-opacity=\"1\" /><path clip-path=\"url(#clip380)\" d=\"M1123.81 687.338 Q1127.16 688.055 1129.04 690.324 Q1130.93 692.592 1130.93 695.926 Q1130.93 701.041 1127.42 703.842 Q1123.9 706.643 1117.42 706.643 Q1115.24 706.643 1112.93 706.203 Q1110.63 705.787 1108.18 704.93 L1108.18 700.416 Q1110.12 701.551 1112.44 702.129 Q1114.75 702.708 1117.28 702.708 Q1121.68 702.708 1123.97 700.972 Q1126.28 699.236 1126.28 695.926 Q1126.28 692.87 1124.13 691.157 Q1122 689.421 1118.18 689.421 L1114.15 689.421 L1114.15 685.578 L1118.37 685.578 Q1121.81 685.578 1123.64 684.213 Q1125.47 682.824 1125.47 680.231 Q1125.47 677.569 1123.57 676.157 Q1121.7 674.722 1118.18 674.722 Q1116.26 674.722 1114.06 675.139 Q1111.86 675.555 1109.22 676.435 L1109.22 672.268 Q1111.88 671.528 1114.2 671.157 Q1116.54 670.787 1118.6 670.787 Q1123.92 670.787 1127.02 673.217 Q1130.12 675.625 1130.12 679.745 Q1130.12 682.615 1128.48 684.606 Q1126.84 686.574 1123.81 687.338 Z\" fill=\"#000000\" fill-rule=\"evenodd\" fill-opacity=\"1\" /><path clip-path=\"url(#clip380)\" d=\"M1147.39 702.037 L1155.03 702.037 L1155.03 675.671 L1146.72 677.338 L1146.72 673.079 L1154.99 671.412 L1159.66 671.412 L1159.66 702.037 L1167.3 702.037 L1167.3 705.972 L1147.39 705.972 L1147.39 702.037 Z\" fill=\"#000000\" fill-rule=\"evenodd\" fill-opacity=\"1\" /><path clip-path=\"url(#clip380)\" d=\"M1189.59 675.486 L1177.79 693.935 L1189.59 693.935 L1189.59 675.486 M1188.36 671.412 L1194.24 671.412 L1194.24 693.935 L1199.17 693.935 L1199.17 697.824 L1194.24 697.824 L1194.24 705.972 L1189.59 705.972 L1189.59 697.824 L1173.99 697.824 L1173.99 693.31 L1188.36 671.412 Z\" fill=\"#000000\" fill-rule=\"evenodd\" fill-opacity=\"1\" /><path clip-path=\"url(#clip380)\" d=\"M1215.81 702.037 L1223.45 702.037 L1223.45 675.671 L1215.14 677.338 L1215.14 673.079 L1223.4 671.412 L1228.07 671.412 L1228.07 702.037 L1235.71 702.037 L1235.71 705.972 L1215.81 705.972 L1215.81 702.037 Z\" fill=\"#000000\" fill-rule=\"evenodd\" fill-opacity=\"1\" /><path clip-path=\"url(#clip380)\" d=\"M1245.2 671.412 L1263.56 671.412 L1263.56 675.347 L1249.49 675.347 L1249.49 683.819 Q1250.51 683.472 1251.52 683.31 Q1252.54 683.125 1253.56 683.125 Q1259.35 683.125 1262.73 686.296 Q1266.11 689.467 1266.11 694.884 Q1266.11 700.463 1262.63 703.564 Q1259.16 706.643 1252.84 706.643 Q1250.67 706.643 1248.4 706.273 Q1246.15 705.902 1243.75 705.162 L1243.75 700.463 Q1245.83 701.597 1248.05 702.152 Q1250.27 702.708 1252.75 702.708 Q1256.76 702.708 1259.09 700.602 Q1261.43 698.495 1261.43 694.884 Q1261.43 691.273 1259.09 689.166 Q1256.76 687.06 1252.75 687.06 Q1250.88 687.06 1249 687.477 Q1247.15 687.893 1245.2 688.773 L1245.2 671.412 Z\" fill=\"#000000\" fill-rule=\"evenodd\" fill-opacity=\"1\" /><path clip-path=\"url(#clip380)\" d=\"M1282.9 702.037 L1290.54 702.037 L1290.54 675.671 L1282.23 677.338 L1282.23 673.079 L1290.49 671.412 L1295.17 671.412 L1295.17 702.037 L1302.81 702.037 L1302.81 705.972 L1282.9 705.972 L1282.9 702.037 Z\" fill=\"#000000\" fill-rule=\"evenodd\" fill-opacity=\"1\" /><path clip-path=\"url(#clip380)\" d=\"M1322.83 686.828 Q1319.68 686.828 1317.83 688.981 Q1316 691.134 1316 694.884 Q1316 698.611 1317.83 700.787 Q1319.68 702.939 1322.83 702.939 Q1325.98 702.939 1327.81 700.787 Q1329.66 698.611 1329.66 694.884 Q1329.66 691.134 1327.81 688.981 Q1325.98 686.828 1322.83 686.828 M1332.11 672.176 L1332.11 676.435 Q1330.35 675.602 1328.55 675.162 Q1326.77 674.722 1325.01 674.722 Q1320.38 674.722 1317.92 677.847 Q1315.49 680.972 1315.15 687.291 Q1316.51 685.278 1318.57 684.213 Q1320.63 683.125 1323.11 683.125 Q1328.32 683.125 1331.33 686.296 Q1334.36 689.444 1334.36 694.884 Q1334.36 700.208 1331.21 703.426 Q1328.06 706.643 1322.83 706.643 Q1316.84 706.643 1313.66 702.06 Q1310.49 697.453 1310.49 688.727 Q1310.49 680.532 1314.38 675.671 Q1318.27 670.787 1324.82 670.787 Q1326.58 670.787 1328.36 671.134 Q1330.17 671.481 1332.11 672.176 Z\" fill=\"#000000\" fill-rule=\"evenodd\" fill-opacity=\"1\" /><path clip-path=\"url(#clip380)\" d=\"M1351.11 702.037 L1358.74 702.037 L1358.74 675.671 L1350.43 677.338 L1350.43 673.079 L1358.7 671.412 L1363.37 671.412 L1363.37 702.037 L1371.01 702.037 L1371.01 705.972 L1351.11 705.972 L1351.11 702.037 Z\" fill=\"#000000\" fill-rule=\"evenodd\" fill-opacity=\"1\" /><path clip-path=\"url(#clip380)\" d=\"M1379.28 671.412 L1401.5 671.412 L1401.5 673.403 L1388.95 705.972 L1384.07 705.972 L1395.87 675.347 L1379.28 675.347 L1379.28 671.412 Z\" fill=\"#000000\" fill-rule=\"evenodd\" fill-opacity=\"1\" /><path clip-path=\"url(#clip380)\" d=\"M1418.37 702.037 L1426.01 702.037 L1426.01 675.671 L1417.7 677.338 L1417.7 673.079 L1425.97 671.412 L1430.64 671.412 L1430.64 702.037 L1438.28 702.037 L1438.28 705.972 L1418.37 705.972 L1418.37 702.037 Z\" fill=\"#000000\" fill-rule=\"evenodd\" fill-opacity=\"1\" /><path clip-path=\"url(#clip380)\" d=\"M1457.73 689.56 Q1454.39 689.56 1452.47 691.342 Q1450.57 693.125 1450.57 696.25 Q1450.57 699.375 1452.47 701.157 Q1454.39 702.939 1457.73 702.939 Q1461.06 702.939 1462.98 701.157 Q1464.9 699.352 1464.9 696.25 Q1464.9 693.125 1462.98 691.342 Q1461.08 689.56 1457.73 689.56 M1453.05 687.569 Q1450.04 686.828 1448.35 684.768 Q1446.68 682.708 1446.68 679.745 Q1446.68 675.602 1449.62 673.194 Q1452.59 670.787 1457.73 670.787 Q1462.89 670.787 1465.83 673.194 Q1468.77 675.602 1468.77 679.745 Q1468.77 682.708 1467.08 684.768 Q1465.41 686.828 1462.42 687.569 Q1465.8 688.356 1467.68 690.648 Q1469.58 692.94 1469.58 696.25 Q1469.58 701.273 1466.5 703.958 Q1463.44 706.643 1457.73 706.643 Q1452.01 706.643 1448.93 703.958 Q1445.87 701.273 1445.87 696.25 Q1445.87 692.94 1447.77 690.648 Q1449.67 688.356 1453.05 687.569 M1451.34 680.185 Q1451.34 682.87 1453 684.375 Q1454.69 685.879 1457.73 685.879 Q1460.73 685.879 1462.42 684.375 Q1464.14 682.87 1464.14 680.185 Q1464.14 677.5 1462.42 675.995 Q1460.73 674.491 1457.73 674.491 Q1454.69 674.491 1453 675.995 Q1451.34 677.5 1451.34 680.185 Z\" fill=\"#000000\" fill-rule=\"evenodd\" fill-opacity=\"1\" /><path clip-path=\"url(#clip380)\" d=\"M753.917 742.327 L753.917 760.183 L762.001 760.183 Q766.489 760.183 768.94 757.86 Q771.39 755.536 771.39 751.239 Q771.39 746.974 768.94 744.651 Q766.489 742.327 762.001 742.327 L753.917 742.327 M747.487 737.044 L762.001 737.044 Q769.99 737.044 774.064 740.672 Q778.17 744.269 778.17 751.239 Q778.17 758.273 774.064 761.87 Q769.99 765.467 762.001 765.467 L753.917 765.467 L753.917 784.564 L747.487 784.564 L747.487 737.044 Z\" fill=\"#000000\" fill-rule=\"evenodd\" fill-opacity=\"1\" /><path clip-path=\"url(#clip380)\" d=\"M798.031 753.022 Q793.32 753.022 790.583 756.714 Q787.846 760.374 787.846 766.772 Q787.846 773.169 790.551 776.861 Q793.288 780.522 798.031 780.522 Q802.71 780.522 805.447 776.83 Q808.184 773.137 808.184 766.772 Q808.184 760.438 805.447 756.746 Q802.71 753.022 798.031 753.022 M798.031 748.057 Q805.67 748.057 810.03 753.022 Q814.391 757.987 814.391 766.772 Q814.391 775.525 810.03 780.522 Q805.67 785.487 798.031 785.487 Q790.36 785.487 786 780.522 Q781.671 775.525 781.671 766.772 Q781.671 757.987 786 753.022 Q790.36 748.057 798.031 748.057 Z\" fill=\"#000000\" fill-rule=\"evenodd\" fill-opacity=\"1\" /><path clip-path=\"url(#clip380)\" d=\"M846.824 749.966 L846.824 755.504 Q844.341 754.231 841.668 753.595 Q838.994 752.958 836.13 752.958 Q831.769 752.958 829.573 754.295 Q827.409 755.632 827.409 758.305 Q827.409 760.342 828.968 761.52 Q830.528 762.666 835.238 763.716 L837.244 764.162 Q843.482 765.499 846.092 767.949 Q848.734 770.368 848.734 774.729 Q848.734 779.694 844.787 782.59 Q840.872 785.487 833.997 785.487 Q831.133 785.487 828.013 784.914 Q824.926 784.373 821.489 783.259 L821.489 777.211 Q824.735 778.898 827.886 779.758 Q831.037 780.585 834.124 780.585 Q838.262 780.585 840.49 779.185 Q842.718 777.753 842.718 775.174 Q842.718 772.787 841.095 771.514 Q839.504 770.241 834.061 769.063 L832.024 768.586 Q826.581 767.44 824.162 765.085 Q821.743 762.698 821.743 758.56 Q821.743 753.531 825.308 750.794 Q828.873 748.057 835.429 748.057 Q838.676 748.057 841.541 748.534 Q844.405 749.011 846.824 749.966 Z\" fill=\"#000000\" fill-rule=\"evenodd\" fill-opacity=\"1\" /><path clip-path=\"url(#clip380)\" d=\"M858.06 748.916 L863.916 748.916 L863.916 784.564 L858.06 784.564 L858.06 748.916 M858.06 735.039 L863.916 735.039 L863.916 742.455 L858.06 742.455 L858.06 735.039 Z\" fill=\"#000000\" fill-rule=\"evenodd\" fill-opacity=\"1\" /><path clip-path=\"url(#clip380)\" d=\"M881.963 738.794 L881.963 748.916 L894.026 748.916 L894.026 753.467 L881.963 753.467 L881.963 772.819 Q881.963 777.18 883.14 778.421 Q884.35 779.662 888.01 779.662 L894.026 779.662 L894.026 784.564 L888.01 784.564 Q881.231 784.564 878.653 782.049 Q876.075 779.503 876.075 772.819 L876.075 753.467 L871.778 753.467 L871.778 748.916 L876.075 748.916 L876.075 738.794 L881.963 738.794 Z\" fill=\"#000000\" fill-rule=\"evenodd\" fill-opacity=\"1\" /><path clip-path=\"url(#clip380)\" d=\"M901.728 748.916 L907.585 748.916 L907.585 784.564 L901.728 784.564 L901.728 748.916 M901.728 735.039 L907.585 735.039 L907.585 742.455 L901.728 742.455 L901.728 735.039 Z\" fill=\"#000000\" fill-rule=\"evenodd\" fill-opacity=\"1\" /><path clip-path=\"url(#clip380)\" d=\"M933.652 753.022 Q928.942 753.022 926.204 756.714 Q923.467 760.374 923.467 766.772 Q923.467 773.169 926.173 776.861 Q928.91 780.522 933.652 780.522 Q938.331 780.522 941.068 776.83 Q943.806 773.137 943.806 766.772 Q943.806 760.438 941.068 756.746 Q938.331 753.022 933.652 753.022 M933.652 748.057 Q941.291 748.057 945.652 753.022 Q950.012 757.987 950.012 766.772 Q950.012 775.525 945.652 780.522 Q941.291 785.487 933.652 785.487 Q925.982 785.487 921.621 780.522 Q917.292 775.525 917.292 766.772 Q917.292 757.987 921.621 753.022 Q925.982 748.057 933.652 748.057 Z\" fill=\"#000000\" fill-rule=\"evenodd\" fill-opacity=\"1\" /><path clip-path=\"url(#clip380)\" d=\"M989.352 763.048 L989.352 784.564 L983.496 784.564 L983.496 763.239 Q983.496 758.178 981.522 755.664 Q979.549 753.149 975.602 753.149 Q970.86 753.149 968.123 756.173 Q965.385 759.197 965.385 764.416 L965.385 784.564 L959.497 784.564 L959.497 748.916 L965.385 748.916 L965.385 754.454 Q967.486 751.239 970.319 749.648 Q973.183 748.057 976.907 748.057 Q983.05 748.057 986.201 751.876 Q989.352 755.664 989.352 763.048 Z\" fill=\"#000000\" fill-rule=\"evenodd\" fill-opacity=\"1\" /><polyline clip-path=\"url(#clip382)\" style=\"stroke:#000000; stroke-linecap:butt; stroke-linejoin:round; stroke-width:2; stroke-opacity:0.1; fill:none\" points=\"\n",
       "  184.084,636.139 1552.76,636.139 \n",
       "  \"/>\n",
       "<polyline clip-path=\"url(#clip382)\" style=\"stroke:#000000; stroke-linecap:butt; stroke-linejoin:round; stroke-width:2; stroke-opacity:0.1; fill:none\" points=\"\n",
       "  184.084,528.075 1552.76,528.075 \n",
       "  \"/>\n",
       "<polyline clip-path=\"url(#clip382)\" style=\"stroke:#000000; stroke-linecap:butt; stroke-linejoin:round; stroke-width:2; stroke-opacity:0.1; fill:none\" points=\"\n",
       "  184.084,420.011 1552.76,420.011 \n",
       "  \"/>\n",
       "<polyline clip-path=\"url(#clip382)\" style=\"stroke:#000000; stroke-linecap:butt; stroke-linejoin:round; stroke-width:2; stroke-opacity:0.1; fill:none\" points=\"\n",
       "  184.084,311.948 1552.76,311.948 \n",
       "  \"/>\n",
       "<polyline clip-path=\"url(#clip382)\" style=\"stroke:#000000; stroke-linecap:butt; stroke-linejoin:round; stroke-width:2; stroke-opacity:0.1; fill:none\" points=\"\n",
       "  184.084,203.884 1552.76,203.884 \n",
       "  \"/>\n",
       "<polyline clip-path=\"url(#clip380)\" style=\"stroke:#000000; stroke-linecap:butt; stroke-linejoin:round; stroke-width:4; stroke-opacity:1; fill:none\" points=\"\n",
       "  184.084,651.7 184.084,101.872 \n",
       "  \"/>\n",
       "<polyline clip-path=\"url(#clip380)\" style=\"stroke:#000000; stroke-linecap:butt; stroke-linejoin:round; stroke-width:4; stroke-opacity:1; fill:none\" points=\"\n",
       "  184.084,636.139 200.508,636.139 \n",
       "  \"/>\n",
       "<polyline clip-path=\"url(#clip380)\" style=\"stroke:#000000; stroke-linecap:butt; stroke-linejoin:round; stroke-width:4; stroke-opacity:1; fill:none\" points=\"\n",
       "  184.084,528.075 200.508,528.075 \n",
       "  \"/>\n",
       "<polyline clip-path=\"url(#clip380)\" style=\"stroke:#000000; stroke-linecap:butt; stroke-linejoin:round; stroke-width:4; stroke-opacity:1; fill:none\" points=\"\n",
       "  184.084,420.011 200.508,420.011 \n",
       "  \"/>\n",
       "<polyline clip-path=\"url(#clip380)\" style=\"stroke:#000000; stroke-linecap:butt; stroke-linejoin:round; stroke-width:4; stroke-opacity:1; fill:none\" points=\"\n",
       "  184.084,311.948 200.508,311.948 \n",
       "  \"/>\n",
       "<polyline clip-path=\"url(#clip380)\" style=\"stroke:#000000; stroke-linecap:butt; stroke-linejoin:round; stroke-width:4; stroke-opacity:1; fill:none\" points=\"\n",
       "  184.084,203.884 200.508,203.884 \n",
       "  \"/>\n",
       "<path clip-path=\"url(#clip380)\" d=\"M148.139 621.937 Q144.528 621.937 142.699 625.502 Q140.894 629.044 140.894 636.173 Q140.894 643.28 142.699 646.845 Q144.528 650.386 148.139 650.386 Q151.773 650.386 153.579 646.845 Q155.408 643.28 155.408 636.173 Q155.408 629.044 153.579 625.502 Q151.773 621.937 148.139 621.937 M148.139 618.234 Q153.949 618.234 157.005 622.84 Q160.084 627.423 160.084 636.173 Q160.084 644.9 157.005 649.507 Q153.949 654.09 148.139 654.09 Q142.329 654.09 139.25 649.507 Q136.195 644.9 136.195 636.173 Q136.195 627.423 139.25 622.84 Q142.329 618.234 148.139 618.234 Z\" fill=\"#000000\" fill-rule=\"evenodd\" fill-opacity=\"1\" /><path clip-path=\"url(#clip380)\" d=\"M139.181 510.795 L157.537 510.795 L157.537 514.73 L143.463 514.73 L143.463 523.202 Q144.482 522.855 145.5 522.693 Q146.519 522.508 147.537 522.508 Q153.324 522.508 156.704 525.679 Q160.084 528.851 160.084 534.267 Q160.084 539.846 156.611 542.948 Q153.139 546.026 146.82 546.026 Q144.644 546.026 142.375 545.656 Q140.13 545.286 137.723 544.545 L137.723 539.846 Q139.806 540.98 142.028 541.536 Q144.25 542.091 146.727 542.091 Q150.732 542.091 153.07 539.985 Q155.408 537.878 155.408 534.267 Q155.408 530.656 153.07 528.55 Q150.732 526.443 146.727 526.443 Q144.852 526.443 142.977 526.86 Q141.125 527.276 139.181 528.156 L139.181 510.795 Z\" fill=\"#000000\" fill-rule=\"evenodd\" fill-opacity=\"1\" /><path clip-path=\"url(#clip380)\" d=\"M108.788 433.356 L116.426 433.356 L116.426 406.991 L108.116 408.657 L108.116 404.398 L116.38 402.731 L121.056 402.731 L121.056 433.356 L128.695 433.356 L128.695 437.291 L108.788 437.291 L108.788 433.356 Z\" fill=\"#000000\" fill-rule=\"evenodd\" fill-opacity=\"1\" /><path clip-path=\"url(#clip380)\" d=\"M148.139 405.81 Q144.528 405.81 142.699 409.375 Q140.894 412.917 140.894 420.046 Q140.894 427.153 142.699 430.717 Q144.528 434.259 148.139 434.259 Q151.773 434.259 153.579 430.717 Q155.408 427.153 155.408 420.046 Q155.408 412.917 153.579 409.375 Q151.773 405.81 148.139 405.81 M148.139 402.106 Q153.949 402.106 157.005 406.713 Q160.084 411.296 160.084 420.046 Q160.084 428.773 157.005 433.379 Q153.949 437.963 148.139 437.963 Q142.329 437.963 139.25 433.379 Q136.195 428.773 136.195 420.046 Q136.195 411.296 139.25 406.713 Q142.329 402.106 148.139 402.106 Z\" fill=\"#000000\" fill-rule=\"evenodd\" fill-opacity=\"1\" /><path clip-path=\"url(#clip380)\" d=\"M109.783 325.293 L117.422 325.293 L117.422 298.927 L109.112 300.594 L109.112 296.334 L117.375 294.668 L122.051 294.668 L122.051 325.293 L129.69 325.293 L129.69 329.228 L109.783 329.228 L109.783 325.293 Z\" fill=\"#000000\" fill-rule=\"evenodd\" fill-opacity=\"1\" /><path clip-path=\"url(#clip380)\" d=\"M139.181 294.668 L157.537 294.668 L157.537 298.603 L143.463 298.603 L143.463 307.075 Q144.482 306.728 145.5 306.566 Q146.519 306.381 147.537 306.381 Q153.324 306.381 156.704 309.552 Q160.084 312.723 160.084 318.14 Q160.084 323.719 156.611 326.82 Q153.139 329.899 146.82 329.899 Q144.644 329.899 142.375 329.529 Q140.13 329.158 137.723 328.418 L137.723 323.719 Q139.806 324.853 142.028 325.408 Q144.25 325.964 146.727 325.964 Q150.732 325.964 153.07 323.857 Q155.408 321.751 155.408 318.14 Q155.408 314.529 153.07 312.422 Q150.732 310.316 146.727 310.316 Q144.852 310.316 142.977 310.733 Q141.125 311.149 139.181 312.029 L139.181 294.668 Z\" fill=\"#000000\" fill-rule=\"evenodd\" fill-opacity=\"1\" /><path clip-path=\"url(#clip380)\" d=\"M112.005 217.229 L128.324 217.229 L128.324 221.164 L106.38 221.164 L106.38 217.229 Q109.042 214.474 113.625 209.845 Q118.232 205.192 119.412 203.849 Q121.658 201.326 122.537 199.59 Q123.44 197.831 123.44 196.141 Q123.44 193.387 121.496 191.65 Q119.575 189.914 116.473 189.914 Q114.274 189.914 111.82 190.678 Q109.389 191.442 106.612 192.993 L106.612 188.271 Q109.436 187.137 111.889 186.558 Q114.343 185.979 116.38 185.979 Q121.75 185.979 124.945 188.664 Q128.139 191.35 128.139 195.84 Q128.139 197.97 127.329 199.891 Q126.542 201.789 124.436 204.382 Q123.857 205.053 120.755 208.271 Q117.653 211.465 112.005 217.229 Z\" fill=\"#000000\" fill-rule=\"evenodd\" fill-opacity=\"1\" /><path clip-path=\"url(#clip380)\" d=\"M148.139 189.683 Q144.528 189.683 142.699 193.248 Q140.894 196.789 140.894 203.919 Q140.894 211.025 142.699 214.59 Q144.528 218.132 148.139 218.132 Q151.773 218.132 153.579 214.59 Q155.408 211.025 155.408 203.919 Q155.408 196.789 153.579 193.248 Q151.773 189.683 148.139 189.683 M148.139 185.979 Q153.949 185.979 157.005 190.586 Q160.084 195.169 160.084 203.919 Q160.084 212.646 157.005 217.252 Q153.949 221.835 148.139 221.835 Q142.329 221.835 139.25 217.252 Q136.195 212.646 136.195 203.919 Q136.195 195.169 139.25 190.586 Q142.329 185.979 148.139 185.979 Z\" fill=\"#000000\" fill-rule=\"evenodd\" fill-opacity=\"1\" /><path clip-path=\"url(#clip380)\" d=\"M20.6042 735.525 L20.6042 726.868 L60.358 705.798 L20.6042 705.798 L20.6042 699.559 L68.1242 699.559 L68.1242 708.216 L28.3703 729.287 L68.1242 729.287 L68.1242 735.525 L20.6042 735.525 Z\" fill=\"#000000\" fill-rule=\"evenodd\" fill-opacity=\"1\" /><path clip-path=\"url(#clip380)\" d=\"M54.0559 687.623 L32.4762 687.623 L32.4762 681.767 L53.8331 681.767 Q58.8939 681.767 61.4402 679.794 Q63.9546 677.82 63.9546 673.874 Q63.9546 669.131 60.9309 666.394 Q57.9072 663.625 52.6873 663.625 L32.4762 663.625 L32.4762 657.768 L68.1242 657.768 L68.1242 663.625 L62.6496 663.625 Q65.8962 665.757 67.4876 668.59 Q69.0472 671.391 69.0472 675.115 Q69.0472 681.258 65.2278 684.441 Q61.4083 687.623 54.0559 687.623 M31.6168 672.887 L31.6168 672.887 Z\" fill=\"#000000\" fill-rule=\"evenodd\" fill-opacity=\"1\" /><path clip-path=\"url(#clip380)\" d=\"M39.3193 617.951 Q35.3726 615.755 33.4947 612.699 Q31.6168 609.644 31.6168 605.506 Q31.6168 599.936 35.5317 596.912 Q39.4148 593.888 46.6081 593.888 L68.1242 593.888 L68.1242 599.777 L46.799 599.777 Q41.6746 599.777 39.192 601.591 Q36.7094 603.405 36.7094 607.129 Q36.7094 611.681 39.7331 614.322 Q42.7568 616.964 47.9767 616.964 L68.1242 616.964 L68.1242 622.852 L46.799 622.852 Q41.6428 622.852 39.192 624.667 Q36.7094 626.481 36.7094 630.268 Q36.7094 634.756 39.7649 637.398 Q42.7886 640.04 47.9767 640.04 L68.1242 640.04 L68.1242 645.928 L32.4762 645.928 L32.4762 640.04 L38.0144 640.04 Q34.736 638.035 33.1764 635.234 Q31.6168 632.433 31.6168 628.582 Q31.6168 624.698 33.5902 621.993 Q35.5636 619.256 39.3193 617.951 Z\" fill=\"#000000\" fill-rule=\"evenodd\" fill-opacity=\"1\" /><path clip-path=\"url(#clip380)\" d=\"M50.332 556.617 Q43.8708 556.617 40.2105 559.291 Q36.5184 561.933 36.5184 566.58 Q36.5184 571.226 40.2105 573.9 Q43.8708 576.542 50.332 576.542 Q56.7932 576.542 60.4853 573.9 Q64.1456 571.226 64.1456 566.58 Q64.1456 561.933 60.4853 559.291 Q56.7932 556.617 50.332 556.617 M37.8871 576.542 Q34.7042 574.696 33.1764 571.895 Q31.6168 569.062 31.6168 565.147 Q31.6168 558.654 36.7731 554.612 Q41.9293 550.538 50.332 550.538 Q58.7347 550.538 63.891 554.612 Q69.0472 558.654 69.0472 565.147 Q69.0472 569.062 67.5194 571.895 Q65.9598 574.696 62.777 576.542 L68.1242 576.542 L68.1242 582.43 L18.599 582.43 L18.599 576.542 L37.8871 576.542 Z\" fill=\"#000000\" fill-rule=\"evenodd\" fill-opacity=\"1\" /><path clip-path=\"url(#clip380)\" d=\"M48.8361 510.339 L51.7006 510.339 L51.7006 537.265 Q57.7481 536.884 60.9309 533.637 Q64.0819 530.359 64.0819 524.534 Q64.0819 521.16 63.2544 518.009 Q62.4269 514.826 60.7718 511.707 L66.3099 511.707 Q67.6467 514.858 68.347 518.168 Q69.0472 521.478 69.0472 524.884 Q69.0472 533.414 64.0819 538.411 Q59.1167 543.377 50.6503 543.377 Q41.8974 543.377 36.7731 538.666 Q31.6168 533.923 31.6168 525.903 Q31.6168 518.709 36.2638 514.54 Q40.8789 510.339 48.8361 510.339 M47.1173 516.195 Q42.3112 516.259 39.4466 518.9 Q36.5821 521.51 36.5821 525.839 Q36.5821 530.741 39.3512 533.701 Q42.1202 536.629 47.1492 537.074 L47.1173 516.195 Z\" fill=\"#000000\" fill-rule=\"evenodd\" fill-opacity=\"1\" /><path clip-path=\"url(#clip380)\" d=\"M37.9507 480.07 Q37.3778 481.056 37.1232 482.234 Q36.8367 483.38 36.8367 484.78 Q36.8367 489.745 40.0832 492.419 Q43.2979 495.061 49.3453 495.061 L68.1242 495.061 L68.1242 500.949 L32.4762 500.949 L32.4762 495.061 L38.0144 495.061 Q34.7679 493.215 33.2083 490.255 Q31.6168 487.295 31.6168 483.061 Q31.6168 482.457 31.7123 481.725 Q31.776 480.993 31.9351 480.101 L37.9507 480.07 Z\" fill=\"#000000\" fill-rule=\"evenodd\" fill-opacity=\"1\" /><path clip-path=\"url(#clip380)\" d=\"M36.5821 439.393 Q36.5821 444.103 40.2742 446.841 Q43.9345 449.578 50.332 449.578 Q56.7295 449.578 60.4217 446.872 Q64.0819 444.135 64.0819 439.393 Q64.0819 434.714 60.3898 431.977 Q56.6977 429.239 50.332 429.239 Q43.9981 429.239 40.306 431.977 Q36.5821 434.714 36.5821 439.393 M31.6168 439.393 Q31.6168 431.754 36.5821 427.393 Q41.5473 423.033 50.332 423.033 Q59.0849 423.033 64.0819 427.393 Q69.0472 431.754 69.0472 439.393 Q69.0472 447.063 64.0819 451.424 Q59.0849 455.753 50.332 455.753 Q41.5473 455.753 36.5821 451.424 Q31.6168 447.063 31.6168 439.393 Z\" fill=\"#000000\" fill-rule=\"evenodd\" fill-opacity=\"1\" /><path clip-path=\"url(#clip380)\" d=\"M18.599 395.278 L23.4687 395.278 L23.4687 400.88 Q23.4687 404.031 24.7419 405.273 Q26.015 406.482 29.3252 406.482 L32.4762 406.482 L32.4762 396.838 L37.0277 396.838 L37.0277 406.482 L68.1242 406.482 L68.1242 412.37 L37.0277 412.37 L37.0277 417.972 L32.4762 417.972 L32.4762 412.37 L29.9936 412.37 Q24.0416 412.37 21.3362 409.601 Q18.599 406.832 18.599 400.817 L18.599 395.278 Z\" fill=\"#000000\" fill-rule=\"evenodd\" fill-opacity=\"1\" /><path clip-path=\"url(#clip380)\" d=\"M33.8448 344.003 L39.3193 344.003 Q37.9507 346.485 37.2823 349 Q36.5821 351.482 36.5821 354.029 Q36.5821 359.726 40.2105 362.877 Q43.8072 366.028 50.332 366.028 Q56.8569 366.028 60.4853 362.877 Q64.0819 359.726 64.0819 354.029 Q64.0819 351.482 63.4135 349 Q62.7133 346.485 61.3447 344.003 L66.7555 344.003 Q67.9014 346.453 68.4743 349.095 Q69.0472 351.705 69.0472 354.665 Q69.0472 362.718 63.9864 367.46 Q58.9257 372.203 50.332 372.203 Q41.611 372.203 36.6139 367.428 Q31.6168 362.622 31.6168 354.283 Q31.6168 351.578 32.1897 349 Q32.7308 346.422 33.8448 344.003 Z\" fill=\"#000000\" fill-rule=\"evenodd\" fill-opacity=\"1\" /><path clip-path=\"url(#clip380)\" d=\"M50.2047 317.617 Q50.2047 324.715 51.8279 327.452 Q53.4512 330.189 57.3661 330.189 Q60.4853 330.189 62.3314 328.152 Q64.1456 326.083 64.1456 322.55 Q64.1456 317.68 60.7081 314.752 Q57.2388 311.792 51.5097 311.792 L50.2047 311.792 L50.2047 317.617 M47.7857 305.936 L68.1242 305.936 L68.1242 311.792 L62.7133 311.792 Q65.9598 313.797 67.5194 316.789 Q69.0472 319.781 69.0472 324.11 Q69.0472 329.584 65.9916 332.831 Q62.9043 336.045 57.7481 336.045 Q51.7325 336.045 48.6769 332.035 Q45.6214 327.993 45.6214 320.004 L45.6214 311.792 L45.0485 311.792 Q41.0062 311.792 38.8101 314.466 Q36.5821 317.107 36.5821 321.914 Q36.5821 324.969 37.3141 327.866 Q38.0462 330.762 39.5103 333.436 L34.0995 333.436 Q32.8581 330.221 32.2534 327.197 Q31.6168 324.173 31.6168 321.309 Q31.6168 313.575 35.6272 309.755 Q39.6376 305.936 47.7857 305.936 Z\" fill=\"#000000\" fill-rule=\"evenodd\" fill-opacity=\"1\" /><path clip-path=\"url(#clip380)\" d=\"M37.9507 273.216 Q37.3778 274.203 37.1232 275.38 Q36.8367 276.526 36.8367 277.927 Q36.8367 282.892 40.0832 285.565 Q43.2979 288.207 49.3453 288.207 L68.1242 288.207 L68.1242 294.095 L32.4762 294.095 L32.4762 288.207 L38.0144 288.207 Q34.7679 286.361 33.2083 283.401 Q31.6168 280.441 31.6168 276.208 Q31.6168 275.603 31.7123 274.871 Q31.776 274.139 31.9351 273.248 L37.9507 273.216 Z\" fill=\"#000000\" fill-rule=\"evenodd\" fill-opacity=\"1\" /><path clip-path=\"url(#clip380)\" d=\"M33.5265 244.347 L39.0647 244.347 Q37.7916 246.83 37.155 249.504 Q36.5184 252.177 36.5184 255.042 Q36.5184 259.402 37.8552 261.599 Q39.192 263.763 41.8656 263.763 Q43.9026 263.763 45.0803 262.203 Q46.2261 260.644 47.2765 255.933 L47.7221 253.928 Q49.0589 247.689 51.5097 245.08 Q53.9286 242.438 58.2891 242.438 Q63.2544 242.438 66.1508 246.384 Q69.0472 250.299 69.0472 257.174 Q69.0472 260.039 68.4743 263.158 Q67.9332 266.245 66.8192 269.683 L60.7718 269.683 Q62.4587 266.436 63.318 263.285 Q64.1456 260.134 64.1456 257.047 Q64.1456 252.909 62.7451 250.681 Q61.3129 248.453 58.7347 248.453 Q56.3476 248.453 55.0745 250.077 Q53.8013 251.668 52.6237 257.111 L52.1462 259.148 Q51.0004 264.59 48.6451 267.009 Q46.258 269.428 42.1202 269.428 Q37.0913 269.428 34.3541 265.864 Q31.6168 262.299 31.6168 255.742 Q31.6168 252.496 32.0943 249.631 Q32.5717 246.766 33.5265 244.347 Z\" fill=\"#000000\" fill-rule=\"evenodd\" fill-opacity=\"1\" /><path clip-path=\"url(#clip380)\" d=\"M46.6081 182.759 L68.1242 182.759 L68.1242 188.616 L46.799 188.616 Q41.7383 188.616 39.2238 190.589 Q36.7094 192.562 36.7094 196.509 Q36.7094 201.252 39.7331 203.989 Q42.7568 206.726 47.9767 206.726 L68.1242 206.726 L68.1242 212.614 L18.599 212.614 L18.599 206.726 L38.0144 206.726 Q34.7997 204.625 33.2083 201.793 Q31.6168 198.928 31.6168 195.204 Q31.6168 189.061 35.4363 185.91 Q39.2238 182.759 46.6081 182.759 Z\" fill=\"#000000\" fill-rule=\"evenodd\" fill-opacity=\"1\" /><path clip-path=\"url(#clip380)\" d=\"M50.2047 154.877 Q50.2047 161.975 51.8279 164.712 Q53.4512 167.45 57.3661 167.45 Q60.4853 167.45 62.3314 165.413 Q64.1456 163.344 64.1456 159.811 Q64.1456 154.941 60.7081 152.013 Q57.2388 149.053 51.5097 149.053 L50.2047 149.053 L50.2047 154.877 M47.7857 143.196 L68.1242 143.196 L68.1242 149.053 L62.7133 149.053 Q65.9598 151.058 67.5194 154.05 Q69.0472 157.042 69.0472 161.37 Q69.0472 166.845 65.9916 170.091 Q62.9043 173.306 57.7481 173.306 Q51.7325 173.306 48.6769 169.296 Q45.6214 165.254 45.6214 157.265 L45.6214 149.053 L45.0485 149.053 Q41.0062 149.053 38.8101 151.726 Q36.5821 154.368 36.5821 159.174 Q36.5821 162.23 37.3141 165.126 Q38.0462 168.023 39.5103 170.696 L34.0995 170.696 Q32.8581 167.482 32.2534 164.458 Q31.6168 161.434 31.6168 158.57 Q31.6168 150.835 35.6272 147.016 Q39.6376 143.196 47.7857 143.196 Z\" fill=\"#000000\" fill-rule=\"evenodd\" fill-opacity=\"1\" /><path clip-path=\"url(#clip380)\" d=\"M18.599 131.133 L18.599 125.277 L68.1242 125.277 L68.1242 131.133 L18.599 131.133 Z\" fill=\"#000000\" fill-rule=\"evenodd\" fill-opacity=\"1\" /><path clip-path=\"url(#clip380)\" d=\"M22.3547 107.23 L32.4762 107.23 L32.4762 95.1671 L37.0277 95.1671 L37.0277 107.23 L56.3794 107.23 Q60.7399 107.23 61.9813 106.052 Q63.2226 104.843 63.2226 101.183 L63.2226 95.1671 L68.1242 95.1671 L68.1242 101.183 Q68.1242 107.962 65.6097 110.54 Q63.0634 113.118 56.3794 113.118 L37.0277 113.118 L37.0277 117.415 L32.4762 117.415 L32.4762 113.118 L22.3547 113.118 L22.3547 107.23 Z\" fill=\"#000000\" fill-rule=\"evenodd\" fill-opacity=\"1\" /><path clip-path=\"url(#clip380)\" d=\"M48.8361 56.9729 L51.7006 56.9729 L51.7006 83.8998 Q57.7481 83.5179 60.9309 80.2714 Q64.0819 76.993 64.0819 71.1684 Q64.0819 67.7946 63.2544 64.6436 Q62.4269 61.4607 60.7718 58.3415 L66.3099 58.3415 Q67.6467 61.4925 68.347 64.8027 Q69.0472 68.1129 69.0472 71.5185 Q69.0472 80.0486 64.0819 85.0456 Q59.1167 90.0109 50.6503 90.0109 Q41.8974 90.0109 36.7731 85.3003 Q31.6168 80.5578 31.6168 72.537 Q31.6168 65.3438 36.2638 61.1742 Q40.8789 56.9729 48.8361 56.9729 M47.1173 62.8293 Q42.3112 62.893 39.4466 65.5348 Q36.5821 68.1447 36.5821 72.4734 Q36.5821 77.375 39.3512 80.335 Q42.1202 83.2633 47.1492 83.7089 L47.1173 62.8293 Z\" fill=\"#000000\" fill-rule=\"evenodd\" fill-opacity=\"1\" /><path clip-path=\"url(#clip380)\" d=\"M37.8871 23.903 L18.599 23.903 L18.599 18.0466 L68.1242 18.0466 L68.1242 23.903 L62.777 23.903 Q65.9598 25.7491 67.5194 28.5818 Q69.0472 31.3827 69.0472 35.3295 Q69.0472 41.7907 63.891 45.8647 Q58.7347 49.9069 50.332 49.9069 Q41.9293 49.9069 36.7731 45.8647 Q31.6168 41.7907 31.6168 35.3295 Q31.6168 31.3827 33.1764 28.5818 Q34.7042 25.7491 37.8871 23.903 M50.332 43.8595 Q56.7932 43.8595 60.4853 41.2178 Q64.1456 38.5442 64.1456 33.8972 Q64.1456 29.2502 60.4853 26.5766 Q56.7932 23.903 50.332 23.903 Q43.8708 23.903 40.2105 26.5766 Q36.5184 29.2502 36.5184 33.8972 Q36.5184 38.5442 40.2105 41.2178 Q43.8708 43.8595 50.332 43.8595 Z\" fill=\"#000000\" fill-rule=\"evenodd\" fill-opacity=\"1\" /><path clip-path=\"url(#clip380)\" d=\"M225.09 14.361 L225.09 21.7568 Q221.548 18.4582 217.52 16.8263 Q213.527 15.1944 209.014 15.1944 Q200.125 15.1944 195.403 20.6457 Q190.68 26.0624 190.68 36.3401 Q190.68 46.5831 195.403 52.0344 Q200.125 57.4511 209.014 57.4511 Q213.527 57.4511 217.52 55.8191 Q221.548 54.1872 225.09 50.8886 L225.09 58.215 Q221.409 60.715 217.277 61.9649 Q213.18 63.2149 208.597 63.2149 Q196.826 63.2149 190.055 56.0275 Q183.285 48.8053 183.285 36.3401 Q183.285 23.8402 190.055 16.6527 Q196.826 9.43051 208.597 9.43051 Q213.25 9.43051 217.347 10.6805 Q221.479 11.8958 225.09 14.361 Z\" fill=\"#000000\" fill-rule=\"evenodd\" fill-opacity=\"1\" /><path clip-path=\"url(#clip380)\" d=\"M250.715 27.7985 Q245.576 27.7985 242.59 31.8262 Q239.604 35.8193 239.604 42.7984 Q239.604 49.7775 242.555 53.8053 Q245.541 57.7983 250.715 57.7983 Q255.819 57.7983 258.805 53.7705 Q261.791 49.7428 261.791 42.7984 Q261.791 35.8887 258.805 31.8609 Q255.819 27.7985 250.715 27.7985 M250.715 22.3818 Q259.048 22.3818 263.805 27.7985 Q268.562 33.2151 268.562 42.7984 Q268.562 52.3469 263.805 57.7983 Q259.048 63.2149 250.715 63.2149 Q242.347 63.2149 237.59 57.7983 Q232.868 52.3469 232.868 42.7984 Q232.868 33.2151 237.59 27.7985 Q242.347 22.3818 250.715 22.3818 Z\" fill=\"#000000\" fill-rule=\"evenodd\" fill-opacity=\"1\" /><path clip-path=\"url(#clip380)\" d=\"M311.478 38.7359 L311.478 62.208 L305.089 62.208 L305.089 38.9442 Q305.089 33.4234 302.937 30.6804 Q300.784 27.9374 296.478 27.9374 Q291.305 27.9374 288.319 31.2359 Q285.333 34.5345 285.333 40.229 L285.333 62.208 L278.909 62.208 L278.909 23.3193 L285.333 23.3193 L285.333 29.361 Q287.624 25.854 290.715 24.1179 Q293.839 22.3818 297.902 22.3818 Q304.603 22.3818 308.041 26.5485 Q311.478 30.6804 311.478 38.7359 Z\" fill=\"#000000\" fill-rule=\"evenodd\" fill-opacity=\"1\" /><path clip-path=\"url(#clip380)\" d=\"M349.811 42.3123 Q349.811 35.3679 346.929 31.5484 Q344.082 27.729 338.909 27.729 Q333.77 27.729 330.888 31.5484 Q328.041 35.3679 328.041 42.3123 Q328.041 49.222 330.888 53.0414 Q333.77 56.8608 338.909 56.8608 Q344.082 56.8608 346.929 53.0414 Q349.811 49.222 349.811 42.3123 M356.2 57.3816 Q356.2 67.3121 351.791 72.1385 Q347.381 76.9996 338.284 76.9996 Q334.916 76.9996 331.93 76.4788 Q328.943 75.9926 326.131 74.951 L326.131 68.7357 Q328.943 70.2635 331.687 70.9927 Q334.43 71.7218 337.277 71.7218 Q343.561 71.7218 346.686 68.4232 Q349.811 65.1594 349.811 58.5275 L349.811 55.3678 Q347.832 58.8052 344.742 60.5066 Q341.652 62.208 337.346 62.208 Q330.193 62.208 325.818 56.7566 Q321.444 51.3053 321.444 42.3123 Q321.444 33.2845 325.818 27.8332 Q330.193 22.3818 337.346 22.3818 Q341.652 22.3818 344.742 24.0832 Q347.832 25.7846 349.811 29.2221 L349.811 23.3193 L356.2 23.3193 L356.2 57.3816 Z\" fill=\"#000000\" fill-rule=\"evenodd\" fill-opacity=\"1\" /><path clip-path=\"url(#clip380)\" d=\"M402.624 41.1664 L402.624 44.2914 L373.249 44.2914 Q373.665 50.8886 377.207 54.3608 Q380.783 57.7983 387.138 57.7983 Q390.818 57.7983 394.256 56.8955 Q397.728 55.9928 401.131 54.1872 L401.131 60.2288 Q397.693 61.6872 394.082 62.4511 Q390.471 63.2149 386.756 63.2149 Q377.45 63.2149 371.999 57.7983 Q366.582 52.3817 366.582 43.1456 Q366.582 33.597 371.721 28.0068 Q376.895 22.3818 385.645 22.3818 Q393.492 22.3818 398.04 27.4512 Q402.624 32.4859 402.624 41.1664 M396.235 39.2915 Q396.165 34.0484 393.283 30.9234 Q390.436 27.7985 385.714 27.7985 Q380.367 27.7985 377.138 30.8193 Q373.943 33.8401 373.457 39.3262 L396.235 39.2915 Z\" fill=\"#000000\" fill-rule=\"evenodd\" fill-opacity=\"1\" /><path clip-path=\"url(#clip380)\" d=\"M437.901 24.4651 L437.901 30.5068 Q435.193 29.1179 432.276 28.4235 Q429.36 27.729 426.235 27.729 Q421.478 27.729 419.082 29.1873 Q416.721 30.6457 416.721 33.5623 Q416.721 35.7845 418.422 37.0692 Q420.124 38.3192 425.262 39.4651 L427.45 39.9512 Q434.255 41.4095 437.103 44.0831 Q439.985 46.722 439.985 51.4789 Q439.985 56.8955 435.679 60.0552 Q431.408 63.2149 423.908 63.2149 Q420.783 63.2149 417.38 62.5899 Q414.012 61.9997 410.262 60.7844 L410.262 54.1872 Q413.804 56.0275 417.242 56.965 Q420.679 57.8677 424.047 57.8677 Q428.561 57.8677 430.992 56.34 Q433.422 54.7775 433.422 51.965 Q433.422 49.3608 431.651 47.972 Q429.915 46.5831 423.978 45.2984 L421.755 44.7775 Q415.818 43.5275 413.179 40.9581 Q410.54 38.354 410.54 33.8401 Q410.54 28.354 414.429 25.3679 Q418.318 22.3818 425.471 22.3818 Q429.012 22.3818 432.137 22.9027 Q435.262 23.4235 437.901 24.4651 Z\" fill=\"#000000\" fill-rule=\"evenodd\" fill-opacity=\"1\" /><path clip-path=\"url(#clip380)\" d=\"M456.478 12.2777 L456.478 23.3193 L469.637 23.3193 L469.637 28.2846 L456.478 28.2846 L456.478 49.3956 Q456.478 54.1525 457.762 55.5066 Q459.082 56.8608 463.075 56.8608 L469.637 56.8608 L469.637 62.208 L463.075 62.208 Q455.679 62.208 452.866 59.465 Q450.054 56.6872 450.054 49.3956 L450.054 28.2846 L445.366 28.2846 L445.366 23.3193 L450.054 23.3193 L450.054 12.2777 L456.478 12.2777 Z\" fill=\"#000000\" fill-rule=\"evenodd\" fill-opacity=\"1\" /><path clip-path=\"url(#clip380)\" d=\"M478.04 23.3193 L484.429 23.3193 L484.429 62.208 L478.04 62.208 L478.04 23.3193 M478.04 8.18051 L484.429 8.18051 L484.429 16.2707 L478.04 16.2707 L478.04 8.18051 Z\" fill=\"#000000\" fill-rule=\"evenodd\" fill-opacity=\"1\" /><path clip-path=\"url(#clip380)\" d=\"M512.866 27.7985 Q507.727 27.7985 504.741 31.8262 Q501.755 35.8193 501.755 42.7984 Q501.755 49.7775 504.706 53.8053 Q507.693 57.7983 512.866 57.7983 Q517.97 57.7983 520.956 53.7705 Q523.942 49.7428 523.942 42.7984 Q523.942 35.8887 520.956 31.8609 Q517.97 27.7985 512.866 27.7985 M512.866 22.3818 Q521.199 22.3818 525.956 27.7985 Q530.713 33.2151 530.713 42.7984 Q530.713 52.3469 525.956 57.7983 Q521.199 63.2149 512.866 63.2149 Q504.498 63.2149 499.741 57.7983 Q495.019 52.3469 495.019 42.7984 Q495.019 33.2151 499.741 27.7985 Q504.498 22.3818 512.866 22.3818 Z\" fill=\"#000000\" fill-rule=\"evenodd\" fill-opacity=\"1\" /><path clip-path=\"url(#clip380)\" d=\"M573.63 38.7359 L573.63 62.208 L567.241 62.208 L567.241 38.9442 Q567.241 33.4234 565.088 30.6804 Q562.935 27.9374 558.63 27.9374 Q553.456 27.9374 550.47 31.2359 Q547.484 34.5345 547.484 40.229 L547.484 62.208 L541.06 62.208 L541.06 23.3193 L547.484 23.3193 L547.484 29.361 Q549.776 25.854 552.866 24.1179 Q555.991 22.3818 560.053 22.3818 Q566.755 22.3818 570.192 26.5485 Q573.63 30.6804 573.63 38.7359 Z\" fill=\"#000000\" fill-rule=\"evenodd\" fill-opacity=\"1\" /><path clip-path=\"url(#clip380)\" d=\"M615.157 56.3747 L615.157 76.9996 L608.734 76.9996 L608.734 23.3193 L615.157 23.3193 L615.157 29.2221 Q617.171 25.7499 620.227 24.0832 Q623.317 22.3818 627.588 22.3818 Q634.671 22.3818 639.081 28.0068 Q643.525 33.6318 643.525 42.7984 Q643.525 51.965 639.081 57.59 Q634.671 63.2149 627.588 63.2149 Q623.317 63.2149 620.227 61.5483 Q617.171 59.8469 615.157 56.3747 M636.893 42.7984 Q636.893 35.7498 633.977 31.7568 Q631.095 27.729 626.025 27.729 Q620.956 27.729 618.039 31.7568 Q615.157 35.7498 615.157 42.7984 Q615.157 49.847 618.039 53.8747 Q620.956 57.8677 626.025 57.8677 Q631.095 57.8677 633.977 53.8747 Q636.893 49.847 636.893 42.7984 Z\" fill=\"#000000\" fill-rule=\"evenodd\" fill-opacity=\"1\" /><path clip-path=\"url(#clip380)\" d=\"M654.115 8.18051 L660.504 8.18051 L660.504 62.208 L654.115 62.208 L654.115 8.18051 Z\" fill=\"#000000\" fill-rule=\"evenodd\" fill-opacity=\"1\" /><path clip-path=\"url(#clip380)\" d=\"M688.942 27.7985 Q683.803 27.7985 680.817 31.8262 Q677.83 35.8193 677.83 42.7984 Q677.83 49.7775 680.782 53.8053 Q683.768 57.7983 688.942 57.7983 Q694.046 57.7983 697.032 53.7705 Q700.018 49.7428 700.018 42.7984 Q700.018 35.8887 697.032 31.8609 Q694.046 27.7985 688.942 27.7985 M688.942 22.3818 Q697.275 22.3818 702.032 27.7985 Q706.789 33.2151 706.789 42.7984 Q706.789 52.3469 702.032 57.7983 Q697.275 63.2149 688.942 63.2149 Q680.574 63.2149 675.817 57.7983 Q671.094 52.3469 671.094 42.7984 Q671.094 33.2151 675.817 27.7985 Q680.574 22.3818 688.942 22.3818 Z\" fill=\"#000000\" fill-rule=\"evenodd\" fill-opacity=\"1\" /><path clip-path=\"url(#clip380)\" d=\"M723.698 12.2777 L723.698 23.3193 L736.858 23.3193 L736.858 28.2846 L723.698 28.2846 L723.698 49.3956 Q723.698 54.1525 724.983 55.5066 Q726.302 56.8608 730.295 56.8608 L736.858 56.8608 L736.858 62.208 L730.295 62.208 Q722.9 62.208 720.087 59.465 Q717.275 56.6872 717.275 49.3956 L717.275 28.2846 L712.587 28.2846 L712.587 23.3193 L717.275 23.3193 L717.275 12.2777 L723.698 12.2777 Z\" fill=\"#000000\" fill-rule=\"evenodd\" fill-opacity=\"1\" /><path clip-path=\"url(#clip380)\" d=\"M787.552 8.18051 L787.552 13.493 L781.441 13.493 Q778.004 13.493 776.649 14.8819 Q775.33 16.2707 775.33 19.8818 L775.33 23.3193 L785.851 23.3193 L785.851 28.2846 L775.33 28.2846 L775.33 62.208 L768.906 62.208 L768.906 28.2846 L762.795 28.2846 L762.795 23.3193 L768.906 23.3193 L768.906 20.611 Q768.906 14.118 771.927 11.1666 Q774.948 8.18051 781.51 8.18051 L787.552 8.18051 Z\" fill=\"#000000\" fill-rule=\"evenodd\" fill-opacity=\"1\" /><path clip-path=\"url(#clip380)\" d=\"M815.434 29.2915 Q814.358 28.6665 813.073 28.3887 Q811.823 28.0762 810.295 28.0762 Q804.878 28.0762 801.962 31.6179 Q799.08 35.1248 799.08 41.722 L799.08 62.208 L792.656 62.208 L792.656 23.3193 L799.08 23.3193 L799.08 29.361 Q801.094 25.8193 804.323 24.1179 Q807.552 22.3818 812.17 22.3818 Q812.83 22.3818 813.628 22.486 Q814.427 22.5554 815.399 22.729 L815.434 29.2915 Z\" fill=\"#000000\" fill-rule=\"evenodd\" fill-opacity=\"1\" /><path clip-path=\"url(#clip380)\" d=\"M835.642 27.7985 Q830.503 27.7985 827.517 31.8262 Q824.531 35.8193 824.531 42.7984 Q824.531 49.7775 827.482 53.8053 Q830.469 57.7983 835.642 57.7983 Q840.746 57.7983 843.732 53.7705 Q846.718 49.7428 846.718 42.7984 Q846.718 35.8887 843.732 31.8609 Q840.746 27.7985 835.642 27.7985 M835.642 22.3818 Q843.975 22.3818 848.732 27.7985 Q853.489 33.2151 853.489 42.7984 Q853.489 52.3469 848.732 57.7983 Q843.975 63.2149 835.642 63.2149 Q827.274 63.2149 822.517 57.7983 Q817.795 52.3469 817.795 42.7984 Q817.795 33.2151 822.517 27.7985 Q827.274 22.3818 835.642 22.3818 Z\" fill=\"#000000\" fill-rule=\"evenodd\" fill-opacity=\"1\" /><path clip-path=\"url(#clip380)\" d=\"M894.357 30.7846 Q896.753 26.479 900.086 24.4304 Q903.42 22.3818 907.933 22.3818 Q914.01 22.3818 917.308 26.6526 Q920.607 30.8887 920.607 38.7359 L920.607 62.208 L914.183 62.208 L914.183 38.9442 Q914.183 33.354 912.204 30.6457 Q910.225 27.9374 906.163 27.9374 Q901.197 27.9374 898.315 31.2359 Q895.433 34.5345 895.433 40.229 L895.433 62.208 L889.01 62.208 L889.01 38.9442 Q889.01 33.3193 887.031 30.6457 Q885.052 27.9374 880.92 27.9374 Q876.024 27.9374 873.142 31.2707 Q870.26 34.5693 870.26 40.229 L870.26 62.208 L863.836 62.208 L863.836 23.3193 L870.26 23.3193 L870.26 29.361 Q872.447 25.7846 875.503 24.0832 Q878.559 22.3818 882.76 22.3818 Q886.996 22.3818 889.947 24.5346 Q892.933 26.6874 894.357 30.7846 Z\" fill=\"#000000\" fill-rule=\"evenodd\" fill-opacity=\"1\" /><path clip-path=\"url(#clip380)\" d=\"M962.273 12.2777 L962.273 23.3193 L975.433 23.3193 L975.433 28.2846 L962.273 28.2846 L962.273 49.3956 Q962.273 54.1525 963.558 55.5066 Q964.878 56.8608 968.871 56.8608 L975.433 56.8608 L975.433 62.208 L968.871 62.208 Q961.475 62.208 958.662 59.465 Q955.85 56.6872 955.85 49.3956 L955.85 28.2846 L951.162 28.2846 L951.162 23.3193 L955.85 23.3193 L955.85 12.2777 L962.273 12.2777 Z\" fill=\"#000000\" fill-rule=\"evenodd\" fill-opacity=\"1\" /><path clip-path=\"url(#clip380)\" d=\"M983.836 23.3193 L990.225 23.3193 L990.225 62.208 L983.836 62.208 L983.836 23.3193 M983.836 8.18051 L990.225 8.18051 L990.225 16.2707 L983.836 16.2707 L983.836 8.18051 Z\" fill=\"#000000\" fill-rule=\"evenodd\" fill-opacity=\"1\" /><path clip-path=\"url(#clip380)\" d=\"M1033.87 30.7846 Q1036.27 26.479 1039.6 24.4304 Q1042.93 22.3818 1047.45 22.3818 Q1053.52 22.3818 1056.82 26.6526 Q1060.12 30.8887 1060.12 38.7359 L1060.12 62.208 L1053.7 62.208 L1053.7 38.9442 Q1053.7 33.354 1051.72 30.6457 Q1049.74 27.9374 1045.68 27.9374 Q1040.71 27.9374 1037.83 31.2359 Q1034.95 34.5345 1034.95 40.229 L1034.95 62.208 L1028.52 62.208 L1028.52 38.9442 Q1028.52 33.3193 1026.54 30.6457 Q1024.56 27.9374 1020.43 27.9374 Q1015.54 27.9374 1012.66 31.2707 Q1009.77 34.5693 1009.77 40.229 L1009.77 62.208 L1003.35 62.208 L1003.35 23.3193 L1009.77 23.3193 L1009.77 29.361 Q1011.96 25.7846 1015.02 24.0832 Q1018.07 22.3818 1022.27 22.3818 Q1026.51 22.3818 1029.46 24.5346 Q1032.45 26.6874 1033.87 30.7846 Z\" fill=\"#000000\" fill-rule=\"evenodd\" fill-opacity=\"1\" /><path clip-path=\"url(#clip380)\" d=\"M1106.13 41.1664 L1106.13 44.2914 L1076.75 44.2914 Q1077.17 50.8886 1080.71 54.3608 Q1084.29 57.7983 1090.64 57.7983 Q1094.32 57.7983 1097.76 56.8955 Q1101.23 55.9928 1104.63 54.1872 L1104.63 60.2288 Q1101.2 61.6872 1097.59 62.4511 Q1093.97 63.2149 1090.26 63.2149 Q1080.95 63.2149 1075.5 57.7983 Q1070.09 52.3817 1070.09 43.1456 Q1070.09 33.597 1075.22 28.0068 Q1080.4 22.3818 1089.15 22.3818 Q1096.99 22.3818 1101.54 27.4512 Q1106.13 32.4859 1106.13 41.1664 M1099.74 39.2915 Q1099.67 34.0484 1096.79 30.9234 Q1093.94 27.7985 1089.22 27.7985 Q1083.87 27.7985 1080.64 30.8193 Q1077.45 33.8401 1076.96 39.3262 L1099.74 39.2915 Z\" fill=\"#000000\" fill-rule=\"evenodd\" fill-opacity=\"1\" /><path clip-path=\"url(#clip380)\" d=\"M1145.54 12.2777 L1145.54 23.3193 L1158.7 23.3193 L1158.7 28.2846 L1145.54 28.2846 L1145.54 49.3956 Q1145.54 54.1525 1146.82 55.5066 Q1148.14 56.8608 1152.13 56.8608 L1158.7 56.8608 L1158.7 62.208 L1152.13 62.208 Q1144.74 62.208 1141.93 59.465 Q1139.11 56.6872 1139.11 49.3956 L1139.11 28.2846 L1134.43 28.2846 L1134.43 23.3193 L1139.11 23.3193 L1139.11 12.2777 L1145.54 12.2777 Z\" fill=\"#000000\" fill-rule=\"evenodd\" fill-opacity=\"1\" /><path clip-path=\"url(#clip380)\" d=\"M1167.93 29.9165 L1212.45 29.9165 L1212.45 35.7498 L1167.93 35.7498 L1167.93 29.9165 M1167.93 44.0831 L1212.45 44.0831 L1212.45 49.9858 L1167.93 49.9858 L1167.93 44.0831 Z\" fill=\"#000000\" fill-rule=\"evenodd\" fill-opacity=\"1\" /><path clip-path=\"url(#clip380)\" d=\"M1233.63 56.3053 L1258.11 56.3053 L1258.11 62.208 L1225.19 62.208 L1225.19 56.3053 Q1229.18 52.1733 1236.06 45.2289 Q1242.97 38.2498 1244.74 36.2359 Q1248.11 32.4512 1249.42 29.8471 Q1250.78 27.2082 1250.78 24.6735 Q1250.78 20.5416 1247.86 17.9374 Q1244.98 15.3333 1240.33 15.3333 Q1237.03 15.3333 1233.35 16.4791 Q1229.7 17.6249 1225.54 19.9513 L1225.54 12.868 Q1229.77 11.1666 1233.45 10.2986 Q1237.13 9.43051 1240.19 9.43051 Q1248.24 9.43051 1253.04 13.4583 Q1257.83 17.486 1257.83 24.2221 Q1257.83 27.4165 1256.61 30.2984 Q1255.43 33.1457 1252.27 37.0345 Q1251.4 38.0415 1246.75 42.8678 Q1242.1 47.6595 1233.63 56.3053 Z\" fill=\"#000000\" fill-rule=\"evenodd\" fill-opacity=\"1\" /><path clip-path=\"url(#clip380)\" d=\"M1300.85 12.2777 L1300.85 23.3193 L1314.01 23.3193 L1314.01 28.2846 L1300.85 28.2846 L1300.85 49.3956 Q1300.85 54.1525 1302.13 55.5066 Q1303.45 56.8608 1307.45 56.8608 L1314.01 56.8608 L1314.01 62.208 L1307.45 62.208 Q1300.05 62.208 1297.24 59.465 Q1294.42 56.6872 1294.42 49.3956 L1294.42 28.2846 L1289.74 28.2846 L1289.74 23.3193 L1294.42 23.3193 L1294.42 12.2777 L1300.85 12.2777 Z\" fill=\"#000000\" fill-rule=\"evenodd\" fill-opacity=\"1\" /><path clip-path=\"url(#clip380)\" d=\"M1337.48 27.7985 Q1332.34 27.7985 1329.35 31.8262 Q1326.37 35.8193 1326.37 42.7984 Q1326.37 49.7775 1329.32 53.8053 Q1332.31 57.7983 1337.48 57.7983 Q1342.58 57.7983 1345.57 53.7705 Q1348.56 49.7428 1348.56 42.7984 Q1348.56 35.8887 1345.57 31.8609 Q1342.58 27.7985 1337.48 27.7985 M1337.48 22.3818 Q1345.81 22.3818 1350.57 27.7985 Q1355.33 33.2151 1355.33 42.7984 Q1355.33 52.3469 1350.57 57.7983 Q1345.81 63.2149 1337.48 63.2149 Q1329.11 63.2149 1324.35 57.7983 Q1319.63 52.3469 1319.63 42.7984 Q1319.63 33.2151 1324.35 27.7985 Q1329.11 22.3818 1337.48 22.3818 Z\" fill=\"#000000\" fill-rule=\"evenodd\" fill-opacity=\"1\" /><path clip-path=\"url(#clip380)\" d=\"M1394.84 12.2777 L1394.84 23.3193 L1408 23.3193 L1408 28.2846 L1394.84 28.2846 L1394.84 49.3956 Q1394.84 54.1525 1396.13 55.5066 Q1397.44 56.8608 1401.44 56.8608 L1408 56.8608 L1408 62.208 L1401.44 62.208 Q1394.04 62.208 1391.23 59.465 Q1388.42 56.6872 1388.42 49.3956 L1388.42 28.2846 L1383.73 28.2846 L1383.73 23.3193 L1388.42 23.3193 L1388.42 12.2777 L1394.84 12.2777 Z\" fill=\"#000000\" fill-rule=\"evenodd\" fill-opacity=\"1\" /><path clip-path=\"url(#clip380)\" d=\"M1417.24 29.9165 L1461.75 29.9165 L1461.75 35.7498 L1417.24 35.7498 L1417.24 29.9165 M1417.24 44.0831 L1461.75 44.0831 L1461.75 49.9858 L1417.24 49.9858 L1417.24 44.0831 Z\" fill=\"#000000\" fill-rule=\"evenodd\" fill-opacity=\"1\" /><path clip-path=\"url(#clip380)\" d=\"M1496.16 16.4791 L1478.45 44.1525 L1496.16 44.1525 L1496.16 16.4791 M1494.32 10.368 L1503.14 10.368 L1503.14 44.1525 L1510.53 44.1525 L1510.53 49.9858 L1503.14 49.9858 L1503.14 62.208 L1496.16 62.208 L1496.16 49.9858 L1472.76 49.9858 L1472.76 43.215 L1494.32 10.368 Z\" fill=\"#000000\" fill-rule=\"evenodd\" fill-opacity=\"1\" /><path clip-path=\"url(#clip380)\" d=\"M1522.2 10.368 L1549.74 10.368 L1549.74 16.2707 L1528.62 16.2707 L1528.62 28.979 Q1530.15 28.4582 1531.68 28.2151 Q1533.21 27.9374 1534.74 27.9374 Q1543.42 27.9374 1548.49 32.6943 Q1553.55 37.4512 1553.55 45.5761 Q1553.55 53.9442 1548.35 58.5969 Q1543.14 63.2149 1533.66 63.2149 Q1530.4 63.2149 1526.99 62.6594 Q1523.62 62.1038 1520.01 60.9927 L1520.01 53.9442 Q1523.14 55.6455 1526.47 56.4789 Q1529.81 57.3122 1533.52 57.3122 Q1539.53 57.3122 1543.03 54.1525 Q1546.54 50.9928 1546.54 45.5761 Q1546.54 40.1595 1543.03 36.9998 Q1539.53 33.8401 1533.52 33.8401 Q1530.71 33.8401 1527.9 34.4651 Q1525.12 35.0901 1522.2 36.4095 L1522.2 10.368 Z\" fill=\"#000000\" fill-rule=\"evenodd\" fill-opacity=\"1\" /><path clip-path=\"url(#clip382)\" d=\"\n",
       "M259.363 636.139 L259.363 636.139 L327.036 636.139 L327.036 636.139 L259.363 636.139 L259.363 636.139  Z\n",
       "  \" fill=\"#009af9\" fill-rule=\"evenodd\" fill-opacity=\"1\"/>\n",
       "<polyline clip-path=\"url(#clip382)\" style=\"stroke:#000000; stroke-linecap:butt; stroke-linejoin:round; stroke-width:4; stroke-opacity:1; fill:none\" points=\"\n",
       "  259.363,636.139 259.363,636.139 327.036,636.139 259.363,636.139 \n",
       "  \"/>\n",
       "<path clip-path=\"url(#clip382)\" d=\"\n",
       "M327.036 636.139 L327.036 636.139 L394.709 636.139 L394.709 636.139 L327.036 636.139 L327.036 636.139  Z\n",
       "  \" fill=\"#009af9\" fill-rule=\"evenodd\" fill-opacity=\"1\"/>\n",
       "<polyline clip-path=\"url(#clip382)\" style=\"stroke:#000000; stroke-linecap:butt; stroke-linejoin:round; stroke-width:4; stroke-opacity:1; fill:none\" points=\"\n",
       "  327.036,636.139 327.036,636.139 394.709,636.139 327.036,636.139 \n",
       "  \"/>\n",
       "<path clip-path=\"url(#clip382)\" d=\"\n",
       "M394.709 139.046 L394.709 636.139 L462.382 636.139 L462.382 139.046 L394.709 139.046 L394.709 139.046  Z\n",
       "  \" fill=\"#009af9\" fill-rule=\"evenodd\" fill-opacity=\"1\"/>\n",
       "<polyline clip-path=\"url(#clip382)\" style=\"stroke:#000000; stroke-linecap:butt; stroke-linejoin:round; stroke-width:4; stroke-opacity:1; fill:none\" points=\"\n",
       "  394.709,139.046 394.709,636.139 462.382,636.139 462.382,139.046 394.709,139.046 \n",
       "  \"/>\n",
       "<path clip-path=\"url(#clip382)\" d=\"\n",
       "M462.382 636.139 L462.382 636.139 L530.055 636.139 L530.055 636.139 L462.382 636.139 L462.382 636.139  Z\n",
       "  \" fill=\"#009af9\" fill-rule=\"evenodd\" fill-opacity=\"1\"/>\n",
       "<polyline clip-path=\"url(#clip382)\" style=\"stroke:#000000; stroke-linecap:butt; stroke-linejoin:round; stroke-width:4; stroke-opacity:1; fill:none\" points=\"\n",
       "  462.382,636.139 462.382,636.139 530.055,636.139 462.382,636.139 \n",
       "  \"/>\n",
       "<path clip-path=\"url(#clip382)\" d=\"\n",
       "M530.055 636.139 L530.055 636.139 L597.728 636.139 L597.728 636.139 L530.055 636.139 L530.055 636.139  Z\n",
       "  \" fill=\"#009af9\" fill-rule=\"evenodd\" fill-opacity=\"1\"/>\n",
       "<polyline clip-path=\"url(#clip382)\" style=\"stroke:#000000; stroke-linecap:butt; stroke-linejoin:round; stroke-width:4; stroke-opacity:1; fill:none\" points=\"\n",
       "  530.055,636.139 530.055,636.139 597.728,636.139 530.055,636.139 \n",
       "  \"/>\n",
       "<path clip-path=\"url(#clip382)\" d=\"\n",
       "M597.728 636.139 L597.728 636.139 L665.401 636.139 L665.401 636.139 L597.728 636.139 L597.728 636.139  Z\n",
       "  \" fill=\"#009af9\" fill-rule=\"evenodd\" fill-opacity=\"1\"/>\n",
       "<polyline clip-path=\"url(#clip382)\" style=\"stroke:#000000; stroke-linecap:butt; stroke-linejoin:round; stroke-width:4; stroke-opacity:1; fill:none\" points=\"\n",
       "  597.728,636.139 597.728,636.139 665.401,636.139 597.728,636.139 \n",
       "  \"/>\n",
       "<path clip-path=\"url(#clip382)\" d=\"\n",
       "M665.401 247.11 L665.401 636.139 L733.074 636.139 L733.074 247.11 L665.401 247.11 L665.401 247.11  Z\n",
       "  \" fill=\"#009af9\" fill-rule=\"evenodd\" fill-opacity=\"1\"/>\n",
       "<polyline clip-path=\"url(#clip382)\" style=\"stroke:#000000; stroke-linecap:butt; stroke-linejoin:round; stroke-width:4; stroke-opacity:1; fill:none\" points=\"\n",
       "  665.401,247.11 665.401,636.139 733.074,636.139 733.074,247.11 665.401,247.11 \n",
       "  \"/>\n",
       "<path clip-path=\"url(#clip382)\" d=\"\n",
       "M733.074 203.884 L733.074 636.139 L800.747 636.139 L800.747 203.884 L733.074 203.884 L733.074 203.884  Z\n",
       "  \" fill=\"#009af9\" fill-rule=\"evenodd\" fill-opacity=\"1\"/>\n",
       "<polyline clip-path=\"url(#clip382)\" style=\"stroke:#000000; stroke-linecap:butt; stroke-linejoin:round; stroke-width:4; stroke-opacity:1; fill:none\" points=\"\n",
       "  733.074,203.884 733.074,636.139 800.747,636.139 800.747,203.884 733.074,203.884 \n",
       "  \"/>\n",
       "<path clip-path=\"url(#clip382)\" d=\"\n",
       "M800.747 420.011 L800.747 636.139 L868.42 636.139 L868.42 420.011 L800.747 420.011 L800.747 420.011  Z\n",
       "  \" fill=\"#009af9\" fill-rule=\"evenodd\" fill-opacity=\"1\"/>\n",
       "<polyline clip-path=\"url(#clip382)\" style=\"stroke:#000000; stroke-linecap:butt; stroke-linejoin:round; stroke-width:4; stroke-opacity:1; fill:none\" points=\"\n",
       "  800.747,420.011 800.747,636.139 868.42,636.139 868.42,420.011 800.747,420.011 \n",
       "  \"/>\n",
       "<path clip-path=\"url(#clip382)\" d=\"\n",
       "M868.42 528.075 L868.42 636.139 L936.093 636.139 L936.093 528.075 L868.42 528.075 L868.42 528.075  Z\n",
       "  \" fill=\"#009af9\" fill-rule=\"evenodd\" fill-opacity=\"1\"/>\n",
       "<polyline clip-path=\"url(#clip382)\" style=\"stroke:#000000; stroke-linecap:butt; stroke-linejoin:round; stroke-width:4; stroke-opacity:1; fill:none\" points=\"\n",
       "  868.42,528.075 868.42,636.139 936.093,636.139 936.093,528.075 868.42,528.075 \n",
       "  \"/>\n",
       "<path clip-path=\"url(#clip382)\" d=\"\n",
       "M936.093 376.786 L936.093 636.139 L1003.77 636.139 L1003.77 376.786 L936.093 376.786 L936.093 376.786  Z\n",
       "  \" fill=\"#009af9\" fill-rule=\"evenodd\" fill-opacity=\"1\"/>\n",
       "<polyline clip-path=\"url(#clip382)\" style=\"stroke:#000000; stroke-linecap:butt; stroke-linejoin:round; stroke-width:4; stroke-opacity:1; fill:none\" points=\"\n",
       "  936.093,376.786 936.093,636.139 1003.77,636.139 1003.77,376.786 936.093,376.786 \n",
       "  \"/>\n",
       "<path clip-path=\"url(#clip382)\" d=\"\n",
       "M1003.77 398.399 L1003.77 636.139 L1071.44 636.139 L1071.44 398.399 L1003.77 398.399 L1003.77 398.399  Z\n",
       "  \" fill=\"#009af9\" fill-rule=\"evenodd\" fill-opacity=\"1\"/>\n",
       "<polyline clip-path=\"url(#clip382)\" style=\"stroke:#000000; stroke-linecap:butt; stroke-linejoin:round; stroke-width:4; stroke-opacity:1; fill:none\" points=\"\n",
       "  1003.77,398.399 1003.77,636.139 1071.44,636.139 1071.44,398.399 1003.77,398.399 \n",
       "  \"/>\n",
       "<path clip-path=\"url(#clip382)\" d=\"\n",
       "M1071.44 636.139 L1071.44 636.139 L1139.11 636.139 L1139.11 636.139 L1071.44 636.139 L1071.44 636.139  Z\n",
       "  \" fill=\"#009af9\" fill-rule=\"evenodd\" fill-opacity=\"1\"/>\n",
       "<polyline clip-path=\"url(#clip382)\" style=\"stroke:#000000; stroke-linecap:butt; stroke-linejoin:round; stroke-width:4; stroke-opacity:1; fill:none\" points=\"\n",
       "  1071.44,636.139 1071.44,636.139 1139.11,636.139 1071.44,636.139 \n",
       "  \"/>\n",
       "<path clip-path=\"url(#clip382)\" d=\"\n",
       "M1139.11 636.139 L1139.11 636.139 L1206.78 636.139 L1206.78 636.139 L1139.11 636.139 L1139.11 636.139  Z\n",
       "  \" fill=\"#009af9\" fill-rule=\"evenodd\" fill-opacity=\"1\"/>\n",
       "<polyline clip-path=\"url(#clip382)\" style=\"stroke:#000000; stroke-linecap:butt; stroke-linejoin:round; stroke-width:4; stroke-opacity:1; fill:none\" points=\"\n",
       "  1139.11,636.139 1139.11,636.139 1206.78,636.139 1139.11,636.139 \n",
       "  \"/>\n",
       "<path clip-path=\"url(#clip382)\" d=\"\n",
       "M1206.78 528.075 L1206.78 636.139 L1274.46 636.139 L1274.46 528.075 L1206.78 528.075 L1206.78 528.075  Z\n",
       "  \" fill=\"#009af9\" fill-rule=\"evenodd\" fill-opacity=\"1\"/>\n",
       "<polyline clip-path=\"url(#clip382)\" style=\"stroke:#000000; stroke-linecap:butt; stroke-linejoin:round; stroke-width:4; stroke-opacity:1; fill:none\" points=\"\n",
       "  1206.78,528.075 1206.78,636.139 1274.46,636.139 1274.46,528.075 1206.78,528.075 \n",
       "  \"/>\n",
       "<path clip-path=\"url(#clip382)\" d=\"\n",
       "M1274.46 290.335 L1274.46 636.139 L1342.13 636.139 L1342.13 290.335 L1274.46 290.335 L1274.46 290.335  Z\n",
       "  \" fill=\"#009af9\" fill-rule=\"evenodd\" fill-opacity=\"1\"/>\n",
       "<polyline clip-path=\"url(#clip382)\" style=\"stroke:#000000; stroke-linecap:butt; stroke-linejoin:round; stroke-width:4; stroke-opacity:1; fill:none\" points=\"\n",
       "  1274.46,290.335 1274.46,636.139 1342.13,636.139 1342.13,290.335 1274.46,290.335 \n",
       "  \"/>\n",
       "<path clip-path=\"url(#clip382)\" d=\"\n",
       "M1342.13 117.433 L1342.13 636.139 L1409.8 636.139 L1409.8 117.433 L1342.13 117.433 L1342.13 117.433  Z\n",
       "  \" fill=\"#009af9\" fill-rule=\"evenodd\" fill-opacity=\"1\"/>\n",
       "<polyline clip-path=\"url(#clip382)\" style=\"stroke:#000000; stroke-linecap:butt; stroke-linejoin:round; stroke-width:4; stroke-opacity:1; fill:none\" points=\"\n",
       "  1342.13,117.433 1342.13,636.139 1409.8,636.139 1409.8,117.433 1342.13,117.433 \n",
       "  \"/>\n",
       "<path clip-path=\"url(#clip382)\" d=\"\n",
       "M1409.8 636.139 L1409.8 636.139 L1477.48 636.139 L1477.48 636.139 L1409.8 636.139 L1409.8 636.139  Z\n",
       "  \" fill=\"#009af9\" fill-rule=\"evenodd\" fill-opacity=\"1\"/>\n",
       "<polyline clip-path=\"url(#clip382)\" style=\"stroke:#000000; stroke-linecap:butt; stroke-linejoin:round; stroke-width:4; stroke-opacity:1; fill:none\" points=\"\n",
       "  1409.8,636.139 1409.8,636.139 1477.48,636.139 1409.8,636.139 \n",
       "  \"/>\n",
       "</svg>\n"
      ]
     },
     "metadata": {},
     "output_type": "display_data"
    },
    {
     "name": "stdout",
     "output_type": "stream",
     "text": [
      "The average time taken by cars to travel from position 7 to 12 is 24.25 \n",
      "The standard deviation of the time taken by cars to travel from 7 to 12 is 112.91666666666667 \n",
      "The maximum congetsion is at position [17] during the time t=2 to t=45\n"
     ]
    },
    {
     "data": {
      "text/plain": [
       "1-element Vector{Int64}:\n",
       " 17"
      ]
     },
     "execution_count": 30,
     "metadata": {},
     "output_type": "execute_result"
    }
   ],
   "source": [
    "a = 7\n",
    "b = 12\n",
    "t1 = 2\n",
    "t2 = 45\n",
    "gr(size=(400,200))\n",
    "ttime = time_taken(H2, a, b)\n",
    "ct = congest_plot(H2,t1,t2,L)"
   ]
  },
  {
   "cell_type": "markdown",
   "metadata": {},
   "source": [
    "## Scenario 3: Straight Road + Side Road + Traffic Light"
   ]
  },
  {
   "cell_type": "code",
   "execution_count": 37,
   "metadata": {},
   "outputs": [],
   "source": [
    "L = 18\n",
    "C = c_matrix_2d(L)\n",
    "\n",
    "H3 = copy(H)\n",
    "\n",
    "for it = 1:tM+1\n",
    "    H3 = next_step(H3, p_mov, it, C, L);\n",
    "end\n",
    "\n",
    "car_speeds = zeros(Float64, NC, 1)\n",
    "for row = 1:NC\n",
    "    car_speeds[row, 1] = p_mov # Assuming that cars move at the same speed\n",
    "end\n",
    "\n",
    "for time=1:tM\n",
    "    row_num, column_num = size(C)\n",
    "    for node = 1:column_num\n",
    "        if node == 10 || node == 12\n",
    "            traffic_light(C, H3, node, car_speeds, time, time%2) # time%2 is implemented to switch between main and side traffic light\n",
    "        end\n",
    "    end\n",
    "end"
   ]
  },
  {
   "cell_type": "code",
   "execution_count": 38,
   "metadata": {},
   "outputs": [
    {
     "data": {
      "image/png": "[encoded data removed]",
      "text/plain": [
       "PyPlot.Figure(PyObject <Figure size 1000x1000 with 1 Axes>)"
      ]
     },
     "metadata": {},
     "output_type": "display_data"
    }
   ],
   "source": [
    "pyplot(size=(1000,1000))\n",
    "nCol,nRow=6,3\n",
    "plotHistory(H3,C,nCol,nRow;delay=0.1)"
   ]
  },
  {
   "cell_type": "code",
   "execution_count": 39,
   "metadata": {
    "scrolled": true
   },
   "outputs": [
    {
     "data": {
      "image/svg+xml": [
       "<?xml version=\"1.0\" encoding=\"utf-8\"?>\n",
       "<svg xmlns=\"http://www.w3.org/2000/svg\" xmlns:xlink=\"http://www.w3.org/1999/xlink\" width=\"400\" height=\"200\" viewBox=\"0 0 1600 800\">\n",
       "<defs>\n",
       "  <clipPath id=\"clip580\">\n",
       "    <rect x=\"0\" y=\"0\" width=\"1600\" height=\"800\"/>\n",
       "  </clipPath>\n",
       "</defs>\n",
       "<path clip-path=\"url(#clip580)\" d=\"\n",
       "M0 800 L1600 800 L1600 0 L0 0  Z\n",
       "  \" fill=\"#ffffff\" fill-rule=\"evenodd\" fill-opacity=\"1\"/>\n",
       "<defs>\n",
       "  <clipPath id=\"clip581\">\n",
       "    <rect x=\"320\" y=\"0\" width=\"1121\" height=\"800\"/>\n",
       "  </clipPath>\n",
       "</defs>\n",
       "<path clip-path=\"url(#clip580)\" d=\"\n",
       "M154.269 651.7 L1552.76 651.7 L1552.76 101.872 L154.269 101.872  Z\n",
       "  \" fill=\"#ffffff\" fill-rule=\"evenodd\" fill-opacity=\"1\"/>\n",
       "<defs>\n",
       "  <clipPath id=\"clip582\">\n",
       "    <rect x=\"154\" y=\"101\" width=\"1399\" height=\"551\"/>\n",
       "  </clipPath>\n",
       "</defs>\n",
       "<polyline clip-path=\"url(#clip582)\" style=\"stroke:#000000; stroke-linecap:butt; stroke-linejoin:round; stroke-width:2; stroke-opacity:0.1; fill:none\" points=\"\n",
       "  231.188,651.7 231.188,101.872 \n",
       "  \"/>\n",
       "<polyline clip-path=\"url(#clip582)\" style=\"stroke:#000000; stroke-linecap:butt; stroke-linejoin:round; stroke-width:2; stroke-opacity:0.1; fill:none\" points=\"\n",
       "  542.35,651.7 542.35,101.872 \n",
       "  \"/>\n",
       "<polyline clip-path=\"url(#clip582)\" style=\"stroke:#000000; stroke-linecap:butt; stroke-linejoin:round; stroke-width:2; stroke-opacity:0.1; fill:none\" points=\"\n",
       "  853.512,651.7 853.512,101.872 \n",
       "  \"/>\n",
       "<polyline clip-path=\"url(#clip582)\" style=\"stroke:#000000; stroke-linecap:butt; stroke-linejoin:round; stroke-width:2; stroke-opacity:0.1; fill:none\" points=\"\n",
       "  1164.67,651.7 1164.67,101.872 \n",
       "  \"/>\n",
       "<polyline clip-path=\"url(#clip582)\" style=\"stroke:#000000; stroke-linecap:butt; stroke-linejoin:round; stroke-width:2; stroke-opacity:0.1; fill:none\" points=\"\n",
       "  1475.84,651.7 1475.84,101.872 \n",
       "  \"/>\n",
       "<polyline clip-path=\"url(#clip580)\" style=\"stroke:#000000; stroke-linecap:butt; stroke-linejoin:round; stroke-width:4; stroke-opacity:1; fill:none\" points=\"\n",
       "  154.269,651.7 1552.76,651.7 \n",
       "  \"/>\n",
       "<polyline clip-path=\"url(#clip580)\" style=\"stroke:#000000; stroke-linecap:butt; stroke-linejoin:round; stroke-width:4; stroke-opacity:1; fill:none\" points=\"\n",
       "  231.188,651.7 231.188,645.102 \n",
       "  \"/>\n",
       "<polyline clip-path=\"url(#clip580)\" style=\"stroke:#000000; stroke-linecap:butt; stroke-linejoin:round; stroke-width:4; stroke-opacity:1; fill:none\" points=\"\n",
       "  542.35,651.7 542.35,645.102 \n",
       "  \"/>\n",
       "<polyline clip-path=\"url(#clip580)\" style=\"stroke:#000000; stroke-linecap:butt; stroke-linejoin:round; stroke-width:4; stroke-opacity:1; fill:none\" points=\"\n",
       "  853.512,651.7 853.512,645.102 \n",
       "  \"/>\n",
       "<polyline clip-path=\"url(#clip580)\" style=\"stroke:#000000; stroke-linecap:butt; stroke-linejoin:round; stroke-width:4; stroke-opacity:1; fill:none\" points=\"\n",
       "  1164.67,651.7 1164.67,645.102 \n",
       "  \"/>\n",
       "<polyline clip-path=\"url(#clip580)\" style=\"stroke:#000000; stroke-linecap:butt; stroke-linejoin:round; stroke-width:4; stroke-opacity:1; fill:none\" points=\"\n",
       "  1475.84,651.7 1475.84,645.102 \n",
       "  \"/>\n",
       "<path clip-path=\"url(#clip580)\" d=\"M205.876 702.037 L213.515 702.037 L213.515 675.671 L205.205 677.338 L205.205 673.079 L213.468 671.412 L218.144 671.412 L218.144 702.037 L225.783 702.037 L225.783 705.972 L205.876 705.972 L205.876 702.037 Z\" fill=\"#000000\" fill-rule=\"evenodd\" fill-opacity=\"1\" /><path clip-path=\"url(#clip580)\" d=\"M245.227 674.491 Q241.616 674.491 239.788 678.055 Q237.982 681.597 237.982 688.727 Q237.982 695.833 239.788 699.398 Q241.616 702.939 245.227 702.939 Q248.862 702.939 250.667 699.398 Q252.496 695.833 252.496 688.727 Q252.496 681.597 250.667 678.055 Q248.862 674.491 245.227 674.491 M245.227 670.787 Q251.038 670.787 254.093 675.393 Q257.172 679.977 257.172 688.727 Q257.172 697.453 254.093 702.06 Q251.038 706.643 245.227 706.643 Q239.417 706.643 236.339 702.06 Q233.283 697.453 233.283 688.727 Q233.283 679.977 236.339 675.393 Q239.417 670.787 245.227 670.787 Z\" fill=\"#000000\" fill-rule=\"evenodd\" fill-opacity=\"1\" /><path clip-path=\"url(#clip580)\" d=\"M517.536 702.037 L525.174 702.037 L525.174 675.671 L516.864 677.338 L516.864 673.079 L525.128 671.412 L529.804 671.412 L529.804 702.037 L537.443 702.037 L537.443 705.972 L517.536 705.972 L517.536 702.037 Z\" fill=\"#000000\" fill-rule=\"evenodd\" fill-opacity=\"1\" /><path clip-path=\"url(#clip580)\" d=\"M546.934 671.412 L565.29 671.412 L565.29 675.347 L551.216 675.347 L551.216 683.819 Q552.235 683.472 553.253 683.31 Q554.272 683.125 555.29 683.125 Q561.077 683.125 564.457 686.296 Q567.836 689.467 567.836 694.884 Q567.836 700.463 564.364 703.564 Q560.892 706.643 554.572 706.643 Q552.397 706.643 550.128 706.273 Q547.883 705.902 545.475 705.162 L545.475 700.463 Q547.559 701.597 549.781 702.152 Q552.003 702.708 554.48 702.708 Q558.484 702.708 560.822 700.602 Q563.16 698.495 563.16 694.884 Q563.16 691.273 560.822 689.166 Q558.484 687.06 554.48 687.06 Q552.605 687.06 550.73 687.477 Q548.878 687.893 546.934 688.773 L546.934 671.412 Z\" fill=\"#000000\" fill-rule=\"evenodd\" fill-opacity=\"1\" /><path clip-path=\"url(#clip580)\" d=\"M832.286 702.037 L848.605 702.037 L848.605 705.972 L826.661 705.972 L826.661 702.037 Q829.323 699.282 833.906 694.652 Q838.512 690 839.693 688.657 Q841.938 686.134 842.818 684.398 Q843.721 682.639 843.721 680.949 Q843.721 678.194 841.776 676.458 Q839.855 674.722 836.753 674.722 Q834.554 674.722 832.1 675.486 Q829.67 676.25 826.892 677.801 L826.892 673.079 Q829.716 671.944 832.17 671.366 Q834.624 670.787 836.661 670.787 Q842.031 670.787 845.225 673.472 Q848.42 676.157 848.42 680.648 Q848.42 682.778 847.61 684.699 Q846.823 686.597 844.716 689.19 Q844.137 689.861 841.036 693.078 Q837.934 696.273 832.286 702.037 Z\" fill=\"#000000\" fill-rule=\"evenodd\" fill-opacity=\"1\" /><path clip-path=\"url(#clip580)\" d=\"M868.42 674.491 Q864.809 674.491 862.98 678.055 Q861.174 681.597 861.174 688.727 Q861.174 695.833 862.98 699.398 Q864.809 702.939 868.42 702.939 Q872.054 702.939 873.86 699.398 Q875.688 695.833 875.688 688.727 Q875.688 681.597 873.86 678.055 Q872.054 674.491 868.42 674.491 M868.42 670.787 Q874.23 670.787 877.285 675.393 Q880.364 679.977 880.364 688.727 Q880.364 697.453 877.285 702.06 Q874.23 706.643 868.42 706.643 Q862.61 706.643 859.531 702.06 Q856.475 697.453 856.475 688.727 Q856.475 679.977 859.531 675.393 Q862.61 670.787 868.42 670.787 Z\" fill=\"#000000\" fill-rule=\"evenodd\" fill-opacity=\"1\" /><path clip-path=\"url(#clip580)\" d=\"M1143.95 702.037 L1160.26 702.037 L1160.26 705.972 L1138.32 705.972 L1138.32 702.037 Q1140.98 699.282 1145.57 694.652 Q1150.17 690 1151.35 688.657 Q1153.6 686.134 1154.48 684.398 Q1155.38 682.639 1155.38 680.949 Q1155.38 678.194 1153.44 676.458 Q1151.51 674.722 1148.41 674.722 Q1146.21 674.722 1143.76 675.486 Q1141.33 676.25 1138.55 677.801 L1138.55 673.079 Q1141.38 671.944 1143.83 671.366 Q1146.28 670.787 1148.32 670.787 Q1153.69 670.787 1156.89 673.472 Q1160.08 676.157 1160.08 680.648 Q1160.08 682.778 1159.27 684.699 Q1158.48 686.597 1156.38 689.19 Q1155.8 689.861 1152.7 693.078 Q1149.59 696.273 1143.95 702.037 Z\" fill=\"#000000\" fill-rule=\"evenodd\" fill-opacity=\"1\" /><path clip-path=\"url(#clip580)\" d=\"M1170.13 671.412 L1188.48 671.412 L1188.48 675.347 L1174.41 675.347 L1174.41 683.819 Q1175.43 683.472 1176.45 683.31 Q1177.46 683.125 1178.48 683.125 Q1184.27 683.125 1187.65 686.296 Q1191.03 689.467 1191.03 694.884 Q1191.03 700.463 1187.56 703.564 Q1184.08 706.643 1177.76 706.643 Q1175.59 706.643 1173.32 706.273 Q1171.07 705.902 1168.67 705.162 L1168.67 700.463 Q1170.75 701.597 1172.97 702.152 Q1175.2 702.708 1177.67 702.708 Q1181.68 702.708 1184.01 700.602 Q1186.35 698.495 1186.35 694.884 Q1186.35 691.273 1184.01 689.166 Q1181.68 687.06 1177.67 687.06 Q1175.8 687.06 1173.92 687.477 Q1172.07 687.893 1170.13 688.773 L1170.13 671.412 Z\" fill=\"#000000\" fill-rule=\"evenodd\" fill-opacity=\"1\" /><path clip-path=\"url(#clip580)\" d=\"M1464.68 687.338 Q1468.04 688.055 1469.91 690.324 Q1471.81 692.592 1471.81 695.926 Q1471.81 701.041 1468.29 703.842 Q1464.77 706.643 1458.29 706.643 Q1456.11 706.643 1453.8 706.203 Q1451.51 705.787 1449.05 704.93 L1449.05 700.416 Q1451 701.551 1453.31 702.129 Q1455.63 702.708 1458.15 702.708 Q1462.55 702.708 1464.84 700.972 Q1467.16 699.236 1467.16 695.926 Q1467.16 692.87 1465 691.157 Q1462.87 689.421 1459.05 689.421 L1455.03 689.421 L1455.03 685.578 L1459.24 685.578 Q1462.69 685.578 1464.52 684.213 Q1466.35 682.824 1466.35 680.231 Q1466.35 677.569 1464.45 676.157 Q1462.57 674.722 1459.05 674.722 Q1457.13 674.722 1454.93 675.139 Q1452.73 675.555 1450.1 676.435 L1450.1 672.268 Q1452.76 671.528 1455.07 671.157 Q1457.41 670.787 1459.47 670.787 Q1464.8 670.787 1467.9 673.217 Q1471 675.625 1471 679.745 Q1471 682.615 1469.36 684.606 Q1467.71 686.574 1464.68 687.338 Z\" fill=\"#000000\" fill-rule=\"evenodd\" fill-opacity=\"1\" /><path clip-path=\"url(#clip580)\" d=\"M1490.67 674.491 Q1487.06 674.491 1485.23 678.055 Q1483.43 681.597 1483.43 688.727 Q1483.43 695.833 1485.23 699.398 Q1487.06 702.939 1490.67 702.939 Q1494.31 702.939 1496.11 699.398 Q1497.94 695.833 1497.94 688.727 Q1497.94 681.597 1496.11 678.055 Q1494.31 674.491 1490.67 674.491 M1490.67 670.787 Q1496.48 670.787 1499.54 675.393 Q1502.62 679.977 1502.62 688.727 Q1502.62 697.453 1499.54 702.06 Q1496.48 706.643 1490.67 706.643 Q1484.86 706.643 1481.79 702.06 Q1478.73 697.453 1478.73 688.727 Q1478.73 679.977 1481.79 675.393 Q1484.86 670.787 1490.67 670.787 Z\" fill=\"#000000\" fill-rule=\"evenodd\" fill-opacity=\"1\" /><path clip-path=\"url(#clip580)\" d=\"M674.891 737.044 L715.09 737.044 L715.09 742.455 L698.221 742.455 L698.221 784.564 L691.76 784.564 L691.76 742.455 L674.891 742.455 L674.891 737.044 Z\" fill=\"#000000\" fill-rule=\"evenodd\" fill-opacity=\"1\" /><path clip-path=\"url(#clip580)\" d=\"M719.037 748.916 L724.893 748.916 L724.893 784.564 L719.037 784.564 L719.037 748.916 M719.037 735.039 L724.893 735.039 L724.893 742.455 L719.037 742.455 L719.037 735.039 Z\" fill=\"#000000\" fill-rule=\"evenodd\" fill-opacity=\"1\" /><path clip-path=\"url(#clip580)\" d=\"M764.902 755.759 Q767.098 751.812 770.153 749.934 Q773.209 748.057 777.347 748.057 Q782.917 748.057 785.94 751.971 Q788.964 755.855 788.964 763.048 L788.964 784.564 L783.076 784.564 L783.076 763.239 Q783.076 758.114 781.262 755.632 Q779.447 753.149 775.723 753.149 Q771.172 753.149 768.53 756.173 Q765.888 759.197 765.888 764.416 L765.888 784.564 L760 784.564 L760 763.239 Q760 758.083 758.186 755.632 Q756.372 753.149 752.584 753.149 Q748.096 753.149 745.455 756.205 Q742.813 759.228 742.813 764.416 L742.813 784.564 L736.924 784.564 L736.924 748.916 L742.813 748.916 L742.813 754.454 Q744.818 751.176 747.619 749.616 Q750.42 748.057 754.271 748.057 Q758.154 748.057 760.86 750.03 Q763.597 752.003 764.902 755.759 Z\" fill=\"#000000\" fill-rule=\"evenodd\" fill-opacity=\"1\" /><path clip-path=\"url(#clip580)\" d=\"M831.137 765.276 L831.137 768.14 L804.21 768.14 Q804.592 774.188 807.838 777.371 Q811.117 780.522 816.941 780.522 Q820.315 780.522 823.466 779.694 Q826.649 778.867 829.768 777.211 L829.768 782.75 Q826.617 784.086 823.307 784.787 Q819.997 785.487 816.591 785.487 Q808.061 785.487 803.064 780.522 Q798.099 775.556 798.099 767.09 Q798.099 758.337 802.81 753.213 Q807.552 748.057 815.573 748.057 Q822.766 748.057 826.936 752.703 Q831.137 757.319 831.137 765.276 M825.281 763.557 Q825.217 758.751 822.575 755.886 Q819.965 753.022 815.636 753.022 Q810.735 753.022 807.775 755.791 Q804.847 758.56 804.401 763.589 L825.281 763.557 Z\" fill=\"#000000\" fill-rule=\"evenodd\" fill-opacity=\"1\" /><path clip-path=\"url(#clip580)\" d=\"M867.262 738.794 L867.262 748.916 L879.325 748.916 L879.325 753.467 L867.262 753.467 L867.262 772.819 Q867.262 777.18 868.44 778.421 Q869.649 779.662 873.31 779.662 L879.325 779.662 L879.325 784.564 L873.31 784.564 Q866.53 784.564 863.952 782.049 Q861.374 779.503 861.374 772.819 L861.374 753.467 L857.077 753.467 L857.077 748.916 L861.374 748.916 L861.374 738.794 L867.262 738.794 Z\" fill=\"#000000\" fill-rule=\"evenodd\" fill-opacity=\"1\" /><path clip-path=\"url(#clip580)\" d=\"M903.229 766.644 Q896.131 766.644 893.394 768.268 Q890.656 769.891 890.656 773.806 Q890.656 776.925 892.693 778.771 Q894.762 780.585 898.295 780.585 Q903.165 780.585 906.093 777.148 Q909.053 773.678 909.053 767.949 L909.053 766.644 L903.229 766.644 M914.91 764.225 L914.91 784.564 L909.053 784.564 L909.053 779.153 Q907.048 782.4 904.056 783.959 Q901.064 785.487 896.736 785.487 Q891.261 785.487 888.015 782.431 Q884.8 779.344 884.8 774.188 Q884.8 768.172 888.81 765.117 Q892.852 762.061 900.841 762.061 L909.053 762.061 L909.053 761.488 Q909.053 757.446 906.38 755.25 Q903.738 753.022 898.932 753.022 Q895.876 753.022 892.98 753.754 Q890.083 754.486 887.41 755.95 L887.41 750.539 Q890.624 749.298 893.648 748.693 Q896.672 748.057 899.536 748.057 Q907.271 748.057 911.09 752.067 Q914.91 756.077 914.91 764.225 Z\" fill=\"#000000\" fill-rule=\"evenodd\" fill-opacity=\"1\" /><path clip-path=\"url(#clip580)\" d=\"M926.75 735.039 L932.638 735.039 L932.638 764.289 L950.112 748.916 L957.592 748.916 L938.686 765.594 L958.387 784.564 L950.749 784.564 L932.638 767.154 L932.638 784.564 L926.75 784.564 L926.75 735.039 Z\" fill=\"#000000\" fill-rule=\"evenodd\" fill-opacity=\"1\" /><path clip-path=\"url(#clip580)\" d=\"M992.89 765.276 L992.89 768.14 L965.963 768.14 Q966.345 774.188 969.591 777.371 Q972.869 780.522 978.694 780.522 Q982.068 780.522 985.219 779.694 Q988.402 778.867 991.521 777.211 L991.521 782.75 Q988.37 784.086 985.06 784.787 Q981.75 785.487 978.344 785.487 Q969.814 785.487 964.817 780.522 Q959.852 775.556 959.852 767.09 Q959.852 758.337 964.562 753.213 Q969.305 748.057 977.325 748.057 Q984.519 748.057 988.688 752.703 Q992.89 757.319 992.89 765.276 M987.033 763.557 Q986.969 758.751 984.328 755.886 Q981.718 753.022 977.389 753.022 Q972.487 753.022 969.527 755.791 Q966.599 758.56 966.154 763.589 L987.033 763.557 Z\" fill=\"#000000\" fill-rule=\"evenodd\" fill-opacity=\"1\" /><path clip-path=\"url(#clip580)\" d=\"M1032.13 763.048 L1032.13 784.564 L1026.28 784.564 L1026.28 763.239 Q1026.28 758.178 1024.3 755.664 Q1022.33 753.149 1018.38 753.149 Q1013.64 753.149 1010.9 756.173 Q1008.17 759.197 1008.17 764.416 L1008.17 784.564 L1002.28 784.564 L1002.28 748.916 L1008.17 748.916 L1008.17 754.454 Q1010.27 751.239 1013.1 749.648 Q1015.97 748.057 1019.69 748.057 Q1025.83 748.057 1028.98 751.876 Q1032.13 755.664 1032.13 763.048 Z\" fill=\"#000000\" fill-rule=\"evenodd\" fill-opacity=\"1\" /><polyline clip-path=\"url(#clip582)\" style=\"stroke:#000000; stroke-linecap:butt; stroke-linejoin:round; stroke-width:2; stroke-opacity:0.1; fill:none\" points=\"\n",
       "  154.269,636.139 1552.76,636.139 \n",
       "  \"/>\n",
       "<polyline clip-path=\"url(#clip582)\" style=\"stroke:#000000; stroke-linecap:butt; stroke-linejoin:round; stroke-width:2; stroke-opacity:0.1; fill:none\" points=\"\n",
       "  154.269,463.237 1552.76,463.237 \n",
       "  \"/>\n",
       "<polyline clip-path=\"url(#clip582)\" style=\"stroke:#000000; stroke-linecap:butt; stroke-linejoin:round; stroke-width:2; stroke-opacity:0.1; fill:none\" points=\"\n",
       "  154.269,290.335 1552.76,290.335 \n",
       "  \"/>\n",
       "<polyline clip-path=\"url(#clip582)\" style=\"stroke:#000000; stroke-linecap:butt; stroke-linejoin:round; stroke-width:2; stroke-opacity:0.1; fill:none\" points=\"\n",
       "  154.269,117.433 1552.76,117.433 \n",
       "  \"/>\n",
       "<polyline clip-path=\"url(#clip580)\" style=\"stroke:#000000; stroke-linecap:butt; stroke-linejoin:round; stroke-width:4; stroke-opacity:1; fill:none\" points=\"\n",
       "  154.269,651.7 154.269,101.872 \n",
       "  \"/>\n",
       "<polyline clip-path=\"url(#clip580)\" style=\"stroke:#000000; stroke-linecap:butt; stroke-linejoin:round; stroke-width:4; stroke-opacity:1; fill:none\" points=\"\n",
       "  154.269,636.139 171.051,636.139 \n",
       "  \"/>\n",
       "<polyline clip-path=\"url(#clip580)\" style=\"stroke:#000000; stroke-linecap:butt; stroke-linejoin:round; stroke-width:4; stroke-opacity:1; fill:none\" points=\"\n",
       "  154.269,463.237 171.051,463.237 \n",
       "  \"/>\n",
       "<polyline clip-path=\"url(#clip580)\" style=\"stroke:#000000; stroke-linecap:butt; stroke-linejoin:round; stroke-width:4; stroke-opacity:1; fill:none\" points=\"\n",
       "  154.269,290.335 171.051,290.335 \n",
       "  \"/>\n",
       "<polyline clip-path=\"url(#clip580)\" style=\"stroke:#000000; stroke-linecap:butt; stroke-linejoin:round; stroke-width:4; stroke-opacity:1; fill:none\" points=\"\n",
       "  154.269,117.433 171.051,117.433 \n",
       "  \"/>\n",
       "<path clip-path=\"url(#clip580)\" d=\"M118.325 621.937 Q114.713 621.937 112.885 625.502 Q111.079 629.044 111.079 636.173 Q111.079 643.28 112.885 646.845 Q114.713 650.386 118.325 650.386 Q121.959 650.386 123.764 646.845 Q125.593 643.28 125.593 636.173 Q125.593 629.044 123.764 625.502 Q121.959 621.937 118.325 621.937 M118.325 618.234 Q124.135 618.234 127.19 622.84 Q130.269 627.423 130.269 636.173 Q130.269 644.9 127.19 649.507 Q124.135 654.09 118.325 654.09 Q112.514 654.09 109.436 649.507 Q106.38 644.9 106.38 636.173 Q106.38 627.423 109.436 622.84 Q112.514 618.234 118.325 618.234 Z\" fill=\"#000000\" fill-rule=\"evenodd\" fill-opacity=\"1\" /><path clip-path=\"url(#clip580)\" d=\"M110.362 476.582 L118 476.582 L118 450.216 L109.69 451.883 L109.69 447.624 L117.954 445.957 L122.63 445.957 L122.63 476.582 L130.269 476.582 L130.269 480.517 L110.362 480.517 L110.362 476.582 Z\" fill=\"#000000\" fill-rule=\"evenodd\" fill-opacity=\"1\" /><path clip-path=\"url(#clip580)\" d=\"M113.95 303.68 L130.269 303.68 L130.269 307.615 L108.325 307.615 L108.325 303.68 Q110.987 300.925 115.57 296.296 Q120.176 291.643 121.357 290.3 Q123.602 287.777 124.482 286.041 Q125.385 284.282 125.385 282.592 Q125.385 279.837 123.44 278.101 Q121.519 276.365 118.417 276.365 Q116.218 276.365 113.764 277.129 Q111.334 277.893 108.556 279.444 L108.556 274.722 Q111.38 273.587 113.834 273.009 Q116.288 272.43 118.325 272.43 Q123.695 272.43 126.889 275.115 Q130.084 277.8 130.084 282.291 Q130.084 284.421 129.274 286.342 Q128.487 288.24 126.38 290.833 Q125.801 291.504 122.7 294.722 Q119.598 297.916 113.95 303.68 Z\" fill=\"#000000\" fill-rule=\"evenodd\" fill-opacity=\"1\" /><path clip-path=\"url(#clip580)\" d=\"M123.139 116.079 Q126.496 116.797 128.371 119.065 Q130.269 121.334 130.269 124.667 Q130.269 129.783 126.75 132.584 Q123.232 135.385 116.75 135.385 Q114.575 135.385 112.26 134.945 Q109.968 134.528 107.514 133.672 L107.514 129.158 Q109.459 130.292 111.774 130.871 Q114.088 131.449 116.612 131.449 Q121.01 131.449 123.301 129.713 Q125.616 127.977 125.616 124.667 Q125.616 121.612 123.463 119.899 Q121.334 118.162 117.514 118.162 L113.487 118.162 L113.487 114.32 L117.7 114.32 Q121.149 114.32 122.977 112.954 Q124.806 111.565 124.806 108.973 Q124.806 106.311 122.908 104.899 Q121.033 103.463 117.514 103.463 Q115.593 103.463 113.394 103.88 Q111.195 104.297 108.556 105.176 L108.556 101.01 Q111.218 100.269 113.533 99.8987 Q115.871 99.5283 117.931 99.5283 Q123.255 99.5283 126.357 101.959 Q129.459 104.366 129.459 108.487 Q129.459 111.357 127.815 113.348 Q126.172 115.315 123.139 116.079 Z\" fill=\"#000000\" fill-rule=\"evenodd\" fill-opacity=\"1\" /><path clip-path=\"url(#clip580)\" d=\"M20.6042 623.33 L20.6042 614.672 L60.358 593.602 L20.6042 593.602 L20.6042 587.364 L68.1242 587.364 L68.1242 596.021 L28.3703 617.091 L68.1242 617.091 L68.1242 623.33 L20.6042 623.33 Z\" fill=\"#000000\" fill-rule=\"evenodd\" fill-opacity=\"1\" /><path clip-path=\"url(#clip580)\" d=\"M54.0559 575.428 L32.4762 575.428 L32.4762 569.571 L53.8331 569.571 Q58.8939 569.571 61.4402 567.598 Q63.9546 565.625 63.9546 561.678 Q63.9546 556.935 60.9309 554.198 Q57.9072 551.429 52.6873 551.429 L32.4762 551.429 L32.4762 545.573 L68.1242 545.573 L68.1242 551.429 L62.6496 551.429 Q65.8962 553.562 67.4876 556.394 Q69.0472 559.195 69.0472 562.919 Q69.0472 569.062 65.2278 572.245 Q61.4083 575.428 54.0559 575.428 M31.6168 560.691 L31.6168 560.691 Z\" fill=\"#000000\" fill-rule=\"evenodd\" fill-opacity=\"1\" /><path clip-path=\"url(#clip580)\" d=\"M39.3193 505.755 Q35.3726 503.559 33.4947 500.503 Q31.6168 497.448 31.6168 493.31 Q31.6168 487.74 35.5317 484.717 Q39.4148 481.693 46.6081 481.693 L68.1242 481.693 L68.1242 487.581 L46.799 487.581 Q41.6746 487.581 39.192 489.395 Q36.7094 491.21 36.7094 494.933 Q36.7094 499.485 39.7331 502.127 Q42.7568 504.769 47.9767 504.769 L68.1242 504.769 L68.1242 510.657 L46.799 510.657 Q41.6428 510.657 39.192 512.471 Q36.7094 514.285 36.7094 518.073 Q36.7094 522.561 39.7649 525.202 Q42.7886 527.844 47.9767 527.844 L68.1242 527.844 L68.1242 533.732 L32.4762 533.732 L32.4762 527.844 L38.0144 527.844 Q34.736 525.839 33.1764 523.038 Q31.6168 520.237 31.6168 516.386 Q31.6168 512.503 33.5902 509.797 Q35.5636 507.06 39.3193 505.755 Z\" fill=\"#000000\" fill-rule=\"evenodd\" fill-opacity=\"1\" /><path clip-path=\"url(#clip580)\" d=\"M50.332 444.422 Q43.8708 444.422 40.2105 447.095 Q36.5184 449.737 36.5184 454.384 Q36.5184 459.031 40.2105 461.705 Q43.8708 464.346 50.332 464.346 Q56.7932 464.346 60.4853 461.705 Q64.1456 459.031 64.1456 454.384 Q64.1456 449.737 60.4853 447.095 Q56.7932 444.422 50.332 444.422 M37.8871 464.346 Q34.7042 462.5 33.1764 459.699 Q31.6168 456.867 31.6168 452.952 Q31.6168 446.459 36.7731 442.416 Q41.9293 438.342 50.332 438.342 Q58.7347 438.342 63.891 442.416 Q69.0472 446.459 69.0472 452.952 Q69.0472 456.867 67.5194 459.699 Q65.9598 462.5 62.777 464.346 L68.1242 464.346 L68.1242 470.235 L18.599 470.235 L18.599 464.346 L37.8871 464.346 Z\" fill=\"#000000\" fill-rule=\"evenodd\" fill-opacity=\"1\" /><path clip-path=\"url(#clip580)\" d=\"M48.8361 398.143 L51.7006 398.143 L51.7006 425.07 Q57.7481 424.688 60.9309 421.441 Q64.0819 418.163 64.0819 412.338 Q64.0819 408.965 63.2544 405.814 Q62.4269 402.631 60.7718 399.512 L66.3099 399.512 Q67.6467 402.663 68.347 405.973 Q69.0472 409.283 69.0472 412.689 Q69.0472 421.219 64.0819 426.216 Q59.1167 431.181 50.6503 431.181 Q41.8974 431.181 36.7731 426.47 Q31.6168 421.728 31.6168 413.707 Q31.6168 406.514 36.2638 402.344 Q40.8789 398.143 48.8361 398.143 M47.1173 403.999 Q42.3112 404.063 39.4466 406.705 Q36.5821 409.315 36.5821 413.643 Q36.5821 418.545 39.3512 421.505 Q42.1202 424.433 47.1492 424.879 L47.1173 403.999 Z\" fill=\"#000000\" fill-rule=\"evenodd\" fill-opacity=\"1\" /><path clip-path=\"url(#clip580)\" d=\"M37.9507 367.874 Q37.3778 368.861 37.1232 370.038 Q36.8367 371.184 36.8367 372.585 Q36.8367 377.55 40.0832 380.223 Q43.2979 382.865 49.3453 382.865 L68.1242 382.865 L68.1242 388.754 L32.4762 388.754 L32.4762 382.865 L38.0144 382.865 Q34.7679 381.019 33.2083 378.059 Q31.6168 375.099 31.6168 370.866 Q31.6168 370.261 31.7123 369.529 Q31.776 368.797 31.9351 367.906 L37.9507 367.874 Z\" fill=\"#000000\" fill-rule=\"evenodd\" fill-opacity=\"1\" /><path clip-path=\"url(#clip580)\" d=\"M36.5821 327.197 Q36.5821 331.908 40.2742 334.645 Q43.9345 337.382 50.332 337.382 Q56.7295 337.382 60.4217 334.677 Q64.0819 331.94 64.0819 327.197 Q64.0819 322.518 60.3898 319.781 Q56.6977 317.044 50.332 317.044 Q43.9981 317.044 40.306 319.781 Q36.5821 322.518 36.5821 327.197 M31.6168 327.197 Q31.6168 319.558 36.5821 315.198 Q41.5473 310.837 50.332 310.837 Q59.0849 310.837 64.0819 315.198 Q69.0472 319.558 69.0472 327.197 Q69.0472 334.868 64.0819 339.228 Q59.0849 343.557 50.332 343.557 Q41.5473 343.557 36.5821 339.228 Q31.6168 334.868 31.6168 327.197 Z\" fill=\"#000000\" fill-rule=\"evenodd\" fill-opacity=\"1\" /><path clip-path=\"url(#clip580)\" d=\"M18.599 283.083 L23.4687 283.083 L23.4687 288.685 Q23.4687 291.836 24.7419 293.077 Q26.015 294.286 29.3252 294.286 L32.4762 294.286 L32.4762 284.642 L37.0277 284.642 L37.0277 294.286 L68.1242 294.286 L68.1242 300.175 L37.0277 300.175 L37.0277 305.777 L32.4762 305.777 L32.4762 300.175 L29.9936 300.175 Q24.0416 300.175 21.3362 297.406 Q18.599 294.637 18.599 288.621 L18.599 283.083 Z\" fill=\"#000000\" fill-rule=\"evenodd\" fill-opacity=\"1\" /><path clip-path=\"url(#clip580)\" d=\"M33.8448 231.807 L39.3193 231.807 Q37.9507 234.29 37.2823 236.804 Q36.5821 239.287 36.5821 241.833 Q36.5821 247.53 40.2105 250.681 Q43.8072 253.832 50.332 253.832 Q56.8569 253.832 60.4853 250.681 Q64.0819 247.53 64.0819 241.833 Q64.0819 239.287 63.4135 236.804 Q62.7133 234.29 61.3447 231.807 L66.7555 231.807 Q67.9014 234.258 68.4743 236.9 Q69.0472 239.51 69.0472 242.47 Q69.0472 250.522 63.9864 255.265 Q58.9257 260.007 50.332 260.007 Q41.611 260.007 36.6139 255.233 Q31.6168 250.427 31.6168 242.088 Q31.6168 239.382 32.1897 236.804 Q32.7308 234.226 33.8448 231.807 Z\" fill=\"#000000\" fill-rule=\"evenodd\" fill-opacity=\"1\" /><path clip-path=\"url(#clip580)\" d=\"M50.2047 205.421 Q50.2047 212.519 51.8279 215.256 Q53.4512 217.993 57.3661 217.993 Q60.4853 217.993 62.3314 215.956 Q64.1456 213.888 64.1456 210.355 Q64.1456 205.485 60.7081 202.557 Q57.2388 199.597 51.5097 199.597 L50.2047 199.597 L50.2047 205.421 M47.7857 193.74 L68.1242 193.74 L68.1242 199.597 L62.7133 199.597 Q65.9598 201.602 67.5194 204.594 Q69.0472 207.586 69.0472 211.914 Q69.0472 217.389 65.9916 220.635 Q62.9043 223.85 57.7481 223.85 Q51.7325 223.85 48.6769 219.839 Q45.6214 215.797 45.6214 207.808 L45.6214 199.597 L45.0485 199.597 Q41.0062 199.597 38.8101 202.27 Q36.5821 204.912 36.5821 209.718 Q36.5821 212.774 37.3141 215.67 Q38.0462 218.566 39.5103 221.24 L34.0995 221.24 Q32.8581 218.025 32.2534 215.002 Q31.6168 211.978 31.6168 209.113 Q31.6168 201.379 35.6272 197.56 Q39.6376 193.74 47.7857 193.74 Z\" fill=\"#000000\" fill-rule=\"evenodd\" fill-opacity=\"1\" /><path clip-path=\"url(#clip580)\" d=\"M37.9507 161.02 Q37.3778 162.007 37.1232 163.185 Q36.8367 164.331 36.8367 165.731 Q36.8367 170.696 40.0832 173.37 Q43.2979 176.012 49.3453 176.012 L68.1242 176.012 L68.1242 181.9 L32.4762 181.9 L32.4762 176.012 L38.0144 176.012 Q34.7679 174.166 33.2083 171.205 Q31.6168 168.245 31.6168 164.012 Q31.6168 163.407 31.7123 162.675 Q31.776 161.943 31.9351 161.052 L37.9507 161.02 Z\" fill=\"#000000\" fill-rule=\"evenodd\" fill-opacity=\"1\" /><path clip-path=\"url(#clip580)\" d=\"M33.5265 132.152 L39.0647 132.152 Q37.7916 134.635 37.155 137.308 Q36.5184 139.982 36.5184 142.846 Q36.5184 147.207 37.8552 149.403 Q39.192 151.567 41.8656 151.567 Q43.9026 151.567 45.0803 150.008 Q46.2261 148.448 47.2765 143.737 L47.7221 141.732 Q49.0589 135.494 51.5097 132.884 Q53.9286 130.242 58.2891 130.242 Q63.2544 130.242 66.1508 134.189 Q69.0472 138.104 69.0472 144.979 Q69.0472 147.843 68.4743 150.963 Q67.9332 154.05 66.8192 157.487 L60.7718 157.487 Q62.4587 154.241 63.318 151.09 Q64.1456 147.939 64.1456 144.851 Q64.1456 140.714 62.7451 138.486 Q61.3129 136.258 58.7347 136.258 Q56.3476 136.258 55.0745 137.881 Q53.8013 139.472 52.6237 144.915 L52.1462 146.952 Q51.0004 152.395 48.6451 154.814 Q46.258 157.233 42.1202 157.233 Q37.0913 157.233 34.3541 153.668 Q31.6168 150.103 31.6168 143.546 Q31.6168 140.3 32.0943 137.435 Q32.5717 134.571 33.5265 132.152 Z\" fill=\"#000000\" fill-rule=\"evenodd\" fill-opacity=\"1\" /><path clip-path=\"url(#clip580)\" d=\"M266.241 10.368 L310.095 10.368 L310.095 16.2707 L291.693 16.2707 L291.693 62.208 L284.644 62.208 L284.644 16.2707 L266.241 16.2707 L266.241 10.368 Z\" fill=\"#000000\" fill-rule=\"evenodd\" fill-opacity=\"1\" /><path clip-path=\"url(#clip580)\" d=\"M314.401 23.3193 L320.79 23.3193 L320.79 62.208 L314.401 62.208 L314.401 23.3193 M314.401 8.18051 L320.79 8.18051 L320.79 16.2707 L314.401 16.2707 L314.401 8.18051 Z\" fill=\"#000000\" fill-rule=\"evenodd\" fill-opacity=\"1\" /><path clip-path=\"url(#clip580)\" d=\"M364.435 30.7846 Q366.831 26.479 370.164 24.4304 Q373.498 22.3818 378.011 22.3818 Q384.088 22.3818 387.386 26.6526 Q390.685 30.8887 390.685 38.7359 L390.685 62.208 L384.261 62.208 L384.261 38.9442 Q384.261 33.354 382.282 30.6457 Q380.303 27.9374 376.241 27.9374 Q371.275 27.9374 368.393 31.2359 Q365.512 34.5345 365.512 40.229 L365.512 62.208 L359.088 62.208 L359.088 38.9442 Q359.088 33.3193 357.109 30.6457 Q355.13 27.9374 350.998 27.9374 Q346.102 27.9374 343.22 31.2707 Q340.338 34.5693 340.338 40.229 L340.338 62.208 L333.915 62.208 L333.915 23.3193 L340.338 23.3193 L340.338 29.361 Q342.526 25.7846 345.581 24.0832 Q348.637 22.3818 352.838 22.3818 Q357.074 22.3818 360.025 24.5346 Q363.012 26.6874 364.435 30.7846 Z\" fill=\"#000000\" fill-rule=\"evenodd\" fill-opacity=\"1\" /><path clip-path=\"url(#clip580)\" d=\"M436.692 41.1664 L436.692 44.2914 L407.317 44.2914 Q407.734 50.8886 411.275 54.3608 Q414.852 57.7983 421.206 57.7983 Q424.886 57.7983 428.324 56.8955 Q431.796 55.9928 435.199 54.1872 L435.199 60.2288 Q431.761 61.6872 428.15 62.4511 Q424.539 63.2149 420.824 63.2149 Q411.518 63.2149 406.067 57.7983 Q400.65 52.3817 400.65 43.1456 Q400.65 33.597 405.789 28.0068 Q410.963 22.3818 419.713 22.3818 Q427.56 22.3818 432.108 27.4512 Q436.692 32.4859 436.692 41.1664 M430.303 39.2915 Q430.233 34.0484 427.352 30.9234 Q424.504 27.7985 419.782 27.7985 Q414.435 27.7985 411.206 30.8193 Q408.011 33.8401 407.525 39.3262 L430.303 39.2915 Z\" fill=\"#000000\" fill-rule=\"evenodd\" fill-opacity=\"1\" /><path clip-path=\"url(#clip580)\" d=\"M476.101 12.2777 L476.101 23.3193 L489.261 23.3193 L489.261 28.2846 L476.101 28.2846 L476.101 49.3956 Q476.101 54.1525 477.386 55.5066 Q478.705 56.8608 482.698 56.8608 L489.261 56.8608 L489.261 62.208 L482.698 62.208 Q475.303 62.208 472.49 59.465 Q469.678 56.6872 469.678 49.3956 L469.678 28.2846 L464.99 28.2846 L464.99 23.3193 L469.678 23.3193 L469.678 12.2777 L476.101 12.2777 Z\" fill=\"#000000\" fill-rule=\"evenodd\" fill-opacity=\"1\" /><path clip-path=\"url(#clip580)\" d=\"M515.337 42.6595 Q507.594 42.6595 504.608 44.4303 Q501.622 46.2011 501.622 50.472 Q501.622 53.8747 503.844 55.8886 Q506.101 57.8677 509.955 57.8677 Q515.268 57.8677 518.462 54.1178 Q521.691 50.3331 521.691 44.0831 L521.691 42.6595 L515.337 42.6595 M528.08 40.0206 L528.08 62.208 L521.691 62.208 L521.691 56.3053 Q519.504 59.8469 516.24 61.5483 Q512.976 63.2149 508.254 63.2149 Q502.282 63.2149 498.74 59.8816 Q495.233 56.5136 495.233 50.8886 Q495.233 44.3262 499.608 40.9928 Q504.018 37.6595 512.733 37.6595 L521.691 37.6595 L521.691 37.0345 Q521.691 32.6248 518.775 30.229 Q515.893 27.7985 510.65 27.7985 Q507.316 27.7985 504.157 28.5971 Q500.997 29.3957 498.08 30.9929 L498.08 25.0901 Q501.587 23.736 504.886 23.0763 Q508.184 22.3818 511.309 22.3818 Q519.747 22.3818 523.913 26.7568 Q528.08 31.1318 528.08 40.0206 Z\" fill=\"#000000\" fill-rule=\"evenodd\" fill-opacity=\"1\" /><path clip-path=\"url(#clip580)\" d=\"M540.997 8.18051 L547.42 8.18051 L547.42 40.0901 L566.483 23.3193 L574.642 23.3193 L554.017 41.5137 L575.51 62.208 L567.177 62.208 L547.42 43.215 L547.42 62.208 L540.997 62.208 L540.997 8.18051 Z\" fill=\"#000000\" fill-rule=\"evenodd\" fill-opacity=\"1\" /><path clip-path=\"url(#clip580)\" d=\"M613.149 41.1664 L613.149 44.2914 L583.774 44.2914 Q584.191 50.8886 587.733 54.3608 Q591.309 57.7983 597.663 57.7983 Q601.344 57.7983 604.781 56.8955 Q608.253 55.9928 611.656 54.1872 L611.656 60.2288 Q608.219 61.6872 604.607 62.4511 Q600.996 63.2149 597.281 63.2149 Q587.976 63.2149 582.524 57.7983 Q577.108 52.3817 577.108 43.1456 Q577.108 33.597 582.247 28.0068 Q587.42 22.3818 596.17 22.3818 Q604.017 22.3818 608.566 27.4512 Q613.149 32.4859 613.149 41.1664 M606.76 39.2915 Q606.691 34.0484 603.809 30.9234 Q600.962 27.7985 596.239 27.7985 Q590.892 27.7985 587.663 30.8193 Q584.469 33.8401 583.983 39.3262 L606.76 39.2915 Z\" fill=\"#000000\" fill-rule=\"evenodd\" fill-opacity=\"1\" /><path clip-path=\"url(#clip580)\" d=\"M655.961 38.7359 L655.961 62.208 L649.573 62.208 L649.573 38.9442 Q649.573 33.4234 647.42 30.6804 Q645.267 27.9374 640.961 27.9374 Q635.788 27.9374 632.802 31.2359 Q629.816 34.5345 629.816 40.229 L629.816 62.208 L623.392 62.208 L623.392 23.3193 L629.816 23.3193 L629.816 29.361 Q632.107 25.854 635.198 24.1179 Q638.323 22.3818 642.385 22.3818 Q649.086 22.3818 652.524 26.5485 Q655.961 30.6804 655.961 38.7359 Z\" fill=\"#000000\" fill-rule=\"evenodd\" fill-opacity=\"1\" /><path clip-path=\"url(#clip580)\" d=\"M697.628 12.2777 L697.628 23.3193 L710.787 23.3193 L710.787 28.2846 L697.628 28.2846 L697.628 49.3956 Q697.628 54.1525 698.913 55.5066 Q700.232 56.8608 704.225 56.8608 L710.787 56.8608 L710.787 62.208 L704.225 62.208 Q696.829 62.208 694.017 59.465 Q691.204 56.6872 691.204 49.3956 L691.204 28.2846 L686.517 28.2846 L686.517 23.3193 L691.204 23.3193 L691.204 12.2777 L697.628 12.2777 Z\" fill=\"#000000\" fill-rule=\"evenodd\" fill-opacity=\"1\" /><path clip-path=\"url(#clip580)\" d=\"M734.26 27.7985 Q729.121 27.7985 726.135 31.8262 Q723.149 35.8193 723.149 42.7984 Q723.149 49.7775 726.1 53.8053 Q729.086 57.7983 734.26 57.7983 Q739.364 57.7983 742.35 53.7705 Q745.336 49.7428 745.336 42.7984 Q745.336 35.8887 742.35 31.8609 Q739.364 27.7985 734.26 27.7985 M734.26 22.3818 Q742.593 22.3818 747.35 27.7985 Q752.107 33.2151 752.107 42.7984 Q752.107 52.3469 747.35 57.7983 Q742.593 63.2149 734.26 63.2149 Q725.892 63.2149 721.135 57.7983 Q716.412 52.3469 716.412 42.7984 Q716.412 33.2151 721.135 27.7985 Q725.892 22.3818 734.26 22.3818 Z\" fill=\"#000000\" fill-rule=\"evenodd\" fill-opacity=\"1\" /><path clip-path=\"url(#clip580)\" d=\"M791.62 12.2777 L791.62 23.3193 L804.78 23.3193 L804.78 28.2846 L791.62 28.2846 L791.62 49.3956 Q791.62 54.1525 792.905 55.5066 Q794.225 56.8608 798.218 56.8608 L804.78 56.8608 L804.78 62.208 L798.218 62.208 Q790.822 62.208 788.009 59.465 Q785.197 56.6872 785.197 49.3956 L785.197 28.2846 L780.509 28.2846 L780.509 23.3193 L785.197 23.3193 L785.197 12.2777 L791.62 12.2777 Z\" fill=\"#000000\" fill-rule=\"evenodd\" fill-opacity=\"1\" /><path clip-path=\"url(#clip580)\" d=\"M835.717 29.2915 Q834.641 28.6665 833.356 28.3887 Q832.106 28.0762 830.579 28.0762 Q825.162 28.0762 822.245 31.6179 Q819.363 35.1248 819.363 41.722 L819.363 62.208 L812.94 62.208 L812.94 23.3193 L819.363 23.3193 L819.363 29.361 Q821.377 25.8193 824.606 24.1179 Q827.835 22.3818 832.453 22.3818 Q833.113 22.3818 833.912 22.486 Q834.71 22.5554 835.683 22.729 L835.717 29.2915 Z\" fill=\"#000000\" fill-rule=\"evenodd\" fill-opacity=\"1\" /><path clip-path=\"url(#clip580)\" d=\"M860.092 42.6595 Q852.349 42.6595 849.363 44.4303 Q846.377 46.2011 846.377 50.472 Q846.377 53.8747 848.599 55.8886 Q850.856 57.8677 854.71 57.8677 Q860.023 57.8677 863.217 54.1178 Q866.446 50.3331 866.446 44.0831 L866.446 42.6595 L860.092 42.6595 M872.835 40.0206 L872.835 62.208 L866.446 62.208 L866.446 56.3053 Q864.259 59.8469 860.995 61.5483 Q857.731 63.2149 853.009 63.2149 Q847.037 63.2149 843.495 59.8816 Q839.988 56.5136 839.988 50.8886 Q839.988 44.3262 844.363 40.9928 Q848.773 37.6595 857.488 37.6595 L866.446 37.6595 L866.446 37.0345 Q866.446 32.6248 863.53 30.229 Q860.648 27.7985 855.405 27.7985 Q852.071 27.7985 848.912 28.5971 Q845.752 29.3957 842.835 30.9929 L842.835 25.0901 Q846.342 23.736 849.641 23.0763 Q852.939 22.3818 856.064 22.3818 Q864.502 22.3818 868.669 26.7568 Q872.835 31.1318 872.835 40.0206 Z\" fill=\"#000000\" fill-rule=\"evenodd\" fill-opacity=\"1\" /><path clip-path=\"url(#clip580)\" d=\"M881.412 23.3193 L888.182 23.3193 L900.335 55.958 L912.488 23.3193 L919.259 23.3193 L904.675 62.208 L895.995 62.208 L881.412 23.3193 Z\" fill=\"#000000\" fill-rule=\"evenodd\" fill-opacity=\"1\" /><path clip-path=\"url(#clip580)\" d=\"M961.342 41.1664 L961.342 44.2914 L931.967 44.2914 Q932.384 50.8886 935.925 54.3608 Q939.502 57.7983 945.856 57.7983 Q949.536 57.7983 952.974 56.8955 Q956.446 55.9928 959.849 54.1872 L959.849 60.2288 Q956.411 61.6872 952.8 62.4511 Q949.189 63.2149 945.474 63.2149 Q936.168 63.2149 930.717 57.7983 Q925.3 52.3817 925.3 43.1456 Q925.3 33.597 930.439 28.0068 Q935.613 22.3818 944.363 22.3818 Q952.21 22.3818 956.758 27.4512 Q961.342 32.4859 961.342 41.1664 M954.953 39.2915 Q954.883 34.0484 952.001 30.9234 Q949.154 27.7985 944.432 27.7985 Q939.085 27.7985 935.856 30.8193 Q932.661 33.8401 932.175 39.3262 L954.953 39.2915 Z\" fill=\"#000000\" fill-rule=\"evenodd\" fill-opacity=\"1\" /><path clip-path=\"url(#clip580)\" d=\"M971.828 8.18051 L978.217 8.18051 L978.217 62.208 L971.828 62.208 L971.828 8.18051 Z\" fill=\"#000000\" fill-rule=\"evenodd\" fill-opacity=\"1\" /><path clip-path=\"url(#clip580)\" d=\"M1033.88 8.18051 L1033.88 13.493 L1027.76 13.493 Q1024.33 13.493 1022.97 14.8819 Q1021.65 16.2707 1021.65 19.8818 L1021.65 23.3193 L1032.17 23.3193 L1032.17 28.2846 L1021.65 28.2846 L1021.65 62.208 L1015.23 62.208 L1015.23 28.2846 L1009.12 28.2846 L1009.12 23.3193 L1015.23 23.3193 L1015.23 20.611 Q1015.23 14.118 1018.25 11.1666 Q1021.27 8.18051 1027.83 8.18051 L1033.88 8.18051 Z\" fill=\"#000000\" fill-rule=\"evenodd\" fill-opacity=\"1\" /><path clip-path=\"url(#clip580)\" d=\"M1061.76 29.2915 Q1060.68 28.6665 1059.4 28.3887 Q1058.15 28.0762 1056.62 28.0762 Q1051.2 28.0762 1048.29 31.6179 Q1045.4 35.1248 1045.4 41.722 L1045.4 62.208 L1038.98 62.208 L1038.98 23.3193 L1045.4 23.3193 L1045.4 29.361 Q1047.42 25.8193 1050.65 24.1179 Q1053.88 22.3818 1058.49 22.3818 Q1059.15 22.3818 1059.95 22.486 Q1060.75 22.5554 1061.72 22.729 L1061.76 29.2915 Z\" fill=\"#000000\" fill-rule=\"evenodd\" fill-opacity=\"1\" /><path clip-path=\"url(#clip580)\" d=\"M1081.97 27.7985 Q1076.83 27.7985 1073.84 31.8262 Q1070.85 35.8193 1070.85 42.7984 Q1070.85 49.7775 1073.81 53.8053 Q1076.79 57.7983 1081.97 57.7983 Q1087.07 57.7983 1090.06 53.7705 Q1093.04 49.7428 1093.04 42.7984 Q1093.04 35.8887 1090.06 31.8609 Q1087.07 27.7985 1081.97 27.7985 M1081.97 22.3818 Q1090.3 22.3818 1095.06 27.7985 Q1099.81 33.2151 1099.81 42.7984 Q1099.81 52.3469 1095.06 57.7983 Q1090.3 63.2149 1081.97 63.2149 Q1073.6 63.2149 1068.84 57.7983 Q1064.12 52.3469 1064.12 42.7984 Q1064.12 33.2151 1068.84 27.7985 Q1073.6 22.3818 1081.97 22.3818 Z\" fill=\"#000000\" fill-rule=\"evenodd\" fill-opacity=\"1\" /><path clip-path=\"url(#clip580)\" d=\"M1140.68 30.7846 Q1143.08 26.479 1146.41 24.4304 Q1149.74 22.3818 1154.26 22.3818 Q1160.33 22.3818 1163.63 26.6526 Q1166.93 30.8887 1166.93 38.7359 L1166.93 62.208 L1160.51 62.208 L1160.51 38.9442 Q1160.51 33.354 1158.53 30.6457 Q1156.55 27.9374 1152.49 27.9374 Q1147.52 27.9374 1144.64 31.2359 Q1141.76 34.5345 1141.76 40.229 L1141.76 62.208 L1135.33 62.208 L1135.33 38.9442 Q1135.33 33.3193 1133.35 30.6457 Q1131.38 27.9374 1127.24 27.9374 Q1122.35 27.9374 1119.47 31.2707 Q1116.58 34.5693 1116.58 40.229 L1116.58 62.208 L1110.16 62.208 L1110.16 23.3193 L1116.58 23.3193 L1116.58 29.361 Q1118.77 25.7846 1121.83 24.0832 Q1124.88 22.3818 1129.08 22.3818 Q1133.32 22.3818 1136.27 24.5346 Q1139.26 26.6874 1140.68 30.7846 Z\" fill=\"#000000\" fill-rule=\"evenodd\" fill-opacity=\"1\" /><path clip-path=\"url(#clip580)\" d=\"M1201.41 10.368 L1234.74 10.368 L1234.74 13.3541 L1215.92 62.208 L1208.6 62.208 L1226.31 16.2707 L1201.41 16.2707 L1201.41 10.368 Z\" fill=\"#000000\" fill-rule=\"evenodd\" fill-opacity=\"1\" /><path clip-path=\"url(#clip580)\" d=\"M1276.44 12.2777 L1276.44 23.3193 L1289.6 23.3193 L1289.6 28.2846 L1276.44 28.2846 L1276.44 49.3956 Q1276.44 54.1525 1277.73 55.5066 Q1279.05 56.8608 1283.04 56.8608 L1289.6 56.8608 L1289.6 62.208 L1283.04 62.208 Q1275.65 62.208 1272.83 59.465 Q1270.02 56.6872 1270.02 49.3956 L1270.02 28.2846 L1265.33 28.2846 L1265.33 23.3193 L1270.02 23.3193 L1270.02 12.2777 L1276.44 12.2777 Z\" fill=\"#000000\" fill-rule=\"evenodd\" fill-opacity=\"1\" /><path clip-path=\"url(#clip580)\" d=\"M1313.08 27.7985 Q1307.94 27.7985 1304.95 31.8262 Q1301.96 35.8193 1301.96 42.7984 Q1301.96 49.7775 1304.92 53.8053 Q1307.9 57.7983 1313.08 57.7983 Q1318.18 57.7983 1321.17 53.7705 Q1324.15 49.7428 1324.15 42.7984 Q1324.15 35.8887 1321.17 31.8609 Q1318.18 27.7985 1313.08 27.7985 M1313.08 22.3818 Q1321.41 22.3818 1326.17 27.7985 Q1330.92 33.2151 1330.92 42.7984 Q1330.92 52.3469 1326.17 57.7983 Q1321.41 63.2149 1313.08 63.2149 Q1304.71 63.2149 1299.95 57.7983 Q1295.23 52.3469 1295.23 42.7984 Q1295.23 33.2151 1299.95 27.7985 Q1304.71 22.3818 1313.08 22.3818 Z\" fill=\"#000000\" fill-rule=\"evenodd\" fill-opacity=\"1\" /><path clip-path=\"url(#clip580)\" d=\"M1366.24 56.3053 L1377.69 56.3053 L1377.69 16.7569 L1365.23 19.2568 L1365.23 12.868 L1377.62 10.368 L1384.64 10.368 L1384.64 56.3053 L1396.1 56.3053 L1396.1 62.208 L1366.24 62.208 L1366.24 56.3053 Z\" fill=\"#000000\" fill-rule=\"evenodd\" fill-opacity=\"1\" /><path clip-path=\"url(#clip580)\" d=\"M1416.3 56.3053 L1440.78 56.3053 L1440.78 62.208 L1407.87 62.208 L1407.87 56.3053 Q1411.86 52.1733 1418.74 45.2289 Q1425.64 38.2498 1427.42 36.2359 Q1430.78 32.4512 1432.1 29.8471 Q1433.46 27.2082 1433.46 24.6735 Q1433.46 20.5416 1430.54 17.9374 Q1427.66 15.3333 1423.01 15.3333 Q1419.71 15.3333 1416.03 16.4791 Q1412.38 17.6249 1408.21 19.9513 L1408.21 12.868 Q1412.45 11.1666 1416.13 10.2986 Q1419.81 9.43051 1422.87 9.43051 Q1430.92 9.43051 1435.71 13.4583 Q1440.51 17.486 1440.51 24.2221 Q1440.51 27.4165 1439.29 30.2984 Q1438.11 33.1457 1434.95 37.0345 Q1434.08 38.0415 1429.43 42.8678 Q1424.78 47.6595 1416.3 56.3053 Z\" fill=\"#000000\" fill-rule=\"evenodd\" fill-opacity=\"1\" /><path clip-path=\"url(#clip582)\" d=\"\n",
       "M231.188 463.237 L231.188 636.139 L542.35 636.139 L542.35 463.237 L231.188 463.237 L231.188 463.237  Z\n",
       "  \" fill=\"#009af9\" fill-rule=\"evenodd\" fill-opacity=\"1\"/>\n",
       "<polyline clip-path=\"url(#clip582)\" style=\"stroke:#000000; stroke-linecap:butt; stroke-linejoin:round; stroke-width:4; stroke-opacity:1; fill:none\" points=\"\n",
       "  231.188,463.237 231.188,636.139 542.35,636.139 542.35,463.237 231.188,463.237 \n",
       "  \"/>\n",
       "<path clip-path=\"url(#clip582)\" d=\"\n",
       "M542.35 463.237 L542.35 636.139 L853.512 636.139 L853.512 463.237 L542.35 463.237 L542.35 463.237  Z\n",
       "  \" fill=\"#009af9\" fill-rule=\"evenodd\" fill-opacity=\"1\"/>\n",
       "<polyline clip-path=\"url(#clip582)\" style=\"stroke:#000000; stroke-linecap:butt; stroke-linejoin:round; stroke-width:4; stroke-opacity:1; fill:none\" points=\"\n",
       "  542.35,463.237 542.35,636.139 853.512,636.139 853.512,463.237 542.35,463.237 \n",
       "  \"/>\n",
       "<path clip-path=\"url(#clip582)\" d=\"\n",
       "M853.512 636.139 L853.512 636.139 L1164.67 636.139 L1164.67 636.139 L853.512 636.139 L853.512 636.139  Z\n",
       "  \" fill=\"#009af9\" fill-rule=\"evenodd\" fill-opacity=\"1\"/>\n",
       "<polyline clip-path=\"url(#clip582)\" style=\"stroke:#000000; stroke-linecap:butt; stroke-linejoin:round; stroke-width:4; stroke-opacity:1; fill:none\" points=\"\n",
       "  853.512,636.139 853.512,636.139 1164.67,636.139 853.512,636.139 \n",
       "  \"/>\n",
       "<path clip-path=\"url(#clip582)\" d=\"\n",
       "M1164.67 117.433 L1164.67 636.139 L1475.84 636.139 L1475.84 117.433 L1164.67 117.433 L1164.67 117.433  Z\n",
       "  \" fill=\"#009af9\" fill-rule=\"evenodd\" fill-opacity=\"1\"/>\n",
       "<polyline clip-path=\"url(#clip582)\" style=\"stroke:#000000; stroke-linecap:butt; stroke-linejoin:round; stroke-width:4; stroke-opacity:1; fill:none\" points=\"\n",
       "  1164.67,117.433 1164.67,636.139 1475.84,636.139 1475.84,117.433 1164.67,117.433 \n",
       "  \"/>\n",
       "</svg>\n"
      ]
     },
     "metadata": {},
     "output_type": "display_data"
    },
    {
     "data": {
      "image/svg+xml": [
       "<?xml version=\"1.0\" encoding=\"utf-8\"?>\n",
       "<svg xmlns=\"http://www.w3.org/2000/svg\" xmlns:xlink=\"http://www.w3.org/1999/xlink\" width=\"400\" height=\"200\" viewBox=\"0 0 1600 800\">\n",
       "<defs>\n",
       "  <clipPath id=\"clip620\">\n",
       "    <rect x=\"0\" y=\"0\" width=\"1600\" height=\"800\"/>\n",
       "  </clipPath>\n",
       "</defs>\n",
       "<path clip-path=\"url(#clip620)\" d=\"\n",
       "M0 800 L1600 800 L1600 0 L0 0  Z\n",
       "  \" fill=\"#ffffff\" fill-rule=\"evenodd\" fill-opacity=\"1\"/>\n",
       "<defs>\n",
       "  <clipPath id=\"clip621\">\n",
       "    <rect x=\"320\" y=\"0\" width=\"1121\" height=\"800\"/>\n",
       "  </clipPath>\n",
       "</defs>\n",
       "<path clip-path=\"url(#clip620)\" d=\"\n",
       "M182.347 651.7 L1552.76 651.7 L1552.76 101.872 L182.347 101.872  Z\n",
       "  \" fill=\"#ffffff\" fill-rule=\"evenodd\" fill-opacity=\"1\"/>\n",
       "<defs>\n",
       "  <clipPath id=\"clip622\">\n",
       "    <rect x=\"182\" y=\"101\" width=\"1371\" height=\"551\"/>\n",
       "  </clipPath>\n",
       "</defs>\n",
       "<polyline clip-path=\"url(#clip622)\" style=\"stroke:#000000; stroke-linecap:butt; stroke-linejoin:round; stroke-width:2; stroke-opacity:0.1; fill:none\" points=\"\n",
       "  291.602,651.7 291.602,101.872 \n",
       "  \"/>\n",
       "<polyline clip-path=\"url(#clip622)\" style=\"stroke:#000000; stroke-linecap:butt; stroke-linejoin:round; stroke-width:2; stroke-opacity:0.1; fill:none\" points=\"\n",
       "  359.361,651.7 359.361,101.872 \n",
       "  \"/>\n",
       "<polyline clip-path=\"url(#clip622)\" style=\"stroke:#000000; stroke-linecap:butt; stroke-linejoin:round; stroke-width:2; stroke-opacity:0.1; fill:none\" points=\"\n",
       "  427.119,651.7 427.119,101.872 \n",
       "  \"/>\n",
       "<polyline clip-path=\"url(#clip622)\" style=\"stroke:#000000; stroke-linecap:butt; stroke-linejoin:round; stroke-width:2; stroke-opacity:0.1; fill:none\" points=\"\n",
       "  494.878,651.7 494.878,101.872 \n",
       "  \"/>\n",
       "<polyline clip-path=\"url(#clip622)\" style=\"stroke:#000000; stroke-linecap:butt; stroke-linejoin:round; stroke-width:2; stroke-opacity:0.1; fill:none\" points=\"\n",
       "  562.637,651.7 562.637,101.872 \n",
       "  \"/>\n",
       "<polyline clip-path=\"url(#clip622)\" style=\"stroke:#000000; stroke-linecap:butt; stroke-linejoin:round; stroke-width:2; stroke-opacity:0.1; fill:none\" points=\"\n",
       "  630.396,651.7 630.396,101.872 \n",
       "  \"/>\n",
       "<polyline clip-path=\"url(#clip622)\" style=\"stroke:#000000; stroke-linecap:butt; stroke-linejoin:round; stroke-width:2; stroke-opacity:0.1; fill:none\" points=\"\n",
       "  698.155,651.7 698.155,101.872 \n",
       "  \"/>\n",
       "<polyline clip-path=\"url(#clip622)\" style=\"stroke:#000000; stroke-linecap:butt; stroke-linejoin:round; stroke-width:2; stroke-opacity:0.1; fill:none\" points=\"\n",
       "  765.913,651.7 765.913,101.872 \n",
       "  \"/>\n",
       "<polyline clip-path=\"url(#clip622)\" style=\"stroke:#000000; stroke-linecap:butt; stroke-linejoin:round; stroke-width:2; stroke-opacity:0.1; fill:none\" points=\"\n",
       "  833.672,651.7 833.672,101.872 \n",
       "  \"/>\n",
       "<polyline clip-path=\"url(#clip622)\" style=\"stroke:#000000; stroke-linecap:butt; stroke-linejoin:round; stroke-width:2; stroke-opacity:0.1; fill:none\" points=\"\n",
       "  901.431,651.7 901.431,101.872 \n",
       "  \"/>\n",
       "<polyline clip-path=\"url(#clip622)\" style=\"stroke:#000000; stroke-linecap:butt; stroke-linejoin:round; stroke-width:2; stroke-opacity:0.1; fill:none\" points=\"\n",
       "  969.19,651.7 969.19,101.872 \n",
       "  \"/>\n",
       "<polyline clip-path=\"url(#clip622)\" style=\"stroke:#000000; stroke-linecap:butt; stroke-linejoin:round; stroke-width:2; stroke-opacity:0.1; fill:none\" points=\"\n",
       "  1036.95,651.7 1036.95,101.872 \n",
       "  \"/>\n",
       "<polyline clip-path=\"url(#clip622)\" style=\"stroke:#000000; stroke-linecap:butt; stroke-linejoin:round; stroke-width:2; stroke-opacity:0.1; fill:none\" points=\"\n",
       "  1104.71,651.7 1104.71,101.872 \n",
       "  \"/>\n",
       "<polyline clip-path=\"url(#clip622)\" style=\"stroke:#000000; stroke-linecap:butt; stroke-linejoin:round; stroke-width:2; stroke-opacity:0.1; fill:none\" points=\"\n",
       "  1172.47,651.7 1172.47,101.872 \n",
       "  \"/>\n",
       "<polyline clip-path=\"url(#clip622)\" style=\"stroke:#000000; stroke-linecap:butt; stroke-linejoin:round; stroke-width:2; stroke-opacity:0.1; fill:none\" points=\"\n",
       "  1240.23,651.7 1240.23,101.872 \n",
       "  \"/>\n",
       "<polyline clip-path=\"url(#clip622)\" style=\"stroke:#000000; stroke-linecap:butt; stroke-linejoin:round; stroke-width:2; stroke-opacity:0.1; fill:none\" points=\"\n",
       "  1307.98,651.7 1307.98,101.872 \n",
       "  \"/>\n",
       "<polyline clip-path=\"url(#clip622)\" style=\"stroke:#000000; stroke-linecap:butt; stroke-linejoin:round; stroke-width:2; stroke-opacity:0.1; fill:none\" points=\"\n",
       "  1375.74,651.7 1375.74,101.872 \n",
       "  \"/>\n",
       "<polyline clip-path=\"url(#clip622)\" style=\"stroke:#000000; stroke-linecap:butt; stroke-linejoin:round; stroke-width:2; stroke-opacity:0.1; fill:none\" points=\"\n",
       "  1443.5,651.7 1443.5,101.872 \n",
       "  \"/>\n",
       "<polyline clip-path=\"url(#clip620)\" style=\"stroke:#000000; stroke-linecap:butt; stroke-linejoin:round; stroke-width:4; stroke-opacity:1; fill:none\" points=\"\n",
       "  182.347,651.7 1552.76,651.7 \n",
       "  \"/>\n",
       "<polyline clip-path=\"url(#clip620)\" style=\"stroke:#000000; stroke-linecap:butt; stroke-linejoin:round; stroke-width:4; stroke-opacity:1; fill:none\" points=\"\n",
       "  291.602,651.7 291.602,645.102 \n",
       "  \"/>\n",
       "<polyline clip-path=\"url(#clip620)\" style=\"stroke:#000000; stroke-linecap:butt; stroke-linejoin:round; stroke-width:4; stroke-opacity:1; fill:none\" points=\"\n",
       "  359.361,651.7 359.361,645.102 \n",
       "  \"/>\n",
       "<polyline clip-path=\"url(#clip620)\" style=\"stroke:#000000; stroke-linecap:butt; stroke-linejoin:round; stroke-width:4; stroke-opacity:1; fill:none\" points=\"\n",
       "  427.119,651.7 427.119,645.102 \n",
       "  \"/>\n",
       "<polyline clip-path=\"url(#clip620)\" style=\"stroke:#000000; stroke-linecap:butt; stroke-linejoin:round; stroke-width:4; stroke-opacity:1; fill:none\" points=\"\n",
       "  494.878,651.7 494.878,645.102 \n",
       "  \"/>\n",
       "<polyline clip-path=\"url(#clip620)\" style=\"stroke:#000000; stroke-linecap:butt; stroke-linejoin:round; stroke-width:4; stroke-opacity:1; fill:none\" points=\"\n",
       "  562.637,651.7 562.637,645.102 \n",
       "  \"/>\n",
       "<polyline clip-path=\"url(#clip620)\" style=\"stroke:#000000; stroke-linecap:butt; stroke-linejoin:round; stroke-width:4; stroke-opacity:1; fill:none\" points=\"\n",
       "  630.396,651.7 630.396,645.102 \n",
       "  \"/>\n",
       "<polyline clip-path=\"url(#clip620)\" style=\"stroke:#000000; stroke-linecap:butt; stroke-linejoin:round; stroke-width:4; stroke-opacity:1; fill:none\" points=\"\n",
       "  698.155,651.7 698.155,645.102 \n",
       "  \"/>\n",
       "<polyline clip-path=\"url(#clip620)\" style=\"stroke:#000000; stroke-linecap:butt; stroke-linejoin:round; stroke-width:4; stroke-opacity:1; fill:none\" points=\"\n",
       "  765.913,651.7 765.913,645.102 \n",
       "  \"/>\n",
       "<polyline clip-path=\"url(#clip620)\" style=\"stroke:#000000; stroke-linecap:butt; stroke-linejoin:round; stroke-width:4; stroke-opacity:1; fill:none\" points=\"\n",
       "  833.672,651.7 833.672,645.102 \n",
       "  \"/>\n",
       "<polyline clip-path=\"url(#clip620)\" style=\"stroke:#000000; stroke-linecap:butt; stroke-linejoin:round; stroke-width:4; stroke-opacity:1; fill:none\" points=\"\n",
       "  901.431,651.7 901.431,645.102 \n",
       "  \"/>\n",
       "<polyline clip-path=\"url(#clip620)\" style=\"stroke:#000000; stroke-linecap:butt; stroke-linejoin:round; stroke-width:4; stroke-opacity:1; fill:none\" points=\"\n",
       "  969.19,651.7 969.19,645.102 \n",
       "  \"/>\n",
       "<polyline clip-path=\"url(#clip620)\" style=\"stroke:#000000; stroke-linecap:butt; stroke-linejoin:round; stroke-width:4; stroke-opacity:1; fill:none\" points=\"\n",
       "  1036.95,651.7 1036.95,645.102 \n",
       "  \"/>\n",
       "<polyline clip-path=\"url(#clip620)\" style=\"stroke:#000000; stroke-linecap:butt; stroke-linejoin:round; stroke-width:4; stroke-opacity:1; fill:none\" points=\"\n",
       "  1104.71,651.7 1104.71,645.102 \n",
       "  \"/>\n",
       "<polyline clip-path=\"url(#clip620)\" style=\"stroke:#000000; stroke-linecap:butt; stroke-linejoin:round; stroke-width:4; stroke-opacity:1; fill:none\" points=\"\n",
       "  1172.47,651.7 1172.47,645.102 \n",
       "  \"/>\n",
       "<polyline clip-path=\"url(#clip620)\" style=\"stroke:#000000; stroke-linecap:butt; stroke-linejoin:round; stroke-width:4; stroke-opacity:1; fill:none\" points=\"\n",
       "  1240.23,651.7 1240.23,645.102 \n",
       "  \"/>\n",
       "<polyline clip-path=\"url(#clip620)\" style=\"stroke:#000000; stroke-linecap:butt; stroke-linejoin:round; stroke-width:4; stroke-opacity:1; fill:none\" points=\"\n",
       "  1307.98,651.7 1307.98,645.102 \n",
       "  \"/>\n",
       "<polyline clip-path=\"url(#clip620)\" style=\"stroke:#000000; stroke-linecap:butt; stroke-linejoin:round; stroke-width:4; stroke-opacity:1; fill:none\" points=\"\n",
       "  1375.74,651.7 1375.74,645.102 \n",
       "  \"/>\n",
       "<polyline clip-path=\"url(#clip620)\" style=\"stroke:#000000; stroke-linecap:butt; stroke-linejoin:round; stroke-width:4; stroke-opacity:1; fill:none\" points=\"\n",
       "  1443.5,651.7 1443.5,645.102 \n",
       "  \"/>\n",
       "<path clip-path=\"url(#clip620)\" d=\"M281.984 702.037 L289.623 702.037 L289.623 675.671 L281.312 677.338 L281.312 673.079 L289.576 671.412 L294.252 671.412 L294.252 702.037 L301.891 702.037 L301.891 705.972 L281.984 705.972 L281.984 702.037 Z\" fill=\"#000000\" fill-rule=\"evenodd\" fill-opacity=\"1\" /><path clip-path=\"url(#clip620)\" d=\"M354.013 702.037 L370.333 702.037 L370.333 705.972 L348.388 705.972 L348.388 702.037 Q351.05 699.282 355.634 694.652 Q360.24 690 361.421 688.657 Q363.666 686.134 364.546 684.398 Q365.449 682.639 365.449 680.949 Q365.449 678.194 363.504 676.458 Q361.583 674.722 358.481 674.722 Q356.282 674.722 353.828 675.486 Q351.398 676.25 348.62 677.801 L348.62 673.079 Q351.444 671.944 353.898 671.366 Q356.351 670.787 358.388 670.787 Q363.759 670.787 366.953 673.472 Q370.148 676.157 370.148 680.648 Q370.148 682.778 369.337 684.699 Q368.55 686.597 366.444 689.19 Q365.865 689.861 362.763 693.078 Q359.662 696.273 354.013 702.037 Z\" fill=\"#000000\" fill-rule=\"evenodd\" fill-opacity=\"1\" /><path clip-path=\"url(#clip620)\" d=\"M431.367 687.338 Q434.724 688.055 436.599 690.324 Q438.497 692.592 438.497 695.926 Q438.497 701.041 434.978 703.842 Q431.46 706.643 424.978 706.643 Q422.802 706.643 420.487 706.203 Q418.196 705.787 415.742 704.93 L415.742 700.416 Q417.687 701.551 420.001 702.129 Q422.316 702.708 424.839 702.708 Q429.237 702.708 431.529 700.972 Q433.844 699.236 433.844 695.926 Q433.844 692.87 431.691 691.157 Q429.562 689.421 425.742 689.421 L421.714 689.421 L421.714 685.578 L425.927 685.578 Q429.376 685.578 431.205 684.213 Q433.034 682.824 433.034 680.231 Q433.034 677.569 431.136 676.157 Q429.261 674.722 425.742 674.722 Q423.821 674.722 421.622 675.139 Q419.423 675.555 416.784 676.435 L416.784 672.268 Q419.446 671.528 421.761 671.157 Q424.099 670.787 426.159 670.787 Q431.483 670.787 434.585 673.217 Q437.686 675.625 437.686 679.745 Q437.686 682.615 436.043 684.606 Q434.399 686.574 431.367 687.338 Z\" fill=\"#000000\" fill-rule=\"evenodd\" fill-opacity=\"1\" /><path clip-path=\"url(#clip620)\" d=\"M497.887 675.486 L486.082 693.935 L497.887 693.935 L497.887 675.486 M496.661 671.412 L502.54 671.412 L502.54 693.935 L507.471 693.935 L507.471 697.824 L502.54 697.824 L502.54 705.972 L497.887 705.972 L497.887 697.824 L482.286 697.824 L482.286 693.31 L496.661 671.412 Z\" fill=\"#000000\" fill-rule=\"evenodd\" fill-opacity=\"1\" /><path clip-path=\"url(#clip620)\" d=\"M552.915 671.412 L571.271 671.412 L571.271 675.347 L557.197 675.347 L557.197 683.819 Q558.216 683.472 559.234 683.31 Q560.253 683.125 561.271 683.125 Q567.058 683.125 570.438 686.296 Q573.818 689.467 573.818 694.884 Q573.818 700.463 570.345 703.564 Q566.873 706.643 560.554 706.643 Q558.378 706.643 556.109 706.273 Q553.864 705.902 551.457 705.162 L551.457 700.463 Q553.54 701.597 555.762 702.152 Q557.984 702.708 560.461 702.708 Q564.466 702.708 566.804 700.602 Q569.142 698.495 569.142 694.884 Q569.142 691.273 566.804 689.166 Q564.466 687.06 560.461 687.06 Q558.586 687.06 556.711 687.477 Q554.859 687.893 552.915 688.773 L552.915 671.412 Z\" fill=\"#000000\" fill-rule=\"evenodd\" fill-opacity=\"1\" /><path clip-path=\"url(#clip620)\" d=\"M630.801 686.828 Q627.653 686.828 625.801 688.981 Q623.972 691.134 623.972 694.884 Q623.972 698.611 625.801 700.787 Q627.653 702.939 630.801 702.939 Q633.949 702.939 635.778 700.787 Q637.63 698.611 637.63 694.884 Q637.63 691.134 635.778 688.981 Q633.949 686.828 630.801 686.828 M640.083 672.176 L640.083 676.435 Q638.324 675.602 636.518 675.162 Q634.736 674.722 632.977 674.722 Q628.347 674.722 625.894 677.847 Q623.463 680.972 623.116 687.291 Q624.482 685.278 626.542 684.213 Q628.602 683.125 631.079 683.125 Q636.287 683.125 639.296 686.296 Q642.329 689.444 642.329 694.884 Q642.329 700.208 639.181 703.426 Q636.032 706.643 630.801 706.643 Q624.806 706.643 621.634 702.06 Q618.463 697.453 618.463 688.727 Q618.463 680.532 622.352 675.671 Q626.241 670.787 632.792 670.787 Q634.551 670.787 636.333 671.134 Q638.139 671.481 640.083 672.176 Z\" fill=\"#000000\" fill-rule=\"evenodd\" fill-opacity=\"1\" /><path clip-path=\"url(#clip620)\" d=\"M687.044 671.412 L709.266 671.412 L709.266 673.403 L696.719 705.972 L691.835 705.972 L703.641 675.347 L687.044 675.347 L687.044 671.412 Z\" fill=\"#000000\" fill-rule=\"evenodd\" fill-opacity=\"1\" /><path clip-path=\"url(#clip620)\" d=\"M765.913 689.56 Q762.58 689.56 760.659 691.342 Q758.761 693.125 758.761 696.25 Q758.761 699.375 760.659 701.157 Q762.58 702.939 765.913 702.939 Q769.247 702.939 771.168 701.157 Q773.089 699.352 773.089 696.25 Q773.089 693.125 771.168 691.342 Q769.27 689.56 765.913 689.56 M761.238 687.569 Q758.228 686.828 756.539 684.768 Q754.872 682.708 754.872 679.745 Q754.872 675.602 757.812 673.194 Q760.775 670.787 765.913 670.787 Q771.075 670.787 774.015 673.194 Q776.955 675.602 776.955 679.745 Q776.955 682.708 775.265 684.768 Q773.599 686.828 770.613 687.569 Q773.992 688.356 775.867 690.648 Q777.765 692.94 777.765 696.25 Q777.765 701.273 774.687 703.958 Q771.631 706.643 765.913 706.643 Q760.196 706.643 757.117 703.958 Q754.062 701.273 754.062 696.25 Q754.062 692.94 755.96 690.648 Q757.858 688.356 761.238 687.569 M759.525 680.185 Q759.525 682.87 761.191 684.375 Q762.881 685.879 765.913 685.879 Q768.923 685.879 770.613 684.375 Q772.325 682.87 772.325 680.185 Q772.325 677.5 770.613 675.995 Q768.923 674.491 765.913 674.491 Q762.881 674.491 761.191 675.995 Q759.525 677.5 759.525 680.185 Z\" fill=\"#000000\" fill-rule=\"evenodd\" fill-opacity=\"1\" /><path clip-path=\"url(#clip620)\" d=\"M823.973 705.254 L823.973 700.995 Q825.733 701.828 827.538 702.268 Q829.344 702.708 831.08 702.708 Q835.709 702.708 838.14 699.606 Q840.594 696.481 840.941 690.139 Q839.598 692.129 837.538 693.194 Q835.478 694.259 832.978 694.259 Q827.793 694.259 824.76 691.134 Q821.751 687.986 821.751 682.546 Q821.751 677.222 824.899 674.004 Q828.047 670.787 833.279 670.787 Q839.274 670.787 842.422 675.393 Q845.594 679.977 845.594 688.727 Q845.594 696.898 841.705 701.782 Q837.839 706.643 831.288 706.643 Q829.529 706.643 827.723 706.296 Q825.918 705.949 823.973 705.254 M833.279 690.602 Q836.427 690.602 838.256 688.449 Q840.107 686.296 840.107 682.546 Q840.107 678.819 838.256 676.666 Q836.427 674.491 833.279 674.491 Q830.131 674.491 828.279 676.666 Q826.45 678.819 826.45 682.546 Q826.45 686.296 828.279 688.449 Q830.131 690.602 833.279 690.602 Z\" fill=\"#000000\" fill-rule=\"evenodd\" fill-opacity=\"1\" /><path clip-path=\"url(#clip620)\" d=\"M876.119 702.037 L883.758 702.037 L883.758 675.671 L875.447 677.338 L875.447 673.079 L883.711 671.412 L888.387 671.412 L888.387 702.037 L896.026 702.037 L896.026 705.972 L876.119 705.972 L876.119 702.037 Z\" fill=\"#000000\" fill-rule=\"evenodd\" fill-opacity=\"1\" /><path clip-path=\"url(#clip620)\" d=\"M915.47 674.491 Q911.859 674.491 910.031 678.055 Q908.225 681.597 908.225 688.727 Q908.225 695.833 910.031 699.398 Q911.859 702.939 915.47 702.939 Q919.105 702.939 920.91 699.398 Q922.739 695.833 922.739 688.727 Q922.739 681.597 920.91 678.055 Q919.105 674.491 915.47 674.491 M915.47 670.787 Q921.281 670.787 924.336 675.393 Q927.415 679.977 927.415 688.727 Q927.415 697.453 924.336 702.06 Q921.281 706.643 915.47 706.643 Q909.66 706.643 906.582 702.06 Q903.526 697.453 903.526 688.727 Q903.526 679.977 906.582 675.393 Q909.66 670.787 915.47 670.787 Z\" fill=\"#000000\" fill-rule=\"evenodd\" fill-opacity=\"1\" /><path clip-path=\"url(#clip620)\" d=\"M944.491 702.037 L952.13 702.037 L952.13 675.671 L943.82 677.338 L943.82 673.079 L952.084 671.412 L956.759 671.412 L956.759 702.037 L964.398 702.037 L964.398 705.972 L944.491 705.972 L944.491 702.037 Z\" fill=\"#000000\" fill-rule=\"evenodd\" fill-opacity=\"1\" /><path clip-path=\"url(#clip620)\" d=\"M974.653 702.037 L982.292 702.037 L982.292 675.671 L973.982 677.338 L973.982 673.079 L982.245 671.412 L986.921 671.412 L986.921 702.037 L994.56 702.037 L994.56 705.972 L974.653 705.972 L974.653 702.037 Z\" fill=\"#000000\" fill-rule=\"evenodd\" fill-opacity=\"1\" /><path clip-path=\"url(#clip620)\" d=\"M1012.43 702.037 L1020.07 702.037 L1020.07 675.671 L1011.76 677.338 L1011.76 673.079 L1020.03 671.412 L1024.7 671.412 L1024.7 702.037 L1032.34 702.037 L1032.34 705.972 L1012.43 705.972 L1012.43 702.037 Z\" fill=\"#000000\" fill-rule=\"evenodd\" fill-opacity=\"1\" /><path clip-path=\"url(#clip620)\" d=\"M1045.81 702.037 L1062.13 702.037 L1062.13 705.972 L1040.19 705.972 L1040.19 702.037 Q1042.85 699.282 1047.43 694.652 Q1052.04 690 1053.22 688.657 Q1055.47 686.134 1056.35 684.398 Q1057.25 682.639 1057.25 680.949 Q1057.25 678.194 1055.31 676.458 Q1053.38 674.722 1050.28 674.722 Q1048.08 674.722 1045.63 675.486 Q1043.2 676.25 1040.42 677.801 L1040.42 673.079 Q1043.24 671.944 1045.7 671.366 Q1048.15 670.787 1050.19 670.787 Q1055.56 670.787 1058.75 673.472 Q1061.95 676.157 1061.95 680.648 Q1061.95 682.778 1061.14 684.699 Q1060.35 686.597 1058.24 689.19 Q1057.67 689.861 1054.56 693.078 Q1051.46 696.273 1045.81 702.037 Z\" fill=\"#000000\" fill-rule=\"evenodd\" fill-opacity=\"1\" /><path clip-path=\"url(#clip620)\" d=\"M1079.72 702.037 L1087.36 702.037 L1087.36 675.671 L1079.05 677.338 L1079.05 673.079 L1087.31 671.412 L1091.99 671.412 L1091.99 702.037 L1099.63 702.037 L1099.63 705.972 L1079.72 705.972 L1079.72 702.037 Z\" fill=\"#000000\" fill-rule=\"evenodd\" fill-opacity=\"1\" /><path clip-path=\"url(#clip620)\" d=\"M1123.24 687.338 Q1126.59 688.055 1128.47 690.324 Q1130.37 692.592 1130.37 695.926 Q1130.37 701.041 1126.85 703.842 Q1123.33 706.643 1116.85 706.643 Q1114.67 706.643 1112.36 706.203 Q1110.07 705.787 1107.61 704.93 L1107.61 700.416 Q1109.56 701.551 1111.87 702.129 Q1114.19 702.708 1116.71 702.708 Q1121.11 702.708 1123.4 700.972 Q1125.71 699.236 1125.71 695.926 Q1125.71 692.87 1123.56 691.157 Q1121.43 689.421 1117.61 689.421 L1113.58 689.421 L1113.58 685.578 L1117.8 685.578 Q1121.25 685.578 1123.08 684.213 Q1124.9 682.824 1124.9 680.231 Q1124.9 677.569 1123.01 676.157 Q1121.13 674.722 1117.61 674.722 Q1115.69 674.722 1113.49 675.139 Q1111.29 675.555 1108.65 676.435 L1108.65 672.268 Q1111.32 671.528 1113.63 671.157 Q1115.97 670.787 1118.03 670.787 Q1123.35 670.787 1126.46 673.217 Q1129.56 675.625 1129.56 679.745 Q1129.56 682.615 1127.91 684.606 Q1126.27 686.574 1123.24 687.338 Z\" fill=\"#000000\" fill-rule=\"evenodd\" fill-opacity=\"1\" /><path clip-path=\"url(#clip620)\" d=\"M1146.91 702.037 L1154.55 702.037 L1154.55 675.671 L1146.24 677.338 L1146.24 673.079 L1154.5 671.412 L1159.18 671.412 L1159.18 702.037 L1166.82 702.037 L1166.82 705.972 L1146.91 705.972 L1146.91 702.037 Z\" fill=\"#000000\" fill-rule=\"evenodd\" fill-opacity=\"1\" /><path clip-path=\"url(#clip620)\" d=\"M1189.11 675.486 L1177.3 693.935 L1189.11 693.935 L1189.11 675.486 M1187.88 671.412 L1193.76 671.412 L1193.76 693.935 L1198.69 693.935 L1198.69 697.824 L1193.76 697.824 L1193.76 705.972 L1189.11 705.972 L1189.11 697.824 L1173.51 697.824 L1173.51 693.31 L1187.88 671.412 Z\" fill=\"#000000\" fill-rule=\"evenodd\" fill-opacity=\"1\" /><path clip-path=\"url(#clip620)\" d=\"M1215.41 702.037 L1223.05 702.037 L1223.05 675.671 L1214.74 677.338 L1214.74 673.079 L1223 671.412 L1227.68 671.412 L1227.68 702.037 L1235.32 702.037 L1235.32 705.972 L1215.41 705.972 L1215.41 702.037 Z\" fill=\"#000000\" fill-rule=\"evenodd\" fill-opacity=\"1\" /><path clip-path=\"url(#clip620)\" d=\"M1244.81 671.412 L1263.16 671.412 L1263.16 675.347 L1249.09 675.347 L1249.09 683.819 Q1250.11 683.472 1251.13 683.31 Q1252.15 683.125 1253.16 683.125 Q1258.95 683.125 1262.33 686.296 Q1265.71 689.467 1265.71 694.884 Q1265.71 700.463 1262.24 703.564 Q1258.77 706.643 1252.45 706.643 Q1250.27 706.643 1248 706.273 Q1245.76 705.902 1243.35 705.162 L1243.35 700.463 Q1245.43 701.597 1247.66 702.152 Q1249.88 702.708 1252.35 702.708 Q1256.36 702.708 1258.7 700.602 Q1261.04 698.495 1261.04 694.884 Q1261.04 691.273 1258.7 689.166 Q1256.36 687.06 1252.35 687.06 Q1250.48 687.06 1248.6 687.477 Q1246.75 687.893 1244.81 688.773 L1244.81 671.412 Z\" fill=\"#000000\" fill-rule=\"evenodd\" fill-opacity=\"1\" /><path clip-path=\"url(#clip620)\" d=\"M1282.59 702.037 L1290.23 702.037 L1290.23 675.671 L1281.92 677.338 L1281.92 673.079 L1290.18 671.412 L1294.86 671.412 L1294.86 702.037 L1302.5 702.037 L1302.5 705.972 L1282.59 705.972 L1282.59 702.037 Z\" fill=\"#000000\" fill-rule=\"evenodd\" fill-opacity=\"1\" /><path clip-path=\"url(#clip620)\" d=\"M1322.52 686.828 Q1319.37 686.828 1317.52 688.981 Q1315.69 691.134 1315.69 694.884 Q1315.69 698.611 1317.52 700.787 Q1319.37 702.939 1322.52 702.939 Q1325.67 702.939 1327.5 700.787 Q1329.35 698.611 1329.35 694.884 Q1329.35 691.134 1327.5 688.981 Q1325.67 686.828 1322.52 686.828 M1331.8 672.176 L1331.8 676.435 Q1330.04 675.602 1328.24 675.162 Q1326.46 674.722 1324.7 674.722 Q1320.07 674.722 1317.61 677.847 Q1315.18 680.972 1314.84 687.291 Q1316.2 685.278 1318.26 684.213 Q1320.32 683.125 1322.8 683.125 Q1328.01 683.125 1331.02 686.296 Q1334.05 689.444 1334.05 694.884 Q1334.05 700.208 1330.9 703.426 Q1327.75 706.643 1322.52 706.643 Q1316.53 706.643 1313.35 702.06 Q1310.18 697.453 1310.18 688.727 Q1310.18 680.532 1314.07 675.671 Q1317.96 670.787 1324.51 670.787 Q1326.27 670.787 1328.05 671.134 Q1329.86 671.481 1331.8 672.176 Z\" fill=\"#000000\" fill-rule=\"evenodd\" fill-opacity=\"1\" /><path clip-path=\"url(#clip620)\" d=\"M1350.88 702.037 L1358.52 702.037 L1358.52 675.671 L1350.21 677.338 L1350.21 673.079 L1358.47 671.412 L1363.15 671.412 L1363.15 702.037 L1370.79 702.037 L1370.79 705.972 L1350.88 705.972 L1350.88 702.037 Z\" fill=\"#000000\" fill-rule=\"evenodd\" fill-opacity=\"1\" /><path clip-path=\"url(#clip620)\" d=\"M1379.05 671.412 L1401.28 671.412 L1401.28 673.403 L1388.73 705.972 L1383.84 705.972 L1395.65 675.347 L1379.05 675.347 L1379.05 671.412 Z\" fill=\"#000000\" fill-rule=\"evenodd\" fill-opacity=\"1\" /><path clip-path=\"url(#clip620)\" d=\"M1418.24 702.037 L1425.87 702.037 L1425.87 675.671 L1417.56 677.338 L1417.56 673.079 L1425.83 671.412 L1430.5 671.412 L1430.5 702.037 L1438.14 702.037 L1438.14 705.972 L1418.24 705.972 L1418.24 702.037 Z\" fill=\"#000000\" fill-rule=\"evenodd\" fill-opacity=\"1\" /><path clip-path=\"url(#clip620)\" d=\"M1457.59 689.56 Q1454.25 689.56 1452.33 691.342 Q1450.43 693.125 1450.43 696.25 Q1450.43 699.375 1452.33 701.157 Q1454.25 702.939 1457.59 702.939 Q1460.92 702.939 1462.84 701.157 Q1464.76 699.352 1464.76 696.25 Q1464.76 693.125 1462.84 691.342 Q1460.94 689.56 1457.59 689.56 M1452.91 687.569 Q1449.9 686.828 1448.21 684.768 Q1446.55 682.708 1446.55 679.745 Q1446.55 675.602 1449.49 673.194 Q1452.45 670.787 1457.59 670.787 Q1462.75 670.787 1465.69 673.194 Q1468.63 675.602 1468.63 679.745 Q1468.63 682.708 1466.94 684.768 Q1465.27 686.828 1462.29 687.569 Q1465.67 688.356 1467.54 690.648 Q1469.44 692.94 1469.44 696.25 Q1469.44 701.273 1466.36 703.958 Q1463.3 706.643 1457.59 706.643 Q1451.87 706.643 1448.79 703.958 Q1445.74 701.273 1445.74 696.25 Q1445.74 692.94 1447.63 690.648 Q1449.53 688.356 1452.91 687.569 M1451.2 680.185 Q1451.2 682.87 1452.86 684.375 Q1454.55 685.879 1457.59 685.879 Q1460.6 685.879 1462.29 684.375 Q1464 682.87 1464 680.185 Q1464 677.5 1462.29 675.995 Q1460.6 674.491 1457.59 674.491 Q1454.55 674.491 1452.86 675.995 Q1451.2 677.5 1451.2 680.185 Z\" fill=\"#000000\" fill-rule=\"evenodd\" fill-opacity=\"1\" /><path clip-path=\"url(#clip620)\" d=\"M753.049 742.327 L753.049 760.183 L761.133 760.183 Q765.621 760.183 768.072 757.86 Q770.522 755.536 770.522 751.239 Q770.522 746.974 768.072 744.651 Q765.621 742.327 761.133 742.327 L753.049 742.327 M746.619 737.044 L761.133 737.044 Q769.122 737.044 773.196 740.672 Q777.302 744.269 777.302 751.239 Q777.302 758.273 773.196 761.87 Q769.122 765.467 761.133 765.467 L753.049 765.467 L753.049 784.564 L746.619 784.564 L746.619 737.044 Z\" fill=\"#000000\" fill-rule=\"evenodd\" fill-opacity=\"1\" /><path clip-path=\"url(#clip620)\" d=\"M797.163 753.022 Q792.452 753.022 789.715 756.714 Q786.978 760.374 786.978 766.772 Q786.978 773.169 789.683 776.861 Q792.42 780.522 797.163 780.522 Q801.842 780.522 804.579 776.83 Q807.316 773.137 807.316 766.772 Q807.316 760.438 804.579 756.746 Q801.842 753.022 797.163 753.022 M797.163 748.057 Q804.802 748.057 809.162 753.022 Q813.523 757.987 813.523 766.772 Q813.523 775.525 809.162 780.522 Q804.802 785.487 797.163 785.487 Q789.492 785.487 785.132 780.522 Q780.803 775.525 780.803 766.772 Q780.803 757.987 785.132 753.022 Q789.492 748.057 797.163 748.057 Z\" fill=\"#000000\" fill-rule=\"evenodd\" fill-opacity=\"1\" /><path clip-path=\"url(#clip620)\" d=\"M845.956 749.966 L845.956 755.504 Q843.473 754.231 840.8 753.595 Q838.126 752.958 835.262 752.958 Q830.901 752.958 828.705 754.295 Q826.541 755.632 826.541 758.305 Q826.541 760.342 828.1 761.52 Q829.66 762.666 834.37 763.716 L836.376 764.162 Q842.614 765.499 845.224 767.949 Q847.866 770.368 847.866 774.729 Q847.866 779.694 843.919 782.59 Q840.004 785.487 833.129 785.487 Q830.265 785.487 827.145 784.914 Q824.058 784.373 820.621 783.259 L820.621 777.211 Q823.867 778.898 827.018 779.758 Q830.169 780.585 833.256 780.585 Q837.394 780.585 839.622 779.185 Q841.85 777.753 841.85 775.174 Q841.85 772.787 840.227 771.514 Q838.635 770.241 833.193 769.063 L831.156 768.586 Q825.713 767.44 823.294 765.085 Q820.875 762.698 820.875 758.56 Q820.875 753.531 824.44 750.794 Q828.005 748.057 834.561 748.057 Q837.808 748.057 840.672 748.534 Q843.537 749.011 845.956 749.966 Z\" fill=\"#000000\" fill-rule=\"evenodd\" fill-opacity=\"1\" /><path clip-path=\"url(#clip620)\" d=\"M857.192 748.916 L863.048 748.916 L863.048 784.564 L857.192 784.564 L857.192 748.916 M857.192 735.039 L863.048 735.039 L863.048 742.455 L857.192 742.455 L857.192 735.039 Z\" fill=\"#000000\" fill-rule=\"evenodd\" fill-opacity=\"1\" /><path clip-path=\"url(#clip620)\" d=\"M881.095 738.794 L881.095 748.916 L893.158 748.916 L893.158 753.467 L881.095 753.467 L881.095 772.819 Q881.095 777.18 882.272 778.421 Q883.482 779.662 887.142 779.662 L893.158 779.662 L893.158 784.564 L887.142 784.564 Q880.363 784.564 877.785 782.049 Q875.206 779.503 875.206 772.819 L875.206 753.467 L870.91 753.467 L870.91 748.916 L875.206 748.916 L875.206 738.794 L881.095 738.794 Z\" fill=\"#000000\" fill-rule=\"evenodd\" fill-opacity=\"1\" /><path clip-path=\"url(#clip620)\" d=\"M900.86 748.916 L906.717 748.916 L906.717 784.564 L900.86 784.564 L900.86 748.916 M900.86 735.039 L906.717 735.039 L906.717 742.455 L900.86 742.455 L900.86 735.039 Z\" fill=\"#000000\" fill-rule=\"evenodd\" fill-opacity=\"1\" /><path clip-path=\"url(#clip620)\" d=\"M932.784 753.022 Q928.074 753.022 925.336 756.714 Q922.599 760.374 922.599 766.772 Q922.599 773.169 925.305 776.861 Q928.042 780.522 932.784 780.522 Q937.463 780.522 940.2 776.83 Q942.938 773.137 942.938 766.772 Q942.938 760.438 940.2 756.746 Q937.463 753.022 932.784 753.022 M932.784 748.057 Q940.423 748.057 944.784 753.022 Q949.144 757.987 949.144 766.772 Q949.144 775.525 944.784 780.522 Q940.423 785.487 932.784 785.487 Q925.114 785.487 920.753 780.522 Q916.424 775.525 916.424 766.772 Q916.424 757.987 920.753 753.022 Q925.114 748.057 932.784 748.057 Z\" fill=\"#000000\" fill-rule=\"evenodd\" fill-opacity=\"1\" /><path clip-path=\"url(#clip620)\" d=\"M988.484 763.048 L988.484 784.564 L982.628 784.564 L982.628 763.239 Q982.628 758.178 980.654 755.664 Q978.681 753.149 974.734 753.149 Q969.992 753.149 967.255 756.173 Q964.517 759.197 964.517 764.416 L964.517 784.564 L958.629 784.564 L958.629 748.916 L964.517 748.916 L964.517 754.454 Q966.618 751.239 969.451 749.648 Q972.315 748.057 976.039 748.057 Q982.182 748.057 985.333 751.876 Q988.484 755.664 988.484 763.048 Z\" fill=\"#000000\" fill-rule=\"evenodd\" fill-opacity=\"1\" /><polyline clip-path=\"url(#clip622)\" style=\"stroke:#000000; stroke-linecap:butt; stroke-linejoin:round; stroke-width:2; stroke-opacity:0.1; fill:none\" points=\"\n",
       "  182.347,636.139 1552.76,636.139 \n",
       "  \"/>\n",
       "<polyline clip-path=\"url(#clip622)\" style=\"stroke:#000000; stroke-linecap:butt; stroke-linejoin:round; stroke-width:2; stroke-opacity:0.1; fill:none\" points=\"\n",
       "  182.347,492.054 1552.76,492.054 \n",
       "  \"/>\n",
       "<polyline clip-path=\"url(#clip622)\" style=\"stroke:#000000; stroke-linecap:butt; stroke-linejoin:round; stroke-width:2; stroke-opacity:0.1; fill:none\" points=\"\n",
       "  182.347,347.969 1552.76,347.969 \n",
       "  \"/>\n",
       "<polyline clip-path=\"url(#clip622)\" style=\"stroke:#000000; stroke-linecap:butt; stroke-linejoin:round; stroke-width:2; stroke-opacity:0.1; fill:none\" points=\"\n",
       "  182.347,203.884 1552.76,203.884 \n",
       "  \"/>\n",
       "<polyline clip-path=\"url(#clip620)\" style=\"stroke:#000000; stroke-linecap:butt; stroke-linejoin:round; stroke-width:4; stroke-opacity:1; fill:none\" points=\"\n",
       "  182.347,651.7 182.347,101.872 \n",
       "  \"/>\n",
       "<polyline clip-path=\"url(#clip620)\" style=\"stroke:#000000; stroke-linecap:butt; stroke-linejoin:round; stroke-width:4; stroke-opacity:1; fill:none\" points=\"\n",
       "  182.347,636.139 198.792,636.139 \n",
       "  \"/>\n",
       "<polyline clip-path=\"url(#clip620)\" style=\"stroke:#000000; stroke-linecap:butt; stroke-linejoin:round; stroke-width:4; stroke-opacity:1; fill:none\" points=\"\n",
       "  182.347,492.054 198.792,492.054 \n",
       "  \"/>\n",
       "<polyline clip-path=\"url(#clip620)\" style=\"stroke:#000000; stroke-linecap:butt; stroke-linejoin:round; stroke-width:4; stroke-opacity:1; fill:none\" points=\"\n",
       "  182.347,347.969 198.792,347.969 \n",
       "  \"/>\n",
       "<polyline clip-path=\"url(#clip620)\" style=\"stroke:#000000; stroke-linecap:butt; stroke-linejoin:round; stroke-width:4; stroke-opacity:1; fill:none\" points=\"\n",
       "  182.347,203.884 198.792,203.884 \n",
       "  \"/>\n",
       "<path clip-path=\"url(#clip620)\" d=\"M146.403 621.937 Q142.792 621.937 140.963 625.502 Q139.158 629.044 139.158 636.173 Q139.158 643.28 140.963 646.845 Q142.792 650.386 146.403 650.386 Q150.037 650.386 151.843 646.845 Q153.672 643.28 153.672 636.173 Q153.672 629.044 151.843 625.502 Q150.037 621.937 146.403 621.937 M146.403 618.234 Q152.213 618.234 155.269 622.84 Q158.347 627.423 158.347 636.173 Q158.347 644.9 155.269 649.507 Q152.213 654.09 146.403 654.09 Q140.593 654.09 137.514 649.507 Q134.459 644.9 134.459 636.173 Q134.459 627.423 137.514 622.84 Q140.593 618.234 146.403 618.234 Z\" fill=\"#000000\" fill-rule=\"evenodd\" fill-opacity=\"1\" /><path clip-path=\"url(#clip620)\" d=\"M137.445 474.774 L155.801 474.774 L155.801 478.709 L141.727 478.709 L141.727 487.181 Q142.746 486.834 143.764 486.672 Q144.783 486.487 145.801 486.487 Q151.588 486.487 154.968 489.658 Q158.347 492.829 158.347 498.246 Q158.347 503.825 154.875 506.926 Q151.403 510.005 145.084 510.005 Q142.908 510.005 140.639 509.635 Q138.394 509.264 135.986 508.524 L135.986 503.825 Q138.07 504.959 140.292 505.514 Q142.514 506.07 144.991 506.07 Q148.996 506.07 151.334 503.964 Q153.672 501.857 153.672 498.246 Q153.672 494.635 151.334 492.528 Q148.996 490.422 144.991 490.422 Q143.116 490.422 141.241 490.839 Q139.389 491.255 137.445 492.135 L137.445 474.774 Z\" fill=\"#000000\" fill-rule=\"evenodd\" fill-opacity=\"1\" /><path clip-path=\"url(#clip620)\" d=\"M107.051 361.314 L114.69 361.314 L114.69 334.948 L106.38 336.615 L106.38 332.356 L114.644 330.689 L119.32 330.689 L119.32 361.314 L126.959 361.314 L126.959 365.249 L107.051 365.249 L107.051 361.314 Z\" fill=\"#000000\" fill-rule=\"evenodd\" fill-opacity=\"1\" /><path clip-path=\"url(#clip620)\" d=\"M146.403 333.768 Q142.792 333.768 140.963 337.333 Q139.158 340.874 139.158 348.004 Q139.158 355.11 140.963 358.675 Q142.792 362.217 146.403 362.217 Q150.037 362.217 151.843 358.675 Q153.672 355.11 153.672 348.004 Q153.672 340.874 151.843 337.333 Q150.037 333.768 146.403 333.768 M146.403 330.064 Q152.213 330.064 155.269 334.67 Q158.347 339.254 158.347 348.004 Q158.347 356.731 155.269 361.337 Q152.213 365.92 146.403 365.92 Q140.593 365.92 137.514 361.337 Q134.459 356.731 134.459 348.004 Q134.459 339.254 137.514 334.67 Q140.593 330.064 146.403 330.064 Z\" fill=\"#000000\" fill-rule=\"evenodd\" fill-opacity=\"1\" /><path clip-path=\"url(#clip620)\" d=\"M108.047 217.229 L115.686 217.229 L115.686 190.863 L107.376 192.53 L107.376 188.271 L115.639 186.604 L120.315 186.604 L120.315 217.229 L127.954 217.229 L127.954 221.164 L108.047 221.164 L108.047 217.229 Z\" fill=\"#000000\" fill-rule=\"evenodd\" fill-opacity=\"1\" /><path clip-path=\"url(#clip620)\" d=\"M137.445 186.604 L155.801 186.604 L155.801 190.539 L141.727 190.539 L141.727 199.012 Q142.746 198.664 143.764 198.502 Q144.783 198.317 145.801 198.317 Q151.588 198.317 154.968 201.488 Q158.347 204.66 158.347 210.076 Q158.347 215.655 154.875 218.757 Q151.403 221.835 145.084 221.835 Q142.908 221.835 140.639 221.465 Q138.394 221.095 135.986 220.354 L135.986 215.655 Q138.07 216.789 140.292 217.345 Q142.514 217.9 144.991 217.9 Q148.996 217.9 151.334 215.794 Q153.672 213.687 153.672 210.076 Q153.672 206.465 151.334 204.359 Q148.996 202.252 144.991 202.252 Q143.116 202.252 141.241 202.669 Q139.389 203.086 137.445 203.965 L137.445 186.604 Z\" fill=\"#000000\" fill-rule=\"evenodd\" fill-opacity=\"1\" /><path clip-path=\"url(#clip620)\" d=\"M20.6042 735.525 L20.6042 726.868 L60.358 705.798 L20.6042 705.798 L20.6042 699.559 L68.1242 699.559 L68.1242 708.216 L28.3703 729.287 L68.1242 729.287 L68.1242 735.525 L20.6042 735.525 Z\" fill=\"#000000\" fill-rule=\"evenodd\" fill-opacity=\"1\" /><path clip-path=\"url(#clip620)\" d=\"M54.0559 687.623 L32.4762 687.623 L32.4762 681.767 L53.8331 681.767 Q58.8939 681.767 61.4402 679.794 Q63.9546 677.82 63.9546 673.874 Q63.9546 669.131 60.9309 666.394 Q57.9072 663.625 52.6873 663.625 L32.4762 663.625 L32.4762 657.768 L68.1242 657.768 L68.1242 663.625 L62.6496 663.625 Q65.8962 665.757 67.4876 668.59 Q69.0472 671.391 69.0472 675.115 Q69.0472 681.258 65.2278 684.441 Q61.4083 687.623 54.0559 687.623 M31.6168 672.887 L31.6168 672.887 Z\" fill=\"#000000\" fill-rule=\"evenodd\" fill-opacity=\"1\" /><path clip-path=\"url(#clip620)\" d=\"M39.3193 617.951 Q35.3726 615.755 33.4947 612.699 Q31.6168 609.644 31.6168 605.506 Q31.6168 599.936 35.5317 596.912 Q39.4148 593.888 46.6081 593.888 L68.1242 593.888 L68.1242 599.777 L46.799 599.777 Q41.6746 599.777 39.192 601.591 Q36.7094 603.405 36.7094 607.129 Q36.7094 611.681 39.7331 614.322 Q42.7568 616.964 47.9767 616.964 L68.1242 616.964 L68.1242 622.852 L46.799 622.852 Q41.6428 622.852 39.192 624.667 Q36.7094 626.481 36.7094 630.268 Q36.7094 634.756 39.7649 637.398 Q42.7886 640.04 47.9767 640.04 L68.1242 640.04 L68.1242 645.928 L32.4762 645.928 L32.4762 640.04 L38.0144 640.04 Q34.736 638.035 33.1764 635.234 Q31.6168 632.433 31.6168 628.582 Q31.6168 624.698 33.5902 621.993 Q35.5636 619.256 39.3193 617.951 Z\" fill=\"#000000\" fill-rule=\"evenodd\" fill-opacity=\"1\" /><path clip-path=\"url(#clip620)\" d=\"M50.332 556.617 Q43.8708 556.617 40.2105 559.291 Q36.5184 561.933 36.5184 566.58 Q36.5184 571.226 40.2105 573.9 Q43.8708 576.542 50.332 576.542 Q56.7932 576.542 60.4853 573.9 Q64.1456 571.226 64.1456 566.58 Q64.1456 561.933 60.4853 559.291 Q56.7932 556.617 50.332 556.617 M37.8871 576.542 Q34.7042 574.696 33.1764 571.895 Q31.6168 569.062 31.6168 565.147 Q31.6168 558.654 36.7731 554.612 Q41.9293 550.538 50.332 550.538 Q58.7347 550.538 63.891 554.612 Q69.0472 558.654 69.0472 565.147 Q69.0472 569.062 67.5194 571.895 Q65.9598 574.696 62.777 576.542 L68.1242 576.542 L68.1242 582.43 L18.599 582.43 L18.599 576.542 L37.8871 576.542 Z\" fill=\"#000000\" fill-rule=\"evenodd\" fill-opacity=\"1\" /><path clip-path=\"url(#clip620)\" d=\"M48.8361 510.339 L51.7006 510.339 L51.7006 537.265 Q57.7481 536.884 60.9309 533.637 Q64.0819 530.359 64.0819 524.534 Q64.0819 521.16 63.2544 518.009 Q62.4269 514.826 60.7718 511.707 L66.3099 511.707 Q67.6467 514.858 68.347 518.168 Q69.0472 521.478 69.0472 524.884 Q69.0472 533.414 64.0819 538.411 Q59.1167 543.377 50.6503 543.377 Q41.8974 543.377 36.7731 538.666 Q31.6168 533.923 31.6168 525.903 Q31.6168 518.709 36.2638 514.54 Q40.8789 510.339 48.8361 510.339 M47.1173 516.195 Q42.3112 516.259 39.4466 518.9 Q36.5821 521.51 36.5821 525.839 Q36.5821 530.741 39.3512 533.701 Q42.1202 536.629 47.1492 537.074 L47.1173 516.195 Z\" fill=\"#000000\" fill-rule=\"evenodd\" fill-opacity=\"1\" /><path clip-path=\"url(#clip620)\" d=\"M37.9507 480.07 Q37.3778 481.056 37.1232 482.234 Q36.8367 483.38 36.8367 484.78 Q36.8367 489.745 40.0832 492.419 Q43.2979 495.061 49.3453 495.061 L68.1242 495.061 L68.1242 500.949 L32.4762 500.949 L32.4762 495.061 L38.0144 495.061 Q34.7679 493.215 33.2083 490.255 Q31.6168 487.295 31.6168 483.061 Q31.6168 482.457 31.7123 481.725 Q31.776 480.993 31.9351 480.101 L37.9507 480.07 Z\" fill=\"#000000\" fill-rule=\"evenodd\" fill-opacity=\"1\" /><path clip-path=\"url(#clip620)\" d=\"M36.5821 439.393 Q36.5821 444.103 40.2742 446.841 Q43.9345 449.578 50.332 449.578 Q56.7295 449.578 60.4217 446.872 Q64.0819 444.135 64.0819 439.393 Q64.0819 434.714 60.3898 431.977 Q56.6977 429.239 50.332 429.239 Q43.9981 429.239 40.306 431.977 Q36.5821 434.714 36.5821 439.393 M31.6168 439.393 Q31.6168 431.754 36.5821 427.393 Q41.5473 423.033 50.332 423.033 Q59.0849 423.033 64.0819 427.393 Q69.0472 431.754 69.0472 439.393 Q69.0472 447.063 64.0819 451.424 Q59.0849 455.753 50.332 455.753 Q41.5473 455.753 36.5821 451.424 Q31.6168 447.063 31.6168 439.393 Z\" fill=\"#000000\" fill-rule=\"evenodd\" fill-opacity=\"1\" /><path clip-path=\"url(#clip620)\" d=\"M18.599 395.278 L23.4687 395.278 L23.4687 400.88 Q23.4687 404.031 24.7419 405.273 Q26.015 406.482 29.3252 406.482 L32.4762 406.482 L32.4762 396.838 L37.0277 396.838 L37.0277 406.482 L68.1242 406.482 L68.1242 412.37 L37.0277 412.37 L37.0277 417.972 L32.4762 417.972 L32.4762 412.37 L29.9936 412.37 Q24.0416 412.37 21.3362 409.601 Q18.599 406.832 18.599 400.817 L18.599 395.278 Z\" fill=\"#000000\" fill-rule=\"evenodd\" fill-opacity=\"1\" /><path clip-path=\"url(#clip620)\" d=\"M33.8448 344.003 L39.3193 344.003 Q37.9507 346.485 37.2823 349 Q36.5821 351.482 36.5821 354.029 Q36.5821 359.726 40.2105 362.877 Q43.8072 366.028 50.332 366.028 Q56.8569 366.028 60.4853 362.877 Q64.0819 359.726 64.0819 354.029 Q64.0819 351.482 63.4135 349 Q62.7133 346.485 61.3447 344.003 L66.7555 344.003 Q67.9014 346.453 68.4743 349.095 Q69.0472 351.705 69.0472 354.665 Q69.0472 362.718 63.9864 367.46 Q58.9257 372.203 50.332 372.203 Q41.611 372.203 36.6139 367.428 Q31.6168 362.622 31.6168 354.283 Q31.6168 351.578 32.1897 349 Q32.7308 346.422 33.8448 344.003 Z\" fill=\"#000000\" fill-rule=\"evenodd\" fill-opacity=\"1\" /><path clip-path=\"url(#clip620)\" d=\"M50.2047 317.617 Q50.2047 324.715 51.8279 327.452 Q53.4512 330.189 57.3661 330.189 Q60.4853 330.189 62.3314 328.152 Q64.1456 326.083 64.1456 322.55 Q64.1456 317.68 60.7081 314.752 Q57.2388 311.792 51.5097 311.792 L50.2047 311.792 L50.2047 317.617 M47.7857 305.936 L68.1242 305.936 L68.1242 311.792 L62.7133 311.792 Q65.9598 313.797 67.5194 316.789 Q69.0472 319.781 69.0472 324.11 Q69.0472 329.584 65.9916 332.831 Q62.9043 336.045 57.7481 336.045 Q51.7325 336.045 48.6769 332.035 Q45.6214 327.993 45.6214 320.004 L45.6214 311.792 L45.0485 311.792 Q41.0062 311.792 38.8101 314.466 Q36.5821 317.107 36.5821 321.914 Q36.5821 324.969 37.3141 327.866 Q38.0462 330.762 39.5103 333.436 L34.0995 333.436 Q32.8581 330.221 32.2534 327.197 Q31.6168 324.173 31.6168 321.309 Q31.6168 313.575 35.6272 309.755 Q39.6376 305.936 47.7857 305.936 Z\" fill=\"#000000\" fill-rule=\"evenodd\" fill-opacity=\"1\" /><path clip-path=\"url(#clip620)\" d=\"M37.9507 273.216 Q37.3778 274.203 37.1232 275.38 Q36.8367 276.526 36.8367 277.927 Q36.8367 282.892 40.0832 285.565 Q43.2979 288.207 49.3453 288.207 L68.1242 288.207 L68.1242 294.095 L32.4762 294.095 L32.4762 288.207 L38.0144 288.207 Q34.7679 286.361 33.2083 283.401 Q31.6168 280.441 31.6168 276.208 Q31.6168 275.603 31.7123 274.871 Q31.776 274.139 31.9351 273.248 L37.9507 273.216 Z\" fill=\"#000000\" fill-rule=\"evenodd\" fill-opacity=\"1\" /><path clip-path=\"url(#clip620)\" d=\"M33.5265 244.347 L39.0647 244.347 Q37.7916 246.83 37.155 249.504 Q36.5184 252.177 36.5184 255.042 Q36.5184 259.402 37.8552 261.599 Q39.192 263.763 41.8656 263.763 Q43.9026 263.763 45.0803 262.203 Q46.2261 260.644 47.2765 255.933 L47.7221 253.928 Q49.0589 247.689 51.5097 245.08 Q53.9286 242.438 58.2891 242.438 Q63.2544 242.438 66.1508 246.384 Q69.0472 250.299 69.0472 257.174 Q69.0472 260.039 68.4743 263.158 Q67.9332 266.245 66.8192 269.683 L60.7718 269.683 Q62.4587 266.436 63.318 263.285 Q64.1456 260.134 64.1456 257.047 Q64.1456 252.909 62.7451 250.681 Q61.3129 248.453 58.7347 248.453 Q56.3476 248.453 55.0745 250.077 Q53.8013 251.668 52.6237 257.111 L52.1462 259.148 Q51.0004 264.59 48.6451 267.009 Q46.258 269.428 42.1202 269.428 Q37.0913 269.428 34.3541 265.864 Q31.6168 262.299 31.6168 255.742 Q31.6168 252.496 32.0943 249.631 Q32.5717 246.766 33.5265 244.347 Z\" fill=\"#000000\" fill-rule=\"evenodd\" fill-opacity=\"1\" /><path clip-path=\"url(#clip620)\" d=\"M46.6081 182.759 L68.1242 182.759 L68.1242 188.616 L46.799 188.616 Q41.7383 188.616 39.2238 190.589 Q36.7094 192.562 36.7094 196.509 Q36.7094 201.252 39.7331 203.989 Q42.7568 206.726 47.9767 206.726 L68.1242 206.726 L68.1242 212.614 L18.599 212.614 L18.599 206.726 L38.0144 206.726 Q34.7997 204.625 33.2083 201.793 Q31.6168 198.928 31.6168 195.204 Q31.6168 189.061 35.4363 185.91 Q39.2238 182.759 46.6081 182.759 Z\" fill=\"#000000\" fill-rule=\"evenodd\" fill-opacity=\"1\" /><path clip-path=\"url(#clip620)\" d=\"M50.2047 154.877 Q50.2047 161.975 51.8279 164.712 Q53.4512 167.45 57.3661 167.45 Q60.4853 167.45 62.3314 165.413 Q64.1456 163.344 64.1456 159.811 Q64.1456 154.941 60.7081 152.013 Q57.2388 149.053 51.5097 149.053 L50.2047 149.053 L50.2047 154.877 M47.7857 143.196 L68.1242 143.196 L68.1242 149.053 L62.7133 149.053 Q65.9598 151.058 67.5194 154.05 Q69.0472 157.042 69.0472 161.37 Q69.0472 166.845 65.9916 170.091 Q62.9043 173.306 57.7481 173.306 Q51.7325 173.306 48.6769 169.296 Q45.6214 165.254 45.6214 157.265 L45.6214 149.053 L45.0485 149.053 Q41.0062 149.053 38.8101 151.726 Q36.5821 154.368 36.5821 159.174 Q36.5821 162.23 37.3141 165.126 Q38.0462 168.023 39.5103 170.696 L34.0995 170.696 Q32.8581 167.482 32.2534 164.458 Q31.6168 161.434 31.6168 158.57 Q31.6168 150.835 35.6272 147.016 Q39.6376 143.196 47.7857 143.196 Z\" fill=\"#000000\" fill-rule=\"evenodd\" fill-opacity=\"1\" /><path clip-path=\"url(#clip620)\" d=\"M18.599 131.133 L18.599 125.277 L68.1242 125.277 L68.1242 131.133 L18.599 131.133 Z\" fill=\"#000000\" fill-rule=\"evenodd\" fill-opacity=\"1\" /><path clip-path=\"url(#clip620)\" d=\"M22.3547 107.23 L32.4762 107.23 L32.4762 95.1671 L37.0277 95.1671 L37.0277 107.23 L56.3794 107.23 Q60.7399 107.23 61.9813 106.052 Q63.2226 104.843 63.2226 101.183 L63.2226 95.1671 L68.1242 95.1671 L68.1242 101.183 Q68.1242 107.962 65.6097 110.54 Q63.0634 113.118 56.3794 113.118 L37.0277 113.118 L37.0277 117.415 L32.4762 117.415 L32.4762 113.118 L22.3547 113.118 L22.3547 107.23 Z\" fill=\"#000000\" fill-rule=\"evenodd\" fill-opacity=\"1\" /><path clip-path=\"url(#clip620)\" d=\"M48.8361 56.9729 L51.7006 56.9729 L51.7006 83.8998 Q57.7481 83.5179 60.9309 80.2714 Q64.0819 76.993 64.0819 71.1684 Q64.0819 67.7946 63.2544 64.6436 Q62.4269 61.4607 60.7718 58.3415 L66.3099 58.3415 Q67.6467 61.4925 68.347 64.8027 Q69.0472 68.1129 69.0472 71.5185 Q69.0472 80.0486 64.0819 85.0456 Q59.1167 90.0109 50.6503 90.0109 Q41.8974 90.0109 36.7731 85.3003 Q31.6168 80.5578 31.6168 72.537 Q31.6168 65.3438 36.2638 61.1742 Q40.8789 56.9729 48.8361 56.9729 M47.1173 62.8293 Q42.3112 62.893 39.4466 65.5348 Q36.5821 68.1447 36.5821 72.4734 Q36.5821 77.375 39.3512 80.335 Q42.1202 83.2633 47.1492 83.7089 L47.1173 62.8293 Z\" fill=\"#000000\" fill-rule=\"evenodd\" fill-opacity=\"1\" /><path clip-path=\"url(#clip620)\" d=\"M37.8871 23.903 L18.599 23.903 L18.599 18.0466 L68.1242 18.0466 L68.1242 23.903 L62.777 23.903 Q65.9598 25.7491 67.5194 28.5818 Q69.0472 31.3827 69.0472 35.3295 Q69.0472 41.7907 63.891 45.8647 Q58.7347 49.9069 50.332 49.9069 Q41.9293 49.9069 36.7731 45.8647 Q31.6168 41.7907 31.6168 35.3295 Q31.6168 31.3827 33.1764 28.5818 Q34.7042 25.7491 37.8871 23.903 M50.332 43.8595 Q56.7932 43.8595 60.4853 41.2178 Q64.1456 38.5442 64.1456 33.8972 Q64.1456 29.2502 60.4853 26.5766 Q56.7932 23.903 50.332 23.903 Q43.8708 23.903 40.2105 26.5766 Q36.5184 29.2502 36.5184 33.8972 Q36.5184 38.5442 40.2105 41.2178 Q43.8708 43.8595 50.332 43.8595 Z\" fill=\"#000000\" fill-rule=\"evenodd\" fill-opacity=\"1\" /><path clip-path=\"url(#clip620)\" d=\"M224.222 14.361 L224.222 21.7568 Q220.68 18.4582 216.652 16.8263 Q212.659 15.1944 208.145 15.1944 Q199.257 15.1944 194.534 20.6457 Q189.812 26.0624 189.812 36.3401 Q189.812 46.5831 194.534 52.0344 Q199.257 57.4511 208.145 57.4511 Q212.659 57.4511 216.652 55.8191 Q220.68 54.1872 224.222 50.8886 L224.222 58.215 Q220.541 60.715 216.409 61.9649 Q212.312 63.2149 207.729 63.2149 Q195.958 63.2149 189.187 56.0275 Q182.416 48.8053 182.416 36.3401 Q182.416 23.8402 189.187 16.6527 Q195.958 9.43051 207.729 9.43051 Q212.382 9.43051 216.479 10.6805 Q220.611 11.8958 224.222 14.361 Z\" fill=\"#000000\" fill-rule=\"evenodd\" fill-opacity=\"1\" /><path clip-path=\"url(#clip620)\" d=\"M249.847 27.7985 Q244.708 27.7985 241.722 31.8262 Q238.736 35.8193 238.736 42.7984 Q238.736 49.7775 241.687 53.8053 Q244.673 57.7983 249.847 57.7983 Q254.951 57.7983 257.937 53.7705 Q260.923 49.7428 260.923 42.7984 Q260.923 35.8887 257.937 31.8609 Q254.951 27.7985 249.847 27.7985 M249.847 22.3818 Q258.18 22.3818 262.937 27.7985 Q267.694 33.2151 267.694 42.7984 Q267.694 52.3469 262.937 57.7983 Q258.18 63.2149 249.847 63.2149 Q241.479 63.2149 236.722 57.7983 Q232 52.3469 232 42.7984 Q232 33.2151 236.722 27.7985 Q241.479 22.3818 249.847 22.3818 Z\" fill=\"#000000\" fill-rule=\"evenodd\" fill-opacity=\"1\" /><path clip-path=\"url(#clip620)\" d=\"M310.61 38.7359 L310.61 62.208 L304.221 62.208 L304.221 38.9442 Q304.221 33.4234 302.069 30.6804 Q299.916 27.9374 295.61 27.9374 Q290.437 27.9374 287.451 31.2359 Q284.465 34.5345 284.465 40.229 L284.465 62.208 L278.041 62.208 L278.041 23.3193 L284.465 23.3193 L284.465 29.361 Q286.756 25.854 289.846 24.1179 Q292.971 22.3818 297.034 22.3818 Q303.735 22.3818 307.173 26.5485 Q310.61 30.6804 310.61 38.7359 Z\" fill=\"#000000\" fill-rule=\"evenodd\" fill-opacity=\"1\" /><path clip-path=\"url(#clip620)\" d=\"M348.943 42.3123 Q348.943 35.3679 346.061 31.5484 Q343.214 27.729 338.041 27.729 Q332.902 27.729 330.02 31.5484 Q327.173 35.3679 327.173 42.3123 Q327.173 49.222 330.02 53.0414 Q332.902 56.8608 338.041 56.8608 Q343.214 56.8608 346.061 53.0414 Q348.943 49.222 348.943 42.3123 M355.332 57.3816 Q355.332 67.3121 350.923 72.1385 Q346.513 76.9996 337.416 76.9996 Q334.048 76.9996 331.062 76.4788 Q328.075 75.9926 325.263 74.951 L325.263 68.7357 Q328.075 70.2635 330.818 70.9927 Q333.561 71.7218 336.409 71.7218 Q342.693 71.7218 345.818 68.4232 Q348.943 65.1594 348.943 58.5275 L348.943 55.3678 Q346.964 58.8052 343.874 60.5066 Q340.784 62.208 336.478 62.208 Q329.325 62.208 324.95 56.7566 Q320.575 51.3053 320.575 42.3123 Q320.575 33.2845 324.95 27.8332 Q329.325 22.3818 336.478 22.3818 Q340.784 22.3818 343.874 24.0832 Q346.964 25.7846 348.943 29.2221 L348.943 23.3193 L355.332 23.3193 L355.332 57.3816 Z\" fill=\"#000000\" fill-rule=\"evenodd\" fill-opacity=\"1\" /><path clip-path=\"url(#clip620)\" d=\"M401.756 41.1664 L401.756 44.2914 L372.381 44.2914 Q372.797 50.8886 376.339 54.3608 Q379.915 57.7983 386.27 57.7983 Q389.95 57.7983 393.388 56.8955 Q396.86 55.9928 400.263 54.1872 L400.263 60.2288 Q396.825 61.6872 393.214 62.4511 Q389.603 63.2149 385.888 63.2149 Q376.582 63.2149 371.131 57.7983 Q365.714 52.3817 365.714 43.1456 Q365.714 33.597 370.853 28.0068 Q376.027 22.3818 384.776 22.3818 Q392.624 22.3818 397.172 27.4512 Q401.756 32.4859 401.756 41.1664 M395.367 39.2915 Q395.297 34.0484 392.415 30.9234 Q389.568 27.7985 384.846 27.7985 Q379.499 27.7985 376.27 30.8193 Q373.075 33.8401 372.589 39.3262 L395.367 39.2915 Z\" fill=\"#000000\" fill-rule=\"evenodd\" fill-opacity=\"1\" /><path clip-path=\"url(#clip620)\" d=\"M437.033 24.4651 L437.033 30.5068 Q434.325 29.1179 431.408 28.4235 Q428.492 27.729 425.367 27.729 Q420.61 27.729 418.214 29.1873 Q415.853 30.6457 415.853 33.5623 Q415.853 35.7845 417.554 37.0692 Q419.255 38.3192 424.394 39.4651 L426.582 39.9512 Q433.387 41.4095 436.235 44.0831 Q439.116 46.722 439.116 51.4789 Q439.116 56.8955 434.811 60.0552 Q430.54 63.2149 423.04 63.2149 Q419.915 63.2149 416.512 62.5899 Q413.144 61.9997 409.394 60.7844 L409.394 54.1872 Q412.936 56.0275 416.374 56.965 Q419.811 57.8677 423.179 57.8677 Q427.693 57.8677 430.123 56.34 Q432.554 54.7775 432.554 51.965 Q432.554 49.3608 430.783 47.972 Q429.047 46.5831 423.11 45.2984 L420.887 44.7775 Q414.95 43.5275 412.311 40.9581 Q409.672 38.354 409.672 33.8401 Q409.672 28.354 413.561 25.3679 Q417.45 22.3818 424.603 22.3818 Q428.144 22.3818 431.269 22.9027 Q434.394 23.4235 437.033 24.4651 Z\" fill=\"#000000\" fill-rule=\"evenodd\" fill-opacity=\"1\" /><path clip-path=\"url(#clip620)\" d=\"M455.609 12.2777 L455.609 23.3193 L468.769 23.3193 L468.769 28.2846 L455.609 28.2846 L455.609 49.3956 Q455.609 54.1525 456.894 55.5066 Q458.214 56.8608 462.207 56.8608 L468.769 56.8608 L468.769 62.208 L462.207 62.208 Q454.811 62.208 451.998 59.465 Q449.186 56.6872 449.186 49.3956 L449.186 28.2846 L444.498 28.2846 L444.498 23.3193 L449.186 23.3193 L449.186 12.2777 L455.609 12.2777 Z\" fill=\"#000000\" fill-rule=\"evenodd\" fill-opacity=\"1\" /><path clip-path=\"url(#clip620)\" d=\"M477.172 23.3193 L483.561 23.3193 L483.561 62.208 L477.172 62.208 L477.172 23.3193 M477.172 8.18051 L483.561 8.18051 L483.561 16.2707 L477.172 16.2707 L477.172 8.18051 Z\" fill=\"#000000\" fill-rule=\"evenodd\" fill-opacity=\"1\" /><path clip-path=\"url(#clip620)\" d=\"M511.998 27.7985 Q506.859 27.7985 503.873 31.8262 Q500.887 35.8193 500.887 42.7984 Q500.887 49.7775 503.838 53.8053 Q506.824 57.7983 511.998 57.7983 Q517.102 57.7983 520.088 53.7705 Q523.074 49.7428 523.074 42.7984 Q523.074 35.8887 520.088 31.8609 Q517.102 27.7985 511.998 27.7985 M511.998 22.3818 Q520.331 22.3818 525.088 27.7985 Q529.845 33.2151 529.845 42.7984 Q529.845 52.3469 525.088 57.7983 Q520.331 63.2149 511.998 63.2149 Q503.63 63.2149 498.873 57.7983 Q494.151 52.3469 494.151 42.7984 Q494.151 33.2151 498.873 27.7985 Q503.63 22.3818 511.998 22.3818 Z\" fill=\"#000000\" fill-rule=\"evenodd\" fill-opacity=\"1\" /><path clip-path=\"url(#clip620)\" d=\"M572.762 38.7359 L572.762 62.208 L566.373 62.208 L566.373 38.9442 Q566.373 33.4234 564.22 30.6804 Q562.067 27.9374 557.762 27.9374 Q552.588 27.9374 549.602 31.2359 Q546.616 34.5345 546.616 40.229 L546.616 62.208 L540.192 62.208 L540.192 23.3193 L546.616 23.3193 L546.616 29.361 Q548.908 25.854 551.998 24.1179 Q555.123 22.3818 559.185 22.3818 Q565.887 22.3818 569.324 26.5485 Q572.762 30.6804 572.762 38.7359 Z\" fill=\"#000000\" fill-rule=\"evenodd\" fill-opacity=\"1\" /><path clip-path=\"url(#clip620)\" d=\"M614.289 56.3747 L614.289 76.9996 L607.866 76.9996 L607.866 23.3193 L614.289 23.3193 L614.289 29.2221 Q616.303 25.7499 619.359 24.0832 Q622.449 22.3818 626.72 22.3818 Q633.803 22.3818 638.213 28.0068 Q642.657 33.6318 642.657 42.7984 Q642.657 51.965 638.213 57.59 Q633.803 63.2149 626.72 63.2149 Q622.449 63.2149 619.359 61.5483 Q616.303 59.8469 614.289 56.3747 M636.025 42.7984 Q636.025 35.7498 633.109 31.7568 Q630.227 27.729 625.157 27.729 Q620.088 27.729 617.171 31.7568 Q614.289 35.7498 614.289 42.7984 Q614.289 49.847 617.171 53.8747 Q620.088 57.8677 625.157 57.8677 Q630.227 57.8677 633.109 53.8747 Q636.025 49.847 636.025 42.7984 Z\" fill=\"#000000\" fill-rule=\"evenodd\" fill-opacity=\"1\" /><path clip-path=\"url(#clip620)\" d=\"M653.247 8.18051 L659.636 8.18051 L659.636 62.208 L653.247 62.208 L653.247 8.18051 Z\" fill=\"#000000\" fill-rule=\"evenodd\" fill-opacity=\"1\" /><path clip-path=\"url(#clip620)\" d=\"M688.073 27.7985 Q682.935 27.7985 679.949 31.8262 Q676.962 35.8193 676.962 42.7984 Q676.962 49.7775 679.914 53.8053 Q682.9 57.7983 688.073 57.7983 Q693.178 57.7983 696.164 53.7705 Q699.15 49.7428 699.15 42.7984 Q699.15 35.8887 696.164 31.8609 Q693.178 27.7985 688.073 27.7985 M688.073 22.3818 Q696.407 22.3818 701.164 27.7985 Q705.921 33.2151 705.921 42.7984 Q705.921 52.3469 701.164 57.7983 Q696.407 63.2149 688.073 63.2149 Q679.705 63.2149 674.949 57.7983 Q670.226 52.3469 670.226 42.7984 Q670.226 33.2151 674.949 27.7985 Q679.705 22.3818 688.073 22.3818 Z\" fill=\"#000000\" fill-rule=\"evenodd\" fill-opacity=\"1\" /><path clip-path=\"url(#clip620)\" d=\"M722.83 12.2777 L722.83 23.3193 L735.99 23.3193 L735.99 28.2846 L722.83 28.2846 L722.83 49.3956 Q722.83 54.1525 724.115 55.5066 Q725.434 56.8608 729.427 56.8608 L735.99 56.8608 L735.99 62.208 L729.427 62.208 Q722.032 62.208 719.219 59.465 Q716.407 56.6872 716.407 49.3956 L716.407 28.2846 L711.719 28.2846 L711.719 23.3193 L716.407 23.3193 L716.407 12.2777 L722.83 12.2777 Z\" fill=\"#000000\" fill-rule=\"evenodd\" fill-opacity=\"1\" /><path clip-path=\"url(#clip620)\" d=\"M786.684 8.18051 L786.684 13.493 L780.573 13.493 Q777.136 13.493 775.781 14.8819 Q774.462 16.2707 774.462 19.8818 L774.462 23.3193 L784.983 23.3193 L784.983 28.2846 L774.462 28.2846 L774.462 62.208 L768.038 62.208 L768.038 28.2846 L761.927 28.2846 L761.927 23.3193 L768.038 23.3193 L768.038 20.611 Q768.038 14.118 771.059 11.1666 Q774.08 8.18051 780.642 8.18051 L786.684 8.18051 Z\" fill=\"#000000\" fill-rule=\"evenodd\" fill-opacity=\"1\" /><path clip-path=\"url(#clip620)\" d=\"M814.566 29.2915 Q813.489 28.6665 812.205 28.3887 Q810.955 28.0762 809.427 28.0762 Q804.01 28.0762 801.094 31.6179 Q798.212 35.1248 798.212 41.722 L798.212 62.208 L791.788 62.208 L791.788 23.3193 L798.212 23.3193 L798.212 29.361 Q800.226 25.8193 803.455 24.1179 Q806.684 22.3818 811.302 22.3818 Q811.962 22.3818 812.76 22.486 Q813.559 22.5554 814.531 22.729 L814.566 29.2915 Z\" fill=\"#000000\" fill-rule=\"evenodd\" fill-opacity=\"1\" /><path clip-path=\"url(#clip620)\" d=\"M834.774 27.7985 Q829.635 27.7985 826.649 31.8262 Q823.663 35.8193 823.663 42.7984 Q823.663 49.7775 826.614 53.8053 Q829.601 57.7983 834.774 57.7983 Q839.878 57.7983 842.864 53.7705 Q845.85 49.7428 845.85 42.7984 Q845.85 35.8887 842.864 31.8609 Q839.878 27.7985 834.774 27.7985 M834.774 22.3818 Q843.107 22.3818 847.864 27.7985 Q852.621 33.2151 852.621 42.7984 Q852.621 52.3469 847.864 57.7983 Q843.107 63.2149 834.774 63.2149 Q826.406 63.2149 821.649 57.7983 Q816.927 52.3469 816.927 42.7984 Q816.927 33.2151 821.649 27.7985 Q826.406 22.3818 834.774 22.3818 Z\" fill=\"#000000\" fill-rule=\"evenodd\" fill-opacity=\"1\" /><path clip-path=\"url(#clip620)\" d=\"M893.489 30.7846 Q895.885 26.479 899.218 24.4304 Q902.552 22.3818 907.065 22.3818 Q913.142 22.3818 916.44 26.6526 Q919.739 30.8887 919.739 38.7359 L919.739 62.208 L913.315 62.208 L913.315 38.9442 Q913.315 33.354 911.336 30.6457 Q909.357 27.9374 905.295 27.9374 Q900.329 27.9374 897.447 31.2359 Q894.565 34.5345 894.565 40.229 L894.565 62.208 L888.142 62.208 L888.142 38.9442 Q888.142 33.3193 886.163 30.6457 Q884.184 27.9374 880.052 27.9374 Q875.156 27.9374 872.274 31.2707 Q869.392 34.5693 869.392 40.229 L869.392 62.208 L862.968 62.208 L862.968 23.3193 L869.392 23.3193 L869.392 29.361 Q871.579 25.7846 874.635 24.0832 Q877.691 22.3818 881.892 22.3818 Q886.128 22.3818 889.079 24.5346 Q892.065 26.6874 893.489 30.7846 Z\" fill=\"#000000\" fill-rule=\"evenodd\" fill-opacity=\"1\" /><path clip-path=\"url(#clip620)\" d=\"M961.405 12.2777 L961.405 23.3193 L974.565 23.3193 L974.565 28.2846 L961.405 28.2846 L961.405 49.3956 Q961.405 54.1525 962.69 55.5066 Q964.01 56.8608 968.003 56.8608 L974.565 56.8608 L974.565 62.208 L968.003 62.208 Q960.607 62.208 957.794 59.465 Q954.982 56.6872 954.982 49.3956 L954.982 28.2846 L950.294 28.2846 L950.294 23.3193 L954.982 23.3193 L954.982 12.2777 L961.405 12.2777 Z\" fill=\"#000000\" fill-rule=\"evenodd\" fill-opacity=\"1\" /><path clip-path=\"url(#clip620)\" d=\"M982.968 23.3193 L989.357 23.3193 L989.357 62.208 L982.968 62.208 L982.968 23.3193 M982.968 8.18051 L989.357 8.18051 L989.357 16.2707 L982.968 16.2707 L982.968 8.18051 Z\" fill=\"#000000\" fill-rule=\"evenodd\" fill-opacity=\"1\" /><path clip-path=\"url(#clip620)\" d=\"M1033 30.7846 Q1035.4 26.479 1038.73 24.4304 Q1042.06 22.3818 1046.58 22.3818 Q1052.65 22.3818 1055.95 26.6526 Q1059.25 30.8887 1059.25 38.7359 L1059.25 62.208 L1052.83 62.208 L1052.83 38.9442 Q1052.83 33.354 1050.85 30.6457 Q1048.87 27.9374 1044.81 27.9374 Q1039.84 27.9374 1036.96 31.2359 Q1034.08 34.5345 1034.08 40.229 L1034.08 62.208 L1027.65 62.208 L1027.65 38.9442 Q1027.65 33.3193 1025.68 30.6457 Q1023.7 27.9374 1019.56 27.9374 Q1014.67 27.9374 1011.79 31.2707 Q1008.91 34.5693 1008.91 40.229 L1008.91 62.208 L1002.48 62.208 L1002.48 23.3193 L1008.91 23.3193 L1008.91 29.361 Q1011.09 25.7846 1014.15 24.0832 Q1017.2 22.3818 1021.41 22.3818 Q1025.64 22.3818 1028.59 24.5346 Q1031.58 26.6874 1033 30.7846 Z\" fill=\"#000000\" fill-rule=\"evenodd\" fill-opacity=\"1\" /><path clip-path=\"url(#clip620)\" d=\"M1105.26 41.1664 L1105.26 44.2914 L1075.88 44.2914 Q1076.3 50.8886 1079.84 54.3608 Q1083.42 57.7983 1089.77 57.7983 Q1093.45 57.7983 1096.89 56.8955 Q1100.36 55.9928 1103.77 54.1872 L1103.77 60.2288 Q1100.33 61.6872 1096.72 62.4511 Q1093.11 63.2149 1089.39 63.2149 Q1080.09 63.2149 1074.63 57.7983 Q1069.22 52.3817 1069.22 43.1456 Q1069.22 33.597 1074.36 28.0068 Q1079.53 22.3818 1088.28 22.3818 Q1096.13 22.3818 1100.68 27.4512 Q1105.26 32.4859 1105.26 41.1664 M1098.87 39.2915 Q1098.8 34.0484 1095.92 30.9234 Q1093.07 27.7985 1088.35 27.7985 Q1083 27.7985 1079.77 30.8193 Q1076.58 33.8401 1076.09 39.3262 L1098.87 39.2915 Z\" fill=\"#000000\" fill-rule=\"evenodd\" fill-opacity=\"1\" /><path clip-path=\"url(#clip620)\" d=\"M1144.67 12.2777 L1144.67 23.3193 L1157.83 23.3193 L1157.83 28.2846 L1144.67 28.2846 L1144.67 49.3956 Q1144.67 54.1525 1145.95 55.5066 Q1147.27 56.8608 1151.27 56.8608 L1157.83 56.8608 L1157.83 62.208 L1151.27 62.208 Q1143.87 62.208 1141.06 59.465 Q1138.24 56.6872 1138.24 49.3956 L1138.24 28.2846 L1133.56 28.2846 L1133.56 23.3193 L1138.24 23.3193 L1138.24 12.2777 L1144.67 12.2777 Z\" fill=\"#000000\" fill-rule=\"evenodd\" fill-opacity=\"1\" /><path clip-path=\"url(#clip620)\" d=\"M1167.06 29.9165 L1211.58 29.9165 L1211.58 35.7498 L1167.06 35.7498 L1167.06 29.9165 M1167.06 44.0831 L1211.58 44.0831 L1211.58 49.9858 L1167.06 49.9858 L1167.06 44.0831 Z\" fill=\"#000000\" fill-rule=\"evenodd\" fill-opacity=\"1\" /><path clip-path=\"url(#clip620)\" d=\"M1232.76 56.3053 L1257.24 56.3053 L1257.24 62.208 L1224.32 62.208 L1224.32 56.3053 Q1228.31 52.1733 1235.19 45.2289 Q1242.1 38.2498 1243.87 36.2359 Q1247.24 32.4512 1248.56 29.8471 Q1249.91 27.2082 1249.91 24.6735 Q1249.91 20.5416 1246.99 17.9374 Q1244.11 15.3333 1239.46 15.3333 Q1236.16 15.3333 1232.48 16.4791 Q1228.83 17.6249 1224.67 19.9513 L1224.67 12.868 Q1228.9 11.1666 1232.58 10.2986 Q1236.26 9.43051 1239.32 9.43051 Q1247.38 9.43051 1252.17 13.4583 Q1256.96 17.486 1256.96 24.2221 Q1256.96 27.4165 1255.74 30.2984 Q1254.56 33.1457 1251.4 37.0345 Q1250.54 38.0415 1245.88 42.8678 Q1241.23 47.6595 1232.76 56.3053 Z\" fill=\"#000000\" fill-rule=\"evenodd\" fill-opacity=\"1\" /><path clip-path=\"url(#clip620)\" d=\"M1299.98 12.2777 L1299.98 23.3193 L1313.14 23.3193 L1313.14 28.2846 L1299.98 28.2846 L1299.98 49.3956 Q1299.98 54.1525 1301.26 55.5066 Q1302.58 56.8608 1306.58 56.8608 L1313.14 56.8608 L1313.14 62.208 L1306.58 62.208 Q1299.18 62.208 1296.37 59.465 Q1293.56 56.6872 1293.56 49.3956 L1293.56 28.2846 L1288.87 28.2846 L1288.87 23.3193 L1293.56 23.3193 L1293.56 12.2777 L1299.98 12.2777 Z\" fill=\"#000000\" fill-rule=\"evenodd\" fill-opacity=\"1\" /><path clip-path=\"url(#clip620)\" d=\"M1336.61 27.7985 Q1331.47 27.7985 1328.49 31.8262 Q1325.5 35.8193 1325.5 42.7984 Q1325.5 49.7775 1328.45 53.8053 Q1331.44 57.7983 1336.61 57.7983 Q1341.72 57.7983 1344.7 53.7705 Q1347.69 49.7428 1347.69 42.7984 Q1347.69 35.8887 1344.7 31.8609 Q1341.72 27.7985 1336.61 27.7985 M1336.61 22.3818 Q1344.94 22.3818 1349.7 27.7985 Q1354.46 33.2151 1354.46 42.7984 Q1354.46 52.3469 1349.7 57.7983 Q1344.94 63.2149 1336.61 63.2149 Q1328.24 63.2149 1323.49 57.7983 Q1318.76 52.3469 1318.76 42.7984 Q1318.76 33.2151 1323.49 27.7985 Q1328.24 22.3818 1336.61 22.3818 Z\" fill=\"#000000\" fill-rule=\"evenodd\" fill-opacity=\"1\" /><path clip-path=\"url(#clip620)\" d=\"M1393.97 12.2777 L1393.97 23.3193 L1407.13 23.3193 L1407.13 28.2846 L1393.97 28.2846 L1393.97 49.3956 Q1393.97 54.1525 1395.26 55.5066 Q1396.58 56.8608 1400.57 56.8608 L1407.13 56.8608 L1407.13 62.208 L1400.57 62.208 Q1393.17 62.208 1390.36 59.465 Q1387.55 56.6872 1387.55 49.3956 L1387.55 28.2846 L1382.86 28.2846 L1382.86 23.3193 L1387.55 23.3193 L1387.55 12.2777 L1393.97 12.2777 Z\" fill=\"#000000\" fill-rule=\"evenodd\" fill-opacity=\"1\" /><path clip-path=\"url(#clip620)\" d=\"M1416.37 29.9165 L1460.88 29.9165 L1460.88 35.7498 L1416.37 35.7498 L1416.37 29.9165 M1416.37 44.0831 L1460.88 44.0831 L1460.88 49.9858 L1416.37 49.9858 L1416.37 44.0831 Z\" fill=\"#000000\" fill-rule=\"evenodd\" fill-opacity=\"1\" /><path clip-path=\"url(#clip620)\" d=\"M1495.29 16.4791 L1477.58 44.1525 L1495.29 44.1525 L1495.29 16.4791 M1493.45 10.368 L1502.27 10.368 L1502.27 44.1525 L1509.67 44.1525 L1509.67 49.9858 L1502.27 49.9858 L1502.27 62.208 L1495.29 62.208 L1495.29 49.9858 L1471.89 49.9858 L1471.89 43.215 L1493.45 10.368 Z\" fill=\"#000000\" fill-rule=\"evenodd\" fill-opacity=\"1\" /><path clip-path=\"url(#clip620)\" d=\"M1521.33 10.368 L1548.87 10.368 L1548.87 16.2707 L1527.76 16.2707 L1527.76 28.979 Q1529.28 28.4582 1530.81 28.2151 Q1532.34 27.9374 1533.87 27.9374 Q1542.55 27.9374 1547.62 32.6943 Q1552.69 37.4512 1552.69 45.5761 Q1552.69 53.9442 1547.48 58.5969 Q1542.27 63.2149 1532.79 63.2149 Q1529.53 63.2149 1526.12 62.6594 Q1522.76 62.1038 1519.15 60.9927 L1519.15 53.9442 Q1522.27 55.6455 1525.6 56.4789 Q1528.94 57.3122 1532.65 57.3122 Q1538.66 57.3122 1542.17 54.1525 Q1545.67 50.9928 1545.67 45.5761 Q1545.67 40.1595 1542.17 36.9998 Q1538.66 33.8401 1532.65 33.8401 Q1529.84 33.8401 1527.03 34.4651 Q1524.25 35.0901 1521.33 36.4095 L1521.33 10.368 Z\" fill=\"#000000\" fill-rule=\"evenodd\" fill-opacity=\"1\" /><path clip-path=\"url(#clip622)\" d=\"\n",
       "M257.722 636.139 L257.722 636.139 L325.481 636.139 L325.481 636.139 L257.722 636.139 L257.722 636.139  Z\n",
       "  \" fill=\"#009af9\" fill-rule=\"evenodd\" fill-opacity=\"1\"/>\n",
       "<polyline clip-path=\"url(#clip622)\" style=\"stroke:#000000; stroke-linecap:butt; stroke-linejoin:round; stroke-width:4; stroke-opacity:1; fill:none\" points=\"\n",
       "  257.722,636.139 257.722,636.139 325.481,636.139 257.722,636.139 \n",
       "  \"/>\n",
       "<path clip-path=\"url(#clip622)\" d=\"\n",
       "M325.481 636.139 L325.481 636.139 L393.24 636.139 L393.24 636.139 L325.481 636.139 L325.481 636.139  Z\n",
       "  \" fill=\"#009af9\" fill-rule=\"evenodd\" fill-opacity=\"1\"/>\n",
       "<polyline clip-path=\"url(#clip622)\" style=\"stroke:#000000; stroke-linecap:butt; stroke-linejoin:round; stroke-width:4; stroke-opacity:1; fill:none\" points=\"\n",
       "  325.481,636.139 325.481,636.139 393.24,636.139 325.481,636.139 \n",
       "  \"/>\n",
       "<path clip-path=\"url(#clip622)\" d=\"\n",
       "M393.24 232.701 L393.24 636.139 L460.999 636.139 L460.999 232.701 L393.24 232.701 L393.24 232.701  Z\n",
       "  \" fill=\"#009af9\" fill-rule=\"evenodd\" fill-opacity=\"1\"/>\n",
       "<polyline clip-path=\"url(#clip622)\" style=\"stroke:#000000; stroke-linecap:butt; stroke-linejoin:round; stroke-width:4; stroke-opacity:1; fill:none\" points=\"\n",
       "  393.24,232.701 393.24,636.139 460.999,636.139 460.999,232.701 393.24,232.701 \n",
       "  \"/>\n",
       "<path clip-path=\"url(#clip622)\" d=\"\n",
       "M460.999 636.139 L460.999 636.139 L528.758 636.139 L528.758 636.139 L460.999 636.139 L460.999 636.139  Z\n",
       "  \" fill=\"#009af9\" fill-rule=\"evenodd\" fill-opacity=\"1\"/>\n",
       "<polyline clip-path=\"url(#clip622)\" style=\"stroke:#000000; stroke-linecap:butt; stroke-linejoin:round; stroke-width:4; stroke-opacity:1; fill:none\" points=\"\n",
       "  460.999,636.139 460.999,636.139 528.758,636.139 460.999,636.139 \n",
       "  \"/>\n",
       "<path clip-path=\"url(#clip622)\" d=\"\n",
       "M528.758 636.139 L528.758 636.139 L596.516 636.139 L596.516 636.139 L528.758 636.139 L528.758 636.139  Z\n",
       "  \" fill=\"#009af9\" fill-rule=\"evenodd\" fill-opacity=\"1\"/>\n",
       "<polyline clip-path=\"url(#clip622)\" style=\"stroke:#000000; stroke-linecap:butt; stroke-linejoin:round; stroke-width:4; stroke-opacity:1; fill:none\" points=\"\n",
       "  528.758,636.139 528.758,636.139 596.516,636.139 528.758,636.139 \n",
       "  \"/>\n",
       "<path clip-path=\"url(#clip622)\" d=\"\n",
       "M596.516 636.139 L596.516 636.139 L664.275 636.139 L664.275 636.139 L596.516 636.139 L596.516 636.139  Z\n",
       "  \" fill=\"#009af9\" fill-rule=\"evenodd\" fill-opacity=\"1\"/>\n",
       "<polyline clip-path=\"url(#clip622)\" style=\"stroke:#000000; stroke-linecap:butt; stroke-linejoin:round; stroke-width:4; stroke-opacity:1; fill:none\" points=\"\n",
       "  596.516,636.139 596.516,636.139 664.275,636.139 596.516,636.139 \n",
       "  \"/>\n",
       "<path clip-path=\"url(#clip622)\" d=\"\n",
       "M664.275 117.433 L664.275 636.139 L732.034 636.139 L732.034 117.433 L664.275 117.433 L664.275 117.433  Z\n",
       "  \" fill=\"#009af9\" fill-rule=\"evenodd\" fill-opacity=\"1\"/>\n",
       "<polyline clip-path=\"url(#clip622)\" style=\"stroke:#000000; stroke-linecap:butt; stroke-linejoin:round; stroke-width:4; stroke-opacity:1; fill:none\" points=\"\n",
       "  664.275,117.433 664.275,636.139 732.034,636.139 732.034,117.433 664.275,117.433 \n",
       "  \"/>\n",
       "<path clip-path=\"url(#clip622)\" d=\"\n",
       "M732.034 175.067 L732.034 636.139 L799.793 636.139 L799.793 175.067 L732.034 175.067 L732.034 175.067  Z\n",
       "  \" fill=\"#009af9\" fill-rule=\"evenodd\" fill-opacity=\"1\"/>\n",
       "<polyline clip-path=\"url(#clip622)\" style=\"stroke:#000000; stroke-linecap:butt; stroke-linejoin:round; stroke-width:4; stroke-opacity:1; fill:none\" points=\"\n",
       "  732.034,175.067 732.034,636.139 799.793,636.139 799.793,175.067 732.034,175.067 \n",
       "  \"/>\n",
       "<path clip-path=\"url(#clip622)\" d=\"\n",
       "M799.793 232.701 L799.793 636.139 L867.552 636.139 L867.552 232.701 L799.793 232.701 L799.793 232.701  Z\n",
       "  \" fill=\"#009af9\" fill-rule=\"evenodd\" fill-opacity=\"1\"/>\n",
       "<polyline clip-path=\"url(#clip622)\" style=\"stroke:#000000; stroke-linecap:butt; stroke-linejoin:round; stroke-width:4; stroke-opacity:1; fill:none\" points=\"\n",
       "  799.793,232.701 799.793,636.139 867.552,636.139 867.552,232.701 799.793,232.701 \n",
       "  \"/>\n",
       "<path clip-path=\"url(#clip622)\" d=\"\n",
       "M867.552 175.067 L867.552 636.139 L935.311 636.139 L935.311 175.067 L867.552 175.067 L867.552 175.067  Z\n",
       "  \" fill=\"#009af9\" fill-rule=\"evenodd\" fill-opacity=\"1\"/>\n",
       "<polyline clip-path=\"url(#clip622)\" style=\"stroke:#000000; stroke-linecap:butt; stroke-linejoin:round; stroke-width:4; stroke-opacity:1; fill:none\" points=\"\n",
       "  867.552,175.067 867.552,636.139 935.311,636.139 935.311,175.067 867.552,175.067 \n",
       "  \"/>\n",
       "<path clip-path=\"url(#clip622)\" d=\"\n",
       "M935.311 319.152 L935.311 636.139 L1003.07 636.139 L1003.07 319.152 L935.311 319.152 L935.311 319.152  Z\n",
       "  \" fill=\"#009af9\" fill-rule=\"evenodd\" fill-opacity=\"1\"/>\n",
       "<polyline clip-path=\"url(#clip622)\" style=\"stroke:#000000; stroke-linecap:butt; stroke-linejoin:round; stroke-width:4; stroke-opacity:1; fill:none\" points=\"\n",
       "  935.311,319.152 935.311,636.139 1003.07,636.139 1003.07,319.152 935.311,319.152 \n",
       "  \"/>\n",
       "<path clip-path=\"url(#clip622)\" d=\"\n",
       "M1003.07 520.871 L1003.07 636.139 L1070.83 636.139 L1070.83 520.871 L1003.07 520.871 L1003.07 520.871  Z\n",
       "  \" fill=\"#009af9\" fill-rule=\"evenodd\" fill-opacity=\"1\"/>\n",
       "<polyline clip-path=\"url(#clip622)\" style=\"stroke:#000000; stroke-linecap:butt; stroke-linejoin:round; stroke-width:4; stroke-opacity:1; fill:none\" points=\"\n",
       "  1003.07,520.871 1003.07,636.139 1070.83,636.139 1070.83,520.871 1003.07,520.871 \n",
       "  \"/>\n",
       "<path clip-path=\"url(#clip622)\" d=\"\n",
       "M1070.83 636.139 L1070.83 636.139 L1138.59 636.139 L1138.59 636.139 L1070.83 636.139 L1070.83 636.139  Z\n",
       "  \" fill=\"#009af9\" fill-rule=\"evenodd\" fill-opacity=\"1\"/>\n",
       "<polyline clip-path=\"url(#clip622)\" style=\"stroke:#000000; stroke-linecap:butt; stroke-linejoin:round; stroke-width:4; stroke-opacity:1; fill:none\" points=\"\n",
       "  1070.83,636.139 1070.83,636.139 1138.59,636.139 1070.83,636.139 \n",
       "  \"/>\n",
       "<path clip-path=\"url(#clip622)\" d=\"\n",
       "M1138.59 636.139 L1138.59 636.139 L1206.35 636.139 L1206.35 636.139 L1138.59 636.139 L1138.59 636.139  Z\n",
       "  \" fill=\"#009af9\" fill-rule=\"evenodd\" fill-opacity=\"1\"/>\n",
       "<polyline clip-path=\"url(#clip622)\" style=\"stroke:#000000; stroke-linecap:butt; stroke-linejoin:round; stroke-width:4; stroke-opacity:1; fill:none\" points=\"\n",
       "  1138.59,636.139 1138.59,636.139 1206.35,636.139 1138.59,636.139 \n",
       "  \"/>\n",
       "<path clip-path=\"url(#clip622)\" d=\"\n",
       "M1206.35 203.884 L1206.35 636.139 L1274.1 636.139 L1274.1 203.884 L1206.35 203.884 L1206.35 203.884  Z\n",
       "  \" fill=\"#009af9\" fill-rule=\"evenodd\" fill-opacity=\"1\"/>\n",
       "<polyline clip-path=\"url(#clip622)\" style=\"stroke:#000000; stroke-linecap:butt; stroke-linejoin:round; stroke-width:4; stroke-opacity:1; fill:none\" points=\"\n",
       "  1206.35,203.884 1206.35,636.139 1274.1,636.139 1274.1,203.884 1206.35,203.884 \n",
       "  \"/>\n",
       "<path clip-path=\"url(#clip622)\" d=\"\n",
       "M1274.1 319.152 L1274.1 636.139 L1341.86 636.139 L1341.86 319.152 L1274.1 319.152 L1274.1 319.152  Z\n",
       "  \" fill=\"#009af9\" fill-rule=\"evenodd\" fill-opacity=\"1\"/>\n",
       "<polyline clip-path=\"url(#clip622)\" style=\"stroke:#000000; stroke-linecap:butt; stroke-linejoin:round; stroke-width:4; stroke-opacity:1; fill:none\" points=\"\n",
       "  1274.1,319.152 1274.1,636.139 1341.86,636.139 1341.86,319.152 1274.1,319.152 \n",
       "  \"/>\n",
       "<path clip-path=\"url(#clip622)\" d=\"\n",
       "M1341.86 434.42 L1341.86 636.139 L1409.62 636.139 L1409.62 434.42 L1341.86 434.42 L1341.86 434.42  Z\n",
       "  \" fill=\"#009af9\" fill-rule=\"evenodd\" fill-opacity=\"1\"/>\n",
       "<polyline clip-path=\"url(#clip622)\" style=\"stroke:#000000; stroke-linecap:butt; stroke-linejoin:round; stroke-width:4; stroke-opacity:1; fill:none\" points=\"\n",
       "  1341.86,434.42 1341.86,636.139 1409.62,636.139 1409.62,434.42 1341.86,434.42 \n",
       "  \"/>\n",
       "<path clip-path=\"url(#clip622)\" d=\"\n",
       "M1409.62 636.139 L1409.62 636.139 L1477.38 636.139 L1477.38 636.139 L1409.62 636.139 L1409.62 636.139  Z\n",
       "  \" fill=\"#009af9\" fill-rule=\"evenodd\" fill-opacity=\"1\"/>\n",
       "<polyline clip-path=\"url(#clip622)\" style=\"stroke:#000000; stroke-linecap:butt; stroke-linejoin:round; stroke-width:4; stroke-opacity:1; fill:none\" points=\"\n",
       "  1409.62,636.139 1409.62,636.139 1477.38,636.139 1409.62,636.139 \n",
       "  \"/>\n",
       "</svg>\n"
      ]
     },
     "metadata": {},
     "output_type": "display_data"
    },
    {
     "name": "stdout",
     "output_type": "stream",
     "text": [
      "The average time taken by cars to travel from position 7 to 12 is 22.4 \n",
      "The standard deviation of the time taken by cars to travel from 7 to 12 is 53.80000000000001 \n",
      "The maximum congetsion is at position [7] during the time t=2 to t=45\n"
     ]
    },
    {
     "data": {
      "text/plain": [
       "1-element Vector{Int64}:\n",
       " 7"
      ]
     },
     "execution_count": 39,
     "metadata": {},
     "output_type": "execute_result"
    }
   ],
   "source": [
    "a = 7\n",
    "b = 12\n",
    "t1 = 2\n",
    "t2 = 45\n",
    "gr(size=(400,200))\n",
    "ttime = time_taken(H3, a, b)\n",
    "ct = congest_plot(H3,t1,t2,L)"
   ]
  }
 ],
 "metadata": {
  "@webio": {
   "lastCommId": "087bbdca50ea4535bd1c06a5b209ebc6",
   "lastKernelId": "2f0a00ad-5e86-48cb-bc35-f9cdd6bbeed6"
  },
  "kernelspec": {
   "display_name": "Julia 1.6.1",
   "language": "julia",
   "name": "julia-1.6"
  },
  "language_info": {
   "file_extension": ".jl",
   "mimetype": "application/julia",
   "name": "julia",
   "version": "1.6.1"
  }
 },
 "nbformat": 4,
 "nbformat_minor": 4
}
